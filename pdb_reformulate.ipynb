{
 "cells": [
  {
   "cell_type": "code",
   "execution_count": 1,
   "id": "40ceec68",
   "metadata": {},
   "outputs": [],
   "source": [
    "import pandas as pd\n",
    "import numpy as np\n",
    "import os"
   ]
  },
  {
   "cell_type": "code",
   "execution_count": 2,
   "id": "386826e8",
   "metadata": {},
   "outputs": [],
   "source": [
    "files = os.listdir()\n",
    "dir_name = [f for f in files if '-2022' in f]"
   ]
  },
  {
   "cell_type": "code",
   "execution_count": 4,
   "id": "2088b4f5",
   "metadata": {},
   "outputs": [],
   "source": [
    "glycan_name_list = []\n",
    "dir_list = []\n",
    "file_list = []\n",
    "for path_pdb in dir_name:\n",
    "\n",
    "    files = os.listdir(path_pdb)\n",
    "    files_pdb = [f for f in files if '.pdb' in f]\n",
    "    for i in range(len(files_pdb)):\n",
    "        with open(os.path.join(path_pdb, files_pdb[i])) as f:\n",
    "#             print(os.path.join(path_pdb, files_pdb[i]))\n",
    "            pdb_context = f.readlines()\n",
    "            \n",
    "            if 'ATOM ' in pdb_context[1]:\n",
    "                glycan_names = 'Missing formula'\n",
    "            else:\n",
    "                glycan_names = pdb_context[1].split('\\n')[0]\n",
    "            glycan_name_list.append(glycan_names)\n",
    "            \n",
    "            dir_list.append(path_pdb)\n",
    "            file_list.append(files_pdb[i])"
   ]
  },
  {
   "cell_type": "code",
   "execution_count": null,
   "id": "7548ef95",
   "metadata": {},
   "outputs": [],
   "source": []
  },
  {
   "cell_type": "code",
   "execution_count": 4,
   "id": "385b2e80",
   "metadata": {},
   "outputs": [],
   "source": [
    "df = pd.DataFrame([dir_list, file_list, glycan_name_list]).T\n",
    "\n",
    "df.columns = ['directory', 'filename', 'formula']\n",
    "df.to_csv('pdb_name.csv', index = False)"
   ]
  },
  {
   "cell_type": "code",
   "execution_count": 5,
   "id": "861c447d",
   "metadata": {},
   "outputs": [],
   "source": [
    "df = pd.read_csv('pdb_name.csv')"
   ]
  },
  {
   "cell_type": "code",
   "execution_count": 6,
   "id": "de7cd079",
   "metadata": {},
   "outputs": [],
   "source": [
    "df_id = pd.read_csv('pdb_labeled.csv', header= None)"
   ]
  },
  {
   "cell_type": "code",
   "execution_count": 7,
   "id": "2b42869c",
   "metadata": {},
   "outputs": [],
   "source": [
    "df_combined = pd.concat([df, df_id], axis = 1)"
   ]
  },
  {
   "cell_type": "code",
   "execution_count": 8,
   "id": "a0b9e784",
   "metadata": {},
   "outputs": [],
   "source": [
    "df_combined = df_combined.dropna(how='all', axis = 1)"
   ]
  },
  {
   "cell_type": "code",
   "execution_count": 9,
   "id": "07ef38d3",
   "metadata": {},
   "outputs": [],
   "source": [
    "df_combined.to_csv('monosaccharide_labeled_pdb.csv', index = False)"
   ]
  },
  {
   "cell_type": "code",
   "execution_count": 10,
   "id": "94a859a8",
   "metadata": {},
   "outputs": [],
   "source": [
    "df_combined = pd.read_csv('monosaccharide_labeled_pdb.csv')"
   ]
  },
  {
   "cell_type": "code",
   "execution_count": 17,
   "id": "8c46ec8f",
   "metadata": {},
   "outputs": [],
   "source": [
    "for i in range(len(df_combined)):\n",
    "    temp_directory = df_combined.loc[i].directory\n",
    "    temp_filename = df_combined.loc[i].filename\n",
    "    mono_id_list = df_combined.loc[i][3:].values\n",
    "    mono_id_list = mono_id_list[~pd.isnull(mono_id_list)]\n",
    "    with open(os.path.join(temp_directory, temp_filename)) as f:\n",
    "        f = f.readlines()\n",
    "        for j in range(len(f)):\n",
    "            if 'UNTI' in f[j]:\n",
    "                temp_l = f[j]\n",
    "                substructure_id = temp_l.split()[4]\n",
    "                substructure_name = mono_id_list[int(substructure_id) - 1]\n",
    "                new_line = f[j].replace('UNTI', substructure_name)\n",
    "                f[j] = new_line\n",
    "        with open(os.path.join('directory_copy/', temp_directory, temp_filename), 'w') as fw:\n",
    "            for fw_l in f:\n",
    "                fw.write(fw_l)"
   ]
  },
  {
   "cell_type": "code",
   "execution_count": 2,
   "id": "321ade55",
   "metadata": {},
   "outputs": [],
   "source": [
    "with open('7-1-2022/LFucpa1-2DGalpb1-3DGalpNAcb1-3DGalpa1-4DGalpb1-4DGlcpb1-OME.pdb') as f:\n",
    "    f = f.readlines()"
   ]
  },
  {
   "cell_type": "code",
   "execution_count": 5,
   "id": "36757c39",
   "metadata": {},
   "outputs": [],
   "source": [
    "files = os.listdir()\n",
    "dir_name = [f for f in files if '-2022' in f]"
   ]
  }
 ],
 "metadata": {
  "kernelspec": {
   "display_name": "Python 3 (ipykernel)",
   "language": "python",
   "name": "python3"
  },
  "language_info": {
   "codemirror_mode": {
    "name": "ipython",
    "version": 3
   },
   "file_extension": ".py",
   "mimetype": "text/x-python",
   "name": "python",
   "nbconvert_exporter": "python",
   "pygments_lexer": "ipython3",
   "version": "3.8.12"
  }
 },
 "nbformat": 4,
 "nbformat_minor": 5
}
