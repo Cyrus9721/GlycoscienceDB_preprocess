{
 "cells": [
  {
   "cell_type": "code",
   "execution_count": 1,
   "id": "29aeee50",
   "metadata": {},
   "outputs": [],
   "source": [
    "import numpy as np\n",
    "import pandas as pd\n",
    "import os\n",
    "from tqdm import tqdm\n",
    "import torch\n",
    "import torch.nn as nn\n",
    "\n",
    "from train_evaluate import NMR_prediction\n",
    "import torch.nn.functional as F\n",
    "import dgl\n",
    "import dgl.nn as dglnn\n",
    "import torch.nn as nn\n",
    "from dgl import AddSelfLoop\n",
    "from model_zoo.NMR_gcn import NMR_GCN\n",
    "from create_graph_data_experiment import create_graph_experiment\n",
    "from node_embeddings import create_node_embeddings\n",
    "from create_adjaency_matrix_from_labeled_pdb import build_adjacency_matrix\n",
    "from tqdm import tqdm"
   ]
  },
  {
   "cell_type": "markdown",
   "id": "c565ebe7",
   "metadata": {},
   "source": [
    "##### Create node embedding"
   ]
  },
  {
   "cell_type": "code",
   "execution_count": 2,
   "id": "1051d75b",
   "metadata": {},
   "outputs": [],
   "source": [
    "C = create_node_embeddings(data_dir='experimental_data/FullyAnnotatedPDB_pdb_labeled/', \n",
    "                           out_atom_embed='experimental_data/graph/linear_embedding/atom_embed.csv',\n",
    "                           out_residual_embed='experimental_data/graph/linear_embedding/residual_embed.csv', \n",
    "                           out_monosaccharide_embed='experimental_data/graph/linear_embedding/monosaccharide_embed.csv', \n",
    "                           seed=97211)"
   ]
  },
  {
   "cell_type": "code",
   "execution_count": 3,
   "id": "ece3fbcf",
   "metadata": {},
   "outputs": [
    {
     "name": "stderr",
     "output_type": "stream",
     "text": [
      "100%|███████████████████████████████████████| 185/185 [00:00<00:00, 1019.33it/s]\n"
     ]
    }
   ],
   "source": [
    "df_atom_embedding, df_residual_embedding, df_monosaccharide_embedding = C.create_all_embeddings(atom_dim=256, residual_dim=128, mono_dim=256)"
   ]
  },
  {
   "cell_type": "code",
   "execution_count": 4,
   "id": "b53dc3cf",
   "metadata": {},
   "outputs": [],
   "source": [
    "df_atom_embedding.to_csv(C.out_atom_embed, index=False)\n",
    "df_residual_embedding.to_csv(C.out_residual_embed, index=False)\n",
    "df_monosaccharide_embedding.to_csv(C.out_monosaccharide_embed, index=False)"
   ]
  },
  {
   "cell_type": "markdown",
   "id": "5aa68101",
   "metadata": {},
   "source": [
    "##### Create adjaency matrix"
   ]
  },
  {
   "cell_type": "code",
   "execution_count": 5,
   "id": "c71b4212",
   "metadata": {},
   "outputs": [],
   "source": [
    "B = build_adjacency_matrix(labeled_pdb_dir='experimental_data/FullyAnnotatedPDB_pdb_labeled/',\n",
    "                           out_adjacency_dir='experimental_data/graph/directory_graph_connection/',\n",
    "                           out_interaction_dir='experimental_data/graph/directory_graph_interaction/')"
   ]
  },
  {
   "cell_type": "code",
   "execution_count": 6,
   "id": "a23ce66b",
   "metadata": {},
   "outputs": [
    {
     "name": "stderr",
     "output_type": "stream",
     "text": [
      "100%|████████████████████████████████████████| 185/185 [00:01<00:00, 115.73it/s]\n"
     ]
    }
   ],
   "source": [
    "B.calculate_all_matrix()"
   ]
  },
  {
   "cell_type": "markdown",
   "id": "4b5449d4",
   "metadata": {},
   "source": [
    "##### Train evaluate"
   ]
  },
  {
   "cell_type": "code",
   "execution_count": 7,
   "id": "9109e720",
   "metadata": {},
   "outputs": [],
   "source": [
    "# atom_embed_dir='experimental_data/graph/atom_embed_simplify.csv',\n",
    "Create = create_graph_experiment(data_dir='experimental_data/FullyAnnotatedPDB_pdb_labeled/', \n",
    "                                 adj_dir='experimental_data/graph/directory_graph_connection/',\n",
    "                                 interaction_dir='experimental_data/graph/directory_graph_interaction/', \n",
    "                                 atom_embed_dir='experimental_data/graph/linear_embedding/atom_embed_simplify.csv',\n",
    "                                 residual_embed_dir='experimental_data/graph/linear_embedding/residual_embed.csv', \n",
    "                                 mono_embed_dir='experimental_data/graph/linear_embedding/monosaccharide_embed.csv', \n",
    "                                num_test=15, seed=97211)"
   ]
  },
  {
   "cell_type": "code",
   "execution_count": 8,
   "id": "720652e6",
   "metadata": {},
   "outputs": [
    {
     "name": "stdout",
     "output_type": "stream",
     "text": [
      "--------------------------loading NMR Graph-------------------------------\n"
     ]
    },
    {
     "name": "stderr",
     "output_type": "stream",
     "text": [
      "100%|████████████████████████████████████████| 185/185 [00:01<00:00, 131.52it/s]\n"
     ]
    }
   ],
   "source": [
    "g, test_index = Create.create_all_graph()"
   ]
  },
  {
   "cell_type": "code",
   "execution_count": 9,
   "id": "22a41137",
   "metadata": {},
   "outputs": [
    {
     "data": {
      "text/plain": [
       "torch.Size([12598, 512])"
      ]
     },
     "execution_count": 9,
     "metadata": {},
     "output_type": "execute_result"
    }
   ],
   "source": [
    "g.ndata['feat'].shape"
   ]
  },
  {
   "cell_type": "code",
   "execution_count": 10,
   "id": "8693b1bd",
   "metadata": {},
   "outputs": [
    {
     "name": "stdout",
     "output_type": "stream",
     "text": [
      "torch.float32\n",
      "torch.float32\n",
      "Training...\n"
     ]
    },
    {
     "name": "stderr",
     "output_type": "stream",
     "text": [
      "  0%|                                          | 1/5000 [00:00<12:50,  6.49it/s]"
     ]
    },
    {
     "name": "stdout",
     "output_type": "stream",
     "text": [
      "Epoch 00000 | Loss 6406.2334 | MSE 5509.8333 \n",
      "Epoch 00001 | Loss 5122.8052 | MSE 1697.3406 \n",
      "Epoch 00002 | Loss 1555.7588 | MSE 7737.3485 \n",
      "Epoch 00003 | Loss 6396.9087 | MSE 1189.0063 \n",
      "Epoch 00004 | Loss 1022.6826 | MSE 3346.8772 \n",
      "Epoch 00005 | Loss 2944.2783 | MSE 4094.0152 \n",
      "Epoch 00006 | Loss 3701.3472 | MSE 3794.6080 \n",
      "Epoch 00007 | Loss 3513.4907 | MSE 2749.6294 \n"
     ]
    },
    {
     "name": "stderr",
     "output_type": "stream",
     "text": [
      "\r",
      "  0%|▏                                        | 18/5000 [00:00<00:59, 83.84it/s]"
     ]
    },
    {
     "name": "stdout",
     "output_type": "stream",
     "text": [
      "Epoch 00008 | Loss 2755.4873 | MSE 1534.3371 \n",
      "Epoch 00009 | Loss 1705.0931 | MSE 1761.5777 \n",
      "Epoch 00010 | Loss 1547.9182 | MSE 1362.3635 \n",
      "Epoch 00011 | Loss 1138.5339 | MSE 1036.5013 \n",
      "Epoch 00012 | Loss 979.9548 | MSE 1151.9220 \n",
      "Epoch 00013 | Loss 943.0624 | MSE 1392.7431 \n",
      "Epoch 00014 | Loss 1000.5809 | MSE 1423.1944 \n",
      "Epoch 00015 | Loss 1041.5907 | MSE 1083.4605 \n",
      "Epoch 00016 | Loss 802.9550 | MSE 635.9601 \n",
      "Epoch 00017 | Loss 498.8668 | MSE 708.6027 \n",
      "Epoch 00018 | Loss 595.0704 | MSE 975.0423 \n",
      "Epoch 00019 | Loss 848.0759 | MSE 662.2363 \n",
      "Epoch 00020 | Loss 570.7717 | MSE 509.1884 \n",
      "Epoch 00021 | Loss 407.1782 | MSE 679.2467 \n",
      "Epoch 00022 | Loss 486.7977 | MSE 808.4629 \n",
      "Epoch 00023 | Loss 567.7183 | MSE 759.7273 \n",
      "Epoch 00024 | Loss 527.2498 | MSE 642.9312 \n",
      "Epoch 00025 | Loss 481.8704 | MSE 551.2762 \n",
      "Epoch 00026 | Loss 462.9843 | MSE 474.4518 \n",
      "Epoch 00027 | Loss 401.4800 | MSE 438.4141 \n",
      "Epoch 00028 | Loss 344.9277 | MSE 463.0592 \n",
      "Epoch 00029 | Loss 357.9801 | MSE 504.2938 \n",
      "Epoch 00030 | Loss 389.7317 | MSE 513.3967 \n",
      "Epoch 00031 | Loss 406.1484 | MSE 485.7593 \n",
      "Epoch 00032 | Loss 370.9530 | MSE 449.9701 \n",
      "Epoch 00033 | Loss 330.2942 | MSE 430.8840 \n"
     ]
    },
    {
     "name": "stderr",
     "output_type": "stream",
     "text": [
      "\r",
      "  1%|▎                                       | 35/5000 [00:00<00:42, 118.05it/s]"
     ]
    },
    {
     "name": "stdout",
     "output_type": "stream",
     "text": [
      "Epoch 00034 | Loss 333.6847 | MSE 427.0030 \n",
      "Epoch 00035 | Loss 317.4117 | MSE 437.6651 \n",
      "Epoch 00036 | Loss 326.8000 | MSE 459.4162 \n",
      "Epoch 00037 | Loss 324.9444 | MSE 468.0421 \n",
      "Epoch 00038 | Loss 332.7744 | MSE 446.3104 \n",
      "Epoch 00039 | Loss 315.5399 | MSE 409.5613 \n",
      "Epoch 00040 | Loss 310.8295 | MSE 386.0885 \n"
     ]
    },
    {
     "name": "stderr",
     "output_type": "stream",
     "text": [
      "\r",
      "  1%|▍                                       | 51/5000 [00:00<00:37, 132.01it/s]"
     ]
    },
    {
     "name": "stdout",
     "output_type": "stream",
     "text": [
      "Epoch 00041 | Loss 293.8052 | MSE 381.6888 \n",
      "Epoch 00042 | Loss 297.6997 | MSE 384.5763 \n",
      "Epoch 00043 | Loss 300.8836 | MSE 390.7929 \n",
      "Epoch 00044 | Loss 280.2673 | MSE 396.9474 \n",
      "Epoch 00045 | Loss 284.6766 | MSE 388.5299 \n",
      "Epoch 00046 | Loss 285.1070 | MSE 372.0488 \n",
      "Epoch 00047 | Loss 267.2454 | MSE 362.5586 \n",
      "Epoch 00048 | Loss 267.0889 | MSE 361.1131 \n",
      "Epoch 00049 | Loss 265.3313 | MSE 362.8933 \n",
      "Epoch 00050 | Loss 262.6260 | MSE 368.9221 \n",
      "Epoch 00051 | Loss 256.0835 | MSE 370.1832 \n",
      "Epoch 00052 | Loss 256.2414 | MSE 357.0715 \n",
      "Epoch 00053 | Loss 252.1745 | MSE 339.1569 \n",
      "Epoch 00054 | Loss 240.1588 | MSE 329.1201 \n",
      "Epoch 00055 | Loss 246.1630 | MSE 325.1162 \n",
      "Epoch 00056 | Loss 251.2927 | MSE 324.3724 \n",
      "Epoch 00057 | Loss 235.9514 | MSE 325.7849 \n",
      "Epoch 00058 | Loss 238.2107 | MSE 323.6936 \n",
      "Epoch 00059 | Loss 236.0422 | MSE 315.8489 \n",
      "Epoch 00060 | Loss 236.1775 | MSE 308.4922 \n",
      "Epoch 00061 | Loss 231.7462 | MSE 304.2670 \n",
      "Epoch 00062 | Loss 231.4990 | MSE 302.1575 \n",
      "Epoch 00063 | Loss 223.4411 | MSE 300.9549 \n",
      "Epoch 00064 | Loss 227.5627 | MSE 295.4432 \n",
      "Epoch 00065 | Loss 214.5188 | MSE 286.4954 \n"
     ]
    },
    {
     "name": "stderr",
     "output_type": "stream",
     "text": [
      "\r",
      "  1%|▌                                       | 67/5000 [00:00<00:34, 141.00it/s]"
     ]
    },
    {
     "name": "stdout",
     "output_type": "stream",
     "text": [
      "Epoch 00066 | Loss 216.0018 | MSE 279.1860 \n",
      "Epoch 00067 | Loss 221.5848 | MSE 274.6678 \n",
      "Epoch 00068 | Loss 218.3107 | MSE 271.2855 \n",
      "Epoch 00069 | Loss 206.0751 | MSE 268.5947 \n",
      "Epoch 00070 | Loss 206.2507 | MSE 266.4940 \n",
      "Epoch 00071 | Loss 205.6934 | MSE 260.5451 \n",
      "Epoch 00072 | Loss 206.3005 | MSE 253.5036 \n"
     ]
    },
    {
     "name": "stderr",
     "output_type": "stream",
     "text": [
      "\r",
      "  2%|▋                                       | 83/5000 [00:00<00:33, 145.89it/s]"
     ]
    },
    {
     "name": "stdout",
     "output_type": "stream",
     "text": [
      "Epoch 00073 | Loss 205.8456 | MSE 247.1251 \n",
      "Epoch 00074 | Loss 198.1867 | MSE 243.2311 \n",
      "Epoch 00075 | Loss 195.5130 | MSE 240.4398 \n",
      "Epoch 00076 | Loss 193.2248 | MSE 236.5273 \n",
      "Epoch 00077 | Loss 187.4758 | MSE 228.5843 \n",
      "Epoch 00078 | Loss 189.7577 | MSE 220.7910 \n",
      "Epoch 00079 | Loss 190.9558 | MSE 216.8119 \n",
      "Epoch 00080 | Loss 185.2942 | MSE 214.6903 \n",
      "Epoch 00081 | Loss 180.7952 | MSE 209.5493 \n",
      "Epoch 00082 | Loss 181.1039 | MSE 201.0254 \n",
      "Epoch 00083 | Loss 182.7811 | MSE 193.6432 \n",
      "Epoch 00084 | Loss 183.8486 | MSE 190.6882 \n",
      "Epoch 00085 | Loss 177.4516 | MSE 189.1838 \n",
      "Epoch 00086 | Loss 172.2898 | MSE 186.7141 \n",
      "Epoch 00087 | Loss 169.8395 | MSE 177.6932 \n",
      "Epoch 00088 | Loss 170.5145 | MSE 170.7533 \n",
      "Epoch 00089 | Loss 164.6319 | MSE 167.6929 \n",
      "Epoch 00090 | Loss 170.7724 | MSE 165.9428 \n",
      "Epoch 00091 | Loss 166.7147 | MSE 163.2932 \n",
      "Epoch 00092 | Loss 161.1644 | MSE 160.0546 \n",
      "Epoch 00093 | Loss 171.8417 | MSE 155.2686 \n",
      "Epoch 00094 | Loss 159.2644 | MSE 151.5539 \n",
      "Epoch 00095 | Loss 155.7550 | MSE 148.6253 \n",
      "Epoch 00096 | Loss 154.4966 | MSE 147.5499 \n",
      "Epoch 00097 | Loss 156.0676 | MSE 147.5281 \n"
     ]
    },
    {
     "name": "stderr",
     "output_type": "stream",
     "text": [
      "\r",
      "  2%|▊                                       | 99/5000 [00:00<00:32, 149.38it/s]"
     ]
    },
    {
     "name": "stdout",
     "output_type": "stream",
     "text": [
      "Epoch 00098 | Loss 154.0316 | MSE 141.7370 \n",
      "Epoch 00099 | Loss 153.4657 | MSE 136.5131 \n",
      "Epoch 00100 | Loss 151.3941 | MSE 134.0313 \n",
      "Epoch 00101 | Loss 155.2666 | MSE 134.1061 \n",
      "Epoch 00102 | Loss 155.2255 | MSE 135.3173 \n",
      "Epoch 00103 | Loss 150.6764 | MSE 130.9404 \n"
     ]
    },
    {
     "name": "stderr",
     "output_type": "stream",
     "text": [
      "\r",
      "  2%|▉                                      | 115/5000 [00:00<00:32, 152.07it/s]"
     ]
    },
    {
     "name": "stdout",
     "output_type": "stream",
     "text": [
      "Epoch 00104 | Loss 144.2544 | MSE 127.8100 \n",
      "Epoch 00105 | Loss 142.8206 | MSE 127.4574 \n",
      "Epoch 00106 | Loss 144.3420 | MSE 131.3712 \n",
      "Epoch 00107 | Loss 150.1066 | MSE 127.1267 \n",
      "Epoch 00108 | Loss 145.8571 | MSE 122.2061 \n",
      "Epoch 00109 | Loss 140.6875 | MSE 121.5891 \n",
      "Epoch 00110 | Loss 149.7946 | MSE 122.6293 \n",
      "Epoch 00111 | Loss 148.7797 | MSE 122.4288 \n",
      "Epoch 00112 | Loss 146.5742 | MSE 119.1440 \n",
      "Epoch 00113 | Loss 146.9118 | MSE 117.9638 \n",
      "Epoch 00114 | Loss 141.8230 | MSE 118.3948 \n",
      "Epoch 00115 | Loss 142.1232 | MSE 118.1943 \n",
      "Epoch 00116 | Loss 140.4672 | MSE 117.1292 \n",
      "Epoch 00117 | Loss 138.7607 | MSE 115.8684 \n",
      "Epoch 00118 | Loss 135.9026 | MSE 117.3882 \n",
      "Epoch 00119 | Loss 136.8358 | MSE 117.8766 \n",
      "Epoch 00120 | Loss 137.9146 | MSE 116.2432 \n",
      "Epoch 00121 | Loss 133.0596 | MSE 114.0994 \n",
      "Epoch 00122 | Loss 142.6018 | MSE 112.7801 \n",
      "Epoch 00123 | Loss 138.5829 | MSE 112.8454 \n",
      "Epoch 00124 | Loss 136.3807 | MSE 115.2792 \n",
      "Epoch 00125 | Loss 139.4456 | MSE 118.3125 \n",
      "Epoch 00126 | Loss 142.4431 | MSE 112.5704 \n",
      "Epoch 00127 | Loss 137.5137 | MSE 110.8533 \n",
      "Epoch 00128 | Loss 138.9640 | MSE 111.3085 \n",
      "Epoch 00129 | Loss 135.3660 | MSE 113.0850 \n",
      "Epoch 00130 | Loss 133.4931 | MSE 115.6950 \n"
     ]
    },
    {
     "name": "stderr",
     "output_type": "stream",
     "text": [
      "\r",
      "  3%|█                                      | 132/5000 [00:00<00:31, 156.32it/s]"
     ]
    },
    {
     "name": "stdout",
     "output_type": "stream",
     "text": [
      "Epoch 00131 | Loss 142.3407 | MSE 112.9489 \n",
      "Epoch 00132 | Loss 133.4472 | MSE 110.9619 \n",
      "Epoch 00133 | Loss 134.0448 | MSE 111.9935 \n",
      "Epoch 00134 | Loss 129.6512 | MSE 113.5192 \n",
      "Epoch 00135 | Loss 134.4296 | MSE 112.5017 \n",
      "Epoch 00136 | Loss 135.1781 | MSE 110.8459 \n",
      "Epoch 00137 | Loss 133.1189 | MSE 110.8671 \n"
     ]
    },
    {
     "name": "stderr",
     "output_type": "stream",
     "text": [
      "\r",
      "  3%|█▏                                     | 149/5000 [00:01<00:30, 158.51it/s]"
     ]
    },
    {
     "name": "stdout",
     "output_type": "stream",
     "text": [
      "Epoch 00138 | Loss 134.8212 | MSE 113.0885 \n",
      "Epoch 00139 | Loss 132.7024 | MSE 114.0402 \n",
      "Epoch 00140 | Loss 135.7445 | MSE 109.8922 \n",
      "Epoch 00141 | Loss 133.6378 | MSE 108.9444 \n",
      "Epoch 00142 | Loss 131.4977 | MSE 109.4393 \n",
      "Epoch 00143 | Loss 129.0006 | MSE 111.9920 \n",
      "Epoch 00144 | Loss 129.1948 | MSE 109.2512 \n",
      "Epoch 00145 | Loss 129.6368 | MSE 107.4873 \n",
      "Epoch 00146 | Loss 128.4887 | MSE 107.6718 \n",
      "Epoch 00147 | Loss 129.5951 | MSE 111.6325 \n",
      "Epoch 00148 | Loss 124.4309 | MSE 114.4602 \n",
      "Epoch 00149 | Loss 123.8795 | MSE 109.5108 \n",
      "Epoch 00150 | Loss 129.9572 | MSE 108.0117 \n",
      "Epoch 00151 | Loss 126.9757 | MSE 108.5381 \n",
      "Epoch 00152 | Loss 130.1384 | MSE 109.9645 \n",
      "Epoch 00153 | Loss 124.4761 | MSE 108.7319 \n",
      "Epoch 00154 | Loss 124.9074 | MSE 108.3000 \n",
      "Epoch 00155 | Loss 123.6302 | MSE 109.8476 \n",
      "Epoch 00156 | Loss 124.7514 | MSE 109.5303 \n",
      "Epoch 00157 | Loss 128.5352 | MSE 108.3863 \n",
      "Epoch 00158 | Loss 124.5571 | MSE 108.0339 \n",
      "Epoch 00159 | Loss 129.8618 | MSE 106.8572 \n",
      "Epoch 00160 | Loss 125.3487 | MSE 108.7583 \n",
      "Epoch 00161 | Loss 123.9545 | MSE 112.5734 \n",
      "Epoch 00162 | Loss 126.2486 | MSE 109.2460 \n",
      "Epoch 00163 | Loss 128.2858 | MSE 107.4115 \n",
      "Epoch 00164 | Loss 126.0753 | MSE 107.9300 \n"
     ]
    },
    {
     "name": "stderr",
     "output_type": "stream",
     "text": [
      "\r",
      "  3%|█▎                                     | 166/5000 [00:01<00:29, 161.33it/s]"
     ]
    },
    {
     "name": "stdout",
     "output_type": "stream",
     "text": [
      "Epoch 00165 | Loss 123.5032 | MSE 107.5841 \n",
      "Epoch 00166 | Loss 125.9409 | MSE 108.9265 \n",
      "Epoch 00167 | Loss 121.6123 | MSE 108.3840 \n",
      "Epoch 00168 | Loss 124.8101 | MSE 109.0726 \n",
      "Epoch 00169 | Loss 125.3173 | MSE 106.8403 \n",
      "Epoch 00170 | Loss 129.0280 | MSE 106.5859 \n",
      "Epoch 00171 | Loss 123.1882 | MSE 109.4022 \n"
     ]
    },
    {
     "name": "stderr",
     "output_type": "stream",
     "text": [
      "\r",
      "  4%|█▍                                     | 183/5000 [00:01<00:29, 163.40it/s]"
     ]
    },
    {
     "name": "stdout",
     "output_type": "stream",
     "text": [
      "Epoch 00172 | Loss 122.1329 | MSE 107.6283 \n",
      "Epoch 00173 | Loss 124.8501 | MSE 106.5926 \n",
      "Epoch 00174 | Loss 120.7529 | MSE 109.8832 \n",
      "Epoch 00175 | Loss 125.1963 | MSE 109.5876 \n",
      "Epoch 00176 | Loss 122.5904 | MSE 106.5200 \n",
      "Epoch 00177 | Loss 122.3450 | MSE 106.8121 \n",
      "Epoch 00178 | Loss 121.7753 | MSE 111.1662 \n",
      "Epoch 00179 | Loss 121.2163 | MSE 109.5953 \n",
      "Epoch 00180 | Loss 118.3246 | MSE 105.8171 \n",
      "Epoch 00181 | Loss 120.8124 | MSE 104.9613 \n",
      "Epoch 00182 | Loss 116.4272 | MSE 112.6348 \n",
      "Epoch 00183 | Loss 121.0893 | MSE 106.9267 \n",
      "Epoch 00184 | Loss 121.9645 | MSE 105.0058 \n",
      "Epoch 00185 | Loss 126.7676 | MSE 106.4742 \n",
      "Epoch 00186 | Loss 121.4779 | MSE 110.7439 \n",
      "Epoch 00187 | Loss 122.9993 | MSE 107.0772 \n",
      "Epoch 00188 | Loss 120.5595 | MSE 106.6763 \n",
      "Epoch 00189 | Loss 116.8223 | MSE 110.5553 \n",
      "Epoch 00190 | Loss 120.7231 | MSE 109.6517 \n",
      "Epoch 00191 | Loss 116.5517 | MSE 107.0587 \n",
      "Epoch 00192 | Loss 123.6048 | MSE 107.1856 \n",
      "Epoch 00193 | Loss 117.0483 | MSE 110.0614 \n",
      "Epoch 00194 | Loss 119.3571 | MSE 109.2464 \n",
      "Epoch 00195 | Loss 112.6248 | MSE 105.8015 \n",
      "Epoch 00196 | Loss 120.7617 | MSE 106.5324 \n",
      "Epoch 00197 | Loss 112.3702 | MSE 110.2760 \n",
      "Epoch 00198 | Loss 116.6210 | MSE 106.0928 \n",
      "Epoch 00199 | Loss 114.5355 | MSE 105.3041 \n"
     ]
    },
    {
     "name": "stderr",
     "output_type": "stream",
     "text": [
      "\r",
      "  4%|█▌                                     | 201/5000 [00:01<00:28, 166.51it/s]"
     ]
    },
    {
     "name": "stdout",
     "output_type": "stream",
     "text": [
      "Epoch 00200 | Loss 115.7842 | MSE 109.8464 \n",
      "Epoch 00201 | Loss 122.0659 | MSE 106.1688 \n",
      "Epoch 00202 | Loss 114.2820 | MSE 103.7277 \n",
      "Epoch 00203 | Loss 121.4039 | MSE 105.3293 \n",
      "Epoch 00204 | Loss 115.9624 | MSE 107.5913 \n",
      "Epoch 00205 | Loss 115.8012 | MSE 103.5674 \n",
      "Epoch 00206 | Loss 109.7479 | MSE 103.1536 \n"
     ]
    },
    {
     "name": "stderr",
     "output_type": "stream",
     "text": [
      "\r",
      "  4%|█▋                                     | 218/5000 [00:01<00:28, 165.82it/s]"
     ]
    },
    {
     "name": "stdout",
     "output_type": "stream",
     "text": [
      "Epoch 00207 | Loss 114.7500 | MSE 106.6321 \n",
      "Epoch 00208 | Loss 120.4685 | MSE 104.7993 \n",
      "Epoch 00209 | Loss 112.3955 | MSE 103.0259 \n",
      "Epoch 00210 | Loss 111.9407 | MSE 103.5076 \n",
      "Epoch 00211 | Loss 114.4838 | MSE 103.8431 \n",
      "Epoch 00212 | Loss 115.8479 | MSE 102.7050 \n",
      "Epoch 00213 | Loss 113.0823 | MSE 104.4191 \n",
      "Epoch 00214 | Loss 109.7373 | MSE 105.8164 \n",
      "Epoch 00215 | Loss 107.8666 | MSE 103.7741 \n",
      "Epoch 00216 | Loss 109.5688 | MSE 104.1336 \n",
      "Epoch 00217 | Loss 113.4313 | MSE 103.0971 \n",
      "Epoch 00218 | Loss 115.3855 | MSE 104.9815 \n",
      "Epoch 00219 | Loss 115.2688 | MSE 103.9068 \n",
      "Epoch 00220 | Loss 113.7003 | MSE 103.0501 \n",
      "Epoch 00221 | Loss 111.3501 | MSE 104.4372 \n",
      "Epoch 00222 | Loss 113.1108 | MSE 105.1280 \n",
      "Epoch 00223 | Loss 116.0620 | MSE 102.9029 \n",
      "Epoch 00224 | Loss 118.3861 | MSE 104.5102 \n",
      "Epoch 00225 | Loss 110.0604 | MSE 103.7515 \n",
      "Epoch 00226 | Loss 117.3871 | MSE 100.5703 \n",
      "Epoch 00227 | Loss 112.5821 | MSE 101.4378 \n",
      "Epoch 00228 | Loss 109.6966 | MSE 105.8588 \n",
      "Epoch 00229 | Loss 114.3133 | MSE 104.9195 \n",
      "Epoch 00230 | Loss 115.3950 | MSE 103.1316 \n",
      "Epoch 00231 | Loss 116.7694 | MSE 106.8397 \n",
      "Epoch 00232 | Loss 115.6074 | MSE 104.1374 \n",
      "Epoch 00233 | Loss 110.0452 | MSE 102.5800 \n"
     ]
    },
    {
     "name": "stderr",
     "output_type": "stream",
     "text": [
      "\r",
      "  5%|█▊                                     | 236/5000 [00:01<00:28, 168.28it/s]"
     ]
    },
    {
     "name": "stdout",
     "output_type": "stream",
     "text": [
      "Epoch 00234 | Loss 113.0274 | MSE 106.0073 \n",
      "Epoch 00235 | Loss 112.0746 | MSE 106.7759 \n",
      "Epoch 00236 | Loss 110.6984 | MSE 104.8504 \n",
      "Epoch 00237 | Loss 112.8732 | MSE 106.8475 \n",
      "Epoch 00238 | Loss 112.4593 | MSE 105.3830 \n",
      "Epoch 00239 | Loss 113.0006 | MSE 104.2886 \n",
      "Epoch 00240 | Loss 111.6757 | MSE 107.2779 \n",
      "Epoch 00241 | Loss 114.6958 | MSE 102.7902 \n"
     ]
    },
    {
     "name": "stderr",
     "output_type": "stream",
     "text": [
      "\r",
      "  5%|█▉                                     | 254/5000 [00:01<00:28, 169.08it/s]"
     ]
    },
    {
     "name": "stdout",
     "output_type": "stream",
     "text": [
      "Epoch 00242 | Loss 112.6373 | MSE 102.9889 \n",
      "Epoch 00243 | Loss 108.4160 | MSE 107.1688 \n",
      "Epoch 00244 | Loss 109.7704 | MSE 102.6272 \n",
      "Epoch 00245 | Loss 108.5861 | MSE 102.8212 \n",
      "Epoch 00246 | Loss 115.0763 | MSE 105.0617 \n",
      "Epoch 00247 | Loss 105.7414 | MSE 102.7747 \n",
      "Epoch 00248 | Loss 115.8532 | MSE 105.2550 \n",
      "Epoch 00249 | Loss 108.9750 | MSE 110.9094 \n",
      "Epoch 00250 | Loss 110.6342 | MSE 104.0892 \n",
      "Epoch 00251 | Loss 111.5495 | MSE 105.1676 \n",
      "Epoch 00252 | Loss 110.8621 | MSE 106.6270 \n",
      "Epoch 00253 | Loss 105.6746 | MSE 102.0873 \n",
      "Epoch 00254 | Loss 114.1699 | MSE 101.3556 \n",
      "Epoch 00255 | Loss 106.9854 | MSE 104.3980 \n",
      "Epoch 00256 | Loss 110.1794 | MSE 100.5081 \n",
      "Epoch 00257 | Loss 107.9236 | MSE 100.7718 \n",
      "Epoch 00258 | Loss 111.2158 | MSE 105.7197 \n",
      "Epoch 00259 | Loss 113.5788 | MSE 99.0692 \n",
      "Epoch 00260 | Loss 107.6867 | MSE 98.9297 \n",
      "Epoch 00261 | Loss 110.8545 | MSE 102.0450 \n",
      "Epoch 00262 | Loss 106.1256 | MSE 98.1497 \n",
      "Epoch 00263 | Loss 109.4855 | MSE 98.6964 \n",
      "Epoch 00264 | Loss 104.5755 | MSE 100.2794 \n",
      "Epoch 00265 | Loss 108.9311 | MSE 100.5194 \n",
      "Epoch 00266 | Loss 111.2279 | MSE 101.5893 \n",
      "Epoch 00267 | Loss 109.1125 | MSE 101.3362 \n",
      "Epoch 00268 | Loss 110.4728 | MSE 101.3221 \n"
     ]
    },
    {
     "name": "stderr",
     "output_type": "stream",
     "text": [
      "\r",
      "  5%|██                                     | 272/5000 [00:01<00:27, 170.97it/s]"
     ]
    },
    {
     "name": "stdout",
     "output_type": "stream",
     "text": [
      "Epoch 00269 | Loss 111.7383 | MSE 104.2599 \n",
      "Epoch 00270 | Loss 107.0702 | MSE 100.1387 \n",
      "Epoch 00271 | Loss 105.8376 | MSE 105.3642 \n",
      "Epoch 00272 | Loss 113.2108 | MSE 98.9010 \n",
      "Epoch 00273 | Loss 106.4922 | MSE 98.9698 \n",
      "Epoch 00274 | Loss 113.3348 | MSE 103.6173 \n",
      "Epoch 00275 | Loss 110.1817 | MSE 101.4708 \n",
      "Epoch 00276 | Loss 110.9464 | MSE 106.0017 \n"
     ]
    },
    {
     "name": "stderr",
     "output_type": "stream",
     "text": [
      "\r",
      "  6%|██▎                                    | 290/5000 [00:01<00:27, 169.63it/s]"
     ]
    },
    {
     "name": "stdout",
     "output_type": "stream",
     "text": [
      "Epoch 00277 | Loss 108.3932 | MSE 100.3168 \n",
      "Epoch 00278 | Loss 103.0731 | MSE 101.5457 \n",
      "Epoch 00279 | Loss 108.3223 | MSE 105.3668 \n",
      "Epoch 00280 | Loss 108.1759 | MSE 99.6407 \n",
      "Epoch 00281 | Loss 110.2138 | MSE 99.2577 \n",
      "Epoch 00282 | Loss 113.4834 | MSE 107.4286 \n",
      "Epoch 00283 | Loss 109.1316 | MSE 97.9912 \n",
      "Epoch 00284 | Loss 111.9995 | MSE 100.4693 \n",
      "Epoch 00285 | Loss 107.9721 | MSE 107.6156 \n",
      "Epoch 00286 | Loss 108.1459 | MSE 103.2570 \n",
      "Epoch 00287 | Loss 109.2424 | MSE 106.4008 \n",
      "Epoch 00288 | Loss 109.8236 | MSE 101.0081 \n",
      "Epoch 00289 | Loss 105.7244 | MSE 102.9686 \n",
      "Epoch 00290 | Loss 114.9850 | MSE 116.6609 \n",
      "Epoch 00291 | Loss 115.2901 | MSE 98.7826 \n",
      "Epoch 00292 | Loss 111.9364 | MSE 100.8274 \n",
      "Epoch 00293 | Loss 111.5262 | MSE 113.7189 \n",
      "Epoch 00294 | Loss 117.5687 | MSE 101.0185 \n",
      "Epoch 00295 | Loss 112.3627 | MSE 102.9320 \n",
      "Epoch 00296 | Loss 108.8222 | MSE 101.7058 \n",
      "Epoch 00297 | Loss 114.6419 | MSE 99.8578 \n",
      "Epoch 00298 | Loss 109.5857 | MSE 102.4089 \n",
      "Epoch 00299 | Loss 106.9395 | MSE 99.8901 \n",
      "Epoch 00300 | Loss 105.2685 | MSE 101.3559 \n",
      "Epoch 00301 | Loss 107.1920 | MSE 99.1642 \n",
      "Epoch 00302 | Loss 103.5235 | MSE 103.0589 \n",
      "Epoch 00303 | Loss 104.1449 | MSE 102.4026 \n"
     ]
    },
    {
     "name": "stderr",
     "output_type": "stream",
     "text": [
      "\r",
      "  6%|██▍                                    | 308/5000 [00:02<00:27, 170.99it/s]"
     ]
    },
    {
     "name": "stdout",
     "output_type": "stream",
     "text": [
      "Epoch 00304 | Loss 105.0699 | MSE 100.6513 \n",
      "Epoch 00305 | Loss 110.5182 | MSE 115.7088 \n",
      "Epoch 00306 | Loss 114.0517 | MSE 100.2399 \n",
      "Epoch 00307 | Loss 110.3765 | MSE 98.4778 \n",
      "Epoch 00308 | Loss 109.9227 | MSE 111.2365 \n",
      "Epoch 00309 | Loss 111.1314 | MSE 100.7970 \n",
      "Epoch 00310 | Loss 112.9616 | MSE 100.4019 \n",
      "Epoch 00311 | Loss 106.2882 | MSE 97.2256 \n"
     ]
    },
    {
     "name": "stderr",
     "output_type": "stream",
     "text": [
      "\r",
      "  7%|██▌                                    | 326/5000 [00:02<00:27, 172.96it/s]"
     ]
    },
    {
     "name": "stdout",
     "output_type": "stream",
     "text": [
      "Epoch 00312 | Loss 107.1781 | MSE 98.9284 \n",
      "Epoch 00313 | Loss 104.5975 | MSE 103.4642 \n",
      "Epoch 00314 | Loss 110.9234 | MSE 98.1545 \n",
      "Epoch 00315 | Loss 105.4089 | MSE 100.4246 \n",
      "Epoch 00316 | Loss 105.0613 | MSE 107.8757 \n",
      "Epoch 00317 | Loss 108.4434 | MSE 106.9772 \n",
      "Epoch 00318 | Loss 113.1246 | MSE 108.7115 \n",
      "Epoch 00319 | Loss 112.4375 | MSE 102.8800 \n",
      "Epoch 00320 | Loss 105.9381 | MSE 100.0032 \n",
      "Epoch 00321 | Loss 110.6715 | MSE 111.0847 \n",
      "Epoch 00322 | Loss 112.7379 | MSE 101.1038 \n",
      "Epoch 00323 | Loss 106.2345 | MSE 101.3038 \n",
      "Epoch 00324 | Loss 109.9549 | MSE 102.3571 \n",
      "Epoch 00325 | Loss 109.3961 | MSE 101.5246 \n",
      "Epoch 00326 | Loss 104.7702 | MSE 103.6657 \n",
      "Epoch 00327 | Loss 108.5625 | MSE 101.3734 \n",
      "Epoch 00328 | Loss 106.0680 | MSE 104.3119 \n",
      "Epoch 00329 | Loss 104.6904 | MSE 105.3986 \n",
      "Epoch 00330 | Loss 107.6492 | MSE 111.8461 \n",
      "Epoch 00331 | Loss 116.7665 | MSE 105.0327 \n",
      "Epoch 00332 | Loss 111.4064 | MSE 99.3779 \n",
      "Epoch 00333 | Loss 108.7138 | MSE 105.2041 \n",
      "Epoch 00334 | Loss 108.5583 | MSE 98.9856 \n",
      "Epoch 00335 | Loss 105.8099 | MSE 102.7681 \n",
      "Epoch 00336 | Loss 106.0975 | MSE 108.3151 \n",
      "Epoch 00337 | Loss 108.3002 | MSE 101.1806 \n",
      "Epoch 00338 | Loss 114.4930 | MSE 108.3085 \n",
      "Epoch 00339 | Loss 115.2095 | MSE 99.4178 \n"
     ]
    },
    {
     "name": "stderr",
     "output_type": "stream",
     "text": [
      "\r",
      "  7%|██▋                                    | 344/5000 [00:02<00:26, 172.68it/s]"
     ]
    },
    {
     "name": "stdout",
     "output_type": "stream",
     "text": [
      "Epoch 00340 | Loss 103.2849 | MSE 104.3408 \n",
      "Epoch 00341 | Loss 104.5990 | MSE 102.6832 \n",
      "Epoch 00342 | Loss 106.4741 | MSE 102.2502 \n",
      "Epoch 00343 | Loss 102.3176 | MSE 103.0948 \n",
      "Epoch 00344 | Loss 105.7831 | MSE 104.5336 \n",
      "Epoch 00345 | Loss 108.5507 | MSE 104.1720 \n",
      "Epoch 00346 | Loss 114.1019 | MSE 113.3160 \n"
     ]
    },
    {
     "name": "stderr",
     "output_type": "stream",
     "text": [
      "\r",
      "  7%|██▊                                    | 362/5000 [00:02<00:27, 171.35it/s]"
     ]
    },
    {
     "name": "stdout",
     "output_type": "stream",
     "text": [
      "Epoch 00347 | Loss 111.8095 | MSE 98.3009 \n",
      "Epoch 00348 | Loss 107.2358 | MSE 97.2146 \n",
      "Epoch 00349 | Loss 99.3621 | MSE 106.0152 \n",
      "Epoch 00350 | Loss 105.9703 | MSE 97.5897 \n",
      "Epoch 00351 | Loss 105.9153 | MSE 96.9611 \n",
      "Epoch 00352 | Loss 104.6268 | MSE 96.8465 \n",
      "Epoch 00353 | Loss 104.4601 | MSE 97.3623 \n",
      "Epoch 00354 | Loss 105.2861 | MSE 108.5720 \n",
      "Epoch 00355 | Loss 111.2892 | MSE 97.9086 \n",
      "Epoch 00356 | Loss 105.3032 | MSE 100.4469 \n",
      "Epoch 00357 | Loss 104.7951 | MSE 100.6177 \n",
      "Epoch 00358 | Loss 102.2294 | MSE 100.3612 \n",
      "Epoch 00359 | Loss 103.7035 | MSE 99.6882 \n",
      "Epoch 00360 | Loss 98.4235 | MSE 100.9429 \n",
      "Epoch 00361 | Loss 107.1102 | MSE 97.6614 \n",
      "Epoch 00362 | Loss 106.1767 | MSE 96.5739 \n",
      "Epoch 00363 | Loss 104.4972 | MSE 102.1860 \n",
      "Epoch 00364 | Loss 105.9291 | MSE 95.8086 \n",
      "Epoch 00365 | Loss 101.8493 | MSE 100.7290 \n",
      "Epoch 00366 | Loss 108.5623 | MSE 95.6753 \n",
      "Epoch 00367 | Loss 107.6714 | MSE 98.2613 \n",
      "Epoch 00368 | Loss 107.4485 | MSE 118.4814 \n",
      "Epoch 00369 | Loss 118.0837 | MSE 106.8929 \n",
      "Epoch 00370 | Loss 117.8917 | MSE 110.4339 \n",
      "Epoch 00371 | Loss 114.1962 | MSE 96.6891 \n",
      "Epoch 00372 | Loss 106.8217 | MSE 99.1514 \n",
      "Epoch 00373 | Loss 104.4112 | MSE 101.7937 \n",
      "Epoch 00374 | Loss 102.1857 | MSE 98.3557 \n"
     ]
    },
    {
     "name": "stderr",
     "output_type": "stream",
     "text": [
      "\r",
      "  8%|██▉                                    | 380/5000 [00:02<00:26, 173.73it/s]"
     ]
    },
    {
     "name": "stdout",
     "output_type": "stream",
     "text": [
      "Epoch 00375 | Loss 109.1938 | MSE 105.9170 \n",
      "Epoch 00376 | Loss 108.5587 | MSE 97.4805 \n",
      "Epoch 00377 | Loss 101.9510 | MSE 97.3875 \n",
      "Epoch 00378 | Loss 102.8655 | MSE 102.1553 \n",
      "Epoch 00379 | Loss 109.2439 | MSE 96.7049 \n",
      "Epoch 00380 | Loss 104.2079 | MSE 98.9422 \n",
      "Epoch 00381 | Loss 103.7201 | MSE 102.0302 \n"
     ]
    },
    {
     "name": "stderr",
     "output_type": "stream",
     "text": [
      "\r",
      "  8%|███                                    | 398/5000 [00:02<00:26, 175.00it/s]"
     ]
    },
    {
     "name": "stdout",
     "output_type": "stream",
     "text": [
      "Epoch 00382 | Loss 102.1378 | MSE 99.5823 \n",
      "Epoch 00383 | Loss 109.3873 | MSE 103.1103 \n",
      "Epoch 00384 | Loss 105.0915 | MSE 97.6242 \n",
      "Epoch 00385 | Loss 104.9718 | MSE 99.5406 \n",
      "Epoch 00386 | Loss 102.0664 | MSE 104.2754 \n",
      "Epoch 00387 | Loss 109.9496 | MSE 95.9863 \n",
      "Epoch 00388 | Loss 101.3987 | MSE 97.0018 \n",
      "Epoch 00389 | Loss 105.0873 | MSE 97.0902 \n",
      "Epoch 00390 | Loss 103.7007 | MSE 97.9268 \n",
      "Epoch 00391 | Loss 109.4982 | MSE 104.1143 \n",
      "Epoch 00392 | Loss 104.3342 | MSE 96.7598 \n",
      "Epoch 00393 | Loss 102.8438 | MSE 100.4546 \n",
      "Epoch 00394 | Loss 101.7042 | MSE 100.2302 \n",
      "Epoch 00395 | Loss 106.8483 | MSE 97.8071 \n",
      "Epoch 00396 | Loss 102.1643 | MSE 104.4488 \n",
      "Epoch 00397 | Loss 103.6533 | MSE 98.4797 \n",
      "Epoch 00398 | Loss 103.9450 | MSE 100.5513 \n",
      "Epoch 00399 | Loss 102.0232 | MSE 103.3121 \n",
      "Epoch 00400 | Loss 106.8368 | MSE 101.1149 \n",
      "Epoch 00401 | Loss 110.5022 | MSE 112.4062 \n",
      "Epoch 00402 | Loss 111.1293 | MSE 96.7123 \n",
      "Epoch 00403 | Loss 105.6895 | MSE 97.8338 \n",
      "Epoch 00404 | Loss 102.9596 | MSE 104.0116 \n",
      "Epoch 00405 | Loss 107.0120 | MSE 98.0604 \n",
      "Epoch 00406 | Loss 108.3173 | MSE 98.4243 \n",
      "Epoch 00407 | Loss 101.4374 | MSE 104.1450 \n",
      "Epoch 00408 | Loss 105.9800 | MSE 98.5316 \n",
      "Epoch 00409 | Loss 105.8244 | MSE 97.3606 \n",
      "Epoch 00410 | Loss 103.9097 | MSE 96.8984 \n"
     ]
    },
    {
     "name": "stderr",
     "output_type": "stream",
     "text": [
      "\r",
      "  8%|███▏                                   | 416/5000 [00:02<00:26, 174.35it/s]"
     ]
    },
    {
     "name": "stdout",
     "output_type": "stream",
     "text": [
      "Epoch 00411 | Loss 103.6823 | MSE 95.2176 \n",
      "Epoch 00412 | Loss 102.6021 | MSE 103.3794 \n",
      "Epoch 00413 | Loss 103.7227 | MSE 95.5311 \n",
      "Epoch 00414 | Loss 104.0995 | MSE 103.9259 \n",
      "Epoch 00415 | Loss 102.2735 | MSE 97.7148 \n",
      "Epoch 00416 | Loss 103.2041 | MSE 98.9727 \n",
      "Epoch 00417 | Loss 104.5500 | MSE 99.5083 \n"
     ]
    },
    {
     "name": "stderr",
     "output_type": "stream",
     "text": [
      "\r",
      "  9%|███▍                                   | 434/5000 [00:02<00:26, 174.68it/s]"
     ]
    },
    {
     "name": "stdout",
     "output_type": "stream",
     "text": [
      "Epoch 00418 | Loss 102.0978 | MSE 96.1096 \n",
      "Epoch 00419 | Loss 105.3390 | MSE 101.5028 \n",
      "Epoch 00420 | Loss 105.9566 | MSE 98.1622 \n",
      "Epoch 00421 | Loss 109.7459 | MSE 103.5781 \n",
      "Epoch 00422 | Loss 104.3668 | MSE 98.0811 \n",
      "Epoch 00423 | Loss 103.3505 | MSE 97.9871 \n",
      "Epoch 00424 | Loss 102.6254 | MSE 99.9064 \n",
      "Epoch 00425 | Loss 102.3255 | MSE 95.8221 \n",
      "Epoch 00426 | Loss 100.5764 | MSE 95.4245 \n",
      "Epoch 00427 | Loss 103.0743 | MSE 100.5291 \n",
      "Epoch 00428 | Loss 102.1504 | MSE 95.5453 \n",
      "Epoch 00429 | Loss 104.6263 | MSE 99.8650 \n",
      "Epoch 00430 | Loss 98.3210 | MSE 96.3310 \n",
      "Epoch 00431 | Loss 99.3660 | MSE 96.6986 \n",
      "Epoch 00432 | Loss 109.1666 | MSE 103.2029 \n",
      "Epoch 00433 | Loss 99.2747 | MSE 98.4106 \n",
      "Epoch 00434 | Loss 102.5616 | MSE 106.6640 \n",
      "Epoch 00435 | Loss 106.7756 | MSE 99.7412 \n",
      "Epoch 00436 | Loss 104.7041 | MSE 102.6598 \n",
      "Epoch 00437 | Loss 105.2010 | MSE 97.4963 \n",
      "Epoch 00438 | Loss 105.3039 | MSE 98.9589 \n",
      "Epoch 00439 | Loss 102.8276 | MSE 99.4713 \n",
      "Epoch 00440 | Loss 101.1608 | MSE 97.2490 \n",
      "Epoch 00441 | Loss 97.1515 | MSE 100.4739 \n",
      "Epoch 00442 | Loss 103.8186 | MSE 95.6721 \n",
      "Epoch 00443 | Loss 96.0584 | MSE 95.0752 \n",
      "Epoch 00444 | Loss 100.9988 | MSE 97.9483 \n",
      "Epoch 00445 | Loss 105.3578 | MSE 95.0340 \n",
      "Epoch 00446 | Loss 106.8056 | MSE 107.6054 \n"
     ]
    },
    {
     "name": "stderr",
     "output_type": "stream",
     "text": [
      "\r",
      "  9%|███▌                                   | 452/5000 [00:02<00:26, 173.92it/s]"
     ]
    },
    {
     "name": "stdout",
     "output_type": "stream",
     "text": [
      "Epoch 00447 | Loss 103.8469 | MSE 95.5486 \n",
      "Epoch 00448 | Loss 100.8836 | MSE 97.9341 \n",
      "Epoch 00449 | Loss 103.4896 | MSE 100.3102 \n",
      "Epoch 00450 | Loss 97.8749 | MSE 99.1679 \n",
      "Epoch 00451 | Loss 104.6986 | MSE 113.1032 \n",
      "Epoch 00452 | Loss 107.9225 | MSE 100.9241 \n"
     ]
    },
    {
     "name": "stderr",
     "output_type": "stream",
     "text": [
      "\r",
      "  9%|███▋                                   | 470/5000 [00:02<00:26, 173.97it/s]"
     ]
    },
    {
     "name": "stdout",
     "output_type": "stream",
     "text": [
      "Epoch 00453 | Loss 107.4150 | MSE 105.8335 \n",
      "Epoch 00454 | Loss 107.9169 | MSE 98.2166 \n",
      "Epoch 00455 | Loss 100.6832 | MSE 97.2694 \n",
      "Epoch 00456 | Loss 100.5199 | MSE 98.6164 \n",
      "Epoch 00457 | Loss 99.5609 | MSE 98.0013 \n",
      "Epoch 00458 | Loss 105.5023 | MSE 121.0861 \n",
      "Epoch 00459 | Loss 109.2364 | MSE 101.2432 \n",
      "Epoch 00460 | Loss 109.4834 | MSE 99.4977 \n",
      "Epoch 00461 | Loss 100.9301 | MSE 98.0560 \n",
      "Epoch 00462 | Loss 103.5597 | MSE 100.1632 \n",
      "Epoch 00463 | Loss 109.5447 | MSE 116.7071 \n",
      "Epoch 00464 | Loss 119.2524 | MSE 97.5724 \n",
      "Epoch 00465 | Loss 111.4737 | MSE 98.0176 \n",
      "Epoch 00466 | Loss 103.8683 | MSE 96.5314 \n",
      "Epoch 00467 | Loss 97.9298 | MSE 96.8768 \n",
      "Epoch 00468 | Loss 107.4395 | MSE 124.5034 \n",
      "Epoch 00469 | Loss 121.7952 | MSE 104.4863 \n",
      "Epoch 00470 | Loss 118.2615 | MSE 107.7058 \n",
      "Epoch 00471 | Loss 108.6289 | MSE 94.9011 \n",
      "Epoch 00472 | Loss 101.4106 | MSE 94.4458 \n",
      "Epoch 00473 | Loss 104.2063 | MSE 112.5751 \n",
      "Epoch 00474 | Loss 110.1741 | MSE 99.6836 \n",
      "Epoch 00475 | Loss 109.8510 | MSE 108.8153 \n",
      "Epoch 00476 | Loss 110.6861 | MSE 93.8625 \n",
      "Epoch 00477 | Loss 107.4144 | MSE 98.0788 \n",
      "Epoch 00478 | Loss 108.2728 | MSE 121.5560 \n",
      "Epoch 00479 | Loss 120.1029 | MSE 99.1165 \n",
      "Epoch 00480 | Loss 106.1020 | MSE 96.8839 \n",
      "Epoch 00481 | Loss 100.7000 | MSE 101.3727 \n",
      "Epoch 00482 | Loss 103.3674 | MSE 99.5790 \n"
     ]
    },
    {
     "name": "stderr",
     "output_type": "stream",
     "text": [
      "\r",
      " 10%|███▊                                   | 488/5000 [00:03<00:25, 175.39it/s]"
     ]
    },
    {
     "name": "stdout",
     "output_type": "stream",
     "text": [
      "Epoch 00483 | Loss 107.6560 | MSE 109.7840 \n",
      "Epoch 00484 | Loss 106.4127 | MSE 92.9001 \n",
      "Epoch 00485 | Loss 103.9730 | MSE 93.2236 \n",
      "Epoch 00486 | Loss 103.3192 | MSE 115.5958 \n",
      "Epoch 00487 | Loss 116.3903 | MSE 100.1653 \n",
      "Epoch 00488 | Loss 113.6034 | MSE 102.7693 \n"
     ]
    },
    {
     "name": "stderr",
     "output_type": "stream",
     "text": [
      "\r",
      " 10%|███▉                                   | 506/5000 [00:03<00:25, 175.71it/s]"
     ]
    },
    {
     "name": "stdout",
     "output_type": "stream",
     "text": [
      "Epoch 00489 | Loss 105.6922 | MSE 94.6329 \n",
      "Epoch 00490 | Loss 105.1439 | MSE 94.7989 \n",
      "Epoch 00491 | Loss 105.6397 | MSE 125.8346 \n",
      "Epoch 00492 | Loss 116.2699 | MSE 97.5575 \n",
      "Epoch 00493 | Loss 105.1128 | MSE 94.7572 \n",
      "Epoch 00494 | Loss 99.3763 | MSE 108.4821 \n",
      "Epoch 00495 | Loss 105.1655 | MSE 97.7484 \n",
      "Epoch 00496 | Loss 99.7648 | MSE 107.0155 \n",
      "Epoch 00497 | Loss 102.0398 | MSE 109.1831 \n",
      "Epoch 00498 | Loss 101.4053 | MSE 103.4051 \n",
      "Epoch 00499 | Loss 107.2428 | MSE 104.9165 \n",
      "Epoch 00500 | Loss 100.8777 | MSE 99.5531 \n",
      "Epoch 00501 | Loss 99.0456 | MSE 100.0525 \n",
      "Epoch 00502 | Loss 104.8892 | MSE 105.5256 \n",
      "Epoch 00503 | Loss 103.1376 | MSE 96.6544 \n",
      "Epoch 00504 | Loss 101.3091 | MSE 95.1524 \n",
      "Epoch 00505 | Loss 98.9885 | MSE 98.2408 \n",
      "Epoch 00506 | Loss 99.5664 | MSE 96.3377 \n",
      "Epoch 00507 | Loss 96.9461 | MSE 93.6449 \n",
      "Epoch 00508 | Loss 97.1728 | MSE 97.9085 \n",
      "Epoch 00509 | Loss 102.1173 | MSE 94.9816 \n",
      "Epoch 00510 | Loss 101.2278 | MSE 102.5822 \n",
      "Epoch 00511 | Loss 102.9527 | MSE 98.1195 \n",
      "Epoch 00512 | Loss 102.7529 | MSE 93.7527 \n",
      "Epoch 00513 | Loss 97.5656 | MSE 103.8409 \n",
      "Epoch 00514 | Loss 105.6989 | MSE 96.1259 \n",
      "Epoch 00515 | Loss 105.0036 | MSE 102.3418 \n",
      "Epoch 00516 | Loss 101.7076 | MSE 97.4229 \n",
      "Epoch 00517 | Loss 101.1111 | MSE 96.4852 \n",
      "Epoch 00518 | Loss 102.3014 | MSE 98.5391 \n"
     ]
    },
    {
     "name": "stderr",
     "output_type": "stream",
     "text": [
      "\r",
      " 10%|████                                   | 524/5000 [00:03<00:25, 176.73it/s]"
     ]
    },
    {
     "name": "stdout",
     "output_type": "stream",
     "text": [
      "Epoch 00519 | Loss 104.2719 | MSE 95.2114 \n",
      "Epoch 00520 | Loss 100.5422 | MSE 98.8340 \n",
      "Epoch 00521 | Loss 106.6331 | MSE 94.9304 \n",
      "Epoch 00522 | Loss 96.3612 | MSE 94.3537 \n",
      "Epoch 00523 | Loss 105.9984 | MSE 108.4118 \n",
      "Epoch 00524 | Loss 109.5779 | MSE 95.4829 \n"
     ]
    },
    {
     "name": "stderr",
     "output_type": "stream",
     "text": [
      "\r",
      " 11%|████▏                                  | 542/5000 [00:03<00:25, 176.64it/s]"
     ]
    },
    {
     "name": "stdout",
     "output_type": "stream",
     "text": [
      "Epoch 00525 | Loss 98.3157 | MSE 94.1402 \n",
      "Epoch 00526 | Loss 99.2844 | MSE 98.3150 \n",
      "Epoch 00527 | Loss 104.3165 | MSE 96.1863 \n",
      "Epoch 00528 | Loss 102.6410 | MSE 103.1045 \n",
      "Epoch 00529 | Loss 102.9522 | MSE 96.5655 \n",
      "Epoch 00530 | Loss 99.6986 | MSE 96.0448 \n",
      "Epoch 00531 | Loss 98.8240 | MSE 94.4206 \n",
      "Epoch 00532 | Loss 98.3299 | MSE 92.5398 \n",
      "Epoch 00533 | Loss 97.9718 | MSE 98.6562 \n",
      "Epoch 00534 | Loss 102.8049 | MSE 93.0741 \n",
      "Epoch 00535 | Loss 101.4808 | MSE 98.6962 \n",
      "Epoch 00536 | Loss 104.2624 | MSE 93.6807 \n",
      "Epoch 00537 | Loss 97.6488 | MSE 102.0117 \n",
      "Epoch 00538 | Loss 105.3305 | MSE 99.1851 \n",
      "Epoch 00539 | Loss 102.1641 | MSE 99.1309 \n",
      "Epoch 00540 | Loss 101.0168 | MSE 95.6861 \n",
      "Epoch 00541 | Loss 97.5510 | MSE 96.4125 \n",
      "Epoch 00542 | Loss 95.8640 | MSE 95.2661 \n",
      "Epoch 00543 | Loss 97.7190 | MSE 94.3443 \n",
      "Epoch 00544 | Loss 96.9874 | MSE 93.7039 \n",
      "Epoch 00545 | Loss 95.4438 | MSE 92.2033 \n",
      "Epoch 00546 | Loss 100.4368 | MSE 92.5290 \n",
      "Epoch 00547 | Loss 96.7346 | MSE 97.5275 \n",
      "Epoch 00548 | Loss 100.0022 | MSE 94.1642 \n",
      "Epoch 00549 | Loss 101.8051 | MSE 105.4998 \n",
      "Epoch 00550 | Loss 102.4814 | MSE 95.7230 \n",
      "Epoch 00551 | Loss 104.5521 | MSE 98.5205 \n",
      "Epoch 00552 | Loss 99.6787 | MSE 97.7861 \n",
      "Epoch 00553 | Loss 101.5842 | MSE 98.3675 \n",
      "Epoch 00554 | Loss 104.8906 | MSE 113.8110 \n"
     ]
    },
    {
     "name": "stderr",
     "output_type": "stream",
     "text": [
      "\r",
      " 11%|████▎                                  | 560/5000 [00:03<00:25, 175.73it/s]"
     ]
    },
    {
     "name": "stdout",
     "output_type": "stream",
     "text": [
      "Epoch 00555 | Loss 104.9234 | MSE 95.1816 \n",
      "Epoch 00556 | Loss 103.4450 | MSE 96.5686 \n",
      "Epoch 00557 | Loss 97.3139 | MSE 103.8794 \n",
      "Epoch 00558 | Loss 100.6626 | MSE 97.1211 \n",
      "Epoch 00559 | Loss 107.6061 | MSE 112.9889 \n",
      "Epoch 00560 | Loss 108.5698 | MSE 94.8920 \n"
     ]
    },
    {
     "name": "stderr",
     "output_type": "stream",
     "text": [
      "\r",
      " 12%|████▌                                  | 578/5000 [00:03<00:25, 176.15it/s]"
     ]
    },
    {
     "name": "stdout",
     "output_type": "stream",
     "text": [
      "Epoch 00561 | Loss 101.2999 | MSE 92.1579 \n",
      "Epoch 00562 | Loss 98.9449 | MSE 98.9094 \n",
      "Epoch 00563 | Loss 103.7628 | MSE 100.3179 \n",
      "Epoch 00564 | Loss 116.2791 | MSE 114.0815 \n",
      "Epoch 00565 | Loss 108.5120 | MSE 92.7441 \n",
      "Epoch 00566 | Loss 103.9425 | MSE 90.4627 \n",
      "Epoch 00567 | Loss 99.1438 | MSE 106.1859 \n",
      "Epoch 00568 | Loss 108.8919 | MSE 104.4367 \n",
      "Epoch 00569 | Loss 114.8247 | MSE 129.2697 \n",
      "Epoch 00570 | Loss 116.8974 | MSE 95.2138 \n",
      "Epoch 00571 | Loss 100.9094 | MSE 91.7204 \n",
      "Epoch 00572 | Loss 94.5207 | MSE 105.2362 \n",
      "Epoch 00573 | Loss 109.8028 | MSE 95.5982 \n",
      "Epoch 00574 | Loss 106.3689 | MSE 103.5506 \n",
      "Epoch 00575 | Loss 102.4502 | MSE 95.1337 \n",
      "Epoch 00576 | Loss 99.3234 | MSE 93.7744 \n",
      "Epoch 00577 | Loss 104.8607 | MSE 105.8271 \n",
      "Epoch 00578 | Loss 108.8236 | MSE 94.4757 \n",
      "Epoch 00579 | Loss 99.4564 | MSE 96.7285 \n",
      "Epoch 00580 | Loss 101.4667 | MSE 97.3804 \n",
      "Epoch 00581 | Loss 93.9128 | MSE 93.4758 \n",
      "Epoch 00582 | Loss 97.9817 | MSE 95.3783 \n",
      "Epoch 00583 | Loss 100.8842 | MSE 95.5709 \n",
      "Epoch 00584 | Loss 96.0198 | MSE 95.7434 \n",
      "Epoch 00585 | Loss 107.3403 | MSE 115.4288 \n",
      "Epoch 00586 | Loss 108.1249 | MSE 95.4200 \n",
      "Epoch 00587 | Loss 105.0020 | MSE 94.9208 \n",
      "Epoch 00588 | Loss 95.0234 | MSE 100.6831 \n",
      "Epoch 00589 | Loss 99.5651 | MSE 97.7597 \n",
      "Epoch 00590 | Loss 104.3553 | MSE 103.0921 \n"
     ]
    },
    {
     "name": "stderr",
     "output_type": "stream",
     "text": [
      "\r",
      " 12%|████▋                                  | 596/5000 [00:03<00:25, 175.06it/s]"
     ]
    },
    {
     "name": "stdout",
     "output_type": "stream",
     "text": [
      "Epoch 00591 | Loss 105.6997 | MSE 91.0546 \n",
      "Epoch 00592 | Loss 98.4894 | MSE 92.6611 \n",
      "Epoch 00593 | Loss 94.7299 | MSE 103.8155 \n",
      "Epoch 00594 | Loss 101.0610 | MSE 95.5361 \n",
      "Epoch 00595 | Loss 97.6911 | MSE 98.7785 \n",
      "Epoch 00596 | Loss 100.5316 | MSE 95.3240 \n"
     ]
    },
    {
     "name": "stderr",
     "output_type": "stream",
     "text": [
      "\r",
      " 12%|████▊                                  | 614/5000 [00:03<00:24, 175.72it/s]"
     ]
    },
    {
     "name": "stdout",
     "output_type": "stream",
     "text": [
      "Epoch 00597 | Loss 98.4683 | MSE 94.1388 \n",
      "Epoch 00598 | Loss 98.6079 | MSE 101.8546 \n",
      "Epoch 00599 | Loss 100.8031 | MSE 92.8844 \n",
      "Epoch 00600 | Loss 92.3075 | MSE 92.3121 \n",
      "Epoch 00601 | Loss 97.1558 | MSE 101.8128 \n",
      "Epoch 00602 | Loss 102.4145 | MSE 97.0225 \n",
      "Epoch 00603 | Loss 102.2328 | MSE 103.7318 \n",
      "Epoch 00604 | Loss 100.3208 | MSE 92.7571 \n",
      "Epoch 00605 | Loss 94.8221 | MSE 91.5104 \n",
      "Epoch 00606 | Loss 99.0182 | MSE 106.1941 \n",
      "Epoch 00607 | Loss 104.9454 | MSE 89.9346 \n",
      "Epoch 00608 | Loss 102.6602 | MSE 90.1984 \n",
      "Epoch 00609 | Loss 94.5168 | MSE 106.9965 \n",
      "Epoch 00610 | Loss 102.4616 | MSE 95.7633 \n",
      "Epoch 00611 | Loss 102.7185 | MSE 95.3568 \n",
      "Epoch 00612 | Loss 101.8828 | MSE 91.1103 \n",
      "Epoch 00613 | Loss 93.5200 | MSE 92.2281 \n",
      "Epoch 00614 | Loss 103.7570 | MSE 111.6854 \n",
      "Epoch 00615 | Loss 108.9127 | MSE 92.8351 \n",
      "Epoch 00616 | Loss 105.8263 | MSE 98.8664 \n",
      "Epoch 00617 | Loss 106.5610 | MSE 91.4774 \n",
      "Epoch 00618 | Loss 98.4068 | MSE 92.4091 \n",
      "Epoch 00619 | Loss 100.5257 | MSE 106.2614 \n",
      "Epoch 00620 | Loss 103.4836 | MSE 91.2294 \n",
      "Epoch 00621 | Loss 100.7850 | MSE 90.8280 \n",
      "Epoch 00622 | Loss 95.4549 | MSE 100.9320 \n",
      "Epoch 00623 | Loss 98.4683 | MSE 96.2665 \n",
      "Epoch 00624 | Loss 96.9132 | MSE 98.9869 \n",
      "Epoch 00625 | Loss 94.4671 | MSE 101.5618 \n",
      "Epoch 00626 | Loss 96.4503 | MSE 99.2004 \n"
     ]
    },
    {
     "name": "stderr",
     "output_type": "stream",
     "text": [
      "\r",
      " 13%|████▉                                  | 632/5000 [00:03<00:24, 176.36it/s]"
     ]
    },
    {
     "name": "stdout",
     "output_type": "stream",
     "text": [
      "Epoch 00627 | Loss 110.8897 | MSE 115.0597 \n",
      "Epoch 00628 | Loss 116.3511 | MSE 93.0916 \n",
      "Epoch 00629 | Loss 102.8891 | MSE 92.0941 \n",
      "Epoch 00630 | Loss 94.1214 | MSE 99.7354 \n",
      "Epoch 00631 | Loss 95.6989 | MSE 92.1898 \n",
      "Epoch 00632 | Loss 105.0620 | MSE 100.9983 \n"
     ]
    },
    {
     "name": "stderr",
     "output_type": "stream",
     "text": [
      "\r",
      " 13%|█████                                  | 650/5000 [00:03<00:24, 176.67it/s]"
     ]
    },
    {
     "name": "stdout",
     "output_type": "stream",
     "text": [
      "Epoch 00633 | Loss 104.3641 | MSE 92.6962 \n",
      "Epoch 00634 | Loss 96.2370 | MSE 96.3933 \n",
      "Epoch 00635 | Loss 98.4757 | MSE 104.1927 \n",
      "Epoch 00636 | Loss 102.4655 | MSE 94.9517 \n",
      "Epoch 00637 | Loss 99.3518 | MSE 95.0921 \n",
      "Epoch 00638 | Loss 97.1019 | MSE 103.4734 \n",
      "Epoch 00639 | Loss 100.7891 | MSE 92.8891 \n",
      "Epoch 00640 | Loss 99.1629 | MSE 91.3009 \n",
      "Epoch 00641 | Loss 99.0223 | MSE 103.9453 \n",
      "Epoch 00642 | Loss 109.9411 | MSE 92.0451 \n",
      "Epoch 00643 | Loss 101.5236 | MSE 94.6688 \n",
      "Epoch 00644 | Loss 98.5409 | MSE 96.0017 \n",
      "Epoch 00645 | Loss 98.2721 | MSE 92.7782 \n",
      "Epoch 00646 | Loss 97.6637 | MSE 103.2626 \n",
      "Epoch 00647 | Loss 102.9575 | MSE 95.9288 \n",
      "Epoch 00648 | Loss 105.5026 | MSE 97.5673 \n",
      "Epoch 00649 | Loss 100.1364 | MSE 99.9773 \n",
      "Epoch 00650 | Loss 98.0331 | MSE 92.8749 \n",
      "Epoch 00651 | Loss 97.0822 | MSE 103.0885 \n",
      "Epoch 00652 | Loss 98.9871 | MSE 92.7251 \n",
      "Epoch 00653 | Loss 93.2282 | MSE 91.6480 \n",
      "Epoch 00654 | Loss 101.1275 | MSE 105.1358 \n",
      "Epoch 00655 | Loss 99.4218 | MSE 93.8605 \n",
      "Epoch 00656 | Loss 98.7193 | MSE 95.9055 \n",
      "Epoch 00657 | Loss 101.2546 | MSE 93.2598 \n",
      "Epoch 00658 | Loss 96.5276 | MSE 92.1123 \n",
      "Epoch 00659 | Loss 99.4960 | MSE 106.7039 \n",
      "Epoch 00660 | Loss 107.3985 | MSE 95.5881 \n",
      "Epoch 00661 | Loss 102.3110 | MSE 96.1018 \n",
      "Epoch 00662 | Loss 98.4689 | MSE 91.8846 \n"
     ]
    },
    {
     "name": "stderr",
     "output_type": "stream",
     "text": [
      "\r",
      " 13%|█████▏                                 | 668/5000 [00:04<00:24, 176.98it/s]"
     ]
    },
    {
     "name": "stdout",
     "output_type": "stream",
     "text": [
      "Epoch 00663 | Loss 93.3372 | MSE 90.0299 \n",
      "Epoch 00664 | Loss 99.7664 | MSE 99.7733 \n",
      "Epoch 00665 | Loss 105.0216 | MSE 91.6577 \n",
      "Epoch 00666 | Loss 103.6897 | MSE 94.9592 \n",
      "Epoch 00667 | Loss 92.8555 | MSE 92.2564 \n",
      "Epoch 00668 | Loss 102.1984 | MSE 91.6407 \n"
     ]
    },
    {
     "name": "stderr",
     "output_type": "stream",
     "text": [
      "\r",
      " 14%|█████▎                                 | 686/5000 [00:04<00:24, 176.71it/s]"
     ]
    },
    {
     "name": "stdout",
     "output_type": "stream",
     "text": [
      "Epoch 00669 | Loss 98.1283 | MSE 105.7379 \n",
      "Epoch 00670 | Loss 102.3109 | MSE 94.4322 \n",
      "Epoch 00671 | Loss 99.7637 | MSE 96.0664 \n",
      "Epoch 00672 | Loss 95.6422 | MSE 95.9700 \n",
      "Epoch 00673 | Loss 98.6212 | MSE 91.2040 \n",
      "Epoch 00674 | Loss 100.2752 | MSE 97.1457 \n",
      "Epoch 00675 | Loss 101.7389 | MSE 90.8593 \n",
      "Epoch 00676 | Loss 97.6393 | MSE 96.2010 \n",
      "Epoch 00677 | Loss 93.9462 | MSE 95.9662 \n",
      "Epoch 00678 | Loss 93.2666 | MSE 96.8213 \n",
      "Epoch 00679 | Loss 99.2075 | MSE 101.3081 \n",
      "Epoch 00680 | Loss 101.7318 | MSE 96.4793 \n",
      "Epoch 00681 | Loss 98.0040 | MSE 96.2438 \n",
      "Epoch 00682 | Loss 100.9285 | MSE 94.9173 \n",
      "Epoch 00683 | Loss 98.6634 | MSE 91.5911 \n",
      "Epoch 00684 | Loss 97.5367 | MSE 92.4749 \n",
      "Epoch 00685 | Loss 92.1987 | MSE 91.0531 \n",
      "Epoch 00686 | Loss 92.1297 | MSE 91.2749 \n",
      "Epoch 00687 | Loss 96.0055 | MSE 98.2177 \n",
      "Epoch 00688 | Loss 104.4695 | MSE 94.7729 \n",
      "Epoch 00689 | Loss 100.1030 | MSE 104.8945 \n",
      "Epoch 00690 | Loss 103.8028 | MSE 93.5090 \n",
      "Epoch 00691 | Loss 96.2280 | MSE 97.0924 \n",
      "Epoch 00692 | Loss 95.8839 | MSE 94.1397 \n",
      "Epoch 00693 | Loss 95.5789 | MSE 92.3013 \n",
      "Epoch 00694 | Loss 96.9288 | MSE 98.8532 \n",
      "Epoch 00695 | Loss 96.2666 | MSE 91.1979 \n",
      "Epoch 00696 | Loss 94.4930 | MSE 89.6761 \n",
      "Epoch 00697 | Loss 95.5629 | MSE 97.5212 \n",
      "Epoch 00698 | Loss 100.3653 | MSE 93.8602 \n"
     ]
    },
    {
     "name": "stderr",
     "output_type": "stream",
     "text": [
      "\r",
      " 14%|█████▍                                 | 704/5000 [00:04<00:24, 175.64it/s]"
     ]
    },
    {
     "name": "stdout",
     "output_type": "stream",
     "text": [
      "Epoch 00699 | Loss 107.5089 | MSE 104.8807 \n",
      "Epoch 00700 | Loss 101.9265 | MSE 88.2590 \n",
      "Epoch 00701 | Loss 99.8171 | MSE 88.7602 \n",
      "Epoch 00702 | Loss 96.0339 | MSE 90.4932 \n",
      "Epoch 00703 | Loss 89.7291 | MSE 90.1090 \n",
      "Epoch 00704 | Loss 96.8544 | MSE 94.0497 \n"
     ]
    },
    {
     "name": "stderr",
     "output_type": "stream",
     "text": [
      "\r",
      " 14%|█████▋                                 | 722/5000 [00:04<00:24, 176.70it/s]"
     ]
    },
    {
     "name": "stdout",
     "output_type": "stream",
     "text": [
      "Epoch 00705 | Loss 96.5990 | MSE 92.7292 \n",
      "Epoch 00706 | Loss 96.6815 | MSE 90.4733 \n",
      "Epoch 00707 | Loss 97.9022 | MSE 90.7423 \n",
      "Epoch 00708 | Loss 95.4857 | MSE 91.6031 \n",
      "Epoch 00709 | Loss 99.2364 | MSE 94.0833 \n",
      "Epoch 00710 | Loss 95.2417 | MSE 91.3535 \n",
      "Epoch 00711 | Loss 95.7205 | MSE 95.1707 \n",
      "Epoch 00712 | Loss 96.4410 | MSE 91.4483 \n",
      "Epoch 00713 | Loss 95.6725 | MSE 93.9189 \n",
      "Epoch 00714 | Loss 97.7838 | MSE 91.4892 \n",
      "Epoch 00715 | Loss 100.0538 | MSE 89.7550 \n",
      "Epoch 00716 | Loss 100.7542 | MSE 90.8653 \n",
      "Epoch 00717 | Loss 94.2744 | MSE 99.2329 \n",
      "Epoch 00718 | Loss 97.9876 | MSE 94.3503 \n",
      "Epoch 00719 | Loss 103.2347 | MSE 117.3199 \n",
      "Epoch 00720 | Loss 106.5974 | MSE 97.9228 \n",
      "Epoch 00721 | Loss 107.5252 | MSE 102.0390 \n",
      "Epoch 00722 | Loss 104.2496 | MSE 89.2034 \n",
      "Epoch 00723 | Loss 89.9584 | MSE 90.0752 \n",
      "Epoch 00724 | Loss 98.7248 | MSE 104.1171 \n",
      "Epoch 00725 | Loss 100.8787 | MSE 93.1263 \n",
      "Epoch 00726 | Loss 100.2003 | MSE 99.8841 \n",
      "Epoch 00727 | Loss 95.8304 | MSE 92.6360 \n",
      "Epoch 00728 | Loss 92.3020 | MSE 91.3914 \n",
      "Epoch 00729 | Loss 96.3588 | MSE 105.3878 \n",
      "Epoch 00730 | Loss 101.7598 | MSE 96.0232 \n",
      "Epoch 00731 | Loss 105.4663 | MSE 104.7850 \n",
      "Epoch 00732 | Loss 99.2838 | MSE 92.6134 \n",
      "Epoch 00733 | Loss 98.7478 | MSE 91.5740 \n",
      "Epoch 00734 | Loss 89.6620 | MSE 103.3548 \n"
     ]
    },
    {
     "name": "stderr",
     "output_type": "stream",
     "text": [
      "\r",
      " 15%|█████▊                                 | 740/5000 [00:04<00:24, 175.10it/s]"
     ]
    },
    {
     "name": "stdout",
     "output_type": "stream",
     "text": [
      "Epoch 00735 | Loss 102.4682 | MSE 94.0284 \n",
      "Epoch 00736 | Loss 103.0590 | MSE 95.8515 \n",
      "Epoch 00737 | Loss 97.1375 | MSE 90.9292 \n",
      "Epoch 00738 | Loss 95.2551 | MSE 90.7655 \n",
      "Epoch 00739 | Loss 98.9083 | MSE 109.1594 \n",
      "Epoch 00740 | Loss 103.4672 | MSE 94.1830 \n"
     ]
    },
    {
     "name": "stderr",
     "output_type": "stream",
     "text": [
      "\r",
      " 15%|█████▉                                 | 758/5000 [00:04<00:24, 175.60it/s]"
     ]
    },
    {
     "name": "stdout",
     "output_type": "stream",
     "text": [
      "Epoch 00741 | Loss 102.4215 | MSE 93.5972 \n",
      "Epoch 00742 | Loss 96.0611 | MSE 96.3949 \n",
      "Epoch 00743 | Loss 98.6094 | MSE 91.8079 \n",
      "Epoch 00744 | Loss 102.7339 | MSE 104.6563 \n",
      "Epoch 00745 | Loss 107.8091 | MSE 89.6467 \n",
      "Epoch 00746 | Loss 98.7407 | MSE 92.0410 \n",
      "Epoch 00747 | Loss 92.2736 | MSE 102.7390 \n",
      "Epoch 00748 | Loss 96.9575 | MSE 90.8901 \n",
      "Epoch 00749 | Loss 95.9563 | MSE 95.3140 \n",
      "Epoch 00750 | Loss 98.5624 | MSE 88.9613 \n",
      "Epoch 00751 | Loss 98.7500 | MSE 93.8409 \n",
      "Epoch 00752 | Loss 97.6413 | MSE 93.9422 \n",
      "Epoch 00753 | Loss 92.7546 | MSE 89.0579 \n",
      "Epoch 00754 | Loss 97.7047 | MSE 99.4106 \n",
      "Epoch 00755 | Loss 102.6867 | MSE 90.4214 \n",
      "Epoch 00756 | Loss 98.3165 | MSE 95.1895 \n",
      "Epoch 00757 | Loss 95.0113 | MSE 92.0894 \n",
      "Epoch 00758 | Loss 95.1290 | MSE 92.7632 \n",
      "Epoch 00759 | Loss 97.3787 | MSE 107.0907 \n",
      "Epoch 00760 | Loss 102.9794 | MSE 92.8532 \n",
      "Epoch 00761 | Loss 102.3204 | MSE 91.0039 \n",
      "Epoch 00762 | Loss 95.0649 | MSE 96.2339 \n",
      "Epoch 00763 | Loss 99.5717 | MSE 91.2736 \n",
      "Epoch 00764 | Loss 104.1287 | MSE 108.2931 \n",
      "Epoch 00765 | Loss 102.7375 | MSE 88.8617 \n",
      "Epoch 00766 | Loss 98.1067 | MSE 91.2295 \n",
      "Epoch 00767 | Loss 91.3935 | MSE 87.8802 \n",
      "Epoch 00768 | Loss 95.6157 | MSE 89.2748 \n",
      "Epoch 00769 | Loss 92.2554 | MSE 93.0135 \n",
      "Epoch 00770 | Loss 97.6967 | MSE 86.8932 \n"
     ]
    },
    {
     "name": "stderr",
     "output_type": "stream",
     "text": [
      "\r",
      " 16%|██████                                 | 776/5000 [00:04<00:23, 176.30it/s]"
     ]
    },
    {
     "name": "stdout",
     "output_type": "stream",
     "text": [
      "Epoch 00771 | Loss 95.8852 | MSE 89.5385 \n",
      "Epoch 00772 | Loss 97.1696 | MSE 89.2426 \n",
      "Epoch 00773 | Loss 92.4325 | MSE 87.7726 \n",
      "Epoch 00774 | Loss 94.1354 | MSE 94.5643 \n",
      "Epoch 00775 | Loss 95.4808 | MSE 89.6797 \n",
      "Epoch 00776 | Loss 97.6767 | MSE 98.9874 \n"
     ]
    },
    {
     "name": "stderr",
     "output_type": "stream",
     "text": [
      "\r",
      " 16%|██████▏                                | 794/5000 [00:04<00:23, 176.24it/s]"
     ]
    },
    {
     "name": "stdout",
     "output_type": "stream",
     "text": [
      "Epoch 00777 | Loss 97.6813 | MSE 94.7106 \n",
      "Epoch 00778 | Loss 96.4140 | MSE 94.0506 \n",
      "Epoch 00779 | Loss 93.3426 | MSE 91.9958 \n",
      "Epoch 00780 | Loss 92.3290 | MSE 89.0580 \n",
      "Epoch 00781 | Loss 96.5367 | MSE 99.9609 \n",
      "Epoch 00782 | Loss 97.5557 | MSE 90.9110 \n",
      "Epoch 00783 | Loss 94.9784 | MSE 92.8262 \n",
      "Epoch 00784 | Loss 97.7753 | MSE 91.4453 \n",
      "Epoch 00785 | Loss 94.3489 | MSE 91.2081 \n",
      "Epoch 00786 | Loss 100.2931 | MSE 105.8636 \n",
      "Epoch 00787 | Loss 102.0929 | MSE 88.9969 \n",
      "Epoch 00788 | Loss 94.9632 | MSE 91.2533 \n",
      "Epoch 00789 | Loss 97.1833 | MSE 92.0360 \n",
      "Epoch 00790 | Loss 93.8389 | MSE 94.0318 \n",
      "Epoch 00791 | Loss 98.4945 | MSE 95.9443 \n",
      "Epoch 00792 | Loss 96.4826 | MSE 91.4008 \n",
      "Epoch 00793 | Loss 95.6138 | MSE 90.6035 \n",
      "Epoch 00794 | Loss 96.2970 | MSE 95.4856 \n",
      "Epoch 00795 | Loss 93.8640 | MSE 92.1906 \n",
      "Epoch 00796 | Loss 101.8652 | MSE 93.6801 \n",
      "Epoch 00797 | Loss 100.0067 | MSE 89.1114 \n",
      "Epoch 00798 | Loss 100.3904 | MSE 97.5959 \n",
      "Epoch 00799 | Loss 103.3376 | MSE 92.3783 \n",
      "Epoch 00800 | Loss 91.4884 | MSE 98.6869 \n",
      "Epoch 00801 | Loss 96.8261 | MSE 93.8985 \n",
      "Epoch 00802 | Loss 97.3085 | MSE 93.5710 \n",
      "Epoch 00803 | Loss 92.3023 | MSE 96.8265 \n",
      "Epoch 00804 | Loss 91.6188 | MSE 91.5359 \n",
      "Epoch 00805 | Loss 98.7945 | MSE 93.0218 \n",
      "Epoch 00806 | Loss 94.5128 | MSE 87.9198 \n"
     ]
    },
    {
     "name": "stderr",
     "output_type": "stream",
     "text": [
      "\r",
      " 16%|██████▎                                | 812/5000 [00:04<00:23, 175.99it/s]"
     ]
    },
    {
     "name": "stdout",
     "output_type": "stream",
     "text": [
      "Epoch 00807 | Loss 94.8616 | MSE 94.0054 \n",
      "Epoch 00808 | Loss 96.2791 | MSE 89.2757 \n",
      "Epoch 00809 | Loss 94.5558 | MSE 90.5468 \n",
      "Epoch 00810 | Loss 91.9408 | MSE 98.1007 \n",
      "Epoch 00811 | Loss 95.6081 | MSE 89.1874 \n",
      "Epoch 00812 | Loss 96.8323 | MSE 92.5407 \n"
     ]
    },
    {
     "name": "stderr",
     "output_type": "stream",
     "text": [
      "\r",
      " 17%|██████▍                                | 830/5000 [00:04<00:23, 176.52it/s]"
     ]
    },
    {
     "name": "stdout",
     "output_type": "stream",
     "text": [
      "Epoch 00813 | Loss 94.2782 | MSE 87.5594 \n",
      "Epoch 00814 | Loss 93.3940 | MSE 90.5819 \n",
      "Epoch 00815 | Loss 92.4105 | MSE 92.0609 \n",
      "Epoch 00816 | Loss 94.2924 | MSE 91.6475 \n",
      "Epoch 00817 | Loss 90.2346 | MSE 90.3429 \n",
      "Epoch 00818 | Loss 93.3757 | MSE 89.5515 \n",
      "Epoch 00819 | Loss 97.8101 | MSE 88.0269 \n",
      "Epoch 00820 | Loss 95.9125 | MSE 88.5560 \n",
      "Epoch 00821 | Loss 96.2608 | MSE 88.0387 \n",
      "Epoch 00822 | Loss 96.0864 | MSE 94.1790 \n",
      "Epoch 00823 | Loss 96.8504 | MSE 89.7439 \n",
      "Epoch 00824 | Loss 98.7118 | MSE 95.0184 \n",
      "Epoch 00825 | Loss 93.4870 | MSE 88.3359 \n",
      "Epoch 00826 | Loss 94.8285 | MSE 93.5091 \n",
      "Epoch 00827 | Loss 99.5459 | MSE 86.6986 \n",
      "Epoch 00828 | Loss 92.7249 | MSE 87.7854 \n",
      "Epoch 00829 | Loss 96.4043 | MSE 93.6175 \n",
      "Epoch 00830 | Loss 94.0322 | MSE 89.5334 \n",
      "Epoch 00831 | Loss 93.8354 | MSE 93.6435 \n",
      "Epoch 00832 | Loss 92.5917 | MSE 91.8826 \n",
      "Epoch 00833 | Loss 91.4995 | MSE 95.4756 \n",
      "Epoch 00834 | Loss 91.0678 | MSE 94.6128 \n",
      "Epoch 00835 | Loss 99.5676 | MSE 97.1408 \n",
      "Epoch 00836 | Loss 95.2739 | MSE 91.7323 \n",
      "Epoch 00837 | Loss 97.3612 | MSE 96.2117 \n",
      "Epoch 00838 | Loss 95.9878 | MSE 89.9184 \n",
      "Epoch 00839 | Loss 98.8579 | MSE 91.7885 \n",
      "Epoch 00840 | Loss 98.2322 | MSE 84.7869 \n",
      "Epoch 00841 | Loss 100.8045 | MSE 92.8062 \n",
      "Epoch 00842 | Loss 90.9782 | MSE 87.6894 \n"
     ]
    },
    {
     "name": "stderr",
     "output_type": "stream",
     "text": [
      "\r",
      " 17%|██████▌                                | 848/5000 [00:05<00:23, 177.15it/s]"
     ]
    },
    {
     "name": "stdout",
     "output_type": "stream",
     "text": [
      "Epoch 00843 | Loss 95.1857 | MSE 89.9150 \n",
      "Epoch 00844 | Loss 94.7910 | MSE 88.1942 \n",
      "Epoch 00845 | Loss 91.1265 | MSE 93.0294 \n",
      "Epoch 00846 | Loss 90.1911 | MSE 88.6662 \n",
      "Epoch 00847 | Loss 94.5386 | MSE 96.3538 \n",
      "Epoch 00848 | Loss 95.9766 | MSE 89.5931 \n"
     ]
    },
    {
     "name": "stderr",
     "output_type": "stream",
     "text": [
      "\r",
      " 17%|██████▊                                | 866/5000 [00:05<00:23, 176.94it/s]"
     ]
    },
    {
     "name": "stdout",
     "output_type": "stream",
     "text": [
      "Epoch 00849 | Loss 95.0386 | MSE 96.4224 \n",
      "Epoch 00850 | Loss 95.4433 | MSE 90.1587 \n",
      "Epoch 00851 | Loss 93.2996 | MSE 92.6529 \n",
      "Epoch 00852 | Loss 92.8422 | MSE 91.7763 \n",
      "Epoch 00853 | Loss 92.1095 | MSE 96.5911 \n",
      "Epoch 00854 | Loss 94.2680 | MSE 90.0803 \n",
      "Epoch 00855 | Loss 93.1983 | MSE 93.2089 \n",
      "Epoch 00856 | Loss 99.1624 | MSE 88.2907 \n",
      "Epoch 00857 | Loss 98.5721 | MSE 99.7937 \n",
      "Epoch 00858 | Loss 100.3105 | MSE 91.5532 \n",
      "Epoch 00859 | Loss 101.1461 | MSE 109.5743 \n",
      "Epoch 00860 | Loss 104.6088 | MSE 106.2182 \n",
      "Epoch 00861 | Loss 113.3024 | MSE 145.6973 \n",
      "Epoch 00862 | Loss 130.2761 | MSE 119.4671 \n",
      "Epoch 00863 | Loss 136.8995 | MSE 158.0359 \n",
      "Epoch 00864 | Loss 137.9495 | MSE 96.9492 \n",
      "Epoch 00865 | Loss 110.7084 | MSE 92.9944 \n",
      "Epoch 00866 | Loss 93.1985 | MSE 98.2407 \n",
      "Epoch 00867 | Loss 95.6103 | MSE 96.8534 \n",
      "Epoch 00868 | Loss 106.4683 | MSE 128.1864 \n",
      "Epoch 00869 | Loss 119.6314 | MSE 97.2755 \n",
      "Epoch 00870 | Loss 106.1907 | MSE 95.2870 \n",
      "Epoch 00871 | Loss 93.9246 | MSE 94.8458 \n",
      "Epoch 00872 | Loss 97.2497 | MSE 97.0472 \n",
      "Epoch 00873 | Loss 111.9113 | MSE 122.1225 \n",
      "Epoch 00874 | Loss 110.5520 | MSE 89.5822 \n",
      "Epoch 00875 | Loss 95.0899 | MSE 87.1485 \n",
      "Epoch 00876 | Loss 92.6381 | MSE 103.8017 \n",
      "Epoch 00877 | Loss 102.3787 | MSE 94.3803 \n",
      "Epoch 00878 | Loss 101.0121 | MSE 98.0316 \n"
     ]
    },
    {
     "name": "stderr",
     "output_type": "stream",
     "text": [
      "\r",
      " 18%|██████▉                                | 884/5000 [00:05<00:23, 177.23it/s]"
     ]
    },
    {
     "name": "stdout",
     "output_type": "stream",
     "text": [
      "Epoch 00879 | Loss 98.0617 | MSE 99.1251 \n",
      "Epoch 00880 | Loss 97.3065 | MSE 96.3641 \n",
      "Epoch 00881 | Loss 98.1801 | MSE 105.3913 \n",
      "Epoch 00882 | Loss 100.8431 | MSE 90.2982 \n",
      "Epoch 00883 | Loss 95.9824 | MSE 89.1439 \n",
      "Epoch 00884 | Loss 97.2890 | MSE 105.0377 \n"
     ]
    },
    {
     "name": "stderr",
     "output_type": "stream",
     "text": [
      "\r",
      " 18%|███████                                | 902/5000 [00:05<00:23, 177.43it/s]"
     ]
    },
    {
     "name": "stdout",
     "output_type": "stream",
     "text": [
      "Epoch 00885 | Loss 99.1276 | MSE 93.8005 \n",
      "Epoch 00886 | Loss 104.6182 | MSE 97.6201 \n",
      "Epoch 00887 | Loss 95.0139 | MSE 100.3172 \n",
      "Epoch 00888 | Loss 93.1298 | MSE 98.9610 \n",
      "Epoch 00889 | Loss 108.4631 | MSE 117.6123 \n",
      "Epoch 00890 | Loss 109.5250 | MSE 93.6404 \n",
      "Epoch 00891 | Loss 97.0401 | MSE 91.2804 \n",
      "Epoch 00892 | Loss 95.5886 | MSE 105.7328 \n",
      "Epoch 00893 | Loss 101.7976 | MSE 90.9012 \n",
      "Epoch 00894 | Loss 101.9546 | MSE 96.9433 \n",
      "Epoch 00895 | Loss 99.9761 | MSE 93.7729 \n",
      "Epoch 00896 | Loss 92.8982 | MSE 96.5694 \n",
      "Epoch 00897 | Loss 98.2908 | MSE 100.4215 \n",
      "Epoch 00898 | Loss 97.4222 | MSE 96.9415 \n",
      "Epoch 00899 | Loss 98.9611 | MSE 102.8400 \n",
      "Epoch 00900 | Loss 102.8253 | MSE 92.3733 \n",
      "Epoch 00901 | Loss 90.8825 | MSE 92.8769 \n",
      "Epoch 00902 | Loss 99.6418 | MSE 108.4445 \n",
      "Epoch 00903 | Loss 98.0675 | MSE 96.8532 \n",
      "Epoch 00904 | Loss 99.0135 | MSE 97.7024 \n",
      "Epoch 00905 | Loss 94.1961 | MSE 105.6898 \n",
      "Epoch 00906 | Loss 98.0104 | MSE 99.5169 \n",
      "Epoch 00907 | Loss 104.9034 | MSE 111.0535 \n",
      "Epoch 00908 | Loss 110.9065 | MSE 86.6169 \n",
      "Epoch 00909 | Loss 91.3786 | MSE 90.9521 \n",
      "Epoch 00910 | Loss 104.5305 | MSE 132.9264 \n",
      "Epoch 00911 | Loss 115.9434 | MSE 99.5473 \n",
      "Epoch 00912 | Loss 101.2955 | MSE 96.8348 \n",
      "Epoch 00913 | Loss 94.6244 | MSE 100.2868 \n",
      "Epoch 00914 | Loss 97.7399 | MSE 96.4040 \n"
     ]
    },
    {
     "name": "stderr",
     "output_type": "stream",
     "text": [
      "\r",
      " 18%|███████▏                               | 920/5000 [00:05<00:22, 177.47it/s]"
     ]
    },
    {
     "name": "stdout",
     "output_type": "stream",
     "text": [
      "Epoch 00915 | Loss 102.2253 | MSE 105.0408 \n",
      "Epoch 00916 | Loss 102.5536 | MSE 90.0083 \n",
      "Epoch 00917 | Loss 92.6997 | MSE 91.8428 \n",
      "Epoch 00918 | Loss 96.4581 | MSE 108.6235 \n",
      "Epoch 00919 | Loss 102.7252 | MSE 93.8171 \n",
      "Epoch 00920 | Loss 99.2068 | MSE 97.2823 \n"
     ]
    },
    {
     "name": "stderr",
     "output_type": "stream",
     "text": [
      "\r",
      " 19%|███████▎                               | 938/5000 [00:05<00:22, 177.85it/s]"
     ]
    },
    {
     "name": "stdout",
     "output_type": "stream",
     "text": [
      "Epoch 00921 | Loss 96.5859 | MSE 98.6369 \n",
      "Epoch 00922 | Loss 99.0499 | MSE 92.0052 \n",
      "Epoch 00923 | Loss 97.1396 | MSE 93.1673 \n",
      "Epoch 00924 | Loss 95.6722 | MSE 90.9847 \n",
      "Epoch 00925 | Loss 93.5564 | MSE 90.8687 \n",
      "Epoch 00926 | Loss 95.0903 | MSE 94.6684 \n",
      "Epoch 00927 | Loss 96.2940 | MSE 92.4294 \n",
      "Epoch 00928 | Loss 93.0305 | MSE 93.0459 \n",
      "Epoch 00929 | Loss 93.7254 | MSE 97.0644 \n",
      "Epoch 00930 | Loss 94.9025 | MSE 98.6828 \n",
      "Epoch 00931 | Loss 98.5932 | MSE 99.0416 \n",
      "Epoch 00932 | Loss 97.5290 | MSE 98.1134 \n",
      "Epoch 00933 | Loss 93.1375 | MSE 93.1894 \n",
      "Epoch 00934 | Loss 95.1938 | MSE 100.7527 \n",
      "Epoch 00935 | Loss 91.4648 | MSE 93.1239 \n",
      "Epoch 00936 | Loss 99.5200 | MSE 92.2416 \n",
      "Epoch 00937 | Loss 94.8917 | MSE 94.1814 \n",
      "Epoch 00938 | Loss 95.8669 | MSE 92.1873 \n",
      "Epoch 00939 | Loss 100.9212 | MSE 106.4970 \n",
      "Epoch 00940 | Loss 98.7529 | MSE 94.6927 \n",
      "Epoch 00941 | Loss 99.5284 | MSE 96.5772 \n",
      "Epoch 00942 | Loss 87.5511 | MSE 93.8877 \n",
      "Epoch 00943 | Loss 89.6227 | MSE 89.1171 \n",
      "Epoch 00944 | Loss 95.5560 | MSE 88.6057 \n",
      "Epoch 00945 | Loss 91.5804 | MSE 88.6806 \n",
      "Epoch 00946 | Loss 99.4763 | MSE 89.3420 \n",
      "Epoch 00947 | Loss 93.6995 | MSE 94.7193 \n",
      "Epoch 00948 | Loss 92.7849 | MSE 94.6688 \n",
      "Epoch 00949 | Loss 89.6665 | MSE 92.6869 \n",
      "Epoch 00950 | Loss 91.4569 | MSE 97.2585 \n"
     ]
    },
    {
     "name": "stderr",
     "output_type": "stream",
     "text": [
      "\r",
      " 19%|███████▍                               | 956/5000 [00:05<00:22, 176.79it/s]"
     ]
    },
    {
     "name": "stdout",
     "output_type": "stream",
     "text": [
      "Epoch 00951 | Loss 97.0207 | MSE 94.8992 \n",
      "Epoch 00952 | Loss 94.0267 | MSE 90.8734 \n",
      "Epoch 00953 | Loss 98.4831 | MSE 100.6081 \n",
      "Epoch 00954 | Loss 102.7943 | MSE 91.6687 \n",
      "Epoch 00955 | Loss 101.3869 | MSE 92.5821 \n",
      "Epoch 00956 | Loss 91.1595 | MSE 97.1732 \n"
     ]
    },
    {
     "name": "stderr",
     "output_type": "stream",
     "text": [
      "\r",
      " 19%|███████▌                               | 974/5000 [00:05<00:22, 177.32it/s]"
     ]
    },
    {
     "name": "stdout",
     "output_type": "stream",
     "text": [
      "Epoch 00957 | Loss 98.1396 | MSE 97.4900 \n",
      "Epoch 00958 | Loss 106.7268 | MSE 125.1328 \n",
      "Epoch 00959 | Loss 120.2191 | MSE 96.3435 \n",
      "Epoch 00960 | Loss 103.1466 | MSE 95.4123 \n",
      "Epoch 00961 | Loss 100.2480 | MSE 105.2847 \n",
      "Epoch 00962 | Loss 95.4093 | MSE 97.6457 \n",
      "Epoch 00963 | Loss 104.5496 | MSE 109.5434 \n",
      "Epoch 00964 | Loss 99.2736 | MSE 89.0874 \n",
      "Epoch 00965 | Loss 94.9947 | MSE 92.2589 \n",
      "Epoch 00966 | Loss 103.9129 | MSE 119.2984 \n",
      "Epoch 00967 | Loss 108.9256 | MSE 91.4037 \n",
      "Epoch 00968 | Loss 97.3308 | MSE 90.6417 \n",
      "Epoch 00969 | Loss 92.8609 | MSE 100.9640 \n",
      "Epoch 00970 | Loss 101.5798 | MSE 91.6835 \n",
      "Epoch 00971 | Loss 100.7287 | MSE 99.1683 \n",
      "Epoch 00972 | Loss 97.0186 | MSE 89.1644 \n",
      "Epoch 00973 | Loss 90.9743 | MSE 86.8670 \n",
      "Epoch 00974 | Loss 94.3644 | MSE 97.6395 \n",
      "Epoch 00975 | Loss 99.2562 | MSE 89.4755 \n",
      "Epoch 00976 | Loss 96.5701 | MSE 92.1802 \n",
      "Epoch 00977 | Loss 95.1357 | MSE 90.7831 \n",
      "Epoch 00978 | Loss 90.7726 | MSE 89.3347 \n",
      "Epoch 00979 | Loss 94.7192 | MSE 97.6303 \n",
      "Epoch 00980 | Loss 94.5381 | MSE 89.5823 \n",
      "Epoch 00981 | Loss 95.5213 | MSE 90.4210 \n",
      "Epoch 00982 | Loss 88.1136 | MSE 89.6659 \n",
      "Epoch 00983 | Loss 94.0149 | MSE 91.7504 \n",
      "Epoch 00984 | Loss 92.7396 | MSE 86.9243 \n",
      "Epoch 00985 | Loss 93.8878 | MSE 87.4790 \n",
      "Epoch 00986 | Loss 92.1442 | MSE 91.0937 \n"
     ]
    },
    {
     "name": "stderr",
     "output_type": "stream",
     "text": [
      "\r",
      " 20%|███████▋                               | 992/5000 [00:05<00:22, 177.37it/s]"
     ]
    },
    {
     "name": "stdout",
     "output_type": "stream",
     "text": [
      "Epoch 00987 | Loss 92.6013 | MSE 87.9915 \n",
      "Epoch 00988 | Loss 94.9690 | MSE 94.8722 \n",
      "Epoch 00989 | Loss 88.7825 | MSE 92.4360 \n",
      "Epoch 00990 | Loss 92.7548 | MSE 93.2813 \n",
      "Epoch 00991 | Loss 91.8201 | MSE 100.1930 \n",
      "Epoch 00992 | Loss 96.6314 | MSE 92.8820 \n"
     ]
    },
    {
     "name": "stderr",
     "output_type": "stream",
     "text": [
      "\r",
      " 20%|███████▋                              | 1010/5000 [00:05<00:22, 177.19it/s]"
     ]
    },
    {
     "name": "stdout",
     "output_type": "stream",
     "text": [
      "Epoch 00993 | Loss 94.6826 | MSE 99.2008 \n",
      "Epoch 00994 | Loss 93.8095 | MSE 90.6663 \n",
      "Epoch 00995 | Loss 92.9203 | MSE 91.7689 \n",
      "Epoch 00996 | Loss 88.5544 | MSE 106.4025 \n",
      "Epoch 00997 | Loss 97.6463 | MSE 94.8399 \n",
      "Epoch 00998 | Loss 104.1342 | MSE 96.5720 \n",
      "Epoch 00999 | Loss 91.5120 | MSE 93.0709 \n",
      "Epoch 01000 | Loss 94.6602 | MSE 92.7350 \n",
      "Epoch 01001 | Loss 98.4898 | MSE 111.5652 \n",
      "Epoch 01002 | Loss 102.8227 | MSE 89.1238 \n",
      "Epoch 01003 | Loss 99.7064 | MSE 86.0186 \n",
      "Epoch 01004 | Loss 91.4691 | MSE 104.9039 \n",
      "Epoch 01005 | Loss 105.0143 | MSE 95.6317 \n",
      "Epoch 01006 | Loss 103.7544 | MSE 101.4320 \n",
      "Epoch 01007 | Loss 96.5086 | MSE 95.4171 \n",
      "Epoch 01008 | Loss 93.4670 | MSE 96.2273 \n",
      "Epoch 01009 | Loss 99.5009 | MSE 124.7030 \n",
      "Epoch 01010 | Loss 108.3591 | MSE 99.5263 \n",
      "Epoch 01011 | Loss 108.2507 | MSE 104.6315 \n",
      "Epoch 01012 | Loss 99.0819 | MSE 94.1882 \n",
      "Epoch 01013 | Loss 93.7067 | MSE 91.8484 \n",
      "Epoch 01014 | Loss 96.0995 | MSE 101.5997 \n",
      "Epoch 01015 | Loss 101.8735 | MSE 88.3375 \n",
      "Epoch 01016 | Loss 92.7405 | MSE 90.8870 \n",
      "Epoch 01017 | Loss 94.2891 | MSE 107.6672 \n",
      "Epoch 01018 | Loss 97.8407 | MSE 91.0731 \n",
      "Epoch 01019 | Loss 98.6650 | MSE 91.0122 \n",
      "Epoch 01020 | Loss 92.6504 | MSE 94.3319 \n",
      "Epoch 01021 | Loss 98.4508 | MSE 90.3313 \n",
      "Epoch 01022 | Loss 97.1861 | MSE 98.3975 \n"
     ]
    },
    {
     "name": "stderr",
     "output_type": "stream",
     "text": [
      "\r",
      " 21%|███████▊                              | 1028/5000 [00:06<00:22, 177.21it/s]"
     ]
    },
    {
     "name": "stdout",
     "output_type": "stream",
     "text": [
      "Epoch 01023 | Loss 93.3044 | MSE 88.4004 \n",
      "Epoch 01024 | Loss 92.1907 | MSE 87.1654 \n",
      "Epoch 01025 | Loss 97.8117 | MSE 106.3864 \n",
      "Epoch 01026 | Loss 106.3610 | MSE 94.3490 \n",
      "Epoch 01027 | Loss 105.6397 | MSE 102.4417 \n",
      "Epoch 01028 | Loss 105.7652 | MSE 88.8299 \n"
     ]
    },
    {
     "name": "stderr",
     "output_type": "stream",
     "text": [
      "\r",
      " 21%|███████▉                              | 1046/5000 [00:06<00:22, 177.25it/s]"
     ]
    },
    {
     "name": "stdout",
     "output_type": "stream",
     "text": [
      "Epoch 01029 | Loss 90.1681 | MSE 86.5875 \n",
      "Epoch 01030 | Loss 99.2122 | MSE 107.5434 \n",
      "Epoch 01031 | Loss 103.7816 | MSE 87.4852 \n",
      "Epoch 01032 | Loss 90.6612 | MSE 87.5877 \n",
      "Epoch 01033 | Loss 98.3928 | MSE 97.9915 \n",
      "Epoch 01034 | Loss 100.4229 | MSE 91.3391 \n",
      "Epoch 01035 | Loss 97.0720 | MSE 97.1953 \n",
      "Epoch 01036 | Loss 95.5681 | MSE 97.1483 \n",
      "Epoch 01037 | Loss 95.9969 | MSE 92.4176 \n",
      "Epoch 01038 | Loss 92.8750 | MSE 92.2173 \n",
      "Epoch 01039 | Loss 92.9268 | MSE 94.4066 \n",
      "Epoch 01040 | Loss 96.6610 | MSE 90.2399 \n",
      "Epoch 01041 | Loss 97.0963 | MSE 97.0556 \n",
      "Epoch 01042 | Loss 96.8964 | MSE 87.6121 \n",
      "Epoch 01043 | Loss 94.9986 | MSE 90.6666 \n",
      "Epoch 01044 | Loss 91.4489 | MSE 91.7646 \n",
      "Epoch 01045 | Loss 90.9943 | MSE 88.6282 \n",
      "Epoch 01046 | Loss 90.7528 | MSE 91.3411 \n",
      "Epoch 01047 | Loss 93.7486 | MSE 88.2894 \n",
      "Epoch 01048 | Loss 96.3385 | MSE 89.7935 \n",
      "Epoch 01049 | Loss 93.4891 | MSE 94.3089 \n",
      "Epoch 01050 | Loss 87.4488 | MSE 89.7266 \n",
      "Epoch 01051 | Loss 92.2031 | MSE 87.9067 \n",
      "Epoch 01052 | Loss 94.7941 | MSE 93.9384 \n",
      "Epoch 01053 | Loss 93.3522 | MSE 92.9785 \n",
      "Epoch 01054 | Loss 100.1126 | MSE 95.6370 \n",
      "Epoch 01055 | Loss 90.9857 | MSE 93.8263 \n",
      "Epoch 01056 | Loss 90.0238 | MSE 92.4417 \n",
      "Epoch 01057 | Loss 95.1649 | MSE 103.2777 \n",
      "Epoch 01058 | Loss 102.4149 | MSE 89.7539 \n"
     ]
    },
    {
     "name": "stderr",
     "output_type": "stream",
     "text": [
      "\r",
      " 21%|████████                              | 1064/5000 [00:06<00:22, 176.31it/s]"
     ]
    },
    {
     "name": "stdout",
     "output_type": "stream",
     "text": [
      "Epoch 01059 | Loss 101.6404 | MSE 100.8321 \n",
      "Epoch 01060 | Loss 102.0667 | MSE 87.1602 \n",
      "Epoch 01061 | Loss 93.3394 | MSE 91.0552 \n",
      "Epoch 01062 | Loss 93.5173 | MSE 96.5174 \n",
      "Epoch 01063 | Loss 89.2108 | MSE 95.2538 \n",
      "Epoch 01064 | Loss 106.4749 | MSE 105.0242 \n"
     ]
    },
    {
     "name": "stderr",
     "output_type": "stream",
     "text": [
      "\r",
      " 22%|████████▏                             | 1083/5000 [00:06<00:22, 177.63it/s]"
     ]
    },
    {
     "name": "stdout",
     "output_type": "stream",
     "text": [
      "Epoch 01065 | Loss 99.4924 | MSE 88.5741 \n",
      "Epoch 01066 | Loss 98.3597 | MSE 89.4250 \n",
      "Epoch 01067 | Loss 95.1475 | MSE 93.6395 \n",
      "Epoch 01068 | Loss 94.0766 | MSE 88.5413 \n",
      "Epoch 01069 | Loss 97.0201 | MSE 92.2544 \n",
      "Epoch 01070 | Loss 93.5491 | MSE 88.3955 \n",
      "Epoch 01071 | Loss 92.3490 | MSE 93.5648 \n",
      "Epoch 01072 | Loss 93.0576 | MSE 90.1615 \n",
      "Epoch 01073 | Loss 91.5321 | MSE 90.9496 \n",
      "Epoch 01074 | Loss 87.8737 | MSE 89.6108 \n",
      "Epoch 01075 | Loss 94.0345 | MSE 93.0894 \n",
      "Epoch 01076 | Loss 95.6240 | MSE 87.5233 \n",
      "Epoch 01077 | Loss 93.8931 | MSE 87.7438 \n",
      "Epoch 01078 | Loss 91.9628 | MSE 88.8662 \n",
      "Epoch 01079 | Loss 91.9916 | MSE 88.3844 \n",
      "Epoch 01080 | Loss 94.6940 | MSE 94.2425 \n",
      "Epoch 01081 | Loss 94.3025 | MSE 93.0913 \n",
      "Epoch 01082 | Loss 93.2892 | MSE 93.7013 \n",
      "Epoch 01083 | Loss 91.7410 | MSE 91.7954 \n",
      "Epoch 01084 | Loss 94.6363 | MSE 99.7650 \n",
      "Epoch 01085 | Loss 96.6722 | MSE 94.8573 \n",
      "Epoch 01086 | Loss 93.2900 | MSE 101.5770 \n",
      "Epoch 01087 | Loss 95.7355 | MSE 91.2568 \n",
      "Epoch 01088 | Loss 91.1519 | MSE 92.1844 \n",
      "Epoch 01089 | Loss 97.6858 | MSE 91.3597 \n",
      "Epoch 01090 | Loss 92.1133 | MSE 94.5984 \n",
      "Epoch 01091 | Loss 91.7896 | MSE 100.0924 \n",
      "Epoch 01092 | Loss 96.2554 | MSE 94.8412 \n",
      "Epoch 01093 | Loss 99.6838 | MSE 102.8027 \n",
      "Epoch 01094 | Loss 97.9129 | MSE 91.1651 \n",
      "Epoch 01095 | Loss 96.0826 | MSE 94.0325 \n"
     ]
    },
    {
     "name": "stderr",
     "output_type": "stream",
     "text": [
      "\r",
      " 22%|████████▍                             | 1102/5000 [00:06<00:21, 178.68it/s]"
     ]
    },
    {
     "name": "stdout",
     "output_type": "stream",
     "text": [
      "Epoch 01096 | Loss 96.5583 | MSE 89.7532 \n",
      "Epoch 01097 | Loss 92.2100 | MSE 90.4166 \n",
      "Epoch 01098 | Loss 95.5831 | MSE 103.4157 \n",
      "Epoch 01099 | Loss 95.6334 | MSE 100.1181 \n",
      "Epoch 01100 | Loss 97.3824 | MSE 97.0868 \n",
      "Epoch 01101 | Loss 95.0397 | MSE 110.5038 \n"
     ]
    },
    {
     "name": "stderr",
     "output_type": "stream",
     "text": [
      "\r",
      " 22%|████████▌                             | 1121/5000 [00:06<00:21, 179.17it/s]"
     ]
    },
    {
     "name": "stdout",
     "output_type": "stream",
     "text": [
      "Epoch 01102 | Loss 94.6945 | MSE 96.6347 \n",
      "Epoch 01103 | Loss 104.1487 | MSE 107.0510 \n",
      "Epoch 01104 | Loss 97.4541 | MSE 93.0537 \n",
      "Epoch 01105 | Loss 90.6214 | MSE 91.5091 \n",
      "Epoch 01106 | Loss 91.3807 | MSE 93.4050 \n",
      "Epoch 01107 | Loss 95.9970 | MSE 90.9270 \n",
      "Epoch 01108 | Loss 89.7068 | MSE 102.0885 \n",
      "Epoch 01109 | Loss 95.1185 | MSE 93.8481 \n",
      "Epoch 01110 | Loss 92.1426 | MSE 91.9549 \n",
      "Epoch 01111 | Loss 90.9545 | MSE 106.3372 \n",
      "Epoch 01112 | Loss 103.2292 | MSE 97.9166 \n",
      "Epoch 01113 | Loss 108.9737 | MSE 115.8074 \n",
      "Epoch 01114 | Loss 108.2561 | MSE 94.6426 \n",
      "Epoch 01115 | Loss 100.0881 | MSE 89.4816 \n",
      "Epoch 01116 | Loss 94.7108 | MSE 111.4173 \n",
      "Epoch 01117 | Loss 109.3665 | MSE 100.3702 \n",
      "Epoch 01118 | Loss 113.9828 | MSE 125.3899 \n",
      "Epoch 01119 | Loss 111.4322 | MSE 92.2477 \n",
      "Epoch 01120 | Loss 95.2875 | MSE 88.3140 \n",
      "Epoch 01121 | Loss 94.7297 | MSE 112.8625 \n",
      "Epoch 01122 | Loss 112.1969 | MSE 99.7588 \n",
      "Epoch 01123 | Loss 111.0263 | MSE 104.6914 \n",
      "Epoch 01124 | Loss 97.2301 | MSE 92.9326 \n",
      "Epoch 01125 | Loss 93.3563 | MSE 99.9762 \n",
      "Epoch 01126 | Loss 107.4452 | MSE 129.0194 \n",
      "Epoch 01127 | Loss 120.0710 | MSE 95.8064 \n",
      "Epoch 01128 | Loss 100.0099 | MSE 91.0027 \n",
      "Epoch 01129 | Loss 97.4711 | MSE 129.2127 \n",
      "Epoch 01130 | Loss 116.1644 | MSE 98.3491 \n",
      "Epoch 01131 | Loss 107.6158 | MSE 93.5641 \n",
      "Epoch 01132 | Loss 94.1120 | MSE 110.2497 \n",
      "Epoch 01133 | Loss 102.2211 | MSE 110.4654 \n",
      "Epoch 01134 | Loss 120.2240 | MSE 125.5447 \n",
      "Epoch 01135 | Loss 118.2537 | MSE 86.0265 \n",
      "Epoch 01136 | Loss 90.3715 | MSE 94.7677 \n",
      "Epoch 01137 | Loss 104.9081 | MSE 141.1878 \n",
      "Epoch 01138 | Loss 124.1372 | MSE 88.9094 \n"
     ]
    },
    {
     "name": "stderr",
     "output_type": "stream",
     "text": [
      " 23%|████████▊                             | 1159/5000 [00:06<00:21, 182.40it/s]"
     ]
    },
    {
     "name": "stdout",
     "output_type": "stream",
     "text": [
      "Epoch 01139 | Loss 95.8856 | MSE 92.0180 \n",
      "Epoch 01140 | Loss 100.2484 | MSE 134.7722 \n",
      "Epoch 01141 | Loss 117.9550 | MSE 91.4876 \n",
      "Epoch 01142 | Loss 96.2003 | MSE 89.6323 \n",
      "Epoch 01143 | Loss 94.8939 | MSE 117.0853 \n",
      "Epoch 01144 | Loss 109.9481 | MSE 92.0261 \n",
      "Epoch 01145 | Loss 101.8951 | MSE 88.6095 \n",
      "Epoch 01146 | Loss 92.6558 | MSE 99.6009 \n",
      "Epoch 01147 | Loss 97.9367 | MSE 92.9684 \n",
      "Epoch 01148 | Loss 101.1961 | MSE 94.3376 \n",
      "Epoch 01149 | Loss 89.9704 | MSE 97.3594 \n",
      "Epoch 01150 | Loss 97.8849 | MSE 97.2722 \n",
      "Epoch 01151 | Loss 110.2362 | MSE 112.7366 \n",
      "Epoch 01152 | Loss 102.6826 | MSE 96.9806 \n",
      "Epoch 01153 | Loss 92.4268 | MSE 99.0636 \n",
      "Epoch 01154 | Loss 106.6869 | MSE 123.9672 \n",
      "Epoch 01155 | Loss 106.9880 | MSE 90.3900 \n",
      "Epoch 01156 | Loss 92.6318 | MSE 97.9314 \n",
      "Epoch 01157 | Loss 106.4455 | MSE 118.9235 \n",
      "Epoch 01158 | Loss 116.2559 | MSE 90.8828 \n",
      "Epoch 01159 | Loss 98.4274 | MSE 96.1188 \n",
      "Epoch 01160 | Loss 100.7059 | MSE 123.1566 \n",
      "Epoch 01161 | Loss 106.7828 | MSE 94.4072 \n",
      "Epoch 01162 | Loss 93.3904 | MSE 94.9178 \n",
      "Epoch 01163 | Loss 101.3001 | MSE 117.3603 \n",
      "Epoch 01164 | Loss 105.0742 | MSE 92.2375 \n",
      "Epoch 01165 | Loss 94.1187 | MSE 91.5820 \n",
      "Epoch 01166 | Loss 98.5489 | MSE 106.5246 \n",
      "Epoch 01167 | Loss 103.0109 | MSE 88.6131 \n",
      "Epoch 01168 | Loss 96.5826 | MSE 87.8427 \n",
      "Epoch 01169 | Loss 94.8809 | MSE 122.2293 \n",
      "Epoch 01170 | Loss 109.2214 | MSE 90.9979 \n",
      "Epoch 01171 | Loss 97.1751 | MSE 89.4633 \n",
      "Epoch 01172 | Loss 96.6750 | MSE 104.4685 \n",
      "Epoch 01173 | Loss 99.5886 | MSE 87.0713 \n",
      "Epoch 01174 | Loss 92.8445 | MSE 90.9999 \n",
      "Epoch 01175 | Loss 94.2536 | MSE 104.1362 \n",
      "Epoch 01176 | Loss 102.6773 | MSE 89.3252 \n"
     ]
    },
    {
     "name": "stderr",
     "output_type": "stream",
     "text": [
      " 24%|█████████                             | 1197/5000 [00:07<00:20, 184.77it/s]"
     ]
    },
    {
     "name": "stdout",
     "output_type": "stream",
     "text": [
      "Epoch 01177 | Loss 91.0771 | MSE 90.0415 \n",
      "Epoch 01178 | Loss 93.8542 | MSE 95.6751 \n",
      "Epoch 01179 | Loss 100.6406 | MSE 86.9472 \n",
      "Epoch 01180 | Loss 93.8991 | MSE 86.7596 \n",
      "Epoch 01181 | Loss 91.8308 | MSE 90.8574 \n",
      "Epoch 01182 | Loss 93.8024 | MSE 88.1124 \n",
      "Epoch 01183 | Loss 95.9312 | MSE 91.4469 \n",
      "Epoch 01184 | Loss 94.7778 | MSE 94.8905 \n",
      "Epoch 01185 | Loss 93.5083 | MSE 89.8539 \n",
      "Epoch 01186 | Loss 90.8036 | MSE 87.9911 \n",
      "Epoch 01187 | Loss 97.0609 | MSE 92.7422 \n",
      "Epoch 01188 | Loss 93.4229 | MSE 87.9807 \n",
      "Epoch 01189 | Loss 92.2879 | MSE 89.2123 \n",
      "Epoch 01190 | Loss 90.3577 | MSE 96.3225 \n",
      "Epoch 01191 | Loss 95.1022 | MSE 85.2254 \n",
      "Epoch 01192 | Loss 94.6586 | MSE 87.5795 \n",
      "Epoch 01193 | Loss 91.2836 | MSE 92.5952 \n",
      "Epoch 01194 | Loss 93.5775 | MSE 89.1313 \n",
      "Epoch 01195 | Loss 100.8923 | MSE 95.6210 \n",
      "Epoch 01196 | Loss 91.4783 | MSE 93.6789 \n",
      "Epoch 01197 | Loss 91.5490 | MSE 87.8064 \n",
      "Epoch 01198 | Loss 93.1136 | MSE 89.2639 \n",
      "Epoch 01199 | Loss 96.0553 | MSE 83.0962 \n",
      "Epoch 01200 | Loss 91.0314 | MSE 81.9504 \n",
      "Epoch 01201 | Loss 98.7819 | MSE 94.3994 \n",
      "Epoch 01202 | Loss 93.6219 | MSE 89.2830 \n",
      "Epoch 01203 | Loss 91.5751 | MSE 89.7913 \n",
      "Epoch 01204 | Loss 92.2081 | MSE 92.6470 \n",
      "Epoch 01205 | Loss 96.8629 | MSE 88.1696 \n",
      "Epoch 01206 | Loss 92.0577 | MSE 87.3202 \n",
      "Epoch 01207 | Loss 88.3875 | MSE 89.4436 \n",
      "Epoch 01208 | Loss 92.6382 | MSE 89.2090 \n",
      "Epoch 01209 | Loss 95.9381 | MSE 91.7087 \n",
      "Epoch 01210 | Loss 87.7633 | MSE 91.8742 \n",
      "Epoch 01211 | Loss 93.8325 | MSE 90.8652 \n",
      "Epoch 01212 | Loss 90.3193 | MSE 90.9672 \n",
      "Epoch 01213 | Loss 91.3121 | MSE 94.9321 \n",
      "Epoch 01214 | Loss 90.9566 | MSE 92.1208 \n"
     ]
    },
    {
     "name": "stderr",
     "output_type": "stream",
     "text": [
      " 25%|█████████▍                            | 1235/5000 [00:07<00:20, 182.67it/s]"
     ]
    },
    {
     "name": "stdout",
     "output_type": "stream",
     "text": [
      "Epoch 01215 | Loss 87.7731 | MSE 91.4703 \n",
      "Epoch 01216 | Loss 92.5661 | MSE 90.9753 \n",
      "Epoch 01217 | Loss 93.2011 | MSE 90.5792 \n",
      "Epoch 01218 | Loss 89.6851 | MSE 87.7069 \n",
      "Epoch 01219 | Loss 90.7869 | MSE 88.6904 \n",
      "Epoch 01220 | Loss 89.9398 | MSE 86.3108 \n",
      "Epoch 01221 | Loss 91.7198 | MSE 90.7115 \n",
      "Epoch 01222 | Loss 95.4342 | MSE 89.0890 \n",
      "Epoch 01223 | Loss 93.1809 | MSE 90.1799 \n",
      "Epoch 01224 | Loss 86.9694 | MSE 96.6238 \n",
      "Epoch 01225 | Loss 99.1877 | MSE 87.7673 \n",
      "Epoch 01226 | Loss 96.0029 | MSE 95.9140 \n",
      "Epoch 01227 | Loss 93.0943 | MSE 88.8155 \n",
      "Epoch 01228 | Loss 90.1686 | MSE 91.8654 \n",
      "Epoch 01229 | Loss 95.7829 | MSE 112.3791 \n",
      "Epoch 01230 | Loss 106.1323 | MSE 93.6229 \n",
      "Epoch 01231 | Loss 99.8710 | MSE 91.3357 \n",
      "Epoch 01232 | Loss 92.0415 | MSE 89.5230 \n",
      "Epoch 01233 | Loss 95.5077 | MSE 87.2093 \n",
      "Epoch 01234 | Loss 93.6662 | MSE 97.6989 \n",
      "Epoch 01235 | Loss 95.6839 | MSE 88.4632 \n",
      "Epoch 01236 | Loss 93.3587 | MSE 93.9214 \n",
      "Epoch 01237 | Loss 96.8319 | MSE 90.1208 \n",
      "Epoch 01238 | Loss 94.5394 | MSE 89.1933 \n",
      "Epoch 01239 | Loss 95.0689 | MSE 98.1091 \n",
      "Epoch 01240 | Loss 96.4316 | MSE 90.5505 \n",
      "Epoch 01241 | Loss 96.2964 | MSE 91.6233 \n",
      "Epoch 01242 | Loss 91.3068 | MSE 96.2601 \n",
      "Epoch 01243 | Loss 93.3849 | MSE 89.2729 \n",
      "Epoch 01244 | Loss 92.3858 | MSE 92.0382 \n",
      "Epoch 01245 | Loss 88.1842 | MSE 88.6641 \n",
      "Epoch 01246 | Loss 96.4492 | MSE 89.0000 \n",
      "Epoch 01247 | Loss 94.6659 | MSE 96.5970 \n",
      "Epoch 01248 | Loss 90.2313 | MSE 92.9407 \n",
      "Epoch 01249 | Loss 92.8773 | MSE 89.8738 \n",
      "Epoch 01250 | Loss 91.8052 | MSE 103.0931 \n",
      "Epoch 01251 | Loss 96.0585 | MSE 91.3038 \n"
     ]
    },
    {
     "name": "stderr",
     "output_type": "stream",
     "text": [
      " 25%|█████████▋                            | 1273/5000 [00:07<00:20, 185.29it/s]"
     ]
    },
    {
     "name": "stdout",
     "output_type": "stream",
     "text": [
      "Epoch 01252 | Loss 93.8713 | MSE 93.1779 \n",
      "Epoch 01253 | Loss 89.4629 | MSE 90.9412 \n",
      "Epoch 01254 | Loss 92.6391 | MSE 86.5178 \n",
      "Epoch 01255 | Loss 97.9297 | MSE 94.1018 \n",
      "Epoch 01256 | Loss 95.2175 | MSE 88.5083 \n",
      "Epoch 01257 | Loss 94.5428 | MSE 90.5314 \n",
      "Epoch 01258 | Loss 89.8175 | MSE 106.3946 \n",
      "Epoch 01259 | Loss 96.3259 | MSE 91.7839 \n",
      "Epoch 01260 | Loss 100.2431 | MSE 88.7946 \n",
      "Epoch 01261 | Loss 90.9673 | MSE 99.2932 \n",
      "Epoch 01262 | Loss 93.5732 | MSE 92.8328 \n",
      "Epoch 01263 | Loss 102.5941 | MSE 95.2978 \n",
      "Epoch 01264 | Loss 94.3415 | MSE 90.7659 \n",
      "Epoch 01265 | Loss 96.5620 | MSE 89.5074 \n",
      "Epoch 01266 | Loss 94.4755 | MSE 112.8138 \n",
      "Epoch 01267 | Loss 105.5631 | MSE 91.6393 \n",
      "Epoch 01268 | Loss 98.3275 | MSE 90.8830 \n",
      "Epoch 01269 | Loss 95.2552 | MSE 98.7976 \n",
      "Epoch 01270 | Loss 98.7092 | MSE 94.6173 \n",
      "Epoch 01271 | Loss 95.9450 | MSE 105.7086 \n",
      "Epoch 01272 | Loss 94.7771 | MSE 92.2770 \n",
      "Epoch 01273 | Loss 92.8207 | MSE 88.1624 \n",
      "Epoch 01274 | Loss 92.2511 | MSE 95.7265 \n",
      "Epoch 01275 | Loss 93.2221 | MSE 87.6359 \n",
      "Epoch 01276 | Loss 92.2373 | MSE 91.1243 \n",
      "Epoch 01277 | Loss 92.7332 | MSE 93.7635 \n",
      "Epoch 01278 | Loss 93.9501 | MSE 89.4439 \n",
      "Epoch 01279 | Loss 97.4060 | MSE 92.5763 \n",
      "Epoch 01280 | Loss 92.0018 | MSE 92.3602 \n",
      "Epoch 01281 | Loss 91.1123 | MSE 90.9180 \n",
      "Epoch 01282 | Loss 88.6357 | MSE 93.9752 \n",
      "Epoch 01283 | Loss 89.7312 | MSE 89.5057 \n",
      "Epoch 01284 | Loss 93.1574 | MSE 95.1534 \n",
      "Epoch 01285 | Loss 91.6061 | MSE 88.6411 \n",
      "Epoch 01286 | Loss 94.9024 | MSE 91.8402 \n",
      "Epoch 01287 | Loss 91.0475 | MSE 109.1975 \n",
      "Epoch 01288 | Loss 97.8917 | MSE 99.0779 \n",
      "Epoch 01289 | Loss 101.1445 | MSE 100.6812 \n"
     ]
    },
    {
     "name": "stderr",
     "output_type": "stream",
     "text": [
      " 26%|█████████▉                            | 1311/5000 [00:07<00:19, 185.66it/s]"
     ]
    },
    {
     "name": "stdout",
     "output_type": "stream",
     "text": [
      "Epoch 01290 | Loss 89.8980 | MSE 92.2935 \n",
      "Epoch 01291 | Loss 90.6049 | MSE 90.3971 \n",
      "Epoch 01292 | Loss 97.6904 | MSE 109.4397 \n",
      "Epoch 01293 | Loss 96.3461 | MSE 92.0064 \n",
      "Epoch 01294 | Loss 89.7304 | MSE 93.0237 \n",
      "Epoch 01295 | Loss 91.4175 | MSE 94.6261 \n",
      "Epoch 01296 | Loss 92.7609 | MSE 92.3308 \n",
      "Epoch 01297 | Loss 92.4314 | MSE 99.2375 \n",
      "Epoch 01298 | Loss 91.0548 | MSE 89.5114 \n",
      "Epoch 01299 | Loss 94.6899 | MSE 86.7689 \n",
      "Epoch 01300 | Loss 97.0473 | MSE 114.7015 \n",
      "Epoch 01301 | Loss 107.7712 | MSE 89.6864 \n",
      "Epoch 01302 | Loss 98.9046 | MSE 91.8841 \n",
      "Epoch 01303 | Loss 92.2763 | MSE 94.0496 \n",
      "Epoch 01304 | Loss 90.8442 | MSE 90.8158 \n",
      "Epoch 01305 | Loss 95.1973 | MSE 105.8860 \n",
      "Epoch 01306 | Loss 100.2989 | MSE 87.6095 \n",
      "Epoch 01307 | Loss 94.6068 | MSE 90.7557 \n",
      "Epoch 01308 | Loss 90.7859 | MSE 102.0721 \n",
      "Epoch 01309 | Loss 94.7643 | MSE 90.1681 \n",
      "Epoch 01310 | Loss 91.0871 | MSE 93.2886 \n",
      "Epoch 01311 | Loss 89.2534 | MSE 87.9968 \n",
      "Epoch 01312 | Loss 90.4672 | MSE 86.1574 \n",
      "Epoch 01313 | Loss 96.0659 | MSE 96.1586 \n",
      "Epoch 01314 | Loss 91.0051 | MSE 87.9212 \n",
      "Epoch 01315 | Loss 94.1792 | MSE 95.9423 \n",
      "Epoch 01316 | Loss 94.5091 | MSE 89.4117 \n",
      "Epoch 01317 | Loss 88.3183 | MSE 91.2107 \n",
      "Epoch 01318 | Loss 94.4674 | MSE 98.6842 \n",
      "Epoch 01319 | Loss 92.1910 | MSE 90.3685 \n",
      "Epoch 01320 | Loss 97.0584 | MSE 93.9097 \n",
      "Epoch 01321 | Loss 91.7390 | MSE 86.7606 \n",
      "Epoch 01322 | Loss 92.8547 | MSE 84.9406 \n",
      "Epoch 01323 | Loss 94.7267 | MSE 89.1330 \n",
      "Epoch 01324 | Loss 95.9848 | MSE 86.2571 \n",
      "Epoch 01325 | Loss 89.4541 | MSE 87.6221 \n",
      "Epoch 01326 | Loss 88.1773 | MSE 91.8182 \n",
      "Epoch 01327 | Loss 93.0583 | MSE 88.0739 \n"
     ]
    },
    {
     "name": "stderr",
     "output_type": "stream",
     "text": [
      " 27%|██████████▎                           | 1349/5000 [00:07<00:19, 186.26it/s]"
     ]
    },
    {
     "name": "stdout",
     "output_type": "stream",
     "text": [
      "Epoch 01328 | Loss 90.7235 | MSE 87.8301 \n",
      "Epoch 01329 | Loss 91.5619 | MSE 93.5424 \n",
      "Epoch 01330 | Loss 89.4866 | MSE 87.1698 \n",
      "Epoch 01331 | Loss 99.6550 | MSE 96.8051 \n",
      "Epoch 01332 | Loss 96.2396 | MSE 90.5656 \n",
      "Epoch 01333 | Loss 91.5245 | MSE 94.1039 \n",
      "Epoch 01334 | Loss 98.4120 | MSE 110.4968 \n",
      "Epoch 01335 | Loss 107.1137 | MSE 93.1313 \n",
      "Epoch 01336 | Loss 94.2114 | MSE 92.7206 \n",
      "Epoch 01337 | Loss 91.8777 | MSE 95.3039 \n",
      "Epoch 01338 | Loss 93.8397 | MSE 92.0356 \n",
      "Epoch 01339 | Loss 103.2822 | MSE 109.2983 \n",
      "Epoch 01340 | Loss 100.7123 | MSE 86.9570 \n",
      "Epoch 01341 | Loss 94.5005 | MSE 86.9898 \n",
      "Epoch 01342 | Loss 91.0314 | MSE 110.9709 \n",
      "Epoch 01343 | Loss 103.6570 | MSE 92.1325 \n",
      "Epoch 01344 | Loss 101.3776 | MSE 90.7337 \n",
      "Epoch 01345 | Loss 92.4329 | MSE 90.9215 \n",
      "Epoch 01346 | Loss 96.0954 | MSE 93.6179 \n",
      "Epoch 01347 | Loss 104.6367 | MSE 136.4817 \n",
      "Epoch 01348 | Loss 114.9706 | MSE 99.9220 \n",
      "Epoch 01349 | Loss 99.2861 | MSE 96.6619 \n",
      "Epoch 01350 | Loss 90.6676 | MSE 104.5785 \n",
      "Epoch 01351 | Loss 95.2720 | MSE 93.9740 \n",
      "Epoch 01352 | Loss 93.0473 | MSE 100.2018 \n",
      "Epoch 01353 | Loss 94.0367 | MSE 93.4695 \n",
      "Epoch 01354 | Loss 90.1781 | MSE 92.9413 \n",
      "Epoch 01355 | Loss 98.1460 | MSE 117.5171 \n",
      "Epoch 01356 | Loss 107.7216 | MSE 95.6528 \n",
      "Epoch 01357 | Loss 95.0178 | MSE 94.7747 \n",
      "Epoch 01358 | Loss 96.6005 | MSE 122.0237 \n",
      "Epoch 01359 | Loss 104.8790 | MSE 91.9741 \n",
      "Epoch 01360 | Loss 102.2212 | MSE 89.9842 \n",
      "Epoch 01361 | Loss 93.9464 | MSE 96.7963 \n",
      "Epoch 01362 | Loss 91.9185 | MSE 93.1983 \n",
      "Epoch 01363 | Loss 103.0779 | MSE 100.5287 \n",
      "Epoch 01364 | Loss 97.6444 | MSE 86.2553 \n",
      "Epoch 01365 | Loss 92.0156 | MSE 87.0206 \n"
     ]
    },
    {
     "name": "stderr",
     "output_type": "stream",
     "text": [
      " 28%|██████████▌                           | 1387/5000 [00:08<00:19, 186.26it/s]"
     ]
    },
    {
     "name": "stdout",
     "output_type": "stream",
     "text": [
      "Epoch 01366 | Loss 94.4101 | MSE 104.8865 \n",
      "Epoch 01367 | Loss 98.6747 | MSE 86.6616 \n",
      "Epoch 01368 | Loss 92.9210 | MSE 85.6649 \n",
      "Epoch 01369 | Loss 89.9798 | MSE 95.4234 \n",
      "Epoch 01370 | Loss 95.9520 | MSE 84.1743 \n",
      "Epoch 01371 | Loss 97.5573 | MSE 89.7399 \n",
      "Epoch 01372 | Loss 89.0644 | MSE 89.4711 \n",
      "Epoch 01373 | Loss 90.7567 | MSE 88.8568 \n",
      "Epoch 01374 | Loss 92.9926 | MSE 91.4449 \n",
      "Epoch 01375 | Loss 94.2449 | MSE 93.2981 \n",
      "Epoch 01376 | Loss 94.8728 | MSE 88.6950 \n",
      "Epoch 01377 | Loss 97.2372 | MSE 93.6297 \n",
      "Epoch 01378 | Loss 92.7845 | MSE 85.4994 \n",
      "Epoch 01379 | Loss 93.3946 | MSE 87.5862 \n",
      "Epoch 01380 | Loss 95.9399 | MSE 95.7203 \n",
      "Epoch 01381 | Loss 92.6131 | MSE 93.1471 \n",
      "Epoch 01382 | Loss 96.5701 | MSE 104.9756 \n",
      "Epoch 01383 | Loss 101.6657 | MSE 89.0207 \n",
      "Epoch 01384 | Loss 86.7042 | MSE 86.4162 \n",
      "Epoch 01385 | Loss 95.4382 | MSE 113.9098 \n",
      "Epoch 01386 | Loss 111.2312 | MSE 90.8358 \n",
      "Epoch 01387 | Loss 101.5003 | MSE 88.5809 \n",
      "Epoch 01388 | Loss 91.7509 | MSE 92.1916 \n",
      "Epoch 01389 | Loss 90.0108 | MSE 88.3005 \n",
      "Epoch 01390 | Loss 102.1385 | MSE 102.1923 \n",
      "Epoch 01391 | Loss 98.2895 | MSE 87.0591 \n",
      "Epoch 01392 | Loss 92.9621 | MSE 87.5467 \n",
      "Epoch 01393 | Loss 92.0576 | MSE 93.7844 \n",
      "Epoch 01394 | Loss 97.3589 | MSE 85.9842 \n",
      "Epoch 01395 | Loss 90.4068 | MSE 88.7706 \n",
      "Epoch 01396 | Loss 88.6724 | MSE 96.6867 \n",
      "Epoch 01397 | Loss 91.1451 | MSE 89.0900 \n",
      "Epoch 01398 | Loss 90.7728 | MSE 91.4892 \n",
      "Epoch 01399 | Loss 92.3299 | MSE 88.1095 \n",
      "Epoch 01400 | Loss 89.6355 | MSE 86.5059 \n",
      "Epoch 01401 | Loss 91.8222 | MSE 90.3235 \n",
      "Epoch 01402 | Loss 91.6600 | MSE 89.2974 \n",
      "Epoch 01403 | Loss 93.9038 | MSE 88.5870 \n"
     ]
    },
    {
     "name": "stderr",
     "output_type": "stream",
     "text": [
      " 28%|██████████▊                           | 1425/5000 [00:08<00:19, 184.69it/s]"
     ]
    },
    {
     "name": "stdout",
     "output_type": "stream",
     "text": [
      "Epoch 01404 | Loss 87.3183 | MSE 92.6352 \n",
      "Epoch 01405 | Loss 91.9386 | MSE 87.9014 \n",
      "Epoch 01406 | Loss 91.6955 | MSE 89.5816 \n",
      "Epoch 01407 | Loss 92.5657 | MSE 90.0556 \n",
      "Epoch 01408 | Loss 91.9497 | MSE 93.8629 \n",
      "Epoch 01409 | Loss 90.4971 | MSE 88.4101 \n",
      "Epoch 01410 | Loss 88.1938 | MSE 87.8364 \n",
      "Epoch 01411 | Loss 87.1572 | MSE 88.5307 \n",
      "Epoch 01412 | Loss 91.5338 | MSE 82.8111 \n",
      "Epoch 01413 | Loss 90.0443 | MSE 88.4718 \n",
      "Epoch 01414 | Loss 89.2560 | MSE 84.3384 \n",
      "Epoch 01415 | Loss 93.9169 | MSE 85.9572 \n",
      "Epoch 01416 | Loss 93.7129 | MSE 93.7962 \n",
      "Epoch 01417 | Loss 92.5581 | MSE 88.3146 \n",
      "Epoch 01418 | Loss 94.6739 | MSE 90.1562 \n",
      "Epoch 01419 | Loss 89.5709 | MSE 84.8345 \n",
      "Epoch 01420 | Loss 91.3203 | MSE 86.6003 \n",
      "Epoch 01421 | Loss 91.4333 | MSE 84.8345 \n",
      "Epoch 01422 | Loss 94.9836 | MSE 91.5442 \n",
      "Epoch 01423 | Loss 88.5885 | MSE 88.2891 \n",
      "Epoch 01424 | Loss 91.4109 | MSE 96.1690 \n",
      "Epoch 01425 | Loss 93.2447 | MSE 90.1209 \n",
      "Epoch 01426 | Loss 87.1414 | MSE 89.8204 \n",
      "Epoch 01427 | Loss 86.1788 | MSE 91.0976 \n",
      "Epoch 01428 | Loss 94.2149 | MSE 86.3655 \n",
      "Epoch 01429 | Loss 94.7247 | MSE 100.4011 \n",
      "Epoch 01430 | Loss 96.9673 | MSE 92.1016 \n",
      "Epoch 01431 | Loss 91.9774 | MSE 101.0136 \n",
      "Epoch 01432 | Loss 93.5343 | MSE 99.1689 \n",
      "Epoch 01433 | Loss 92.8606 | MSE 91.1558 \n",
      "Epoch 01434 | Loss 92.0081 | MSE 100.9904 \n",
      "Epoch 01435 | Loss 99.2921 | MSE 89.6482 \n",
      "Epoch 01436 | Loss 99.4251 | MSE 93.1190 \n",
      "Epoch 01437 | Loss 95.0014 | MSE 95.6085 \n",
      "Epoch 01438 | Loss 91.1040 | MSE 91.8705 \n",
      "Epoch 01439 | Loss 101.1653 | MSE 114.2096 \n",
      "Epoch 01440 | Loss 110.2340 | MSE 91.5490 \n"
     ]
    },
    {
     "name": "stderr",
     "output_type": "stream",
     "text": [
      " 29%|███████████                           | 1463/5000 [00:08<00:19, 184.42it/s]"
     ]
    },
    {
     "name": "stdout",
     "output_type": "stream",
     "text": [
      "Epoch 01441 | Loss 93.1406 | MSE 93.0152 \n",
      "Epoch 01442 | Loss 91.5809 | MSE 103.5099 \n",
      "Epoch 01443 | Loss 95.5933 | MSE 90.0120 \n",
      "Epoch 01444 | Loss 100.7524 | MSE 89.6669 \n",
      "Epoch 01445 | Loss 89.6270 | MSE 87.0651 \n",
      "Epoch 01446 | Loss 88.7868 | MSE 86.5226 \n",
      "Epoch 01447 | Loss 95.4407 | MSE 104.5254 \n",
      "Epoch 01448 | Loss 96.8954 | MSE 90.0898 \n",
      "Epoch 01449 | Loss 92.1884 | MSE 93.5110 \n",
      "Epoch 01450 | Loss 88.1592 | MSE 97.0808 \n",
      "Epoch 01451 | Loss 92.2464 | MSE 95.5304 \n",
      "Epoch 01452 | Loss 103.2254 | MSE 104.8547 \n",
      "Epoch 01453 | Loss 103.4679 | MSE 86.5628 \n",
      "Epoch 01454 | Loss 94.4420 | MSE 87.3512 \n",
      "Epoch 01455 | Loss 92.2387 | MSE 91.8926 \n",
      "Epoch 01456 | Loss 87.5525 | MSE 89.7221 \n",
      "Epoch 01457 | Loss 95.6357 | MSE 96.6541 \n",
      "Epoch 01458 | Loss 92.8451 | MSE 86.8267 \n",
      "Epoch 01459 | Loss 88.1236 | MSE 85.7771 \n",
      "Epoch 01460 | Loss 96.6503 | MSE 101.3469 \n",
      "Epoch 01461 | Loss 95.3376 | MSE 88.2673 \n",
      "Epoch 01462 | Loss 97.0437 | MSE 91.2103 \n",
      "Epoch 01463 | Loss 93.1313 | MSE 94.3646 \n",
      "Epoch 01464 | Loss 90.0750 | MSE 95.8439 \n",
      "Epoch 01465 | Loss 96.6311 | MSE 109.8814 \n",
      "Epoch 01466 | Loss 100.3509 | MSE 93.2460 \n",
      "Epoch 01467 | Loss 95.5133 | MSE 91.2907 \n",
      "Epoch 01468 | Loss 94.0071 | MSE 96.4177 \n",
      "Epoch 01469 | Loss 91.4690 | MSE 93.5303 \n",
      "Epoch 01470 | Loss 91.6887 | MSE 105.6379 \n",
      "Epoch 01471 | Loss 91.6876 | MSE 92.6276 \n",
      "Epoch 01472 | Loss 93.2051 | MSE 89.6070 \n",
      "Epoch 01473 | Loss 93.6378 | MSE 92.0726 \n",
      "Epoch 01474 | Loss 91.5898 | MSE 87.2151 \n",
      "Epoch 01475 | Loss 104.7089 | MSE 105.8004 \n",
      "Epoch 01476 | Loss 103.1819 | MSE 86.6714 \n",
      "Epoch 01477 | Loss 94.5300 | MSE 89.7968 \n",
      "Epoch 01478 | Loss 90.9779 | MSE 90.6592 \n"
     ]
    },
    {
     "name": "stderr",
     "output_type": "stream",
     "text": [
      " 30%|███████████▍                          | 1501/5000 [00:08<00:18, 184.85it/s]"
     ]
    },
    {
     "name": "stdout",
     "output_type": "stream",
     "text": [
      "Epoch 01479 | Loss 90.3750 | MSE 86.9064 \n",
      "Epoch 01480 | Loss 91.4976 | MSE 90.7790 \n",
      "Epoch 01481 | Loss 90.1123 | MSE 92.3648 \n",
      "Epoch 01482 | Loss 88.9080 | MSE 91.0578 \n",
      "Epoch 01483 | Loss 90.7637 | MSE 99.6238 \n",
      "Epoch 01484 | Loss 96.5539 | MSE 89.6039 \n",
      "Epoch 01485 | Loss 96.4644 | MSE 90.0328 \n",
      "Epoch 01486 | Loss 92.9449 | MSE 96.4881 \n",
      "Epoch 01487 | Loss 93.3317 | MSE 91.7148 \n",
      "Epoch 01488 | Loss 101.1838 | MSE 100.9227 \n",
      "Epoch 01489 | Loss 92.9983 | MSE 85.6228 \n",
      "Epoch 01490 | Loss 96.6422 | MSE 88.6393 \n",
      "Epoch 01491 | Loss 92.5506 | MSE 97.5615 \n",
      "Epoch 01492 | Loss 96.2292 | MSE 91.6505 \n",
      "Epoch 01493 | Loss 89.0698 | MSE 93.1549 \n",
      "Epoch 01494 | Loss 91.4689 | MSE 86.2545 \n",
      "Epoch 01495 | Loss 90.7322 | MSE 85.6438 \n",
      "Epoch 01496 | Loss 94.3482 | MSE 98.3263 \n",
      "Epoch 01497 | Loss 92.8195 | MSE 90.1652 \n",
      "Epoch 01498 | Loss 91.6645 | MSE 95.2597 \n",
      "Epoch 01499 | Loss 91.0211 | MSE 100.3499 \n",
      "Epoch 01500 | Loss 97.6685 | MSE 94.0107 \n",
      "Epoch 01501 | Loss 96.8390 | MSE 98.3890 \n",
      "Epoch 01502 | Loss 94.1454 | MSE 83.2915 \n",
      "Epoch 01503 | Loss 95.9694 | MSE 83.3399 \n",
      "Epoch 01504 | Loss 93.2002 | MSE 99.1580 \n",
      "Epoch 01505 | Loss 97.5123 | MSE 92.2490 \n",
      "Epoch 01506 | Loss 96.5405 | MSE 101.1650 \n",
      "Epoch 01507 | Loss 92.4743 | MSE 95.2992 \n",
      "Epoch 01508 | Loss 97.5333 | MSE 95.6039 \n",
      "Epoch 01509 | Loss 87.7616 | MSE 93.2785 \n",
      "Epoch 01510 | Loss 91.1984 | MSE 91.2287 \n",
      "Epoch 01511 | Loss 91.3620 | MSE 88.5831 \n",
      "Epoch 01512 | Loss 87.5520 | MSE 90.6052 \n",
      "Epoch 01513 | Loss 88.9734 | MSE 94.2898 \n",
      "Epoch 01514 | Loss 91.5910 | MSE 94.2854 \n",
      "Epoch 01515 | Loss 89.9416 | MSE 94.0297 \n"
     ]
    },
    {
     "name": "stderr",
     "output_type": "stream",
     "text": [
      " 31%|███████████▋                          | 1539/5000 [00:08<00:19, 182.16it/s]"
     ]
    },
    {
     "name": "stdout",
     "output_type": "stream",
     "text": [
      "Epoch 01516 | Loss 90.7867 | MSE 90.1468 \n",
      "Epoch 01517 | Loss 92.3692 | MSE 85.5151 \n",
      "Epoch 01518 | Loss 89.3530 | MSE 97.2451 \n",
      "Epoch 01519 | Loss 93.6249 | MSE 87.1445 \n",
      "Epoch 01520 | Loss 94.2424 | MSE 96.6767 \n",
      "Epoch 01521 | Loss 93.0854 | MSE 89.1677 \n",
      "Epoch 01522 | Loss 86.2475 | MSE 87.0821 \n",
      "Epoch 01523 | Loss 93.4036 | MSE 100.2669 \n",
      "Epoch 01524 | Loss 94.0283 | MSE 90.8296 \n",
      "Epoch 01525 | Loss 98.5332 | MSE 96.3621 \n",
      "Epoch 01526 | Loss 97.2794 | MSE 85.5085 \n",
      "Epoch 01527 | Loss 94.7979 | MSE 89.3714 \n",
      "Epoch 01528 | Loss 92.1279 | MSE 97.5161 \n",
      "Epoch 01529 | Loss 90.7549 | MSE 94.0699 \n",
      "Epoch 01530 | Loss 89.6698 | MSE 91.2000 \n",
      "Epoch 01531 | Loss 86.5694 | MSE 93.9815 \n",
      "Epoch 01532 | Loss 93.5724 | MSE 84.9659 \n",
      "Epoch 01533 | Loss 93.4340 | MSE 86.5225 \n",
      "Epoch 01534 | Loss 91.0892 | MSE 90.8042 \n",
      "Epoch 01535 | Loss 92.5350 | MSE 89.5567 \n",
      "Epoch 01536 | Loss 90.1142 | MSE 88.5122 \n",
      "Epoch 01537 | Loss 89.6921 | MSE 92.7509 \n",
      "Epoch 01538 | Loss 88.8038 | MSE 85.3345 \n",
      "Epoch 01539 | Loss 88.2867 | MSE 88.2119 \n",
      "Epoch 01540 | Loss 90.1052 | MSE 87.5975 \n",
      "Epoch 01541 | Loss 95.1052 | MSE 89.7307 \n",
      "Epoch 01542 | Loss 85.2383 | MSE 99.4682 \n",
      "Epoch 01543 | Loss 94.7480 | MSE 92.8700 \n",
      "Epoch 01544 | Loss 90.7723 | MSE 93.4303 \n",
      "Epoch 01545 | Loss 91.2268 | MSE 86.9981 \n",
      "Epoch 01546 | Loss 91.4268 | MSE 84.0724 \n",
      "Epoch 01547 | Loss 93.9560 | MSE 90.5171 \n",
      "Epoch 01548 | Loss 95.0444 | MSE 88.4353 \n",
      "Epoch 01549 | Loss 93.5237 | MSE 94.0041 \n",
      "Epoch 01550 | Loss 91.7031 | MSE 93.4895 \n",
      "Epoch 01551 | Loss 95.2378 | MSE 89.6791 \n",
      "Epoch 01552 | Loss 91.5732 | MSE 93.5261 \n"
     ]
    },
    {
     "name": "stderr",
     "output_type": "stream",
     "text": [
      " 32%|███████████▉                          | 1577/5000 [00:09<00:18, 183.83it/s]"
     ]
    },
    {
     "name": "stdout",
     "output_type": "stream",
     "text": [
      "Epoch 01553 | Loss 88.8145 | MSE 85.5077 \n",
      "Epoch 01554 | Loss 92.5041 | MSE 92.4249 \n",
      "Epoch 01555 | Loss 87.2229 | MSE 90.9828 \n",
      "Epoch 01556 | Loss 87.7794 | MSE 97.1014 \n",
      "Epoch 01557 | Loss 93.9569 | MSE 96.8404 \n",
      "Epoch 01558 | Loss 92.4864 | MSE 99.3973 \n",
      "Epoch 01559 | Loss 91.4529 | MSE 89.9064 \n",
      "Epoch 01560 | Loss 88.9347 | MSE 88.1272 \n",
      "Epoch 01561 | Loss 93.1133 | MSE 92.5423 \n",
      "Epoch 01562 | Loss 92.5494 | MSE 87.7549 \n",
      "Epoch 01563 | Loss 91.6268 | MSE 94.6891 \n",
      "Epoch 01564 | Loss 93.3114 | MSE 87.0209 \n",
      "Epoch 01565 | Loss 98.1308 | MSE 88.6098 \n",
      "Epoch 01566 | Loss 90.7198 | MSE 90.1310 \n",
      "Epoch 01567 | Loss 88.6650 | MSE 88.6617 \n",
      "Epoch 01568 | Loss 90.3722 | MSE 93.5741 \n",
      "Epoch 01569 | Loss 90.1618 | MSE 89.5450 \n",
      "Epoch 01570 | Loss 91.3767 | MSE 86.2417 \n",
      "Epoch 01571 | Loss 87.1127 | MSE 92.1982 \n",
      "Epoch 01572 | Loss 92.9494 | MSE 84.2096 \n",
      "Epoch 01573 | Loss 94.8853 | MSE 91.3984 \n",
      "Epoch 01574 | Loss 95.8565 | MSE 87.4815 \n",
      "Epoch 01575 | Loss 91.0505 | MSE 96.1392 \n",
      "Epoch 01576 | Loss 87.5823 | MSE 100.3774 \n",
      "Epoch 01577 | Loss 94.6449 | MSE 91.5757 \n",
      "Epoch 01578 | Loss 91.3537 | MSE 93.2100 \n",
      "Epoch 01579 | Loss 93.5895 | MSE 89.6861 \n",
      "Epoch 01580 | Loss 92.9209 | MSE 92.7656 \n",
      "Epoch 01581 | Loss 88.4936 | MSE 100.0069 \n",
      "Epoch 01582 | Loss 89.6408 | MSE 96.9572 \n",
      "Epoch 01583 | Loss 98.1822 | MSE 132.7520 \n",
      "Epoch 01584 | Loss 111.9357 | MSE 99.5921 \n",
      "Epoch 01585 | Loss 105.1054 | MSE 101.0588 \n",
      "Epoch 01586 | Loss 89.4205 | MSE 85.0247 \n",
      "Epoch 01587 | Loss 87.9438 | MSE 82.4475 \n",
      "Epoch 01588 | Loss 92.1696 | MSE 93.8009 \n",
      "Epoch 01589 | Loss 94.1515 | MSE 87.6554 \n",
      "Epoch 01590 | Loss 98.0123 | MSE 100.6560 \n"
     ]
    },
    {
     "name": "stderr",
     "output_type": "stream",
     "text": [
      " 32%|████████████▎                         | 1615/5000 [00:09<00:18, 185.42it/s]"
     ]
    },
    {
     "name": "stdout",
     "output_type": "stream",
     "text": [
      "Epoch 01591 | Loss 96.7766 | MSE 88.4164 \n",
      "Epoch 01592 | Loss 96.5547 | MSE 90.3040 \n",
      "Epoch 01593 | Loss 87.6718 | MSE 94.0905 \n",
      "Epoch 01594 | Loss 94.1389 | MSE 89.1041 \n",
      "Epoch 01595 | Loss 99.8414 | MSE 107.0657 \n",
      "Epoch 01596 | Loss 99.7823 | MSE 86.2574 \n",
      "Epoch 01597 | Loss 94.2763 | MSE 90.9333 \n",
      "Epoch 01598 | Loss 88.9926 | MSE 92.1060 \n",
      "Epoch 01599 | Loss 88.1191 | MSE 87.5548 \n",
      "Epoch 01600 | Loss 90.0862 | MSE 89.4230 \n",
      "Epoch 01601 | Loss 88.1475 | MSE 82.8692 \n",
      "Epoch 01602 | Loss 90.7913 | MSE 83.5776 \n",
      "Epoch 01603 | Loss 89.4734 | MSE 84.4564 \n",
      "Epoch 01604 | Loss 97.3047 | MSE 91.3255 \n",
      "Epoch 01605 | Loss 88.9495 | MSE 88.5562 \n",
      "Epoch 01606 | Loss 94.1331 | MSE 93.7874 \n",
      "Epoch 01607 | Loss 91.4298 | MSE 86.8789 \n",
      "Epoch 01608 | Loss 90.3293 | MSE 91.5542 \n",
      "Epoch 01609 | Loss 88.2153 | MSE 87.7872 \n",
      "Epoch 01610 | Loss 89.9143 | MSE 91.1062 \n",
      "Epoch 01611 | Loss 87.6896 | MSE 91.1300 \n",
      "Epoch 01612 | Loss 92.0428 | MSE 94.2788 \n",
      "Epoch 01613 | Loss 93.1104 | MSE 96.8404 \n",
      "Epoch 01614 | Loss 91.8743 | MSE 91.6453 \n",
      "Epoch 01615 | Loss 93.0537 | MSE 101.7042 \n",
      "Epoch 01616 | Loss 96.2839 | MSE 89.5644 \n",
      "Epoch 01617 | Loss 94.3207 | MSE 93.7070 \n",
      "Epoch 01618 | Loss 87.2534 | MSE 88.1749 \n",
      "Epoch 01619 | Loss 90.1093 | MSE 84.2853 \n",
      "Epoch 01620 | Loss 93.3863 | MSE 87.1383 \n",
      "Epoch 01621 | Loss 90.1173 | MSE 84.9495 \n",
      "Epoch 01622 | Loss 92.0136 | MSE 89.8740 \n",
      "Epoch 01623 | Loss 91.6520 | MSE 97.4252 \n",
      "Epoch 01624 | Loss 92.3486 | MSE 88.5760 \n",
      "Epoch 01625 | Loss 95.6788 | MSE 89.7414 \n",
      "Epoch 01626 | Loss 89.1297 | MSE 83.5641 \n",
      "Epoch 01627 | Loss 90.7754 | MSE 88.4328 \n",
      "Epoch 01628 | Loss 85.5065 | MSE 89.3624 \n"
     ]
    },
    {
     "name": "stderr",
     "output_type": "stream",
     "text": [
      " 33%|████████████▌                         | 1653/5000 [00:09<00:17, 186.50it/s]"
     ]
    },
    {
     "name": "stdout",
     "output_type": "stream",
     "text": [
      "Epoch 01629 | Loss 93.3787 | MSE 90.6416 \n",
      "Epoch 01630 | Loss 94.1405 | MSE 91.0791 \n",
      "Epoch 01631 | Loss 88.3015 | MSE 93.7760 \n",
      "Epoch 01632 | Loss 90.0358 | MSE 94.8235 \n",
      "Epoch 01633 | Loss 94.8072 | MSE 88.0380 \n",
      "Epoch 01634 | Loss 91.2056 | MSE 90.0119 \n",
      "Epoch 01635 | Loss 96.2091 | MSE 85.4635 \n",
      "Epoch 01636 | Loss 90.7688 | MSE 87.9420 \n",
      "Epoch 01637 | Loss 86.8820 | MSE 97.0844 \n",
      "Epoch 01638 | Loss 91.2329 | MSE 90.1862 \n",
      "Epoch 01639 | Loss 90.6849 | MSE 96.5947 \n",
      "Epoch 01640 | Loss 93.3323 | MSE 87.8365 \n",
      "Epoch 01641 | Loss 88.7053 | MSE 90.8904 \n",
      "Epoch 01642 | Loss 86.4528 | MSE 96.8285 \n",
      "Epoch 01643 | Loss 93.7875 | MSE 91.2812 \n",
      "Epoch 01644 | Loss 89.9336 | MSE 91.5407 \n",
      "Epoch 01645 | Loss 89.1807 | MSE 85.5154 \n",
      "Epoch 01646 | Loss 90.0042 | MSE 90.8568 \n",
      "Epoch 01647 | Loss 90.3748 | MSE 87.3892 \n",
      "Epoch 01648 | Loss 96.4852 | MSE 109.6104 \n",
      "Epoch 01649 | Loss 96.8120 | MSE 97.0627 \n",
      "Epoch 01650 | Loss 98.9773 | MSE 103.6373 \n",
      "Epoch 01651 | Loss 97.9074 | MSE 84.9889 \n",
      "Epoch 01652 | Loss 90.5227 | MSE 84.9144 \n",
      "Epoch 01653 | Loss 91.6336 | MSE 103.4833 \n",
      "Epoch 01654 | Loss 99.1881 | MSE 91.3153 \n",
      "Epoch 01655 | Loss 99.5355 | MSE 100.8845 \n",
      "Epoch 01656 | Loss 93.8974 | MSE 93.8146 \n",
      "Epoch 01657 | Loss 89.6318 | MSE 95.0942 \n",
      "Epoch 01658 | Loss 93.8084 | MSE 122.1403 \n",
      "Epoch 01659 | Loss 107.8901 | MSE 97.5822 \n",
      "Epoch 01660 | Loss 112.4553 | MSE 100.6618 \n",
      "Epoch 01661 | Loss 101.2864 | MSE 81.5142 \n",
      "Epoch 01662 | Loss 88.8485 | MSE 85.0624 \n",
      "Epoch 01663 | Loss 95.3888 | MSE 118.8119 \n",
      "Epoch 01664 | Loss 101.9229 | MSE 94.3046 \n",
      "Epoch 01665 | Loss 102.2809 | MSE 97.6183 \n",
      "Epoch 01666 | Loss 94.8860 | MSE 88.0663 \n"
     ]
    },
    {
     "name": "stderr",
     "output_type": "stream",
     "text": [
      " 34%|████████████▊                         | 1691/5000 [00:09<00:17, 185.09it/s]"
     ]
    },
    {
     "name": "stdout",
     "output_type": "stream",
     "text": [
      "Epoch 01667 | Loss 90.8471 | MSE 88.9501 \n",
      "Epoch 01668 | Loss 96.5482 | MSE 114.9588 \n",
      "Epoch 01669 | Loss 102.4027 | MSE 97.7991 \n",
      "Epoch 01670 | Loss 103.3471 | MSE 109.4213 \n",
      "Epoch 01671 | Loss 99.6151 | MSE 88.3603 \n",
      "Epoch 01672 | Loss 90.1288 | MSE 86.1509 \n",
      "Epoch 01673 | Loss 91.4569 | MSE 96.4113 \n",
      "Epoch 01674 | Loss 93.3929 | MSE 87.8743 \n",
      "Epoch 01675 | Loss 87.1534 | MSE 90.4127 \n",
      "Epoch 01676 | Loss 90.6097 | MSE 92.4541 \n",
      "Epoch 01677 | Loss 86.9687 | MSE 86.8098 \n",
      "Epoch 01678 | Loss 92.7910 | MSE 91.0826 \n",
      "Epoch 01679 | Loss 90.4110 | MSE 88.2567 \n",
      "Epoch 01680 | Loss 91.8559 | MSE 90.5051 \n",
      "Epoch 01681 | Loss 88.5997 | MSE 95.3073 \n",
      "Epoch 01682 | Loss 92.9375 | MSE 90.1907 \n",
      "Epoch 01683 | Loss 88.1946 | MSE 98.1059 \n",
      "Epoch 01684 | Loss 87.9334 | MSE 90.6202 \n",
      "Epoch 01685 | Loss 87.5639 | MSE 88.3358 \n",
      "Epoch 01686 | Loss 88.7669 | MSE 89.6210 \n",
      "Epoch 01687 | Loss 85.8910 | MSE 85.1096 \n",
      "Epoch 01688 | Loss 90.1428 | MSE 88.6943 \n",
      "Epoch 01689 | Loss 86.9127 | MSE 87.6104 \n",
      "Epoch 01690 | Loss 85.0355 | MSE 87.4248 \n",
      "Epoch 01691 | Loss 87.5677 | MSE 91.2685 \n",
      "Epoch 01692 | Loss 88.0799 | MSE 89.8484 \n",
      "Epoch 01693 | Loss 94.1423 | MSE 90.8475 \n",
      "Epoch 01694 | Loss 85.8312 | MSE 91.2868 \n",
      "Epoch 01695 | Loss 89.8226 | MSE 86.5613 \n",
      "Epoch 01696 | Loss 89.3528 | MSE 95.9684 \n",
      "Epoch 01697 | Loss 92.3321 | MSE 85.3167 \n",
      "Epoch 01698 | Loss 88.7204 | MSE 88.4800 \n",
      "Epoch 01699 | Loss 89.2979 | MSE 93.4854 \n",
      "Epoch 01700 | Loss 89.3638 | MSE 95.1820 \n",
      "Epoch 01701 | Loss 91.2649 | MSE 98.7504 \n",
      "Epoch 01702 | Loss 89.5660 | MSE 91.8508 \n",
      "Epoch 01703 | Loss 87.4474 | MSE 95.9637 \n",
      "Epoch 01704 | Loss 90.8727 | MSE 87.7280 \n"
     ]
    },
    {
     "name": "stderr",
     "output_type": "stream",
     "text": [
      " 35%|█████████████▏                        | 1729/5000 [00:09<00:17, 185.85it/s]"
     ]
    },
    {
     "name": "stdout",
     "output_type": "stream",
     "text": [
      "Epoch 01705 | Loss 90.8281 | MSE 91.2440 \n",
      "Epoch 01706 | Loss 86.7063 | MSE 87.9743 \n",
      "Epoch 01707 | Loss 87.7931 | MSE 85.5558 \n",
      "Epoch 01708 | Loss 89.0997 | MSE 98.1236 \n",
      "Epoch 01709 | Loss 91.6576 | MSE 87.4399 \n",
      "Epoch 01710 | Loss 94.5276 | MSE 96.3877 \n",
      "Epoch 01711 | Loss 91.0497 | MSE 81.3094 \n",
      "Epoch 01712 | Loss 89.9316 | MSE 82.8704 \n",
      "Epoch 01713 | Loss 92.0045 | MSE 87.7830 \n",
      "Epoch 01714 | Loss 92.5291 | MSE 91.1349 \n",
      "Epoch 01715 | Loss 95.7540 | MSE 111.8250 \n",
      "Epoch 01716 | Loss 100.9780 | MSE 93.1278 \n",
      "Epoch 01717 | Loss 92.6479 | MSE 98.5432 \n",
      "Epoch 01718 | Loss 93.9570 | MSE 90.6556 \n",
      "Epoch 01719 | Loss 92.4768 | MSE 89.1158 \n",
      "Epoch 01720 | Loss 92.4119 | MSE 104.4433 \n",
      "Epoch 01721 | Loss 98.4764 | MSE 91.0243 \n",
      "Epoch 01722 | Loss 101.8342 | MSE 106.0458 \n",
      "Epoch 01723 | Loss 103.0004 | MSE 89.4302 \n",
      "Epoch 01724 | Loss 92.6573 | MSE 91.0405 \n",
      "Epoch 01725 | Loss 91.0845 | MSE 104.3764 \n",
      "Epoch 01726 | Loss 97.6613 | MSE 95.1535 \n",
      "Epoch 01727 | Loss 101.3582 | MSE 110.6604 \n",
      "Epoch 01728 | Loss 104.5683 | MSE 88.1224 \n",
      "Epoch 01729 | Loss 97.1506 | MSE 85.4932 \n",
      "Epoch 01730 | Loss 89.2914 | MSE 99.9297 \n",
      "Epoch 01731 | Loss 93.5038 | MSE 92.2021 \n",
      "Epoch 01732 | Loss 98.6474 | MSE 109.9457 \n",
      "Epoch 01733 | Loss 98.9768 | MSE 92.5362 \n",
      "Epoch 01734 | Loss 92.7301 | MSE 85.0912 \n",
      "Epoch 01735 | Loss 91.3429 | MSE 96.2324 \n",
      "Epoch 01736 | Loss 92.7154 | MSE 90.3949 \n",
      "Epoch 01737 | Loss 100.9879 | MSE 102.8070 \n",
      "Epoch 01738 | Loss 97.0991 | MSE 90.8015 \n",
      "Epoch 01739 | Loss 96.5797 | MSE 94.6142 \n",
      "Epoch 01740 | Loss 90.4992 | MSE 103.9393 \n",
      "Epoch 01741 | Loss 91.7396 | MSE 96.6428 \n",
      "Epoch 01742 | Loss 99.6425 | MSE 109.4227 \n"
     ]
    },
    {
     "name": "stderr",
     "output_type": "stream",
     "text": [
      " 35%|█████████████▍                        | 1767/5000 [00:10<00:17, 186.46it/s]"
     ]
    },
    {
     "name": "stdout",
     "output_type": "stream",
     "text": [
      "Epoch 01743 | Loss 96.3799 | MSE 86.5814 \n",
      "Epoch 01744 | Loss 93.9784 | MSE 87.3414 \n",
      "Epoch 01745 | Loss 91.8189 | MSE 100.9977 \n",
      "Epoch 01746 | Loss 95.0462 | MSE 94.7975 \n",
      "Epoch 01747 | Loss 96.6916 | MSE 110.2898 \n",
      "Epoch 01748 | Loss 99.9255 | MSE 88.8320 \n",
      "Epoch 01749 | Loss 96.7035 | MSE 88.4452 \n",
      "Epoch 01750 | Loss 92.4035 | MSE 94.9858 \n",
      "Epoch 01751 | Loss 92.1756 | MSE 90.9403 \n",
      "Epoch 01752 | Loss 91.4775 | MSE 93.0005 \n",
      "Epoch 01753 | Loss 89.8832 | MSE 89.5405 \n",
      "Epoch 01754 | Loss 89.8831 | MSE 89.8086 \n",
      "Epoch 01755 | Loss 87.3153 | MSE 107.8413 \n",
      "Epoch 01756 | Loss 97.2742 | MSE 91.1870 \n",
      "Epoch 01757 | Loss 92.2307 | MSE 93.3162 \n",
      "Epoch 01758 | Loss 89.4569 | MSE 86.5275 \n",
      "Epoch 01759 | Loss 93.5633 | MSE 89.6248 \n",
      "Epoch 01760 | Loss 86.9720 | MSE 93.8711 \n",
      "Epoch 01761 | Loss 86.9031 | MSE 92.8860 \n",
      "Epoch 01762 | Loss 90.0583 | MSE 92.7766 \n",
      "Epoch 01763 | Loss 92.1400 | MSE 94.3240 \n",
      "Epoch 01764 | Loss 89.5193 | MSE 88.5751 \n",
      "Epoch 01765 | Loss 87.9556 | MSE 89.9809 \n",
      "Epoch 01766 | Loss 94.4911 | MSE 92.5619 \n",
      "Epoch 01767 | Loss 90.8042 | MSE 89.3733 \n",
      "Epoch 01768 | Loss 93.8659 | MSE 105.3283 \n",
      "Epoch 01769 | Loss 103.2093 | MSE 87.1608 \n",
      "Epoch 01770 | Loss 100.0441 | MSE 88.8239 \n",
      "Epoch 01771 | Loss 90.4629 | MSE 88.0950 \n",
      "Epoch 01772 | Loss 90.5573 | MSE 85.7430 \n",
      "Epoch 01773 | Loss 96.8569 | MSE 104.5606 \n",
      "Epoch 01774 | Loss 103.5465 | MSE 88.5635 \n",
      "Epoch 01775 | Loss 99.8813 | MSE 97.8089 \n",
      "Epoch 01776 | Loss 98.7967 | MSE 86.3309 \n",
      "Epoch 01777 | Loss 90.2399 | MSE 87.4910 \n",
      "Epoch 01778 | Loss 93.0127 | MSE 110.4318 \n",
      "Epoch 01779 | Loss 100.0368 | MSE 103.7455 \n",
      "Epoch 01780 | Loss 99.4071 | MSE 107.9615 \n"
     ]
    },
    {
     "name": "stderr",
     "output_type": "stream",
     "text": [
      " 36%|█████████████▋                        | 1805/5000 [00:10<00:17, 186.98it/s]"
     ]
    },
    {
     "name": "stdout",
     "output_type": "stream",
     "text": [
      "Epoch 01781 | Loss 87.7798 | MSE 94.3683 \n",
      "Epoch 01782 | Loss 86.5140 | MSE 91.3895 \n",
      "Epoch 01783 | Loss 97.1009 | MSE 118.1827 \n",
      "Epoch 01784 | Loss 106.6628 | MSE 88.3058 \n",
      "Epoch 01785 | Loss 99.4749 | MSE 91.2348 \n",
      "Epoch 01786 | Loss 90.4803 | MSE 95.1512 \n",
      "Epoch 01787 | Loss 96.2398 | MSE 93.2999 \n",
      "Epoch 01788 | Loss 102.2453 | MSE 107.3713 \n",
      "Epoch 01789 | Loss 97.6288 | MSE 88.4338 \n",
      "Epoch 01790 | Loss 94.2460 | MSE 86.9474 \n",
      "Epoch 01791 | Loss 90.7380 | MSE 92.6980 \n",
      "Epoch 01792 | Loss 88.7442 | MSE 85.9672 \n",
      "Epoch 01793 | Loss 92.8498 | MSE 90.5614 \n",
      "Epoch 01794 | Loss 88.7197 | MSE 89.5751 \n",
      "Epoch 01795 | Loss 90.6640 | MSE 84.8966 \n",
      "Epoch 01796 | Loss 89.9546 | MSE 89.5373 \n",
      "Epoch 01797 | Loss 93.8384 | MSE 82.7096 \n",
      "Epoch 01798 | Loss 85.6901 | MSE 86.6031 \n",
      "Epoch 01799 | Loss 89.4473 | MSE 91.7740 \n",
      "Epoch 01800 | Loss 87.0886 | MSE 91.5263 \n",
      "Epoch 01801 | Loss 92.0638 | MSE 98.4546 \n",
      "Epoch 01802 | Loss 94.4717 | MSE 91.3960 \n",
      "Epoch 01803 | Loss 89.8568 | MSE 95.0999 \n",
      "Epoch 01804 | Loss 87.6022 | MSE 98.4401 \n",
      "Epoch 01805 | Loss 90.7098 | MSE 91.2728 \n",
      "Epoch 01806 | Loss 95.7632 | MSE 92.4677 \n",
      "Epoch 01807 | Loss 92.6189 | MSE 85.9758 \n",
      "Epoch 01808 | Loss 90.5340 | MSE 83.8953 \n",
      "Epoch 01809 | Loss 89.0275 | MSE 87.4579 \n",
      "Epoch 01810 | Loss 89.6548 | MSE 88.1647 \n",
      "Epoch 01811 | Loss 91.6166 | MSE 88.6743 \n",
      "Epoch 01812 | Loss 84.9396 | MSE 92.6207 \n",
      "Epoch 01813 | Loss 89.8988 | MSE 86.9191 \n",
      "Epoch 01814 | Loss 90.0818 | MSE 89.3437 \n",
      "Epoch 01815 | Loss 91.8233 | MSE 94.2591 \n",
      "Epoch 01816 | Loss 95.2721 | MSE 89.4546 \n",
      "Epoch 01817 | Loss 92.1209 | MSE 96.7861 \n",
      "Epoch 01818 | Loss 92.0085 | MSE 91.6651 \n"
     ]
    },
    {
     "name": "stderr",
     "output_type": "stream",
     "text": [
      " 37%|██████████████                        | 1844/5000 [00:10<00:16, 186.98it/s]"
     ]
    },
    {
     "name": "stdout",
     "output_type": "stream",
     "text": [
      "Epoch 01819 | Loss 87.1310 | MSE 91.0701 \n",
      "Epoch 01820 | Loss 88.7268 | MSE 93.4735 \n",
      "Epoch 01821 | Loss 88.4645 | MSE 90.2973 \n",
      "Epoch 01822 | Loss 91.9887 | MSE 97.1500 \n",
      "Epoch 01823 | Loss 88.1122 | MSE 90.7253 \n",
      "Epoch 01824 | Loss 87.9083 | MSE 89.6198 \n",
      "Epoch 01825 | Loss 87.7533 | MSE 96.1263 \n",
      "Epoch 01826 | Loss 91.8582 | MSE 85.6126 \n",
      "Epoch 01827 | Loss 92.9795 | MSE 91.0899 \n",
      "Epoch 01828 | Loss 91.9743 | MSE 90.9194 \n",
      "Epoch 01829 | Loss 89.4570 | MSE 89.6825 \n",
      "Epoch 01830 | Loss 95.7586 | MSE 104.1972 \n",
      "Epoch 01831 | Loss 93.1306 | MSE 89.1504 \n",
      "Epoch 01832 | Loss 93.2719 | MSE 93.1185 \n",
      "Epoch 01833 | Loss 87.4326 | MSE 93.9392 \n",
      "Epoch 01834 | Loss 91.9632 | MSE 92.1644 \n",
      "Epoch 01835 | Loss 90.4839 | MSE 107.7478 \n",
      "Epoch 01836 | Loss 96.7651 | MSE 92.0603 \n",
      "Epoch 01837 | Loss 97.5629 | MSE 100.8855 \n",
      "Epoch 01838 | Loss 94.2128 | MSE 88.5041 \n",
      "Epoch 01839 | Loss 89.7040 | MSE 92.7491 \n",
      "Epoch 01840 | Loss 91.4742 | MSE 93.0156 \n",
      "Epoch 01841 | Loss 86.4830 | MSE 93.8230 \n",
      "Epoch 01842 | Loss 90.5499 | MSE 95.6946 \n",
      "Epoch 01843 | Loss 90.4712 | MSE 86.3588 \n",
      "Epoch 01844 | Loss 98.0677 | MSE 97.6507 \n",
      "Epoch 01845 | Loss 95.3549 | MSE 91.6753 \n",
      "Epoch 01846 | Loss 85.2090 | MSE 95.1905 \n",
      "Epoch 01847 | Loss 89.5700 | MSE 101.1886 \n",
      "Epoch 01848 | Loss 92.8630 | MSE 85.8840 \n",
      "Epoch 01849 | Loss 89.5587 | MSE 89.1065 \n",
      "Epoch 01850 | Loss 93.8440 | MSE 86.2132 \n",
      "Epoch 01851 | Loss 91.8140 | MSE 85.8439 \n",
      "Epoch 01852 | Loss 91.0174 | MSE 94.8334 \n",
      "Epoch 01853 | Loss 93.9703 | MSE 88.8174 \n",
      "Epoch 01854 | Loss 93.3408 | MSE 97.7793 \n",
      "Epoch 01855 | Loss 93.5009 | MSE 88.8974 \n",
      "Epoch 01856 | Loss 90.2657 | MSE 91.1440 \n"
     ]
    },
    {
     "name": "stderr",
     "output_type": "stream",
     "text": [
      " 38%|██████████████▎                       | 1882/5000 [00:10<00:16, 186.71it/s]"
     ]
    },
    {
     "name": "stdout",
     "output_type": "stream",
     "text": [
      "Epoch 01857 | Loss 88.9619 | MSE 95.6544 \n",
      "Epoch 01858 | Loss 91.1310 | MSE 93.2776 \n",
      "Epoch 01859 | Loss 95.8305 | MSE 107.9508 \n",
      "Epoch 01860 | Loss 94.5276 | MSE 90.0971 \n",
      "Epoch 01861 | Loss 95.0214 | MSE 96.3883 \n",
      "Epoch 01862 | Loss 90.6488 | MSE 90.4695 \n",
      "Epoch 01863 | Loss 98.8331 | MSE 85.3546 \n",
      "Epoch 01864 | Loss 90.9921 | MSE 92.6199 \n",
      "Epoch 01865 | Loss 91.2002 | MSE 92.3926 \n",
      "Epoch 01866 | Loss 91.7669 | MSE 104.1605 \n",
      "Epoch 01867 | Loss 95.7602 | MSE 95.1501 \n",
      "Epoch 01868 | Loss 90.8753 | MSE 91.6554 \n",
      "Epoch 01869 | Loss 90.2166 | MSE 88.4148 \n",
      "Epoch 01870 | Loss 91.2905 | MSE 86.8331 \n",
      "Epoch 01871 | Loss 91.7390 | MSE 97.5270 \n",
      "Epoch 01872 | Loss 94.5553 | MSE 94.3983 \n",
      "Epoch 01873 | Loss 91.7690 | MSE 93.5639 \n",
      "Epoch 01874 | Loss 89.9868 | MSE 99.6165 \n",
      "Epoch 01875 | Loss 90.0057 | MSE 89.9550 \n",
      "Epoch 01876 | Loss 92.0001 | MSE 97.3023 \n",
      "Epoch 01877 | Loss 92.6566 | MSE 88.0818 \n",
      "Epoch 01878 | Loss 90.1114 | MSE 90.7107 \n",
      "Epoch 01879 | Loss 86.9874 | MSE 100.3624 \n",
      "Epoch 01880 | Loss 94.9389 | MSE 93.7736 \n",
      "Epoch 01881 | Loss 96.3856 | MSE 106.9862 \n",
      "Epoch 01882 | Loss 97.2761 | MSE 91.6219 \n",
      "Epoch 01883 | Loss 94.1037 | MSE 91.7560 \n",
      "Epoch 01884 | Loss 87.7453 | MSE 92.6382 \n",
      "Epoch 01885 | Loss 84.2731 | MSE 88.5469 \n",
      "Epoch 01886 | Loss 94.5060 | MSE 100.3603 \n",
      "Epoch 01887 | Loss 94.9016 | MSE 85.3895 \n",
      "Epoch 01888 | Loss 93.1510 | MSE 89.4186 \n",
      "Epoch 01889 | Loss 88.3203 | MSE 94.1554 \n",
      "Epoch 01890 | Loss 89.5984 | MSE 88.9239 \n",
      "Epoch 01891 | Loss 100.8706 | MSE 118.5582 \n",
      "Epoch 01892 | Loss 106.4325 | MSE 92.7233 \n",
      "Epoch 01893 | Loss 98.1362 | MSE 98.6161 \n",
      "Epoch 01894 | Loss 92.2794 | MSE 88.7745 \n"
     ]
    },
    {
     "name": "stderr",
     "output_type": "stream",
     "text": [
      " 38%|██████████████▌                       | 1920/5000 [00:10<00:16, 185.99it/s]"
     ]
    },
    {
     "name": "stdout",
     "output_type": "stream",
     "text": [
      "Epoch 01895 | Loss 85.7056 | MSE 84.9790 \n",
      "Epoch 01896 | Loss 92.0235 | MSE 92.7065 \n",
      "Epoch 01897 | Loss 91.1837 | MSE 85.1663 \n",
      "Epoch 01898 | Loss 88.6506 | MSE 88.3151 \n",
      "Epoch 01899 | Loss 87.7018 | MSE 98.8004 \n",
      "Epoch 01900 | Loss 92.8943 | MSE 88.7435 \n",
      "Epoch 01901 | Loss 98.3390 | MSE 106.4341 \n",
      "Epoch 01902 | Loss 101.7231 | MSE 88.7349 \n",
      "Epoch 01903 | Loss 94.4010 | MSE 93.5795 \n",
      "Epoch 01904 | Loss 90.8051 | MSE 89.1517 \n",
      "Epoch 01905 | Loss 89.8791 | MSE 92.3681 \n",
      "Epoch 01906 | Loss 92.8541 | MSE 97.7338 \n",
      "Epoch 01907 | Loss 86.0362 | MSE 92.2691 \n",
      "Epoch 01908 | Loss 87.2724 | MSE 91.9512 \n",
      "Epoch 01909 | Loss 89.4953 | MSE 96.7131 \n",
      "Epoch 01910 | Loss 89.9576 | MSE 90.5423 \n",
      "Epoch 01911 | Loss 88.6417 | MSE 99.4738 \n",
      "Epoch 01912 | Loss 95.0823 | MSE 86.0325 \n",
      "Epoch 01913 | Loss 90.4695 | MSE 83.9110 \n",
      "Epoch 01914 | Loss 85.9793 | MSE 86.6512 \n",
      "Epoch 01915 | Loss 90.0775 | MSE 83.4363 \n",
      "Epoch 01916 | Loss 91.3636 | MSE 96.0551 \n",
      "Epoch 01917 | Loss 96.7027 | MSE 87.0106 \n",
      "Epoch 01918 | Loss 92.9004 | MSE 88.4581 \n",
      "Epoch 01919 | Loss 91.3982 | MSE 87.2887 \n",
      "Epoch 01920 | Loss 91.2206 | MSE 82.8461 \n",
      "Epoch 01921 | Loss 87.2260 | MSE 95.7183 \n",
      "Epoch 01922 | Loss 90.8050 | MSE 91.7567 \n",
      "Epoch 01923 | Loss 89.0120 | MSE 90.3088 \n",
      "Epoch 01924 | Loss 91.3304 | MSE 91.1718 \n",
      "Epoch 01925 | Loss 93.5350 | MSE 89.2823 \n",
      "Epoch 01926 | Loss 87.8851 | MSE 87.5428 \n",
      "Epoch 01927 | Loss 89.1184 | MSE 94.2067 \n",
      "Epoch 01928 | Loss 95.7270 | MSE 87.3059 \n",
      "Epoch 01929 | Loss 89.2589 | MSE 97.3703 \n",
      "Epoch 01930 | Loss 95.9409 | MSE 91.5732 \n",
      "Epoch 01931 | Loss 92.2643 | MSE 94.6138 \n",
      "Epoch 01932 | Loss 92.2844 | MSE 90.0387 \n"
     ]
    },
    {
     "name": "stderr",
     "output_type": "stream",
     "text": [
      " 39%|██████████████▉                       | 1958/5000 [00:11<00:16, 186.26it/s]"
     ]
    },
    {
     "name": "stdout",
     "output_type": "stream",
     "text": [
      "Epoch 01933 | Loss 86.9475 | MSE 85.5127 \n",
      "Epoch 01934 | Loss 87.5814 | MSE 89.5983 \n",
      "Epoch 01935 | Loss 89.2571 | MSE 86.5219 \n",
      "Epoch 01936 | Loss 89.0557 | MSE 93.3420 \n",
      "Epoch 01937 | Loss 90.5132 | MSE 89.7673 \n",
      "Epoch 01938 | Loss 91.4523 | MSE 87.4774 \n",
      "Epoch 01939 | Loss 84.8663 | MSE 86.9019 \n",
      "Epoch 01940 | Loss 86.3499 | MSE 82.3139 \n",
      "Epoch 01941 | Loss 92.6233 | MSE 91.7264 \n",
      "Epoch 01942 | Loss 89.0196 | MSE 84.1958 \n",
      "Epoch 01943 | Loss 88.6164 | MSE 90.3091 \n",
      "Epoch 01944 | Loss 87.7152 | MSE 86.9281 \n",
      "Epoch 01945 | Loss 84.4399 | MSE 85.3638 \n",
      "Epoch 01946 | Loss 95.5310 | MSE 90.8036 \n",
      "Epoch 01947 | Loss 92.2006 | MSE 84.2261 \n",
      "Epoch 01948 | Loss 94.0486 | MSE 89.1437 \n",
      "Epoch 01949 | Loss 86.9888 | MSE 84.3665 \n",
      "Epoch 01950 | Loss 89.1666 | MSE 87.3491 \n",
      "Epoch 01951 | Loss 90.7855 | MSE 96.5522 \n",
      "Epoch 01952 | Loss 87.1226 | MSE 94.5833 \n",
      "Epoch 01953 | Loss 89.6570 | MSE 88.5557 \n",
      "Epoch 01954 | Loss 91.7631 | MSE 97.0793 \n",
      "Epoch 01955 | Loss 96.4526 | MSE 90.5256 \n",
      "Epoch 01956 | Loss 94.1223 | MSE 100.0516 \n",
      "Epoch 01957 | Loss 89.8836 | MSE 90.9462 \n",
      "Epoch 01958 | Loss 88.2442 | MSE 92.9657 \n",
      "Epoch 01959 | Loss 89.3470 | MSE 97.3731 \n",
      "Epoch 01960 | Loss 89.7253 | MSE 92.1731 \n",
      "Epoch 01961 | Loss 93.2424 | MSE 117.8158 \n",
      "Epoch 01962 | Loss 104.5089 | MSE 90.0493 \n",
      "Epoch 01963 | Loss 99.4576 | MSE 90.0962 \n",
      "Epoch 01964 | Loss 92.2003 | MSE 89.3215 \n",
      "Epoch 01965 | Loss 86.6407 | MSE 90.3257 \n",
      "Epoch 01966 | Loss 101.0052 | MSE 129.1452 \n",
      "Epoch 01967 | Loss 115.3950 | MSE 99.3152 \n",
      "Epoch 01968 | Loss 110.8784 | MSE 114.0169 \n",
      "Epoch 01969 | Loss 102.9753 | MSE 86.9869 \n",
      "Epoch 01970 | Loss 93.7088 | MSE 86.4497 \n"
     ]
    },
    {
     "name": "stderr",
     "output_type": "stream",
     "text": [
      " 40%|███████████████▏                      | 1996/5000 [00:11<00:16, 183.44it/s]"
     ]
    },
    {
     "name": "stdout",
     "output_type": "stream",
     "text": [
      "Epoch 01971 | Loss 93.2413 | MSE 99.6011 \n",
      "Epoch 01972 | Loss 94.6287 | MSE 89.6530 \n",
      "Epoch 01973 | Loss 94.8701 | MSE 101.8377 \n",
      "Epoch 01974 | Loss 91.2488 | MSE 98.9972 \n",
      "Epoch 01975 | Loss 87.9661 | MSE 92.5653 \n",
      "Epoch 01976 | Loss 86.8339 | MSE 97.8270 \n",
      "Epoch 01977 | Loss 90.8061 | MSE 84.1196 \n",
      "Epoch 01978 | Loss 91.4091 | MSE 88.8657 \n",
      "Epoch 01979 | Loss 90.6674 | MSE 93.7069 \n",
      "Epoch 01980 | Loss 91.8716 | MSE 92.5030 \n",
      "Epoch 01981 | Loss 91.0026 | MSE 93.2473 \n",
      "Epoch 01982 | Loss 89.7378 | MSE 84.7025 \n",
      "Epoch 01983 | Loss 95.2814 | MSE 89.8500 \n",
      "Epoch 01984 | Loss 89.4856 | MSE 94.3023 \n",
      "Epoch 01985 | Loss 87.4672 | MSE 88.2469 \n",
      "Epoch 01986 | Loss 94.9857 | MSE 98.3658 \n",
      "Epoch 01987 | Loss 92.0491 | MSE 85.3954 \n",
      "Epoch 01988 | Loss 93.6451 | MSE 86.7546 \n",
      "Epoch 01989 | Loss 89.4560 | MSE 84.0970 \n",
      "Epoch 01990 | Loss 84.5114 | MSE 85.1880 \n",
      "Epoch 01991 | Loss 87.4120 | MSE 91.3307 \n",
      "Epoch 01992 | Loss 91.4983 | MSE 86.0700 \n",
      "Epoch 01993 | Loss 86.2542 | MSE 85.9229 \n",
      "Epoch 01994 | Loss 90.0489 | MSE 91.8177 \n",
      "Epoch 01995 | Loss 89.0815 | MSE 84.4161 \n",
      "Epoch 01996 | Loss 92.0396 | MSE 88.4541 \n",
      "Epoch 01997 | Loss 87.3336 | MSE 93.7544 \n",
      "Epoch 01998 | Loss 88.3778 | MSE 94.8060 \n",
      "Epoch 01999 | Loss 91.3201 | MSE 98.9117 \n",
      "Epoch 02000 | Loss 87.9458 | MSE 87.5622 \n",
      "Epoch 02001 | Loss 96.2180 | MSE 100.2526 \n",
      "Epoch 02002 | Loss 94.4664 | MSE 89.3693 \n",
      "Epoch 02003 | Loss 92.8162 | MSE 95.0411 \n",
      "Epoch 02004 | Loss 88.2812 | MSE 86.8814 \n",
      "Epoch 02005 | Loss 88.1331 | MSE 89.5299 \n",
      "Epoch 02006 | Loss 90.6826 | MSE 95.9708 \n"
     ]
    },
    {
     "name": "stderr",
     "output_type": "stream",
     "text": [
      " 41%|███████████████▍                      | 2034/5000 [00:11<00:16, 183.59it/s]"
     ]
    },
    {
     "name": "stdout",
     "output_type": "stream",
     "text": [
      "Epoch 02007 | Loss 94.3060 | MSE 85.7711 \n",
      "Epoch 02008 | Loss 94.2477 | MSE 93.7326 \n",
      "Epoch 02009 | Loss 90.6574 | MSE 83.3805 \n",
      "Epoch 02010 | Loss 91.2465 | MSE 88.8854 \n",
      "Epoch 02011 | Loss 90.8936 | MSE 104.5901 \n",
      "Epoch 02012 | Loss 95.9134 | MSE 92.8095 \n",
      "Epoch 02013 | Loss 95.4038 | MSE 109.3769 \n",
      "Epoch 02014 | Loss 94.7607 | MSE 88.0568 \n",
      "Epoch 02015 | Loss 89.6674 | MSE 85.4131 \n",
      "Epoch 02016 | Loss 89.8059 | MSE 85.6818 \n",
      "Epoch 02017 | Loss 91.9832 | MSE 86.6035 \n",
      "Epoch 02018 | Loss 94.3355 | MSE 103.4902 \n",
      "Epoch 02019 | Loss 90.3779 | MSE 91.8924 \n",
      "Epoch 02020 | Loss 88.8413 | MSE 87.5919 \n",
      "Epoch 02021 | Loss 89.9396 | MSE 89.5297 \n",
      "Epoch 02022 | Loss 89.5888 | MSE 84.1014 \n",
      "Epoch 02023 | Loss 94.5195 | MSE 95.4211 \n",
      "Epoch 02024 | Loss 93.3664 | MSE 91.4894 \n",
      "Epoch 02025 | Loss 91.2355 | MSE 95.5025 \n",
      "Epoch 02026 | Loss 88.9141 | MSE 88.2230 \n",
      "Epoch 02027 | Loss 87.6533 | MSE 87.1668 \n",
      "Epoch 02028 | Loss 88.8115 | MSE 93.5839 \n",
      "Epoch 02029 | Loss 90.1161 | MSE 91.8706 \n",
      "Epoch 02030 | Loss 93.4958 | MSE 106.5909 \n",
      "Epoch 02031 | Loss 91.9864 | MSE 92.7823 \n",
      "Epoch 02032 | Loss 98.2013 | MSE 101.1383 \n",
      "Epoch 02033 | Loss 92.9015 | MSE 87.6078 \n",
      "Epoch 02034 | Loss 89.8233 | MSE 87.7918 \n",
      "Epoch 02035 | Loss 88.6658 | MSE 97.0917 \n",
      "Epoch 02036 | Loss 89.7152 | MSE 88.5038 \n",
      "Epoch 02037 | Loss 98.2613 | MSE 105.8321 \n",
      "Epoch 02038 | Loss 96.7120 | MSE 92.3156 \n",
      "Epoch 02039 | Loss 88.2760 | MSE 94.0752 \n",
      "Epoch 02040 | Loss 90.5571 | MSE 90.5734 \n",
      "Epoch 02041 | Loss 84.0706 | MSE 80.2050 \n",
      "Epoch 02042 | Loss 93.4198 | MSE 87.6220 \n",
      "Epoch 02043 | Loss 91.1224 | MSE 83.7223 \n"
     ]
    },
    {
     "name": "stderr",
     "output_type": "stream",
     "text": [
      " 41%|███████████████▋                      | 2072/5000 [00:11<00:16, 182.11it/s]"
     ]
    },
    {
     "name": "stdout",
     "output_type": "stream",
     "text": [
      "Epoch 02044 | Loss 93.6246 | MSE 89.0063 \n",
      "Epoch 02045 | Loss 90.8857 | MSE 86.0326 \n",
      "Epoch 02046 | Loss 89.7570 | MSE 91.1340 \n",
      "Epoch 02047 | Loss 91.3054 | MSE 85.9753 \n",
      "Epoch 02048 | Loss 90.5331 | MSE 98.0790 \n",
      "Epoch 02049 | Loss 93.4966 | MSE 84.8835 \n",
      "Epoch 02050 | Loss 90.1419 | MSE 89.8479 \n",
      "Epoch 02051 | Loss 90.1535 | MSE 89.9171 \n",
      "Epoch 02052 | Loss 87.6337 | MSE 93.5315 \n",
      "Epoch 02053 | Loss 86.7145 | MSE 101.6156 \n",
      "Epoch 02054 | Loss 88.3217 | MSE 87.6120 \n",
      "Epoch 02055 | Loss 92.6095 | MSE 101.0260 \n",
      "Epoch 02056 | Loss 99.6975 | MSE 86.1094 \n",
      "Epoch 02057 | Loss 96.1980 | MSE 103.3418 \n",
      "Epoch 02058 | Loss 93.3429 | MSE 93.7334 \n",
      "Epoch 02059 | Loss 92.2810 | MSE 95.9724 \n",
      "Epoch 02060 | Loss 85.3475 | MSE 85.8597 \n",
      "Epoch 02061 | Loss 87.9610 | MSE 81.3248 \n",
      "Epoch 02062 | Loss 89.5849 | MSE 84.7586 \n",
      "Epoch 02063 | Loss 88.8759 | MSE 82.1662 \n",
      "Epoch 02064 | Loss 91.8400 | MSE 91.9573 \n",
      "Epoch 02065 | Loss 91.8401 | MSE 88.4811 \n",
      "Epoch 02066 | Loss 86.5160 | MSE 87.5181 \n",
      "Epoch 02067 | Loss 89.4397 | MSE 97.3715 \n",
      "Epoch 02068 | Loss 90.5290 | MSE 88.5737 \n",
      "Epoch 02069 | Loss 95.3145 | MSE 105.8752 \n",
      "Epoch 02070 | Loss 95.9388 | MSE 87.1413 \n",
      "Epoch 02071 | Loss 89.4241 | MSE 91.5323 \n",
      "Epoch 02072 | Loss 92.7463 | MSE 94.5926 \n",
      "Epoch 02073 | Loss 90.3483 | MSE 93.8057 \n",
      "Epoch 02074 | Loss 92.1140 | MSE 106.1402 \n",
      "Epoch 02075 | Loss 94.1874 | MSE 96.0278 \n",
      "Epoch 02076 | Loss 92.7481 | MSE 100.7247 \n",
      "Epoch 02077 | Loss 93.4968 | MSE 86.0050 \n",
      "Epoch 02078 | Loss 89.6319 | MSE 86.5072 \n",
      "Epoch 02079 | Loss 92.2861 | MSE 86.5724 \n",
      "Epoch 02080 | Loss 84.5819 | MSE 91.4933 \n"
     ]
    },
    {
     "name": "stderr",
     "output_type": "stream",
     "text": [
      " 42%|████████████████                      | 2110/5000 [00:11<00:15, 184.05it/s]"
     ]
    },
    {
     "name": "stdout",
     "output_type": "stream",
     "text": [
      "Epoch 02081 | Loss 93.9490 | MSE 117.5645 \n",
      "Epoch 02082 | Loss 102.7692 | MSE 99.0495 \n",
      "Epoch 02083 | Loss 110.2695 | MSE 121.2170 \n",
      "Epoch 02084 | Loss 107.8051 | MSE 84.6209 \n",
      "Epoch 02085 | Loss 95.1425 | MSE 84.8936 \n",
      "Epoch 02086 | Loss 86.4519 | MSE 93.1312 \n",
      "Epoch 02087 | Loss 86.6304 | MSE 88.5095 \n",
      "Epoch 02088 | Loss 89.4274 | MSE 101.1475 \n",
      "Epoch 02089 | Loss 89.7071 | MSE 90.8109 \n",
      "Epoch 02090 | Loss 89.1150 | MSE 88.7726 \n",
      "Epoch 02091 | Loss 90.4278 | MSE 96.2670 \n",
      "Epoch 02092 | Loss 92.0773 | MSE 89.8903 \n",
      "Epoch 02093 | Loss 94.4869 | MSE 92.5368 \n",
      "Epoch 02094 | Loss 86.9066 | MSE 93.2584 \n",
      "Epoch 02095 | Loss 88.9621 | MSE 95.3995 \n",
      "Epoch 02096 | Loss 95.5512 | MSE 121.7712 \n",
      "Epoch 02097 | Loss 111.8958 | MSE 95.3299 \n",
      "Epoch 02098 | Loss 103.6298 | MSE 101.6004 \n",
      "Epoch 02099 | Loss 97.8183 | MSE 88.8990 \n",
      "Epoch 02100 | Loss 86.5479 | MSE 97.5429 \n",
      "Epoch 02101 | Loss 97.6578 | MSE 126.3420 \n",
      "Epoch 02102 | Loss 114.4109 | MSE 93.8043 \n",
      "Epoch 02103 | Loss 105.8644 | MSE 98.9784 \n",
      "Epoch 02104 | Loss 92.4967 | MSE 87.0742 \n",
      "Epoch 02105 | Loss 88.2587 | MSE 89.0919 \n",
      "Epoch 02106 | Loss 95.2918 | MSE 119.7076 \n",
      "Epoch 02107 | Loss 98.7066 | MSE 95.8925 \n",
      "Epoch 02108 | Loss 93.9363 | MSE 92.6216 \n",
      "Epoch 02109 | Loss 89.6883 | MSE 87.7194 \n",
      "Epoch 02110 | Loss 87.8382 | MSE 85.1338 \n",
      "Epoch 02111 | Loss 88.9326 | MSE 100.1572 \n",
      "Epoch 02112 | Loss 94.2899 | MSE 87.7194 \n",
      "Epoch 02113 | Loss 92.7270 | MSE 87.6819 \n",
      "Epoch 02114 | Loss 89.3587 | MSE 88.4812 \n",
      "Epoch 02115 | Loss 92.9892 | MSE 82.7036 \n",
      "Epoch 02116 | Loss 90.1074 | MSE 87.5033 \n",
      "Epoch 02117 | Loss 87.8890 | MSE 87.4922 \n",
      "Epoch 02118 | Loss 88.3733 | MSE 89.5127 \n"
     ]
    },
    {
     "name": "stderr",
     "output_type": "stream",
     "text": [
      " 43%|████████████████▎                     | 2148/5000 [00:12<00:15, 185.66it/s]"
     ]
    },
    {
     "name": "stdout",
     "output_type": "stream",
     "text": [
      "Epoch 02119 | Loss 89.4644 | MSE 90.9095 \n",
      "Epoch 02120 | Loss 89.1719 | MSE 84.4660 \n",
      "Epoch 02121 | Loss 88.2193 | MSE 84.8697 \n",
      "Epoch 02122 | Loss 93.5696 | MSE 94.4634 \n",
      "Epoch 02123 | Loss 86.3376 | MSE 95.6741 \n",
      "Epoch 02124 | Loss 93.1956 | MSE 113.9902 \n",
      "Epoch 02125 | Loss 91.7482 | MSE 96.2495 \n",
      "Epoch 02126 | Loss 88.3483 | MSE 89.4740 \n",
      "Epoch 02127 | Loss 86.3488 | MSE 95.5525 \n",
      "Epoch 02128 | Loss 92.3263 | MSE 89.4514 \n",
      "Epoch 02129 | Loss 93.9615 | MSE 103.7810 \n",
      "Epoch 02130 | Loss 92.9544 | MSE 94.2503 \n",
      "Epoch 02131 | Loss 92.3572 | MSE 92.6083 \n",
      "Epoch 02132 | Loss 87.6367 | MSE 96.3824 \n",
      "Epoch 02133 | Loss 84.7775 | MSE 82.4383 \n",
      "Epoch 02134 | Loss 89.7299 | MSE 86.7591 \n",
      "Epoch 02135 | Loss 91.4612 | MSE 90.8723 \n",
      "Epoch 02136 | Loss 86.8499 | MSE 92.6872 \n",
      "Epoch 02137 | Loss 88.5537 | MSE 93.3496 \n",
      "Epoch 02138 | Loss 88.7653 | MSE 81.7962 \n",
      "Epoch 02139 | Loss 89.2893 | MSE 81.6880 \n",
      "Epoch 02140 | Loss 88.0766 | MSE 90.7882 \n",
      "Epoch 02141 | Loss 89.7570 | MSE 87.3190 \n",
      "Epoch 02142 | Loss 99.9017 | MSE 111.0835 \n",
      "Epoch 02143 | Loss 93.7509 | MSE 90.6165 \n",
      "Epoch 02144 | Loss 93.7589 | MSE 86.7406 \n",
      "Epoch 02145 | Loss 85.3494 | MSE 96.9404 \n",
      "Epoch 02146 | Loss 95.8722 | MSE 93.7753 \n",
      "Epoch 02147 | Loss 99.9903 | MSE 113.5705 \n",
      "Epoch 02148 | Loss 102.2455 | MSE 88.6871 \n",
      "Epoch 02149 | Loss 88.5543 | MSE 89.0699 \n",
      "Epoch 02150 | Loss 92.1372 | MSE 108.8326 \n",
      "Epoch 02151 | Loss 101.3688 | MSE 97.4987 \n",
      "Epoch 02152 | Loss 96.4045 | MSE 97.3729 \n",
      "Epoch 02153 | Loss 88.1127 | MSE 88.5218 \n",
      "Epoch 02154 | Loss 89.7184 | MSE 86.3404 \n",
      "Epoch 02155 | Loss 89.1782 | MSE 97.5961 \n",
      "Epoch 02156 | Loss 94.8231 | MSE 90.1909 \n"
     ]
    },
    {
     "name": "stderr",
     "output_type": "stream",
     "text": [
      " 44%|████████████████▌                     | 2186/5000 [00:12<00:15, 185.14it/s]"
     ]
    },
    {
     "name": "stdout",
     "output_type": "stream",
     "text": [
      "Epoch 02157 | Loss 90.9198 | MSE 97.2637 \n",
      "Epoch 02158 | Loss 93.8288 | MSE 89.6453 \n",
      "Epoch 02159 | Loss 87.7653 | MSE 91.4665 \n",
      "Epoch 02160 | Loss 85.3239 | MSE 98.4664 \n",
      "Epoch 02161 | Loss 94.3956 | MSE 88.8669 \n",
      "Epoch 02162 | Loss 95.8442 | MSE 95.8502 \n",
      "Epoch 02163 | Loss 94.8777 | MSE 85.5396 \n",
      "Epoch 02164 | Loss 87.0802 | MSE 87.3445 \n",
      "Epoch 02165 | Loss 89.5450 | MSE 93.1436 \n",
      "Epoch 02166 | Loss 91.5879 | MSE 94.0148 \n",
      "Epoch 02167 | Loss 88.4841 | MSE 96.3389 \n",
      "Epoch 02168 | Loss 89.0882 | MSE 93.0715 \n",
      "Epoch 02169 | Loss 89.8497 | MSE 87.8371 \n",
      "Epoch 02170 | Loss 91.7438 | MSE 86.5883 \n",
      "Epoch 02171 | Loss 84.7153 | MSE 88.8926 \n",
      "Epoch 02172 | Loss 86.8752 | MSE 89.0021 \n",
      "Epoch 02173 | Loss 88.0429 | MSE 92.2424 \n",
      "Epoch 02174 | Loss 86.8278 | MSE 91.3524 \n",
      "Epoch 02175 | Loss 89.3282 | MSE 91.4916 \n",
      "Epoch 02176 | Loss 87.8551 | MSE 93.7245 \n",
      "Epoch 02177 | Loss 88.7612 | MSE 89.7924 \n",
      "Epoch 02178 | Loss 88.4756 | MSE 99.6319 \n",
      "Epoch 02179 | Loss 96.4122 | MSE 90.8857 \n",
      "Epoch 02180 | Loss 92.5605 | MSE 106.9679 \n",
      "Epoch 02181 | Loss 94.7137 | MSE 92.4743 \n",
      "Epoch 02182 | Loss 93.6718 | MSE 92.0373 \n",
      "Epoch 02183 | Loss 89.6101 | MSE 91.9619 \n",
      "Epoch 02184 | Loss 86.6486 | MSE 88.7202 \n",
      "Epoch 02185 | Loss 91.7739 | MSE 101.8690 \n",
      "Epoch 02186 | Loss 90.7699 | MSE 90.6889 \n",
      "Epoch 02187 | Loss 90.8275 | MSE 91.9131 \n",
      "Epoch 02188 | Loss 89.3188 | MSE 91.6266 \n",
      "Epoch 02189 | Loss 87.7682 | MSE 86.4321 \n",
      "Epoch 02190 | Loss 90.1769 | MSE 100.5180 \n",
      "Epoch 02191 | Loss 98.5240 | MSE 88.7374 \n",
      "Epoch 02192 | Loss 93.4762 | MSE 89.6485 \n",
      "Epoch 02193 | Loss 86.1637 | MSE 97.8163 \n"
     ]
    },
    {
     "name": "stderr",
     "output_type": "stream",
     "text": [
      " 44%|████████████████▉                     | 2224/5000 [00:12<00:15, 183.88it/s]"
     ]
    },
    {
     "name": "stdout",
     "output_type": "stream",
     "text": [
      "Epoch 02194 | Loss 92.8805 | MSE 96.0874 \n",
      "Epoch 02195 | Loss 98.4855 | MSE 116.9973 \n",
      "Epoch 02196 | Loss 102.5707 | MSE 91.9489 \n",
      "Epoch 02197 | Loss 89.2880 | MSE 87.6360 \n",
      "Epoch 02198 | Loss 88.1796 | MSE 93.7896 \n",
      "Epoch 02199 | Loss 91.5052 | MSE 84.7431 \n",
      "Epoch 02200 | Loss 95.9707 | MSE 98.4924 \n",
      "Epoch 02201 | Loss 96.3350 | MSE 89.9684 \n",
      "Epoch 02202 | Loss 89.5689 | MSE 88.5298 \n",
      "Epoch 02203 | Loss 88.0657 | MSE 97.6623 \n",
      "Epoch 02204 | Loss 95.5854 | MSE 87.8052 \n",
      "Epoch 02205 | Loss 94.5340 | MSE 100.2506 \n",
      "Epoch 02206 | Loss 93.8879 | MSE 87.6562 \n",
      "Epoch 02207 | Loss 88.7699 | MSE 93.8715 \n",
      "Epoch 02208 | Loss 87.5284 | MSE 99.3424 \n",
      "Epoch 02209 | Loss 84.2688 | MSE 90.2861 \n",
      "Epoch 02210 | Loss 89.5634 | MSE 91.0055 \n",
      "Epoch 02211 | Loss 94.1085 | MSE 83.1888 \n",
      "Epoch 02212 | Loss 89.0994 | MSE 84.8206 \n",
      "Epoch 02213 | Loss 92.1398 | MSE 90.5672 \n",
      "Epoch 02214 | Loss 89.8502 | MSE 89.6042 \n",
      "Epoch 02215 | Loss 95.0663 | MSE 98.0487 \n",
      "Epoch 02216 | Loss 93.2588 | MSE 86.4708 \n",
      "Epoch 02217 | Loss 92.1769 | MSE 89.2914 \n",
      "Epoch 02218 | Loss 89.2502 | MSE 87.9556 \n",
      "Epoch 02219 | Loss 89.2296 | MSE 88.5003 \n",
      "Epoch 02220 | Loss 90.3259 | MSE 108.7911 \n",
      "Epoch 02221 | Loss 99.8416 | MSE 94.9440 \n",
      "Epoch 02222 | Loss 100.1175 | MSE 101.5065 \n",
      "Epoch 02223 | Loss 97.2557 | MSE 87.6050 \n",
      "Epoch 02224 | Loss 91.4489 | MSE 90.7042 \n",
      "Epoch 02225 | Loss 88.2634 | MSE 94.9510 \n",
      "Epoch 02226 | Loss 85.2840 | MSE 92.2849 \n",
      "Epoch 02227 | Loss 94.3983 | MSE 105.2277 \n",
      "Epoch 02228 | Loss 101.0245 | MSE 89.8228 \n",
      "Epoch 02229 | Loss 92.0622 | MSE 88.9556 \n",
      "Epoch 02230 | Loss 87.7151 | MSE 99.4658 \n"
     ]
    },
    {
     "name": "stderr",
     "output_type": "stream",
     "text": [
      " 45%|█████████████████▏                    | 2262/5000 [00:12<00:14, 185.37it/s]"
     ]
    },
    {
     "name": "stdout",
     "output_type": "stream",
     "text": [
      "Epoch 02231 | Loss 93.3086 | MSE 90.4895 \n",
      "Epoch 02232 | Loss 97.5658 | MSE 106.7344 \n",
      "Epoch 02233 | Loss 100.7232 | MSE 90.3318 \n",
      "Epoch 02234 | Loss 97.3010 | MSE 94.6300 \n",
      "Epoch 02235 | Loss 94.3660 | MSE 92.4327 \n",
      "Epoch 02236 | Loss 85.6538 | MSE 90.3283 \n",
      "Epoch 02237 | Loss 91.9444 | MSE 107.1783 \n",
      "Epoch 02238 | Loss 97.5857 | MSE 89.2229 \n",
      "Epoch 02239 | Loss 86.8042 | MSE 88.6834 \n",
      "Epoch 02240 | Loss 84.5347 | MSE 88.2971 \n",
      "Epoch 02241 | Loss 87.8759 | MSE 81.7791 \n",
      "Epoch 02242 | Loss 92.6226 | MSE 96.5262 \n",
      "Epoch 02243 | Loss 92.9221 | MSE 85.6879 \n",
      "Epoch 02244 | Loss 87.6479 | MSE 86.7799 \n",
      "Epoch 02245 | Loss 86.4392 | MSE 84.9933 \n",
      "Epoch 02246 | Loss 87.3833 | MSE 84.4775 \n",
      "Epoch 02247 | Loss 90.5385 | MSE 90.7833 \n",
      "Epoch 02248 | Loss 81.7928 | MSE 90.5862 \n",
      "Epoch 02249 | Loss 85.6326 | MSE 87.4984 \n",
      "Epoch 02250 | Loss 93.0700 | MSE 117.6152 \n",
      "Epoch 02251 | Loss 99.8237 | MSE 97.2806 \n",
      "Epoch 02252 | Loss 99.9089 | MSE 101.9695 \n",
      "Epoch 02253 | Loss 89.8214 | MSE 88.7164 \n",
      "Epoch 02254 | Loss 88.4841 | MSE 87.8391 \n",
      "Epoch 02255 | Loss 103.9578 | MSE 121.0965 \n",
      "Epoch 02256 | Loss 115.4727 | MSE 100.0533 \n",
      "Epoch 02257 | Loss 105.3883 | MSE 100.9850 \n",
      "Epoch 02258 | Loss 92.4678 | MSE 89.4373 \n",
      "Epoch 02259 | Loss 90.8056 | MSE 88.4432 \n",
      "Epoch 02260 | Loss 99.9140 | MSE 119.6463 \n",
      "Epoch 02261 | Loss 103.4845 | MSE 88.6400 \n",
      "Epoch 02262 | Loss 99.4684 | MSE 87.1351 \n",
      "Epoch 02263 | Loss 91.4477 | MSE 102.8451 \n",
      "Epoch 02264 | Loss 95.2217 | MSE 94.1311 \n",
      "Epoch 02265 | Loss 100.3852 | MSE 103.8118 \n",
      "Epoch 02266 | Loss 92.3734 | MSE 89.3562 \n",
      "Epoch 02267 | Loss 87.0100 | MSE 85.4098 \n",
      "Epoch 02268 | Loss 91.2455 | MSE 111.2329 \n"
     ]
    },
    {
     "name": "stderr",
     "output_type": "stream",
     "text": [
      " 46%|█████████████████▍                    | 2301/5000 [00:12<00:14, 187.28it/s]"
     ]
    },
    {
     "name": "stdout",
     "output_type": "stream",
     "text": [
      "Epoch 02269 | Loss 104.1660 | MSE 88.6832 \n",
      "Epoch 02270 | Loss 95.7675 | MSE 96.5245 \n",
      "Epoch 02271 | Loss 87.5606 | MSE 102.6234 \n",
      "Epoch 02272 | Loss 89.2149 | MSE 91.4977 \n",
      "Epoch 02273 | Loss 94.9895 | MSE 98.3522 \n",
      "Epoch 02274 | Loss 97.3949 | MSE 80.7549 \n",
      "Epoch 02275 | Loss 90.0422 | MSE 82.3322 \n",
      "Epoch 02276 | Loss 91.5854 | MSE 103.6392 \n",
      "Epoch 02277 | Loss 94.6598 | MSE 98.2009 \n",
      "Epoch 02278 | Loss 92.5120 | MSE 94.0453 \n",
      "Epoch 02279 | Loss 87.7872 | MSE 93.9791 \n",
      "Epoch 02280 | Loss 89.4527 | MSE 87.1628 \n",
      "Epoch 02281 | Loss 101.1618 | MSE 96.5659 \n",
      "Epoch 02282 | Loss 93.7864 | MSE 97.7472 \n",
      "Epoch 02283 | Loss 89.0481 | MSE 103.6836 \n",
      "Epoch 02284 | Loss 98.2969 | MSE 110.4888 \n",
      "Epoch 02285 | Loss 93.3553 | MSE 88.0133 \n",
      "Epoch 02286 | Loss 87.4463 | MSE 83.0729 \n",
      "Epoch 02287 | Loss 88.9226 | MSE 91.1495 \n",
      "Epoch 02288 | Loss 94.4404 | MSE 81.5618 \n",
      "Epoch 02289 | Loss 89.6266 | MSE 89.9095 \n",
      "Epoch 02290 | Loss 85.1680 | MSE 91.0334 \n",
      "Epoch 02291 | Loss 86.5340 | MSE 86.1115 \n",
      "Epoch 02292 | Loss 90.0150 | MSE 91.7200 \n",
      "Epoch 02293 | Loss 88.2932 | MSE 81.8240 \n",
      "Epoch 02294 | Loss 88.5809 | MSE 80.8136 \n",
      "Epoch 02295 | Loss 93.0549 | MSE 91.8549 \n",
      "Epoch 02296 | Loss 94.3988 | MSE 87.5935 \n",
      "Epoch 02297 | Loss 90.9963 | MSE 97.9662 \n",
      "Epoch 02298 | Loss 95.7661 | MSE 88.3435 \n",
      "Epoch 02299 | Loss 89.7866 | MSE 85.6885 \n",
      "Epoch 02300 | Loss 87.1930 | MSE 97.9135 \n",
      "Epoch 02301 | Loss 92.9554 | MSE 88.5635 \n",
      "Epoch 02302 | Loss 94.3684 | MSE 94.7015 \n",
      "Epoch 02303 | Loss 85.5714 | MSE 98.2942 \n",
      "Epoch 02304 | Loss 91.1220 | MSE 90.8920 \n",
      "Epoch 02305 | Loss 98.0210 | MSE 100.2057 \n",
      "Epoch 02306 | Loss 95.2534 | MSE 85.1362 \n"
     ]
    },
    {
     "name": "stderr",
     "output_type": "stream",
     "text": [
      " 47%|█████████████████▊                    | 2340/5000 [00:13<00:14, 188.56it/s]"
     ]
    },
    {
     "name": "stdout",
     "output_type": "stream",
     "text": [
      "Epoch 02307 | Loss 90.3761 | MSE 85.6582 \n",
      "Epoch 02308 | Loss 86.6473 | MSE 92.2409 \n",
      "Epoch 02309 | Loss 88.3614 | MSE 91.0887 \n",
      "Epoch 02310 | Loss 90.1980 | MSE 95.2836 \n",
      "Epoch 02311 | Loss 89.1762 | MSE 87.7488 \n",
      "Epoch 02312 | Loss 87.2288 | MSE 85.6227 \n",
      "Epoch 02313 | Loss 86.6608 | MSE 93.2058 \n",
      "Epoch 02314 | Loss 90.3495 | MSE 84.6556 \n",
      "Epoch 02315 | Loss 86.4521 | MSE 91.7830 \n",
      "Epoch 02316 | Loss 85.1097 | MSE 86.4065 \n",
      "Epoch 02317 | Loss 86.5842 | MSE 85.7261 \n",
      "Epoch 02318 | Loss 88.4986 | MSE 94.6327 \n",
      "Epoch 02319 | Loss 91.3203 | MSE 88.8880 \n",
      "Epoch 02320 | Loss 91.5210 | MSE 91.4739 \n",
      "Epoch 02321 | Loss 89.8779 | MSE 82.8525 \n",
      "Epoch 02322 | Loss 87.1348 | MSE 80.4544 \n",
      "Epoch 02323 | Loss 88.5706 | MSE 90.0084 \n",
      "Epoch 02324 | Loss 89.6722 | MSE 87.9268 \n",
      "Epoch 02325 | Loss 90.7269 | MSE 91.8064 \n",
      "Epoch 02326 | Loss 89.8740 | MSE 89.3421 \n",
      "Epoch 02327 | Loss 87.4949 | MSE 84.4889 \n",
      "Epoch 02328 | Loss 88.9107 | MSE 90.0702 \n",
      "Epoch 02329 | Loss 87.6983 | MSE 85.4526 \n",
      "Epoch 02330 | Loss 88.4484 | MSE 84.9336 \n",
      "Epoch 02331 | Loss 88.0251 | MSE 94.2476 \n",
      "Epoch 02332 | Loss 90.5497 | MSE 89.4676 \n",
      "Epoch 02333 | Loss 84.7322 | MSE 91.7946 \n",
      "Epoch 02334 | Loss 93.0220 | MSE 92.3600 \n",
      "Epoch 02335 | Loss 89.8747 | MSE 86.0560 \n",
      "Epoch 02336 | Loss 88.7520 | MSE 88.3290 \n",
      "Epoch 02337 | Loss 82.7849 | MSE 84.5421 \n",
      "Epoch 02338 | Loss 88.2526 | MSE 89.0007 \n",
      "Epoch 02339 | Loss 84.6729 | MSE 96.0733 \n",
      "Epoch 02340 | Loss 89.3942 | MSE 90.6234 \n",
      "Epoch 02341 | Loss 86.8292 | MSE 87.2937 \n",
      "Epoch 02342 | Loss 88.7924 | MSE 81.3988 \n",
      "Epoch 02343 | Loss 91.1074 | MSE 94.0504 \n",
      "Epoch 02344 | Loss 93.1947 | MSE 89.6481 \n"
     ]
    },
    {
     "name": "stderr",
     "output_type": "stream",
     "text": [
      "\r",
      " 47%|█████████████████▉                    | 2359/5000 [00:13<00:14, 185.23it/s]"
     ]
    },
    {
     "name": "stdout",
     "output_type": "stream",
     "text": [
      "Epoch 02345 | Loss 93.0742 | MSE 96.6518 \n",
      "Epoch 02346 | Loss 91.6827 | MSE 91.5533 \n",
      "Epoch 02347 | Loss 88.5738 | MSE 85.9038 \n",
      "Epoch 02348 | Loss 84.7024 | MSE 88.6256 \n",
      "Epoch 02349 | Loss 89.3277 | MSE 85.4564 \n",
      "Epoch 02350 | Loss 88.1136 | MSE 95.0147 \n",
      "Epoch 02351 | Loss 88.3805 | MSE 97.4573 \n",
      "Epoch 02352 | Loss 83.8060 | MSE 89.0786 \n",
      "Epoch 02353 | Loss 84.4035 | MSE 82.8680 \n",
      "Epoch 02354 | Loss 89.5652 | MSE 86.0919 \n",
      "Epoch 02355 | Loss 91.6842 | MSE 85.0531 \n",
      "Epoch 02356 | Loss 88.5719 | MSE 93.2080 \n",
      "Epoch 02357 | Loss 85.3900 | MSE 96.8554 \n",
      "Epoch 02358 | Loss 90.0553 | MSE 91.7387 \n",
      "Epoch 02359 | Loss 89.7087 | MSE 106.4663 \n",
      "Epoch 02360 | Loss 101.2740 | MSE 87.0075 \n",
      "Epoch 02361 | Loss 93.5681 | MSE 89.2546 \n",
      "Epoch 02362 | Loss 93.5818 | MSE 89.8724 \n",
      "Epoch 02363 | Loss 89.9247 | MSE 88.9991 \n",
      "Epoch 02364 | Loss 91.3763 | MSE 112.6962 \n",
      "Epoch 02365 | Loss 101.1522 | MSE 92.1626 \n",
      "Epoch 02366 | Loss 98.2670 | MSE 96.4744 \n",
      "Epoch 02367 | Loss 89.3112 | MSE 88.2279 \n",
      "Epoch 02368 | Loss 87.9910 | MSE 86.3199 \n",
      "Epoch 02369 | Loss 87.4934 | MSE 89.4752 \n",
      "Epoch 02370 | Loss 88.1649 | MSE 84.2861 \n",
      "Epoch 02371 | Loss 87.5138 | MSE 85.9323 \n",
      "Epoch 02372 | Loss 87.3750 | MSE 85.6945 \n",
      "Epoch 02373 | Loss 85.9191 | MSE 86.0921 \n",
      "Epoch 02374 | Loss 90.9124 | MSE 99.8948 \n",
      "Epoch 02375 | Loss 88.6993 | MSE 88.0628 \n",
      "Epoch 02376 | Loss 93.6901 | MSE 85.5720 \n"
     ]
    },
    {
     "name": "stderr",
     "output_type": "stream",
     "text": [
      "\r",
      " 48%|██████████████████                    | 2378/5000 [00:13<00:14, 184.18it/s]"
     ]
    },
    {
     "name": "stdout",
     "output_type": "stream",
     "text": [
      "Epoch 02377 | Loss 93.3155 | MSE 86.7438 \n",
      "Epoch 02378 | Loss 89.6037 | MSE 86.4951 \n",
      "Epoch 02379 | Loss 92.7500 | MSE 100.9112 \n",
      "Epoch 02380 | Loss 95.7587 | MSE 84.6466 \n",
      "Epoch 02381 | Loss 91.2653 | MSE 88.2831 \n"
     ]
    },
    {
     "name": "stderr",
     "output_type": "stream",
     "text": [
      "\r",
      " 48%|██████████████████▏                   | 2397/5000 [00:13<00:14, 184.43it/s]"
     ]
    },
    {
     "name": "stdout",
     "output_type": "stream",
     "text": [
      "Epoch 02382 | Loss 89.0488 | MSE 87.8890 \n",
      "Epoch 02383 | Loss 86.6272 | MSE 89.3497 \n",
      "Epoch 02384 | Loss 89.3489 | MSE 105.5139 \n",
      "Epoch 02385 | Loss 94.3178 | MSE 93.7883 \n",
      "Epoch 02386 | Loss 96.2663 | MSE 99.7151 \n",
      "Epoch 02387 | Loss 92.7025 | MSE 83.7385 \n",
      "Epoch 02388 | Loss 88.2882 | MSE 84.6367 \n",
      "Epoch 02389 | Loss 86.6397 | MSE 105.5413 \n",
      "Epoch 02390 | Loss 93.8370 | MSE 96.9507 \n",
      "Epoch 02391 | Loss 95.5119 | MSE 107.0860 \n",
      "Epoch 02392 | Loss 94.5851 | MSE 88.3278 \n",
      "Epoch 02393 | Loss 87.3335 | MSE 86.4758 \n",
      "Epoch 02394 | Loss 88.1760 | MSE 91.8619 \n",
      "Epoch 02395 | Loss 89.7900 | MSE 88.7663 \n",
      "Epoch 02396 | Loss 93.3336 | MSE 108.6844 \n",
      "Epoch 02397 | Loss 95.9930 | MSE 89.0946 \n",
      "Epoch 02398 | Loss 91.9363 | MSE 90.4415 \n",
      "Epoch 02399 | Loss 86.0614 | MSE 91.2742 \n",
      "Epoch 02400 | Loss 89.4824 | MSE 88.5250 \n",
      "Epoch 02401 | Loss 96.3223 | MSE 99.8323 \n",
      "Epoch 02402 | Loss 84.6559 | MSE 94.5247 \n",
      "Epoch 02403 | Loss 88.1642 | MSE 91.9345 \n",
      "Epoch 02404 | Loss 88.2016 | MSE 94.3090 \n",
      "Epoch 02405 | Loss 88.8228 | MSE 88.5318 \n",
      "Epoch 02406 | Loss 89.0852 | MSE 92.8799 \n",
      "Epoch 02407 | Loss 86.2019 | MSE 100.6909 \n",
      "Epoch 02408 | Loss 90.0593 | MSE 90.1377 \n",
      "Epoch 02409 | Loss 91.0952 | MSE 97.0570 \n",
      "Epoch 02410 | Loss 95.7751 | MSE 84.4064 \n",
      "Epoch 02411 | Loss 96.0261 | MSE 92.5056 \n",
      "Epoch 02412 | Loss 89.2772 | MSE 95.7218 \n",
      "Epoch 02413 | Loss 84.9066 | MSE 97.8815 \n",
      "Epoch 02414 | Loss 85.9044 | MSE 92.3510 \n"
     ]
    },
    {
     "name": "stderr",
     "output_type": "stream",
     "text": [
      "\r",
      " 48%|██████████████████▎                   | 2416/5000 [00:13<00:13, 185.01it/s]"
     ]
    },
    {
     "name": "stdout",
     "output_type": "stream",
     "text": [
      "Epoch 02415 | Loss 91.8928 | MSE 90.7085 \n",
      "Epoch 02416 | Loss 89.8878 | MSE 88.5710 \n",
      "Epoch 02417 | Loss 92.6998 | MSE 89.6833 \n",
      "Epoch 02418 | Loss 94.9070 | MSE 97.3357 \n",
      "Epoch 02419 | Loss 88.3845 | MSE 104.5149 \n"
     ]
    },
    {
     "name": "stderr",
     "output_type": "stream",
     "text": [
      "\r",
      " 49%|██████████████████▌                   | 2435/5000 [00:13<00:13, 185.72it/s]"
     ]
    },
    {
     "name": "stdout",
     "output_type": "stream",
     "text": [
      "Epoch 02420 | Loss 93.4294 | MSE 101.0829 \n",
      "Epoch 02421 | Loss 92.5016 | MSE 85.3776 \n",
      "Epoch 02422 | Loss 89.8272 | MSE 89.3681 \n",
      "Epoch 02423 | Loss 90.8992 | MSE 83.3534 \n",
      "Epoch 02424 | Loss 87.1232 | MSE 89.5289 \n",
      "Epoch 02425 | Loss 83.2462 | MSE 96.0930 \n",
      "Epoch 02426 | Loss 87.3674 | MSE 91.9457 \n",
      "Epoch 02427 | Loss 92.5065 | MSE 102.0182 \n",
      "Epoch 02428 | Loss 95.7849 | MSE 82.6218 \n",
      "Epoch 02429 | Loss 89.4649 | MSE 83.1876 \n",
      "Epoch 02430 | Loss 83.3547 | MSE 89.2207 \n",
      "Epoch 02431 | Loss 94.5873 | MSE 86.6874 \n",
      "Epoch 02432 | Loss 90.5323 | MSE 107.7304 \n",
      "Epoch 02433 | Loss 96.2700 | MSE 93.5389 \n",
      "Epoch 02434 | Loss 95.3199 | MSE 92.3390 \n",
      "Epoch 02435 | Loss 93.0116 | MSE 96.9200 \n",
      "Epoch 02436 | Loss 87.5156 | MSE 92.9111 \n",
      "Epoch 02437 | Loss 106.5754 | MSE 122.3963 \n",
      "Epoch 02438 | Loss 106.1782 | MSE 98.3826 \n",
      "Epoch 02439 | Loss 98.9512 | MSE 103.6893 \n",
      "Epoch 02440 | Loss 89.7199 | MSE 101.9174 \n",
      "Epoch 02441 | Loss 91.5543 | MSE 96.6750 \n",
      "Epoch 02442 | Loss 103.7139 | MSE 115.9799 \n",
      "Epoch 02443 | Loss 108.3540 | MSE 88.0666 \n",
      "Epoch 02444 | Loss 94.6852 | MSE 92.0803 \n",
      "Epoch 02445 | Loss 93.0644 | MSE 126.7263 \n",
      "Epoch 02446 | Loss 105.9107 | MSE 97.1297 \n",
      "Epoch 02447 | Loss 93.1807 | MSE 92.6856 \n",
      "Epoch 02448 | Loss 88.4105 | MSE 93.7251 \n",
      "Epoch 02449 | Loss 91.6451 | MSE 89.8669 \n",
      "Epoch 02450 | Loss 98.7043 | MSE 109.2250 \n",
      "Epoch 02451 | Loss 97.4427 | MSE 88.0383 \n",
      "Epoch 02452 | Loss 94.9227 | MSE 91.8929 \n",
      "Epoch 02453 | Loss 90.1933 | MSE 99.1062 \n"
     ]
    },
    {
     "name": "stderr",
     "output_type": "stream",
     "text": [
      "\r",
      " 49%|██████████████████▋                   | 2455/5000 [00:13<00:13, 186.88it/s]"
     ]
    },
    {
     "name": "stdout",
     "output_type": "stream",
     "text": [
      "Epoch 02454 | Loss 89.0241 | MSE 86.3088 \n",
      "Epoch 02455 | Loss 88.8453 | MSE 92.2474 \n",
      "Epoch 02456 | Loss 87.4852 | MSE 95.1080 \n",
      "Epoch 02457 | Loss 85.5382 | MSE 94.8196 \n"
     ]
    },
    {
     "name": "stderr",
     "output_type": "stream",
     "text": [
      "\r",
      " 49%|██████████████████▊                   | 2474/5000 [00:13<00:13, 185.81it/s]"
     ]
    },
    {
     "name": "stdout",
     "output_type": "stream",
     "text": [
      "Epoch 02458 | Loss 91.0615 | MSE 106.3181 \n",
      "Epoch 02459 | Loss 94.2285 | MSE 89.9105 \n",
      "Epoch 02460 | Loss 95.6045 | MSE 88.2781 \n",
      "Epoch 02461 | Loss 86.8618 | MSE 89.7410 \n",
      "Epoch 02462 | Loss 87.8574 | MSE 84.9034 \n",
      "Epoch 02463 | Loss 89.4374 | MSE 96.8101 \n",
      "Epoch 02464 | Loss 95.1660 | MSE 89.4653 \n",
      "Epoch 02465 | Loss 88.2212 | MSE 86.7728 \n",
      "Epoch 02466 | Loss 91.4733 | MSE 94.6468 \n",
      "Epoch 02467 | Loss 92.4583 | MSE 84.8629 \n",
      "Epoch 02468 | Loss 94.0787 | MSE 98.4774 \n",
      "Epoch 02469 | Loss 91.8706 | MSE 90.7958 \n",
      "Epoch 02470 | Loss 92.9862 | MSE 89.3360 \n",
      "Epoch 02471 | Loss 85.8562 | MSE 97.9535 \n",
      "Epoch 02472 | Loss 92.3745 | MSE 86.4123 \n",
      "Epoch 02473 | Loss 93.4047 | MSE 92.1193 \n",
      "Epoch 02474 | Loss 86.9612 | MSE 88.3747 \n",
      "Epoch 02475 | Loss 89.8562 | MSE 84.9660 \n",
      "Epoch 02476 | Loss 88.0321 | MSE 93.8468 \n",
      "Epoch 02477 | Loss 88.2821 | MSE 89.6085 \n",
      "Epoch 02478 | Loss 89.1505 | MSE 92.4903 \n",
      "Epoch 02479 | Loss 86.0408 | MSE 85.2187 \n",
      "Epoch 02480 | Loss 92.2673 | MSE 84.4425 \n",
      "Epoch 02481 | Loss 90.3607 | MSE 93.4911 \n",
      "Epoch 02482 | Loss 86.4825 | MSE 91.3748 \n",
      "Epoch 02483 | Loss 90.6679 | MSE 96.1926 \n",
      "Epoch 02484 | Loss 90.7292 | MSE 91.2948 \n",
      "Epoch 02485 | Loss 87.5278 | MSE 87.6187 \n",
      "Epoch 02486 | Loss 87.8620 | MSE 89.6292 \n",
      "Epoch 02487 | Loss 86.6829 | MSE 83.1894 \n",
      "Epoch 02488 | Loss 87.7943 | MSE 93.2828 \n",
      "Epoch 02489 | Loss 88.9520 | MSE 88.3418 \n",
      "Epoch 02490 | Loss 91.2738 | MSE 89.7030 \n",
      "Epoch 02491 | Loss 85.6474 | MSE 92.3488 \n"
     ]
    },
    {
     "name": "stderr",
     "output_type": "stream",
     "text": [
      "\r",
      " 50%|██████████████████▉                   | 2493/5000 [00:14<00:13, 186.28it/s]"
     ]
    },
    {
     "name": "stdout",
     "output_type": "stream",
     "text": [
      "Epoch 02492 | Loss 89.4318 | MSE 92.0869 \n",
      "Epoch 02493 | Loss 92.4595 | MSE 105.4248 \n",
      "Epoch 02494 | Loss 93.0570 | MSE 94.4071 \n",
      "Epoch 02495 | Loss 93.8263 | MSE 96.7683 \n"
     ]
    },
    {
     "name": "stderr",
     "output_type": "stream",
     "text": [
      "\r",
      " 50%|███████████████████                   | 2512/5000 [00:14<00:13, 186.01it/s]"
     ]
    },
    {
     "name": "stdout",
     "output_type": "stream",
     "text": [
      "Epoch 02496 | Loss 89.1007 | MSE 101.4133 \n",
      "Epoch 02497 | Loss 85.6691 | MSE 92.9099 \n",
      "Epoch 02498 | Loss 89.4496 | MSE 92.3899 \n",
      "Epoch 02499 | Loss 88.3367 | MSE 92.8838 \n",
      "Epoch 02500 | Loss 88.9789 | MSE 88.0207 \n",
      "Epoch 02501 | Loss 94.5543 | MSE 93.6209 \n",
      "Epoch 02502 | Loss 96.2565 | MSE 85.1306 \n",
      "Epoch 02503 | Loss 92.2675 | MSE 92.6554 \n",
      "Epoch 02504 | Loss 94.1313 | MSE 83.8750 \n",
      "Epoch 02505 | Loss 85.0475 | MSE 87.0128 \n",
      "Epoch 02506 | Loss 86.8713 | MSE 94.8457 \n",
      "Epoch 02507 | Loss 88.6830 | MSE 88.5875 \n",
      "Epoch 02508 | Loss 88.0815 | MSE 95.6377 \n",
      "Epoch 02509 | Loss 89.6692 | MSE 85.9026 \n",
      "Epoch 02510 | Loss 86.3403 | MSE 84.2636 \n",
      "Epoch 02511 | Loss 91.0093 | MSE 87.0347 \n",
      "Epoch 02512 | Loss 85.6127 | MSE 87.9346 \n",
      "Epoch 02513 | Loss 91.8098 | MSE 85.4282 \n",
      "Epoch 02514 | Loss 87.2120 | MSE 93.5791 \n",
      "Epoch 02515 | Loss 84.5263 | MSE 85.5989 \n",
      "Epoch 02516 | Loss 93.7345 | MSE 92.8170 \n",
      "Epoch 02517 | Loss 91.3521 | MSE 90.1720 \n",
      "Epoch 02518 | Loss 85.9181 | MSE 97.9432 \n",
      "Epoch 02519 | Loss 87.9424 | MSE 101.2795 \n",
      "Epoch 02520 | Loss 86.8961 | MSE 97.4063 \n",
      "Epoch 02521 | Loss 93.6114 | MSE 111.0311 \n",
      "Epoch 02522 | Loss 98.7156 | MSE 93.3961 \n",
      "Epoch 02523 | Loss 97.6832 | MSE 107.6655 \n",
      "Epoch 02524 | Loss 95.1292 | MSE 93.0709 \n",
      "Epoch 02525 | Loss 90.1269 | MSE 89.6067 \n",
      "Epoch 02526 | Loss 84.0890 | MSE 94.9617 \n",
      "Epoch 02527 | Loss 90.3114 | MSE 85.2926 \n",
      "Epoch 02528 | Loss 86.1370 | MSE 94.1998 \n",
      "Epoch 02529 | Loss 91.3855 | MSE 90.0235 \n"
     ]
    },
    {
     "name": "stderr",
     "output_type": "stream",
     "text": [
      "\r",
      " 51%|███████████████████▏                  | 2531/5000 [00:14<00:13, 186.87it/s]"
     ]
    },
    {
     "name": "stdout",
     "output_type": "stream",
     "text": [
      "Epoch 02530 | Loss 86.4627 | MSE 87.1776 \n",
      "Epoch 02531 | Loss 86.9027 | MSE 85.5383 \n",
      "Epoch 02532 | Loss 84.2250 | MSE 87.1801 \n",
      "Epoch 02533 | Loss 92.2789 | MSE 85.6165 \n"
     ]
    },
    {
     "name": "stderr",
     "output_type": "stream",
     "text": [
      "\r",
      " 51%|███████████████████▍                  | 2550/5000 [00:14<00:13, 186.43it/s]"
     ]
    },
    {
     "name": "stdout",
     "output_type": "stream",
     "text": [
      "Epoch 02534 | Loss 89.3259 | MSE 99.0840 \n",
      "Epoch 02535 | Loss 91.1763 | MSE 91.4630 \n",
      "Epoch 02536 | Loss 91.0452 | MSE 90.1101 \n",
      "Epoch 02537 | Loss 84.7435 | MSE 94.6107 \n",
      "Epoch 02538 | Loss 89.5948 | MSE 92.2467 \n",
      "Epoch 02539 | Loss 94.8987 | MSE 113.6839 \n",
      "Epoch 02540 | Loss 95.6258 | MSE 96.8560 \n",
      "Epoch 02541 | Loss 94.0938 | MSE 100.3898 \n",
      "Epoch 02542 | Loss 89.8148 | MSE 92.0953 \n",
      "Epoch 02543 | Loss 83.3809 | MSE 93.1652 \n",
      "Epoch 02544 | Loss 95.2522 | MSE 133.5390 \n",
      "Epoch 02545 | Loss 118.7328 | MSE 96.8424 \n",
      "Epoch 02546 | Loss 98.6070 | MSE 94.2244 \n",
      "Epoch 02547 | Loss 90.5632 | MSE 92.6761 \n",
      "Epoch 02548 | Loss 89.0685 | MSE 92.3150 \n",
      "Epoch 02549 | Loss 105.5279 | MSE 130.7070 \n",
      "Epoch 02550 | Loss 116.1710 | MSE 88.2235 \n",
      "Epoch 02551 | Loss 97.1054 | MSE 85.9005 \n",
      "Epoch 02552 | Loss 90.3219 | MSE 107.8125 \n",
      "Epoch 02553 | Loss 99.8971 | MSE 97.0374 \n",
      "Epoch 02554 | Loss 101.1461 | MSE 96.5109 \n",
      "Epoch 02555 | Loss 95.4307 | MSE 84.7361 \n",
      "Epoch 02556 | Loss 87.0235 | MSE 85.8585 \n",
      "Epoch 02557 | Loss 95.4831 | MSE 111.6475 \n",
      "Epoch 02558 | Loss 96.1209 | MSE 94.4847 \n",
      "Epoch 02559 | Loss 89.7577 | MSE 91.5938 \n",
      "Epoch 02560 | Loss 87.4850 | MSE 109.3013 \n",
      "Epoch 02561 | Loss 99.2890 | MSE 89.2226 \n",
      "Epoch 02562 | Loss 94.2694 | MSE 92.9459 \n",
      "Epoch 02563 | Loss 85.5516 | MSE 102.9610 \n",
      "Epoch 02564 | Loss 95.0385 | MSE 96.4169 \n",
      "Epoch 02565 | Loss 103.6008 | MSE 116.2249 \n",
      "Epoch 02566 | Loss 97.4460 | MSE 87.3989 \n",
      "Epoch 02567 | Loss 88.0344 | MSE 86.2405 \n"
     ]
    },
    {
     "name": "stderr",
     "output_type": "stream",
     "text": [
      "\r",
      " 51%|███████████████████▌                  | 2569/5000 [00:14<00:12, 187.17it/s]"
     ]
    },
    {
     "name": "stdout",
     "output_type": "stream",
     "text": [
      "Epoch 02568 | Loss 92.8712 | MSE 114.2706 \n",
      "Epoch 02569 | Loss 100.8462 | MSE 90.6306 \n",
      "Epoch 02570 | Loss 102.2476 | MSE 88.5606 \n",
      "Epoch 02571 | Loss 86.2814 | MSE 102.0005 \n"
     ]
    },
    {
     "name": "stderr",
     "output_type": "stream",
     "text": [
      "\r",
      " 52%|███████████████████▋                  | 2588/5000 [00:14<00:12, 186.86it/s]"
     ]
    },
    {
     "name": "stdout",
     "output_type": "stream",
     "text": [
      "Epoch 02572 | Loss 95.7882 | MSE 91.9867 \n",
      "Epoch 02573 | Loss 95.7607 | MSE 95.7763 \n",
      "Epoch 02574 | Loss 91.0724 | MSE 87.2513 \n",
      "Epoch 02575 | Loss 92.0667 | MSE 86.0695 \n",
      "Epoch 02576 | Loss 90.8484 | MSE 100.7269 \n",
      "Epoch 02577 | Loss 95.6453 | MSE 91.7288 \n",
      "Epoch 02578 | Loss 87.6445 | MSE 89.5186 \n",
      "Epoch 02579 | Loss 83.5585 | MSE 88.4734 \n",
      "Epoch 02580 | Loss 87.3296 | MSE 84.6546 \n",
      "Epoch 02581 | Loss 90.1684 | MSE 90.4239 \n",
      "Epoch 02582 | Loss 87.4169 | MSE 90.9019 \n",
      "Epoch 02583 | Loss 91.1432 | MSE 92.6001 \n",
      "Epoch 02584 | Loss 89.7364 | MSE 95.4972 \n",
      "Epoch 02585 | Loss 90.0932 | MSE 88.8972 \n",
      "Epoch 02586 | Loss 86.2327 | MSE 88.6328 \n",
      "Epoch 02587 | Loss 87.1415 | MSE 94.0096 \n",
      "Epoch 02588 | Loss 86.2521 | MSE 86.9050 \n",
      "Epoch 02589 | Loss 89.9102 | MSE 95.9933 \n",
      "Epoch 02590 | Loss 92.7076 | MSE 83.7040 \n",
      "Epoch 02591 | Loss 87.1913 | MSE 81.7585 \n",
      "Epoch 02592 | Loss 85.2479 | MSE 88.8078 \n",
      "Epoch 02593 | Loss 89.5643 | MSE 86.3352 \n",
      "Epoch 02594 | Loss 90.9762 | MSE 98.8088 \n",
      "Epoch 02595 | Loss 88.8570 | MSE 87.9618 \n",
      "Epoch 02596 | Loss 89.2047 | MSE 91.6277 \n",
      "Epoch 02597 | Loss 90.2648 | MSE 84.7173 \n",
      "Epoch 02598 | Loss 87.0843 | MSE 89.2452 \n",
      "Epoch 02599 | Loss 86.3012 | MSE 92.9454 \n",
      "Epoch 02600 | Loss 92.0962 | MSE 91.8196 \n",
      "Epoch 02601 | Loss 85.2106 | MSE 88.2710 \n",
      "Epoch 02602 | Loss 84.6892 | MSE 84.6663 \n",
      "Epoch 02603 | Loss 89.7730 | MSE 83.4610 \n",
      "Epoch 02604 | Loss 84.8928 | MSE 88.1026 \n",
      "Epoch 02605 | Loss 85.2676 | MSE 87.1732 \n"
     ]
    },
    {
     "name": "stderr",
     "output_type": "stream",
     "text": [
      "\r",
      " 52%|███████████████████▊                  | 2607/5000 [00:14<00:12, 187.02it/s]"
     ]
    },
    {
     "name": "stdout",
     "output_type": "stream",
     "text": [
      "Epoch 02606 | Loss 84.1467 | MSE 91.4992 \n",
      "Epoch 02607 | Loss 86.3278 | MSE 86.2883 \n",
      "Epoch 02608 | Loss 86.1855 | MSE 85.5163 \n",
      "Epoch 02609 | Loss 83.0521 | MSE 94.4969 \n"
     ]
    },
    {
     "name": "stderr",
     "output_type": "stream",
     "text": [
      "\r",
      " 53%|███████████████████▉                  | 2626/5000 [00:14<00:12, 187.27it/s]"
     ]
    },
    {
     "name": "stdout",
     "output_type": "stream",
     "text": [
      "Epoch 02610 | Loss 87.2666 | MSE 84.8831 \n",
      "Epoch 02611 | Loss 87.6750 | MSE 88.2340 \n",
      "Epoch 02612 | Loss 85.9235 | MSE 87.5745 \n",
      "Epoch 02613 | Loss 84.4362 | MSE 85.9095 \n",
      "Epoch 02614 | Loss 90.0971 | MSE 94.6133 \n",
      "Epoch 02615 | Loss 89.7284 | MSE 84.4628 \n",
      "Epoch 02616 | Loss 89.6069 | MSE 91.9307 \n",
      "Epoch 02617 | Loss 87.8245 | MSE 89.5032 \n",
      "Epoch 02618 | Loss 88.0198 | MSE 87.8944 \n",
      "Epoch 02619 | Loss 90.7703 | MSE 93.3348 \n",
      "Epoch 02620 | Loss 88.1855 | MSE 86.3946 \n",
      "Epoch 02621 | Loss 86.7729 | MSE 90.4987 \n",
      "Epoch 02622 | Loss 89.3722 | MSE 88.4667 \n",
      "Epoch 02623 | Loss 89.2668 | MSE 86.7086 \n",
      "Epoch 02624 | Loss 90.2643 | MSE 88.0433 \n",
      "Epoch 02625 | Loss 87.7117 | MSE 82.5587 \n",
      "Epoch 02626 | Loss 85.4293 | MSE 81.9228 \n",
      "Epoch 02627 | Loss 85.9261 | MSE 83.7426 \n",
      "Epoch 02628 | Loss 88.0081 | MSE 82.0354 \n",
      "Epoch 02629 | Loss 85.5464 | MSE 86.8869 \n",
      "Epoch 02630 | Loss 88.5808 | MSE 87.4632 \n",
      "Epoch 02631 | Loss 85.9016 | MSE 87.5912 \n",
      "Epoch 02632 | Loss 90.0196 | MSE 92.5178 \n",
      "Epoch 02633 | Loss 84.5714 | MSE 87.7016 \n",
      "Epoch 02634 | Loss 84.6358 | MSE 85.7474 \n",
      "Epoch 02635 | Loss 85.2825 | MSE 86.7235 \n",
      "Epoch 02636 | Loss 86.7822 | MSE 87.8225 \n",
      "Epoch 02637 | Loss 82.3843 | MSE 89.1070 \n",
      "Epoch 02638 | Loss 88.8997 | MSE 96.1043 \n",
      "Epoch 02639 | Loss 89.3209 | MSE 90.8183 \n",
      "Epoch 02640 | Loss 85.6171 | MSE 89.0002 \n",
      "Epoch 02641 | Loss 92.1473 | MSE 88.5101 \n",
      "Epoch 02642 | Loss 86.9003 | MSE 92.6257 \n",
      "Epoch 02643 | Loss 89.2940 | MSE 90.6060 \n"
     ]
    },
    {
     "name": "stderr",
     "output_type": "stream",
     "text": [
      "\r",
      " 53%|████████████████████                  | 2645/5000 [00:14<00:12, 187.33it/s]"
     ]
    },
    {
     "name": "stdout",
     "output_type": "stream",
     "text": [
      "Epoch 02644 | Loss 89.1702 | MSE 91.8039 \n",
      "Epoch 02645 | Loss 89.9925 | MSE 96.2391 \n",
      "Epoch 02646 | Loss 85.0327 | MSE 88.1468 \n",
      "Epoch 02647 | Loss 85.6766 | MSE 91.4955 \n"
     ]
    },
    {
     "name": "stderr",
     "output_type": "stream",
     "text": [
      "\r",
      " 53%|████████████████████▏                 | 2664/5000 [00:14<00:12, 187.44it/s]"
     ]
    },
    {
     "name": "stdout",
     "output_type": "stream",
     "text": [
      "Epoch 02648 | Loss 89.5796 | MSE 84.0263 \n",
      "Epoch 02649 | Loss 92.3318 | MSE 91.6363 \n",
      "Epoch 02650 | Loss 89.0915 | MSE 92.4422 \n",
      "Epoch 02651 | Loss 84.9280 | MSE 97.3132 \n",
      "Epoch 02652 | Loss 89.4077 | MSE 97.7122 \n",
      "Epoch 02653 | Loss 87.1440 | MSE 94.3357 \n",
      "Epoch 02654 | Loss 84.7955 | MSE 94.6462 \n",
      "Epoch 02655 | Loss 84.0718 | MSE 89.3954 \n",
      "Epoch 02656 | Loss 91.4071 | MSE 96.8038 \n",
      "Epoch 02657 | Loss 90.3067 | MSE 87.5908 \n",
      "Epoch 02658 | Loss 89.6336 | MSE 97.8523 \n",
      "Epoch 02659 | Loss 87.8162 | MSE 85.7030 \n",
      "Epoch 02660 | Loss 88.4173 | MSE 92.1001 \n",
      "Epoch 02661 | Loss 90.4638 | MSE 86.7289 \n",
      "Epoch 02662 | Loss 87.4782 | MSE 93.9181 \n",
      "Epoch 02663 | Loss 88.5685 | MSE 87.4035 \n",
      "Epoch 02664 | Loss 84.0557 | MSE 87.4182 \n",
      "Epoch 02665 | Loss 87.3083 | MSE 95.5622 \n",
      "Epoch 02666 | Loss 86.1579 | MSE 89.9333 \n",
      "Epoch 02667 | Loss 87.0434 | MSE 89.7286 \n",
      "Epoch 02668 | Loss 85.8588 | MSE 89.3094 \n",
      "Epoch 02669 | Loss 89.9299 | MSE 88.8383 \n",
      "Epoch 02670 | Loss 86.0443 | MSE 93.5165 \n",
      "Epoch 02671 | Loss 85.9921 | MSE 95.0941 \n",
      "Epoch 02672 | Loss 85.5860 | MSE 89.6148 \n",
      "Epoch 02673 | Loss 91.3270 | MSE 95.6150 \n",
      "Epoch 02674 | Loss 93.4538 | MSE 84.8351 \n",
      "Epoch 02675 | Loss 91.9863 | MSE 103.0013 \n",
      "Epoch 02676 | Loss 90.4225 | MSE 91.6834 \n",
      "Epoch 02677 | Loss 89.6303 | MSE 102.8855 \n",
      "Epoch 02678 | Loss 86.1637 | MSE 89.5690 \n",
      "Epoch 02679 | Loss 87.9065 | MSE 89.9368 \n",
      "Epoch 02680 | Loss 84.8372 | MSE 94.1019 \n",
      "Epoch 02681 | Loss 86.0030 | MSE 91.4990 \n"
     ]
    },
    {
     "name": "stderr",
     "output_type": "stream",
     "text": [
      "\r",
      " 54%|████████████████████▍                 | 2683/5000 [00:15<00:12, 187.57it/s]"
     ]
    },
    {
     "name": "stdout",
     "output_type": "stream",
     "text": [
      "Epoch 02682 | Loss 93.4051 | MSE 111.4155 \n",
      "Epoch 02683 | Loss 96.1133 | MSE 94.7324 \n",
      "Epoch 02684 | Loss 94.9012 | MSE 96.1247 \n",
      "Epoch 02685 | Loss 93.3290 | MSE 85.5423 \n"
     ]
    },
    {
     "name": "stderr",
     "output_type": "stream",
     "text": [
      "\r",
      " 54%|████████████████████▌                 | 2702/5000 [00:15<00:12, 186.82it/s]"
     ]
    },
    {
     "name": "stdout",
     "output_type": "stream",
     "text": [
      "Epoch 02686 | Loss 89.1929 | MSE 87.8183 \n",
      "Epoch 02687 | Loss 91.3624 | MSE 111.6139 \n",
      "Epoch 02688 | Loss 95.1539 | MSE 91.5179 \n",
      "Epoch 02689 | Loss 96.4339 | MSE 94.6400 \n",
      "Epoch 02690 | Loss 88.9706 | MSE 84.8364 \n",
      "Epoch 02691 | Loss 87.8355 | MSE 90.4594 \n",
      "Epoch 02692 | Loss 97.3022 | MSE 124.0073 \n",
      "Epoch 02693 | Loss 100.5353 | MSE 98.8771 \n",
      "Epoch 02694 | Loss 98.6425 | MSE 97.2862 \n",
      "Epoch 02695 | Loss 90.9883 | MSE 89.6593 \n",
      "Epoch 02696 | Loss 93.7688 | MSE 93.6936 \n",
      "Epoch 02697 | Loss 82.7990 | MSE 106.8836 \n",
      "Epoch 02698 | Loss 89.3846 | MSE 92.9848 \n",
      "Epoch 02699 | Loss 89.1949 | MSE 92.4675 \n",
      "Epoch 02700 | Loss 90.0324 | MSE 82.9987 \n",
      "Epoch 02701 | Loss 90.1982 | MSE 82.7553 \n",
      "Epoch 02702 | Loss 89.8564 | MSE 86.7611 \n",
      "Epoch 02703 | Loss 86.7801 | MSE 91.8356 \n",
      "Epoch 02704 | Loss 83.2731 | MSE 98.5986 \n",
      "Epoch 02705 | Loss 90.5819 | MSE 100.2070 \n",
      "Epoch 02706 | Loss 86.1928 | MSE 92.1644 \n",
      "Epoch 02707 | Loss 85.4557 | MSE 92.0482 \n",
      "Epoch 02708 | Loss 84.8471 | MSE 98.3859 \n",
      "Epoch 02709 | Loss 86.6861 | MSE 93.0608 \n",
      "Epoch 02710 | Loss 87.3696 | MSE 96.4000 \n",
      "Epoch 02711 | Loss 85.3977 | MSE 91.3804 \n",
      "Epoch 02712 | Loss 85.7194 | MSE 92.5901 \n",
      "Epoch 02713 | Loss 85.5362 | MSE 89.7678 \n",
      "Epoch 02714 | Loss 87.1206 | MSE 91.7567 \n",
      "Epoch 02715 | Loss 84.8370 | MSE 88.5027 \n",
      "Epoch 02716 | Loss 88.7360 | MSE 91.1296 \n",
      "Epoch 02717 | Loss 87.8974 | MSE 83.4968 \n",
      "Epoch 02718 | Loss 86.1750 | MSE 90.2902 \n",
      "Epoch 02719 | Loss 90.0808 | MSE 85.6941 \n"
     ]
    },
    {
     "name": "stderr",
     "output_type": "stream",
     "text": [
      "\r",
      " 54%|████████████████████▋                 | 2721/5000 [00:15<00:12, 187.43it/s]"
     ]
    },
    {
     "name": "stdout",
     "output_type": "stream",
     "text": [
      "Epoch 02720 | Loss 85.5261 | MSE 84.9256 \n",
      "Epoch 02721 | Loss 89.5164 | MSE 92.9247 \n",
      "Epoch 02722 | Loss 89.1057 | MSE 85.4694 \n",
      "Epoch 02723 | Loss 95.9902 | MSE 96.2906 \n"
     ]
    },
    {
     "name": "stderr",
     "output_type": "stream",
     "text": [
      "\r",
      " 55%|████████████████████▊                 | 2740/5000 [00:15<00:12, 186.00it/s]"
     ]
    },
    {
     "name": "stdout",
     "output_type": "stream",
     "text": [
      "Epoch 02724 | Loss 92.0008 | MSE 87.6021 \n",
      "Epoch 02725 | Loss 85.5941 | MSE 91.4814 \n",
      "Epoch 02726 | Loss 87.3528 | MSE 103.2484 \n",
      "Epoch 02727 | Loss 85.2414 | MSE 94.9716 \n",
      "Epoch 02728 | Loss 93.2178 | MSE 102.6590 \n",
      "Epoch 02729 | Loss 88.5081 | MSE 89.1153 \n",
      "Epoch 02730 | Loss 88.3709 | MSE 91.3363 \n",
      "Epoch 02731 | Loss 86.4089 | MSE 97.5077 \n",
      "Epoch 02732 | Loss 86.3283 | MSE 92.3889 \n",
      "Epoch 02733 | Loss 88.7918 | MSE 105.8757 \n",
      "Epoch 02734 | Loss 92.6885 | MSE 90.0101 \n",
      "Epoch 02735 | Loss 88.8561 | MSE 87.0171 \n",
      "Epoch 02736 | Loss 87.3764 | MSE 85.7181 \n",
      "Epoch 02737 | Loss 88.7253 | MSE 84.6814 \n",
      "Epoch 02738 | Loss 88.8567 | MSE 101.3515 \n",
      "Epoch 02739 | Loss 92.6686 | MSE 90.8189 \n",
      "Epoch 02740 | Loss 90.5297 | MSE 90.7031 \n",
      "Epoch 02741 | Loss 89.4919 | MSE 86.7953 \n",
      "Epoch 02742 | Loss 85.7941 | MSE 83.4904 \n",
      "Epoch 02743 | Loss 90.4545 | MSE 106.3681 \n",
      "Epoch 02744 | Loss 98.5832 | MSE 87.7437 \n",
      "Epoch 02745 | Loss 93.0762 | MSE 94.3155 \n",
      "Epoch 02746 | Loss 91.5057 | MSE 90.5159 \n",
      "Epoch 02747 | Loss 90.5445 | MSE 86.5302 \n",
      "Epoch 02748 | Loss 92.3398 | MSE 108.6983 \n",
      "Epoch 02749 | Loss 97.4640 | MSE 86.5755 \n",
      "Epoch 02750 | Loss 94.2320 | MSE 87.0583 \n",
      "Epoch 02751 | Loss 89.0709 | MSE 94.5579 \n",
      "Epoch 02752 | Loss 86.6920 | MSE 93.9708 \n",
      "Epoch 02753 | Loss 85.1220 | MSE 106.6750 \n",
      "Epoch 02754 | Loss 90.6581 | MSE 91.4528 \n",
      "Epoch 02755 | Loss 88.6027 | MSE 92.0192 \n",
      "Epoch 02756 | Loss 86.1361 | MSE 89.1135 \n"
     ]
    },
    {
     "name": "stderr",
     "output_type": "stream",
     "text": [
      "\r",
      " 55%|████████████████████▉                 | 2759/5000 [00:15<00:12, 184.10it/s]"
     ]
    },
    {
     "name": "stdout",
     "output_type": "stream",
     "text": [
      "Epoch 02757 | Loss 84.3548 | MSE 90.3264 \n",
      "Epoch 02758 | Loss 84.3410 | MSE 88.7549 \n",
      "Epoch 02759 | Loss 84.8801 | MSE 91.2861 \n",
      "Epoch 02760 | Loss 88.4359 | MSE 91.8153 \n"
     ]
    },
    {
     "name": "stderr",
     "output_type": "stream",
     "text": [
      "\r",
      " 56%|█████████████████████                 | 2778/5000 [00:15<00:12, 181.98it/s]"
     ]
    },
    {
     "name": "stdout",
     "output_type": "stream",
     "text": [
      "Epoch 02761 | Loss 88.6605 | MSE 91.3354 \n",
      "Epoch 02762 | Loss 81.5138 | MSE 93.9385 \n",
      "Epoch 02763 | Loss 87.3712 | MSE 85.6711 \n",
      "Epoch 02764 | Loss 86.2592 | MSE 87.5412 \n",
      "Epoch 02765 | Loss 88.3229 | MSE 94.9942 \n",
      "Epoch 02766 | Loss 88.2581 | MSE 93.9928 \n",
      "Epoch 02767 | Loss 89.9423 | MSE 86.9984 \n",
      "Epoch 02768 | Loss 87.6444 | MSE 86.0092 \n",
      "Epoch 02769 | Loss 91.2168 | MSE 87.6516 \n",
      "Epoch 02770 | Loss 85.6680 | MSE 96.6155 \n",
      "Epoch 02771 | Loss 90.3521 | MSE 100.8092 \n",
      "Epoch 02772 | Loss 87.8387 | MSE 88.6587 \n",
      "Epoch 02773 | Loss 88.1523 | MSE 87.0790 \n",
      "Epoch 02774 | Loss 89.3804 | MSE 86.5205 \n",
      "Epoch 02775 | Loss 85.0382 | MSE 87.6537 \n",
      "Epoch 02776 | Loss 85.0702 | MSE 97.4485 \n",
      "Epoch 02777 | Loss 87.3001 | MSE 94.5553 \n",
      "Epoch 02778 | Loss 88.0395 | MSE 81.5085 \n",
      "Epoch 02779 | Loss 88.6378 | MSE 89.4915 \n",
      "Epoch 02780 | Loss 87.9342 | MSE 87.8242 \n",
      "Epoch 02781 | Loss 84.4373 | MSE 91.5625 \n",
      "Epoch 02782 | Loss 84.6273 | MSE 99.4271 \n",
      "Epoch 02783 | Loss 88.7323 | MSE 90.7992 \n",
      "Epoch 02784 | Loss 90.1714 | MSE 103.0771 \n",
      "Epoch 02785 | Loss 92.7370 | MSE 87.8586 \n",
      "Epoch 02786 | Loss 92.5019 | MSE 83.8930 \n",
      "Epoch 02787 | Loss 82.9948 | MSE 87.2909 \n",
      "Epoch 02788 | Loss 87.9568 | MSE 90.0140 \n",
      "Epoch 02789 | Loss 89.1726 | MSE 97.6414 \n",
      "Epoch 02790 | Loss 87.9412 | MSE 85.5594 \n",
      "Epoch 02791 | Loss 89.7682 | MSE 84.7293 \n",
      "Epoch 02792 | Loss 85.5122 | MSE 91.5063 \n"
     ]
    },
    {
     "name": "stderr",
     "output_type": "stream",
     "text": [
      "\r",
      " 56%|█████████████████████▎                | 2797/5000 [00:15<00:12, 181.91it/s]"
     ]
    },
    {
     "name": "stdout",
     "output_type": "stream",
     "text": [
      "Epoch 02793 | Loss 85.6201 | MSE 87.8130 \n",
      "Epoch 02794 | Loss 91.3433 | MSE 93.3403 \n",
      "Epoch 02795 | Loss 87.7539 | MSE 91.6366 \n",
      "Epoch 02796 | Loss 84.3841 | MSE 90.6376 \n",
      "Epoch 02797 | Loss 90.3141 | MSE 105.8845 \n"
     ]
    },
    {
     "name": "stderr",
     "output_type": "stream",
     "text": [
      "\r",
      " 56%|█████████████████████▍                | 2816/5000 [00:15<00:11, 182.95it/s]"
     ]
    },
    {
     "name": "stdout",
     "output_type": "stream",
     "text": [
      "Epoch 02798 | Loss 91.3321 | MSE 94.9619 \n",
      "Epoch 02799 | Loss 97.6230 | MSE 114.6443 \n",
      "Epoch 02800 | Loss 96.0138 | MSE 87.6994 \n",
      "Epoch 02801 | Loss 94.2484 | MSE 92.9419 \n",
      "Epoch 02802 | Loss 86.8441 | MSE 94.9463 \n",
      "Epoch 02803 | Loss 87.6676 | MSE 90.6167 \n",
      "Epoch 02804 | Loss 102.2793 | MSE 118.9673 \n",
      "Epoch 02805 | Loss 103.5718 | MSE 96.1827 \n",
      "Epoch 02806 | Loss 101.5859 | MSE 109.2409 \n",
      "Epoch 02807 | Loss 96.2871 | MSE 91.6571 \n",
      "Epoch 02808 | Loss 87.5683 | MSE 90.7934 \n",
      "Epoch 02809 | Loss 88.3716 | MSE 106.6614 \n",
      "Epoch 02810 | Loss 98.2217 | MSE 90.6882 \n",
      "Epoch 02811 | Loss 98.6186 | MSE 101.5470 \n",
      "Epoch 02812 | Loss 96.9785 | MSE 88.4296 \n",
      "Epoch 02813 | Loss 83.9997 | MSE 90.6481 \n",
      "Epoch 02814 | Loss 95.1550 | MSE 124.2439 \n",
      "Epoch 02815 | Loss 108.4729 | MSE 95.4210 \n",
      "Epoch 02816 | Loss 106.0173 | MSE 101.0321 \n",
      "Epoch 02817 | Loss 97.7685 | MSE 89.5912 \n",
      "Epoch 02818 | Loss 85.0499 | MSE 93.3046 \n",
      "Epoch 02819 | Loss 98.4186 | MSE 133.6433 \n",
      "Epoch 02820 | Loss 112.7375 | MSE 97.0038 \n",
      "Epoch 02821 | Loss 97.4420 | MSE 90.2076 \n",
      "Epoch 02822 | Loss 85.8195 | MSE 109.7691 \n",
      "Epoch 02823 | Loss 97.5199 | MSE 107.0550 \n",
      "Epoch 02824 | Loss 108.8545 | MSE 131.8068 \n",
      "Epoch 02825 | Loss 108.0827 | MSE 87.0069 \n",
      "Epoch 02826 | Loss 85.5532 | MSE 90.6293 \n",
      "Epoch 02827 | Loss 97.4482 | MSE 141.1044 \n",
      "Epoch 02828 | Loss 126.2201 | MSE 93.6533 \n",
      "Epoch 02829 | Loss 101.2662 | MSE 87.8959 \n"
     ]
    },
    {
     "name": "stderr",
     "output_type": "stream",
     "text": [
      "\r",
      " 57%|█████████████████████▌                | 2835/5000 [00:15<00:11, 182.33it/s]"
     ]
    },
    {
     "name": "stdout",
     "output_type": "stream",
     "text": [
      "Epoch 02830 | Loss 85.4382 | MSE 106.5739 \n",
      "Epoch 02831 | Loss 97.2236 | MSE 90.6632 \n",
      "Epoch 02832 | Loss 98.5999 | MSE 91.4161 \n",
      "Epoch 02833 | Loss 90.8916 | MSE 87.0339 \n",
      "Epoch 02834 | Loss 90.7985 | MSE 92.0508 \n"
     ]
    },
    {
     "name": "stderr",
     "output_type": "stream",
     "text": [
      "\r",
      " 57%|█████████████████████▋                | 2854/5000 [00:15<00:11, 183.85it/s]"
     ]
    },
    {
     "name": "stdout",
     "output_type": "stream",
     "text": [
      "Epoch 02835 | Loss 96.7057 | MSE 104.6760 \n",
      "Epoch 02836 | Loss 99.3480 | MSE 80.7738 \n",
      "Epoch 02837 | Loss 87.4502 | MSE 80.9460 \n",
      "Epoch 02838 | Loss 88.5702 | MSE 97.1034 \n",
      "Epoch 02839 | Loss 87.7386 | MSE 95.8236 \n",
      "Epoch 02840 | Loss 85.8181 | MSE 94.3496 \n",
      "Epoch 02841 | Loss 90.5098 | MSE 94.1003 \n",
      "Epoch 02842 | Loss 91.3704 | MSE 81.8794 \n",
      "Epoch 02843 | Loss 86.2016 | MSE 83.2822 \n",
      "Epoch 02844 | Loss 89.0348 | MSE 101.2696 \n",
      "Epoch 02845 | Loss 95.5829 | MSE 102.7968 \n",
      "Epoch 02846 | Loss 97.8274 | MSE 99.5878 \n",
      "Epoch 02847 | Loss 90.7304 | MSE 88.6571 \n",
      "Epoch 02848 | Loss 86.0387 | MSE 85.2179 \n",
      "Epoch 02849 | Loss 90.5803 | MSE 97.3767 \n",
      "Epoch 02850 | Loss 91.8805 | MSE 86.0088 \n",
      "Epoch 02851 | Loss 86.1573 | MSE 91.9588 \n",
      "Epoch 02852 | Loss 87.8391 | MSE 109.4430 \n",
      "Epoch 02853 | Loss 99.5785 | MSE 88.7166 \n",
      "Epoch 02854 | Loss 95.4025 | MSE 87.9540 \n",
      "Epoch 02855 | Loss 89.1299 | MSE 92.5531 \n",
      "Epoch 02856 | Loss 85.2690 | MSE 91.3497 \n",
      "Epoch 02857 | Loss 91.5533 | MSE 97.6044 \n",
      "Epoch 02858 | Loss 88.7058 | MSE 91.0779 \n",
      "Epoch 02859 | Loss 87.6307 | MSE 92.1571 \n",
      "Epoch 02860 | Loss 88.9007 | MSE 99.0344 \n",
      "Epoch 02861 | Loss 88.4736 | MSE 90.0326 \n",
      "Epoch 02862 | Loss 89.6692 | MSE 87.8755 \n",
      "Epoch 02863 | Loss 87.7025 | MSE 91.7937 \n",
      "Epoch 02864 | Loss 87.0170 | MSE 84.8763 \n",
      "Epoch 02865 | Loss 86.1606 | MSE 92.3684 \n",
      "Epoch 02866 | Loss 85.6193 | MSE 91.4305 \n",
      "Epoch 02867 | Loss 85.2440 | MSE 91.2496 \n"
     ]
    },
    {
     "name": "stderr",
     "output_type": "stream",
     "text": [
      "\r",
      " 57%|█████████████████████▊                | 2873/5000 [00:16<00:11, 185.38it/s]"
     ]
    },
    {
     "name": "stdout",
     "output_type": "stream",
     "text": [
      "Epoch 02868 | Loss 87.2852 | MSE 89.4513 \n",
      "Epoch 02869 | Loss 85.4476 | MSE 83.2324 \n",
      "Epoch 02870 | Loss 87.1270 | MSE 84.8071 \n",
      "Epoch 02871 | Loss 86.8546 | MSE 91.7687 \n",
      "Epoch 02872 | Loss 85.4776 | MSE 89.9569 \n"
     ]
    },
    {
     "name": "stderr",
     "output_type": "stream",
     "text": [
      "\r",
      " 58%|█████████████████████▉                | 2892/5000 [00:16<00:11, 186.06it/s]"
     ]
    },
    {
     "name": "stdout",
     "output_type": "stream",
     "text": [
      "Epoch 02873 | Loss 88.3970 | MSE 94.0938 \n",
      "Epoch 02874 | Loss 90.1642 | MSE 82.3923 \n",
      "Epoch 02875 | Loss 87.4873 | MSE 84.8190 \n",
      "Epoch 02876 | Loss 84.4324 | MSE 99.8033 \n",
      "Epoch 02877 | Loss 90.1413 | MSE 92.9037 \n",
      "Epoch 02878 | Loss 88.8714 | MSE 98.3299 \n",
      "Epoch 02879 | Loss 90.2883 | MSE 89.1436 \n",
      "Epoch 02880 | Loss 86.7471 | MSE 85.0676 \n",
      "Epoch 02881 | Loss 84.1207 | MSE 96.5590 \n",
      "Epoch 02882 | Loss 91.6179 | MSE 87.5783 \n",
      "Epoch 02883 | Loss 91.3812 | MSE 87.2502 \n",
      "Epoch 02884 | Loss 85.4369 | MSE 97.5487 \n",
      "Epoch 02885 | Loss 89.8210 | MSE 89.1658 \n",
      "Epoch 02886 | Loss 97.7321 | MSE 103.3383 \n",
      "Epoch 02887 | Loss 91.2400 | MSE 88.4250 \n",
      "Epoch 02888 | Loss 86.4770 | MSE 90.9439 \n",
      "Epoch 02889 | Loss 85.8298 | MSE 96.4284 \n",
      "Epoch 02890 | Loss 88.6611 | MSE 84.8281 \n",
      "Epoch 02891 | Loss 90.5801 | MSE 87.8786 \n",
      "Epoch 02892 | Loss 86.2192 | MSE 93.7296 \n",
      "Epoch 02893 | Loss 87.2522 | MSE 86.5539 \n",
      "Epoch 02894 | Loss 90.9192 | MSE 94.5430 \n",
      "Epoch 02895 | Loss 87.0981 | MSE 83.3174 \n",
      "Epoch 02896 | Loss 85.0951 | MSE 86.8889 \n",
      "Epoch 02897 | Loss 88.3566 | MSE 102.7349 \n",
      "Epoch 02898 | Loss 90.2546 | MSE 92.0409 \n",
      "Epoch 02899 | Loss 88.9356 | MSE 90.9728 \n",
      "Epoch 02900 | Loss 88.0280 | MSE 84.3706 \n",
      "Epoch 02901 | Loss 85.9456 | MSE 84.4215 \n",
      "Epoch 02902 | Loss 90.1005 | MSE 88.9483 \n",
      "Epoch 02903 | Loss 83.9051 | MSE 96.3197 \n",
      "Epoch 02904 | Loss 88.9790 | MSE 103.5998 \n",
      "Epoch 02905 | Loss 89.5647 | MSE 91.4153 \n"
     ]
    },
    {
     "name": "stderr",
     "output_type": "stream",
     "text": [
      "\r",
      " 58%|██████████████████████                | 2911/5000 [00:16<00:11, 186.51it/s]"
     ]
    },
    {
     "name": "stdout",
     "output_type": "stream",
     "text": [
      "Epoch 02906 | Loss 91.4191 | MSE 88.8948 \n",
      "Epoch 02907 | Loss 85.8093 | MSE 89.1756 \n",
      "Epoch 02908 | Loss 87.6597 | MSE 88.4012 \n",
      "Epoch 02909 | Loss 84.3913 | MSE 90.5486 \n",
      "Epoch 02910 | Loss 84.9563 | MSE 87.6527 \n"
     ]
    },
    {
     "name": "stderr",
     "output_type": "stream",
     "text": [
      "\r",
      " 59%|██████████████████████▎               | 2930/5000 [00:16<00:11, 185.91it/s]"
     ]
    },
    {
     "name": "stdout",
     "output_type": "stream",
     "text": [
      "Epoch 02911 | Loss 89.1853 | MSE 89.6382 \n",
      "Epoch 02912 | Loss 85.0262 | MSE 91.0212 \n",
      "Epoch 02913 | Loss 83.9555 | MSE 88.3828 \n",
      "Epoch 02914 | Loss 84.9046 | MSE 87.2139 \n",
      "Epoch 02915 | Loss 82.9594 | MSE 95.8254 \n",
      "Epoch 02916 | Loss 91.0540 | MSE 88.6836 \n",
      "Epoch 02917 | Loss 86.0332 | MSE 92.4791 \n",
      "Epoch 02918 | Loss 88.0290 | MSE 87.8963 \n",
      "Epoch 02919 | Loss 87.1996 | MSE 92.4103 \n",
      "Epoch 02920 | Loss 89.0955 | MSE 98.9752 \n",
      "Epoch 02921 | Loss 87.4760 | MSE 83.0048 \n",
      "Epoch 02922 | Loss 86.5133 | MSE 83.1856 \n",
      "Epoch 02923 | Loss 89.4672 | MSE 94.0578 \n",
      "Epoch 02924 | Loss 94.0827 | MSE 89.5259 \n",
      "Epoch 02925 | Loss 97.2903 | MSE 104.4704 \n",
      "Epoch 02926 | Loss 95.6716 | MSE 89.2352 \n",
      "Epoch 02927 | Loss 86.2759 | MSE 84.4724 \n",
      "Epoch 02928 | Loss 84.1751 | MSE 87.2615 \n",
      "Epoch 02929 | Loss 83.9810 | MSE 83.5942 \n",
      "Epoch 02930 | Loss 85.9987 | MSE 92.5158 \n",
      "Epoch 02931 | Loss 84.9146 | MSE 89.4166 \n",
      "Epoch 02932 | Loss 89.3286 | MSE 86.0220 \n",
      "Epoch 02933 | Loss 85.3290 | MSE 86.0952 \n",
      "Epoch 02934 | Loss 87.4794 | MSE 84.8552 \n",
      "Epoch 02935 | Loss 86.1854 | MSE 88.4358 \n",
      "Epoch 02936 | Loss 83.9088 | MSE 94.9438 \n",
      "Epoch 02937 | Loss 87.4824 | MSE 96.5195 \n",
      "Epoch 02938 | Loss 88.7772 | MSE 94.2246 \n",
      "Epoch 02939 | Loss 92.1234 | MSE 89.6290 \n",
      "Epoch 02940 | Loss 86.5066 | MSE 90.8180 \n",
      "Epoch 02941 | Loss 84.1060 | MSE 90.2498 \n",
      "Epoch 02942 | Loss 86.0133 | MSE 91.7331 \n",
      "Epoch 02943 | Loss 88.2164 | MSE 93.4349 \n"
     ]
    },
    {
     "name": "stderr",
     "output_type": "stream",
     "text": [
      "\r",
      " 59%|██████████████████████▍               | 2949/5000 [00:16<00:11, 185.58it/s]"
     ]
    },
    {
     "name": "stdout",
     "output_type": "stream",
     "text": [
      "Epoch 02944 | Loss 84.3454 | MSE 86.3920 \n",
      "Epoch 02945 | Loss 89.4758 | MSE 97.2827 \n",
      "Epoch 02946 | Loss 84.8407 | MSE 86.8759 \n",
      "Epoch 02947 | Loss 87.0512 | MSE 88.3203 \n",
      "Epoch 02948 | Loss 88.0643 | MSE 101.6547 \n"
     ]
    },
    {
     "name": "stderr",
     "output_type": "stream",
     "text": [
      "\r",
      " 59%|██████████████████████▌               | 2968/5000 [00:16<00:10, 185.70it/s]"
     ]
    },
    {
     "name": "stdout",
     "output_type": "stream",
     "text": [
      "Epoch 02949 | Loss 90.4683 | MSE 91.1713 \n",
      "Epoch 02950 | Loss 87.2514 | MSE 95.4029 \n",
      "Epoch 02951 | Loss 85.0619 | MSE 93.2871 \n",
      "Epoch 02952 | Loss 88.3459 | MSE 87.0268 \n",
      "Epoch 02953 | Loss 88.0874 | MSE 96.1879 \n",
      "Epoch 02954 | Loss 86.3860 | MSE 84.4828 \n",
      "Epoch 02955 | Loss 85.6947 | MSE 86.1117 \n",
      "Epoch 02956 | Loss 83.3606 | MSE 99.1134 \n",
      "Epoch 02957 | Loss 89.0960 | MSE 87.2375 \n",
      "Epoch 02958 | Loss 92.7951 | MSE 91.6991 \n",
      "Epoch 02959 | Loss 84.6008 | MSE 83.0929 \n",
      "Epoch 02960 | Loss 86.6367 | MSE 90.4670 \n",
      "Epoch 02961 | Loss 86.7147 | MSE 98.2601 \n",
      "Epoch 02962 | Loss 90.2826 | MSE 92.8597 \n",
      "Epoch 02963 | Loss 85.2048 | MSE 85.1718 \n",
      "Epoch 02964 | Loss 86.1035 | MSE 85.2901 \n",
      "Epoch 02965 | Loss 87.4367 | MSE 84.4370 \n",
      "Epoch 02966 | Loss 81.8190 | MSE 94.4746 \n",
      "Epoch 02967 | Loss 85.1123 | MSE 91.8205 \n",
      "Epoch 02968 | Loss 87.0466 | MSE 86.7240 \n",
      "Epoch 02969 | Loss 86.4341 | MSE 89.6266 \n",
      "Epoch 02970 | Loss 87.0803 | MSE 87.2956 \n",
      "Epoch 02971 | Loss 82.7282 | MSE 93.3534 \n",
      "Epoch 02972 | Loss 85.3235 | MSE 92.2070 \n",
      "Epoch 02973 | Loss 84.0786 | MSE 91.5935 \n",
      "Epoch 02974 | Loss 83.7115 | MSE 88.4303 \n",
      "Epoch 02975 | Loss 82.5668 | MSE 84.2282 \n",
      "Epoch 02976 | Loss 82.6177 | MSE 87.2920 \n",
      "Epoch 02977 | Loss 84.7748 | MSE 85.3021 \n",
      "Epoch 02978 | Loss 83.8596 | MSE 88.1729 \n",
      "Epoch 02979 | Loss 83.5867 | MSE 90.1559 \n",
      "Epoch 02980 | Loss 90.6991 | MSE 87.1325 \n",
      "Epoch 02981 | Loss 83.7761 | MSE 86.3633 \n"
     ]
    },
    {
     "name": "stderr",
     "output_type": "stream",
     "text": [
      "\r",
      " 60%|██████████████████████▋               | 2987/5000 [00:16<00:10, 185.60it/s]"
     ]
    },
    {
     "name": "stdout",
     "output_type": "stream",
     "text": [
      "Epoch 02982 | Loss 82.5184 | MSE 85.8276 \n",
      "Epoch 02983 | Loss 88.7363 | MSE 100.2635 \n",
      "Epoch 02984 | Loss 86.9183 | MSE 98.6873 \n",
      "Epoch 02985 | Loss 90.3211 | MSE 117.8756 \n",
      "Epoch 02986 | Loss 99.1266 | MSE 93.6877 \n"
     ]
    },
    {
     "name": "stderr",
     "output_type": "stream",
     "text": [
      "\r",
      " 60%|██████████████████████▊               | 3006/5000 [00:16<00:10, 186.30it/s]"
     ]
    },
    {
     "name": "stdout",
     "output_type": "stream",
     "text": [
      "Epoch 02987 | Loss 93.1407 | MSE 97.4083 \n",
      "Epoch 02988 | Loss 90.0282 | MSE 93.1640 \n",
      "Epoch 02989 | Loss 84.8095 | MSE 92.9194 \n",
      "Epoch 02990 | Loss 91.1219 | MSE 115.6534 \n",
      "Epoch 02991 | Loss 100.7034 | MSE 92.6367 \n",
      "Epoch 02992 | Loss 101.4698 | MSE 103.1231 \n",
      "Epoch 02993 | Loss 92.9397 | MSE 90.7023 \n",
      "Epoch 02994 | Loss 83.5147 | MSE 88.4901 \n",
      "Epoch 02995 | Loss 85.4862 | MSE 110.2641 \n",
      "Epoch 02996 | Loss 98.0437 | MSE 90.3870 \n",
      "Epoch 02997 | Loss 96.5540 | MSE 99.0390 \n",
      "Epoch 02998 | Loss 87.7057 | MSE 87.4772 \n",
      "Epoch 02999 | Loss 85.6583 | MSE 86.7778 \n",
      "Epoch 03000 | Loss 89.1088 | MSE 106.6278 \n",
      "Epoch 03001 | Loss 99.5717 | MSE 91.4837 \n",
      "Epoch 03002 | Loss 92.0613 | MSE 93.6273 \n",
      "Epoch 03003 | Loss 87.6741 | MSE 91.5279 \n",
      "Epoch 03004 | Loss 87.3960 | MSE 86.8470 \n",
      "Epoch 03005 | Loss 88.5954 | MSE 95.4249 \n",
      "Epoch 03006 | Loss 83.9049 | MSE 92.2049 \n",
      "Epoch 03007 | Loss 85.6418 | MSE 90.3403 \n",
      "Epoch 03008 | Loss 88.9197 | MSE 96.3020 \n",
      "Epoch 03009 | Loss 85.2986 | MSE 86.5216 \n",
      "Epoch 03010 | Loss 87.2569 | MSE 89.1087 \n",
      "Epoch 03011 | Loss 88.9279 | MSE 91.4399 \n",
      "Epoch 03012 | Loss 86.7235 | MSE 92.3110 \n",
      "Epoch 03013 | Loss 86.4286 | MSE 100.5289 \n",
      "Epoch 03014 | Loss 89.4897 | MSE 91.4972 \n",
      "Epoch 03015 | Loss 86.1569 | MSE 91.0017 \n",
      "Epoch 03016 | Loss 83.2623 | MSE 86.7708 \n",
      "Epoch 03017 | Loss 81.6941 | MSE 86.7172 \n",
      "Epoch 03018 | Loss 85.1569 | MSE 89.6261 \n",
      "Epoch 03019 | Loss 87.6113 | MSE 85.3939 \n"
     ]
    },
    {
     "name": "stderr",
     "output_type": "stream",
     "text": [
      "\r",
      " 60%|██████████████████████▉               | 3025/5000 [00:16<00:10, 186.35it/s]"
     ]
    },
    {
     "name": "stdout",
     "output_type": "stream",
     "text": [
      "Epoch 03020 | Loss 85.5863 | MSE 85.3994 \n",
      "Epoch 03021 | Loss 87.2045 | MSE 100.9493 \n",
      "Epoch 03022 | Loss 88.1270 | MSE 87.1060 \n",
      "Epoch 03023 | Loss 90.4811 | MSE 88.8788 \n",
      "Epoch 03024 | Loss 83.9930 | MSE 86.9083 \n"
     ]
    },
    {
     "name": "stderr",
     "output_type": "stream",
     "text": [
      "\r",
      " 61%|███████████████████████▏              | 3044/5000 [00:16<00:10, 187.09it/s]"
     ]
    },
    {
     "name": "stdout",
     "output_type": "stream",
     "text": [
      "Epoch 03025 | Loss 85.0560 | MSE 85.6792 \n",
      "Epoch 03026 | Loss 87.2510 | MSE 107.5933 \n",
      "Epoch 03027 | Loss 94.8854 | MSE 92.8407 \n",
      "Epoch 03028 | Loss 86.6221 | MSE 88.8652 \n",
      "Epoch 03029 | Loss 86.0003 | MSE 87.8605 \n",
      "Epoch 03030 | Loss 85.1445 | MSE 84.1307 \n",
      "Epoch 03031 | Loss 89.3894 | MSE 95.0528 \n",
      "Epoch 03032 | Loss 89.0032 | MSE 94.1283 \n",
      "Epoch 03033 | Loss 85.3386 | MSE 90.3445 \n",
      "Epoch 03034 | Loss 87.2299 | MSE 101.4724 \n",
      "Epoch 03035 | Loss 93.3355 | MSE 87.2013 \n",
      "Epoch 03036 | Loss 87.8618 | MSE 96.3717 \n",
      "Epoch 03037 | Loss 89.7511 | MSE 88.7934 \n",
      "Epoch 03038 | Loss 84.0125 | MSE 89.5784 \n",
      "Epoch 03039 | Loss 85.6759 | MSE 95.6987 \n",
      "Epoch 03040 | Loss 89.3266 | MSE 85.1225 \n",
      "Epoch 03041 | Loss 88.0748 | MSE 86.8600 \n",
      "Epoch 03042 | Loss 90.0863 | MSE 93.4822 \n",
      "Epoch 03043 | Loss 84.8079 | MSE 90.0410 \n",
      "Epoch 03044 | Loss 84.1521 | MSE 88.7565 \n",
      "Epoch 03045 | Loss 89.1494 | MSE 85.6690 \n",
      "Epoch 03046 | Loss 84.5026 | MSE 86.5635 \n",
      "Epoch 03047 | Loss 86.5732 | MSE 92.0680 \n",
      "Epoch 03048 | Loss 86.2116 | MSE 90.5238 \n",
      "Epoch 03049 | Loss 87.3230 | MSE 86.8990 \n",
      "Epoch 03050 | Loss 85.5509 | MSE 87.1413 \n",
      "Epoch 03051 | Loss 83.9153 | MSE 96.9618 \n",
      "Epoch 03052 | Loss 89.3737 | MSE 93.1680 \n",
      "Epoch 03053 | Loss 85.1069 | MSE 96.3056 \n",
      "Epoch 03054 | Loss 82.5296 | MSE 92.8553 \n",
      "Epoch 03055 | Loss 85.5030 | MSE 91.1439 \n",
      "Epoch 03056 | Loss 84.1795 | MSE 101.3574 \n",
      "Epoch 03057 | Loss 84.8869 | MSE 98.0005 \n"
     ]
    },
    {
     "name": "stderr",
     "output_type": "stream",
     "text": [
      "\r",
      " 61%|███████████████████████▎              | 3063/5000 [00:17<00:10, 187.45it/s]"
     ]
    },
    {
     "name": "stdout",
     "output_type": "stream",
     "text": [
      "Epoch 03058 | Loss 87.6515 | MSE 99.1209 \n",
      "Epoch 03059 | Loss 87.1663 | MSE 85.9231 \n",
      "Epoch 03060 | Loss 83.7284 | MSE 88.8581 \n",
      "Epoch 03061 | Loss 88.0869 | MSE 83.3475 \n",
      "Epoch 03062 | Loss 86.5996 | MSE 83.7095 \n"
     ]
    },
    {
     "name": "stderr",
     "output_type": "stream",
     "text": [
      "\r",
      " 62%|███████████████████████▍              | 3082/5000 [00:17<00:10, 187.31it/s]"
     ]
    },
    {
     "name": "stdout",
     "output_type": "stream",
     "text": [
      "Epoch 03063 | Loss 88.4323 | MSE 106.3029 \n",
      "Epoch 03064 | Loss 90.8810 | MSE 94.6391 \n",
      "Epoch 03065 | Loss 95.0495 | MSE 108.7768 \n",
      "Epoch 03066 | Loss 90.9859 | MSE 88.2790 \n",
      "Epoch 03067 | Loss 86.9226 | MSE 89.3595 \n",
      "Epoch 03068 | Loss 83.9460 | MSE 89.0959 \n",
      "Epoch 03069 | Loss 85.0766 | MSE 82.2564 \n",
      "Epoch 03070 | Loss 84.9239 | MSE 87.7802 \n",
      "Epoch 03071 | Loss 88.7558 | MSE 85.4586 \n",
      "Epoch 03072 | Loss 87.8440 | MSE 91.8685 \n",
      "Epoch 03073 | Loss 86.3758 | MSE 85.7891 \n",
      "Epoch 03074 | Loss 85.0614 | MSE 88.5917 \n",
      "Epoch 03075 | Loss 86.2727 | MSE 89.6769 \n",
      "Epoch 03076 | Loss 86.5424 | MSE 89.1447 \n",
      "Epoch 03077 | Loss 84.8708 | MSE 93.3766 \n",
      "Epoch 03078 | Loss 88.2595 | MSE 87.0463 \n",
      "Epoch 03079 | Loss 85.8619 | MSE 85.2472 \n",
      "Epoch 03080 | Loss 83.5706 | MSE 90.5811 \n",
      "Epoch 03081 | Loss 86.9721 | MSE 83.4167 \n",
      "Epoch 03082 | Loss 88.1217 | MSE 94.9616 \n",
      "Epoch 03083 | Loss 87.3744 | MSE 81.1002 \n",
      "Epoch 03084 | Loss 86.4909 | MSE 84.7064 \n",
      "Epoch 03085 | Loss 90.3418 | MSE 89.5030 \n",
      "Epoch 03086 | Loss 88.1461 | MSE 90.2682 \n",
      "Epoch 03087 | Loss 91.3655 | MSE 107.1334 \n",
      "Epoch 03088 | Loss 94.6950 | MSE 88.9650 \n",
      "Epoch 03089 | Loss 89.7982 | MSE 88.5429 \n",
      "Epoch 03090 | Loss 86.9241 | MSE 91.4108 \n",
      "Epoch 03091 | Loss 86.1832 | MSE 84.9790 \n",
      "Epoch 03092 | Loss 92.4266 | MSE 109.2614 \n",
      "Epoch 03093 | Loss 97.0578 | MSE 87.7765 \n",
      "Epoch 03094 | Loss 93.8474 | MSE 90.4683 \n",
      "Epoch 03095 | Loss 85.3741 | MSE 102.3234 \n"
     ]
    },
    {
     "name": "stderr",
     "output_type": "stream",
     "text": [
      "\r",
      " 62%|███████████████████████▌              | 3101/5000 [00:17<00:10, 187.46it/s]"
     ]
    },
    {
     "name": "stdout",
     "output_type": "stream",
     "text": [
      "Epoch 03096 | Loss 90.9084 | MSE 99.5491 \n",
      "Epoch 03097 | Loss 99.0448 | MSE 115.1330 \n",
      "Epoch 03098 | Loss 100.3470 | MSE 86.9021 \n",
      "Epoch 03099 | Loss 85.0017 | MSE 86.7862 \n",
      "Epoch 03100 | Loss 83.8240 | MSE 116.8660 \n"
     ]
    },
    {
     "name": "stderr",
     "output_type": "stream",
     "text": [
      "\r",
      " 62%|███████████████████████▋              | 3120/5000 [00:17<00:10, 186.49it/s]"
     ]
    },
    {
     "name": "stdout",
     "output_type": "stream",
     "text": [
      "Epoch 03101 | Loss 99.5534 | MSE 95.3042 \n",
      "Epoch 03102 | Loss 104.5241 | MSE 103.9896 \n",
      "Epoch 03103 | Loss 92.1790 | MSE 95.5309 \n",
      "Epoch 03104 | Loss 87.5401 | MSE 92.3727 \n",
      "Epoch 03105 | Loss 89.1784 | MSE 97.5326 \n",
      "Epoch 03106 | Loss 88.5147 | MSE 84.5274 \n",
      "Epoch 03107 | Loss 85.4255 | MSE 84.2312 \n",
      "Epoch 03108 | Loss 82.9053 | MSE 90.8862 \n",
      "Epoch 03109 | Loss 84.5286 | MSE 86.1814 \n",
      "Epoch 03110 | Loss 88.2938 | MSE 95.8546 \n",
      "Epoch 03111 | Loss 88.7023 | MSE 92.3155 \n",
      "Epoch 03112 | Loss 85.5318 | MSE 90.9108 \n",
      "Epoch 03113 | Loss 91.0447 | MSE 90.5460 \n",
      "Epoch 03114 | Loss 84.8034 | MSE 83.2827 \n",
      "Epoch 03115 | Loss 90.9645 | MSE 90.8776 \n",
      "Epoch 03116 | Loss 81.5126 | MSE 91.5498 \n",
      "Epoch 03117 | Loss 85.5800 | MSE 91.3825 \n",
      "Epoch 03118 | Loss 83.8538 | MSE 90.2221 \n",
      "Epoch 03119 | Loss 83.7586 | MSE 85.1494 \n",
      "Epoch 03120 | Loss 83.8544 | MSE 92.5728 \n",
      "Epoch 03121 | Loss 83.5587 | MSE 96.0593 \n",
      "Epoch 03122 | Loss 88.1061 | MSE 104.1278 \n",
      "Epoch 03123 | Loss 92.0916 | MSE 87.9149 \n",
      "Epoch 03124 | Loss 87.2495 | MSE 86.2984 \n",
      "Epoch 03125 | Loss 84.8495 | MSE 93.3727 \n",
      "Epoch 03126 | Loss 88.9404 | MSE 83.5135 \n",
      "Epoch 03127 | Loss 90.7856 | MSE 105.4594 \n",
      "Epoch 03128 | Loss 90.0672 | MSE 92.8009 \n",
      "Epoch 03129 | Loss 87.2746 | MSE 91.8954 \n",
      "Epoch 03130 | Loss 82.9502 | MSE 85.6689 \n",
      "Epoch 03131 | Loss 83.1979 | MSE 84.3489 \n",
      "Epoch 03132 | Loss 88.4553 | MSE 99.9649 \n",
      "Epoch 03133 | Loss 88.6727 | MSE 94.0379 \n"
     ]
    },
    {
     "name": "stderr",
     "output_type": "stream",
     "text": [
      "\r",
      " 63%|███████████████████████▊              | 3139/5000 [00:17<00:09, 186.33it/s]"
     ]
    },
    {
     "name": "stdout",
     "output_type": "stream",
     "text": [
      "Epoch 03134 | Loss 85.2859 | MSE 95.8356 \n",
      "Epoch 03135 | Loss 84.8642 | MSE 90.2272 \n",
      "Epoch 03136 | Loss 84.3165 | MSE 81.8651 \n",
      "Epoch 03137 | Loss 88.5133 | MSE 89.8288 \n",
      "Epoch 03138 | Loss 89.9761 | MSE 90.3909 \n"
     ]
    },
    {
     "name": "stderr",
     "output_type": "stream",
     "text": [
      "\r",
      " 63%|████████████████████████              | 3158/5000 [00:17<00:10, 184.13it/s]"
     ]
    },
    {
     "name": "stdout",
     "output_type": "stream",
     "text": [
      "Epoch 03139 | Loss 86.9441 | MSE 89.0712 \n",
      "Epoch 03140 | Loss 87.2367 | MSE 85.8916 \n",
      "Epoch 03141 | Loss 82.0963 | MSE 83.0545 \n",
      "Epoch 03142 | Loss 87.6983 | MSE 84.8845 \n",
      "Epoch 03143 | Loss 80.7676 | MSE 90.8662 \n",
      "Epoch 03144 | Loss 83.7103 | MSE 91.8313 \n",
      "Epoch 03145 | Loss 84.3261 | MSE 90.8443 \n",
      "Epoch 03146 | Loss 86.0703 | MSE 84.7672 \n",
      "Epoch 03147 | Loss 84.6532 | MSE 85.1528 \n",
      "Epoch 03148 | Loss 87.0529 | MSE 91.1891 \n",
      "Epoch 03149 | Loss 86.8054 | MSE 96.7906 \n",
      "Epoch 03150 | Loss 86.9944 | MSE 91.9533 \n",
      "Epoch 03151 | Loss 87.4975 | MSE 94.3705 \n",
      "Epoch 03152 | Loss 85.3257 | MSE 84.9957 \n",
      "Epoch 03153 | Loss 90.5917 | MSE 94.0772 \n",
      "Epoch 03154 | Loss 85.9992 | MSE 95.3464 \n",
      "Epoch 03155 | Loss 82.0263 | MSE 99.1792 \n",
      "Epoch 03156 | Loss 91.8438 | MSE 104.9237 \n",
      "Epoch 03157 | Loss 92.4615 | MSE 88.3848 \n",
      "Epoch 03158 | Loss 94.7993 | MSE 97.8274 \n",
      "Epoch 03159 | Loss 94.1620 | MSE 92.7056 \n",
      "Epoch 03160 | Loss 87.0935 | MSE 95.2900 \n",
      "Epoch 03161 | Loss 82.1582 | MSE 104.3753 \n",
      "Epoch 03162 | Loss 87.5330 | MSE 89.8899 \n",
      "Epoch 03163 | Loss 92.4306 | MSE 93.8951 \n",
      "Epoch 03164 | Loss 87.6760 | MSE 82.8278 \n",
      "Epoch 03165 | Loss 86.2237 | MSE 85.0418 \n",
      "Epoch 03166 | Loss 87.9044 | MSE 94.5983 \n",
      "Epoch 03167 | Loss 87.5138 | MSE 93.5703 \n",
      "Epoch 03168 | Loss 86.7507 | MSE 92.8350 \n",
      "Epoch 03169 | Loss 84.6285 | MSE 86.0275 \n",
      "Epoch 03170 | Loss 83.6447 | MSE 85.2677 \n",
      "Epoch 03171 | Loss 87.7181 | MSE 96.6252 \n",
      "Epoch 03172 | Loss 90.2998 | MSE 89.4059 \n",
      "Epoch 03173 | Loss 86.4935 | MSE 101.4621 \n",
      "Epoch 03174 | Loss 88.4171 | MSE 88.2934 \n",
      "Epoch 03175 | Loss 86.6122 | MSE 87.4455 \n"
     ]
    },
    {
     "name": "stderr",
     "output_type": "stream",
     "text": [
      " 64%|████████████████████████▎             | 3196/5000 [00:17<00:09, 185.16it/s]"
     ]
    },
    {
     "name": "stdout",
     "output_type": "stream",
     "text": [
      "Epoch 03176 | Loss 89.5422 | MSE 101.6660 \n",
      "Epoch 03177 | Loss 93.7089 | MSE 90.0361 \n",
      "Epoch 03178 | Loss 96.3479 | MSE 102.9683 \n",
      "Epoch 03179 | Loss 89.8559 | MSE 94.4638 \n",
      "Epoch 03180 | Loss 89.5069 | MSE 92.5573 \n",
      "Epoch 03181 | Loss 84.7021 | MSE 89.3606 \n",
      "Epoch 03182 | Loss 84.4963 | MSE 84.7372 \n",
      "Epoch 03183 | Loss 86.3228 | MSE 88.1378 \n",
      "Epoch 03184 | Loss 84.4153 | MSE 87.6998 \n",
      "Epoch 03185 | Loss 85.2234 | MSE 88.9752 \n",
      "Epoch 03186 | Loss 87.3992 | MSE 101.4809 \n",
      "Epoch 03187 | Loss 86.4087 | MSE 85.1738 \n",
      "Epoch 03188 | Loss 89.9625 | MSE 89.5350 \n",
      "Epoch 03189 | Loss 86.8365 | MSE 85.0961 \n",
      "Epoch 03190 | Loss 85.6147 | MSE 92.0650 \n",
      "Epoch 03191 | Loss 86.1107 | MSE 95.1035 \n",
      "Epoch 03192 | Loss 84.8730 | MSE 85.1713 \n",
      "Epoch 03193 | Loss 84.4196 | MSE 90.7440 \n",
      "Epoch 03194 | Loss 86.7718 | MSE 87.1189 \n",
      "Epoch 03195 | Loss 85.4802 | MSE 94.3232 \n",
      "Epoch 03196 | Loss 84.2992 | MSE 91.2765 \n",
      "Epoch 03197 | Loss 87.8653 | MSE 94.8891 \n",
      "Epoch 03198 | Loss 90.5745 | MSE 86.9841 \n",
      "Epoch 03199 | Loss 91.5295 | MSE 99.6252 \n",
      "Epoch 03200 | Loss 89.8012 | MSE 88.0080 \n",
      "Epoch 03201 | Loss 83.2899 | MSE 90.2690 \n",
      "Epoch 03202 | Loss 79.9891 | MSE 100.8735 \n",
      "Epoch 03203 | Loss 91.0759 | MSE 89.2350 \n",
      "Epoch 03204 | Loss 91.7239 | MSE 97.6879 \n",
      "Epoch 03205 | Loss 90.3764 | MSE 91.8284 \n",
      "Epoch 03206 | Loss 80.9748 | MSE 91.2894 \n",
      "Epoch 03207 | Loss 84.1168 | MSE 105.3454 \n",
      "Epoch 03208 | Loss 88.8112 | MSE 88.9642 \n",
      "Epoch 03209 | Loss 90.4729 | MSE 98.5803 \n",
      "Epoch 03210 | Loss 87.6107 | MSE 89.1966 \n",
      "Epoch 03211 | Loss 87.0360 | MSE 88.1775 \n",
      "Epoch 03212 | Loss 81.0768 | MSE 93.9877 \n",
      "Epoch 03213 | Loss 84.4718 | MSE 86.6756 \n"
     ]
    },
    {
     "name": "stderr",
     "output_type": "stream",
     "text": [
      " 65%|████████████████████████▌             | 3234/5000 [00:18<00:09, 185.45it/s]"
     ]
    },
    {
     "name": "stdout",
     "output_type": "stream",
     "text": [
      "Epoch 03214 | Loss 87.3816 | MSE 90.8249 \n",
      "Epoch 03215 | Loss 87.6724 | MSE 86.6163 \n",
      "Epoch 03216 | Loss 83.2586 | MSE 85.1873 \n",
      "Epoch 03217 | Loss 90.6641 | MSE 92.7193 \n",
      "Epoch 03218 | Loss 86.2683 | MSE 89.6795 \n",
      "Epoch 03219 | Loss 85.3680 | MSE 88.9317 \n",
      "Epoch 03220 | Loss 87.8963 | MSE 101.7392 \n",
      "Epoch 03221 | Loss 89.8194 | MSE 89.3303 \n",
      "Epoch 03222 | Loss 92.1168 | MSE 98.7817 \n",
      "Epoch 03223 | Loss 90.5286 | MSE 85.7913 \n",
      "Epoch 03224 | Loss 86.9296 | MSE 86.1291 \n",
      "Epoch 03225 | Loss 84.9625 | MSE 108.9470 \n",
      "Epoch 03226 | Loss 97.8121 | MSE 90.3516 \n",
      "Epoch 03227 | Loss 92.3976 | MSE 101.5805 \n",
      "Epoch 03228 | Loss 90.6948 | MSE 89.2271 \n",
      "Epoch 03229 | Loss 86.4841 | MSE 87.1588 \n",
      "Epoch 03230 | Loss 85.1573 | MSE 96.5800 \n",
      "Epoch 03231 | Loss 86.4068 | MSE 85.6254 \n",
      "Epoch 03232 | Loss 90.0843 | MSE 98.3416 \n",
      "Epoch 03233 | Loss 88.3575 | MSE 82.7543 \n",
      "Epoch 03234 | Loss 88.1855 | MSE 83.1416 \n",
      "Epoch 03235 | Loss 85.7889 | MSE 95.0499 \n",
      "Epoch 03236 | Loss 89.6097 | MSE 86.5422 \n",
      "Epoch 03237 | Loss 98.1544 | MSE 114.5938 \n",
      "Epoch 03238 | Loss 103.3910 | MSE 87.0121 \n",
      "Epoch 03239 | Loss 94.4998 | MSE 87.6638 \n",
      "Epoch 03240 | Loss 82.6381 | MSE 92.3150 \n",
      "Epoch 03241 | Loss 88.9570 | MSE 84.2300 \n",
      "Epoch 03242 | Loss 88.9158 | MSE 97.9286 \n",
      "Epoch 03243 | Loss 90.7880 | MSE 84.7823 \n",
      "Epoch 03244 | Loss 86.3264 | MSE 88.7369 \n",
      "Epoch 03245 | Loss 86.3081 | MSE 97.9365 \n",
      "Epoch 03246 | Loss 88.9457 | MSE 86.4123 \n",
      "Epoch 03247 | Loss 87.9003 | MSE 93.1449 \n",
      "Epoch 03248 | Loss 86.4075 | MSE 89.1510 \n",
      "Epoch 03249 | Loss 84.0426 | MSE 89.6050 \n",
      "Epoch 03250 | Loss 87.4176 | MSE 96.1667 \n",
      "Epoch 03251 | Loss 87.7148 | MSE 91.2051 \n"
     ]
    },
    {
     "name": "stderr",
     "output_type": "stream",
     "text": [
      " 65%|████████████████████████▊             | 3272/5000 [00:18<00:09, 185.85it/s]"
     ]
    },
    {
     "name": "stdout",
     "output_type": "stream",
     "text": [
      "Epoch 03252 | Loss 92.6428 | MSE 91.6621 \n",
      "Epoch 03253 | Loss 85.2785 | MSE 93.6525 \n",
      "Epoch 03254 | Loss 86.0839 | MSE 92.3025 \n",
      "Epoch 03255 | Loss 88.1276 | MSE 100.6953 \n",
      "Epoch 03256 | Loss 88.3655 | MSE 87.0875 \n",
      "Epoch 03257 | Loss 84.8854 | MSE 85.7735 \n",
      "Epoch 03258 | Loss 84.5112 | MSE 86.7985 \n",
      "Epoch 03259 | Loss 84.0469 | MSE 85.7387 \n",
      "Epoch 03260 | Loss 82.0692 | MSE 95.5556 \n",
      "Epoch 03261 | Loss 84.9201 | MSE 92.8214 \n",
      "Epoch 03262 | Loss 87.6796 | MSE 85.3346 \n",
      "Epoch 03263 | Loss 85.5086 | MSE 88.6373 \n",
      "Epoch 03264 | Loss 84.9714 | MSE 87.7284 \n",
      "Epoch 03265 | Loss 85.6111 | MSE 90.1741 \n",
      "Epoch 03266 | Loss 87.1911 | MSE 96.5913 \n",
      "Epoch 03267 | Loss 86.4273 | MSE 87.0472 \n",
      "Epoch 03268 | Loss 84.4846 | MSE 90.0559 \n",
      "Epoch 03269 | Loss 85.4468 | MSE 95.3629 \n",
      "Epoch 03270 | Loss 90.1519 | MSE 88.7454 \n",
      "Epoch 03271 | Loss 87.9720 | MSE 98.8660 \n",
      "Epoch 03272 | Loss 84.8798 | MSE 91.4447 \n",
      "Epoch 03273 | Loss 83.1177 | MSE 89.5655 \n",
      "Epoch 03274 | Loss 88.2973 | MSE 113.6855 \n",
      "Epoch 03275 | Loss 99.0242 | MSE 97.6918 \n",
      "Epoch 03276 | Loss 102.7566 | MSE 115.1426 \n",
      "Epoch 03277 | Loss 93.2560 | MSE 90.4414 \n",
      "Epoch 03278 | Loss 82.7327 | MSE 88.0035 \n",
      "Epoch 03279 | Loss 88.3010 | MSE 104.3237 \n",
      "Epoch 03280 | Loss 93.4754 | MSE 91.0524 \n",
      "Epoch 03281 | Loss 98.0822 | MSE 106.1902 \n",
      "Epoch 03282 | Loss 96.1112 | MSE 85.7999 \n",
      "Epoch 03283 | Loss 85.5437 | MSE 87.3015 \n",
      "Epoch 03284 | Loss 89.6839 | MSE 110.0967 \n",
      "Epoch 03285 | Loss 96.6486 | MSE 84.6619 \n",
      "Epoch 03286 | Loss 96.6178 | MSE 88.3398 \n",
      "Epoch 03287 | Loss 83.4792 | MSE 94.7713 \n",
      "Epoch 03288 | Loss 88.0333 | MSE 92.4017 \n",
      "Epoch 03289 | Loss 90.6347 | MSE 95.1519 \n"
     ]
    },
    {
     "name": "stderr",
     "output_type": "stream",
     "text": [
      " 66%|█████████████████████████▏            | 3310/5000 [00:18<00:09, 185.46it/s]"
     ]
    },
    {
     "name": "stdout",
     "output_type": "stream",
     "text": [
      "Epoch 03290 | Loss 83.9335 | MSE 85.5333 \n",
      "Epoch 03291 | Loss 85.4789 | MSE 85.1934 \n",
      "Epoch 03292 | Loss 81.4220 | MSE 89.0963 \n",
      "Epoch 03293 | Loss 84.0366 | MSE 88.2297 \n",
      "Epoch 03294 | Loss 85.8323 | MSE 88.6242 \n",
      "Epoch 03295 | Loss 86.6550 | MSE 89.6846 \n",
      "Epoch 03296 | Loss 82.7907 | MSE 85.4818 \n",
      "Epoch 03297 | Loss 89.0353 | MSE 89.0823 \n",
      "Epoch 03298 | Loss 78.2955 | MSE 89.8309 \n",
      "Epoch 03299 | Loss 82.2955 | MSE 87.6889 \n",
      "Epoch 03300 | Loss 85.7303 | MSE 96.7772 \n",
      "Epoch 03301 | Loss 82.3428 | MSE 85.2937 \n",
      "Epoch 03302 | Loss 86.1595 | MSE 90.9878 \n",
      "Epoch 03303 | Loss 82.3190 | MSE 86.7306 \n",
      "Epoch 03304 | Loss 84.6604 | MSE 86.5840 \n",
      "Epoch 03305 | Loss 85.7962 | MSE 95.3475 \n",
      "Epoch 03306 | Loss 81.0531 | MSE 92.5723 \n",
      "Epoch 03307 | Loss 83.2021 | MSE 89.2962 \n",
      "Epoch 03308 | Loss 83.3225 | MSE 94.8775 \n",
      "Epoch 03309 | Loss 89.6359 | MSE 86.8024 \n",
      "Epoch 03310 | Loss 89.2761 | MSE 95.9288 \n",
      "Epoch 03311 | Loss 88.0035 | MSE 85.0277 \n",
      "Epoch 03312 | Loss 86.8667 | MSE 84.4503 \n",
      "Epoch 03313 | Loss 84.3030 | MSE 83.6846 \n",
      "Epoch 03314 | Loss 86.2863 | MSE 85.8317 \n",
      "Epoch 03315 | Loss 84.8981 | MSE 96.9531 \n",
      "Epoch 03316 | Loss 83.9792 | MSE 96.1826 \n",
      "Epoch 03317 | Loss 85.0885 | MSE 89.0578 \n",
      "Epoch 03318 | Loss 84.1963 | MSE 92.8437 \n",
      "Epoch 03319 | Loss 86.4639 | MSE 85.9687 \n",
      "Epoch 03320 | Loss 86.4024 | MSE 91.6062 \n",
      "Epoch 03321 | Loss 84.0250 | MSE 92.3566 \n",
      "Epoch 03322 | Loss 82.0145 | MSE 92.6762 \n",
      "Epoch 03323 | Loss 84.7400 | MSE 88.0433 \n",
      "Epoch 03324 | Loss 85.2538 | MSE 84.4043 \n",
      "Epoch 03325 | Loss 85.9269 | MSE 91.0804 \n",
      "Epoch 03326 | Loss 85.6790 | MSE 88.8289 \n",
      "Epoch 03327 | Loss 86.0571 | MSE 95.5451 \n"
     ]
    },
    {
     "name": "stderr",
     "output_type": "stream",
     "text": [
      " 67%|█████████████████████████▍            | 3348/5000 [00:18<00:08, 185.81it/s]"
     ]
    },
    {
     "name": "stdout",
     "output_type": "stream",
     "text": [
      "Epoch 03328 | Loss 82.0227 | MSE 88.3508 \n",
      "Epoch 03329 | Loss 84.4789 | MSE 85.1083 \n",
      "Epoch 03330 | Loss 84.6447 | MSE 98.0827 \n",
      "Epoch 03331 | Loss 89.3548 | MSE 92.1750 \n",
      "Epoch 03332 | Loss 88.5992 | MSE 97.0347 \n",
      "Epoch 03333 | Loss 83.4374 | MSE 86.7183 \n",
      "Epoch 03334 | Loss 84.9277 | MSE 84.9990 \n",
      "Epoch 03335 | Loss 82.5438 | MSE 89.9166 \n",
      "Epoch 03336 | Loss 87.4392 | MSE 87.0669 \n",
      "Epoch 03337 | Loss 87.8221 | MSE 97.6814 \n",
      "Epoch 03338 | Loss 86.8438 | MSE 86.9273 \n",
      "Epoch 03339 | Loss 84.7690 | MSE 85.0100 \n",
      "Epoch 03340 | Loss 86.0150 | MSE 86.2884 \n",
      "Epoch 03341 | Loss 87.2557 | MSE 97.3518 \n",
      "Epoch 03342 | Loss 86.9254 | MSE 96.8042 \n",
      "Epoch 03343 | Loss 86.3948 | MSE 96.3802 \n",
      "Epoch 03344 | Loss 86.0361 | MSE 87.3750 \n",
      "Epoch 03345 | Loss 88.6976 | MSE 89.3216 \n",
      "Epoch 03346 | Loss 84.4744 | MSE 94.9256 \n",
      "Epoch 03347 | Loss 83.0334 | MSE 96.1050 \n",
      "Epoch 03348 | Loss 88.2020 | MSE 93.4810 \n",
      "Epoch 03349 | Loss 83.2662 | MSE 93.1578 \n",
      "Epoch 03350 | Loss 89.3618 | MSE 98.4301 \n",
      "Epoch 03351 | Loss 86.6650 | MSE 97.7840 \n",
      "Epoch 03352 | Loss 83.2614 | MSE 99.5365 \n",
      "Epoch 03353 | Loss 81.1230 | MSE 93.8464 \n",
      "Epoch 03354 | Loss 85.0460 | MSE 88.1530 \n",
      "Epoch 03355 | Loss 83.5711 | MSE 88.5611 \n",
      "Epoch 03356 | Loss 85.3611 | MSE 101.6236 \n",
      "Epoch 03357 | Loss 87.9018 | MSE 96.0828 \n",
      "Epoch 03358 | Loss 93.1165 | MSE 104.7998 \n",
      "Epoch 03359 | Loss 91.2319 | MSE 88.4580 \n",
      "Epoch 03360 | Loss 90.6380 | MSE 95.7193 \n",
      "Epoch 03361 | Loss 86.6411 | MSE 94.6643 \n",
      "Epoch 03362 | Loss 83.4689 | MSE 102.5548 \n",
      "Epoch 03363 | Loss 85.2244 | MSE 89.7803 \n",
      "Epoch 03364 | Loss 82.1453 | MSE 89.2543 \n",
      "Epoch 03365 | Loss 93.4625 | MSE 94.9579 \n"
     ]
    },
    {
     "name": "stderr",
     "output_type": "stream",
     "text": [
      " 68%|█████████████████████████▋            | 3386/5000 [00:18<00:08, 185.74it/s]"
     ]
    },
    {
     "name": "stdout",
     "output_type": "stream",
     "text": [
      "Epoch 03366 | Loss 83.0857 | MSE 100.2534 \n",
      "Epoch 03367 | Loss 84.4610 | MSE 103.7328 \n",
      "Epoch 03368 | Loss 83.5644 | MSE 87.3814 \n",
      "Epoch 03369 | Loss 88.0192 | MSE 86.5081 \n",
      "Epoch 03370 | Loss 82.6097 | MSE 91.6726 \n",
      "Epoch 03371 | Loss 87.4961 | MSE 92.7875 \n",
      "Epoch 03372 | Loss 91.5435 | MSE 104.4379 \n",
      "Epoch 03373 | Loss 86.8534 | MSE 95.2275 \n",
      "Epoch 03374 | Loss 83.9381 | MSE 98.4122 \n",
      "Epoch 03375 | Loss 81.4210 | MSE 87.3155 \n",
      "Epoch 03376 | Loss 84.7465 | MSE 92.7658 \n",
      "Epoch 03377 | Loss 85.1753 | MSE 96.1985 \n",
      "Epoch 03378 | Loss 85.8658 | MSE 92.5760 \n",
      "Epoch 03379 | Loss 88.2855 | MSE 91.7881 \n",
      "Epoch 03380 | Loss 88.1304 | MSE 85.2389 \n",
      "Epoch 03381 | Loss 90.2496 | MSE 96.6165 \n",
      "Epoch 03382 | Loss 85.9143 | MSE 100.7012 \n",
      "Epoch 03383 | Loss 92.4193 | MSE 110.7845 \n",
      "Epoch 03384 | Loss 87.7670 | MSE 91.0440 \n",
      "Epoch 03385 | Loss 83.4931 | MSE 92.2853 \n",
      "Epoch 03386 | Loss 83.3810 | MSE 85.2306 \n",
      "Epoch 03387 | Loss 84.0011 | MSE 92.0159 \n",
      "Epoch 03388 | Loss 86.4798 | MSE 89.1783 \n",
      "Epoch 03389 | Loss 85.9104 | MSE 94.4539 \n",
      "Epoch 03390 | Loss 86.2103 | MSE 88.9153 \n",
      "Epoch 03391 | Loss 83.6062 | MSE 95.2845 \n",
      "Epoch 03392 | Loss 86.5297 | MSE 87.6302 \n",
      "Epoch 03393 | Loss 84.0563 | MSE 94.9096 \n",
      "Epoch 03394 | Loss 83.8540 | MSE 92.7554 \n",
      "Epoch 03395 | Loss 81.7672 | MSE 93.7075 \n",
      "Epoch 03396 | Loss 82.7865 | MSE 93.9935 \n",
      "Epoch 03397 | Loss 84.8417 | MSE 89.3381 \n",
      "Epoch 03398 | Loss 83.1455 | MSE 97.1856 \n",
      "Epoch 03399 | Loss 83.1896 | MSE 94.6478 \n",
      "Epoch 03400 | Loss 86.3684 | MSE 93.2058 \n",
      "Epoch 03401 | Loss 82.8274 | MSE 90.3244 \n",
      "Epoch 03402 | Loss 84.5093 | MSE 88.7751 \n",
      "Epoch 03403 | Loss 82.0620 | MSE 92.0485 \n"
     ]
    },
    {
     "name": "stderr",
     "output_type": "stream",
     "text": [
      " 68%|██████████████████████████            | 3424/5000 [00:19<00:08, 185.65it/s]"
     ]
    },
    {
     "name": "stdout",
     "output_type": "stream",
     "text": [
      "Epoch 03404 | Loss 83.3773 | MSE 89.7580 \n",
      "Epoch 03405 | Loss 84.1433 | MSE 94.1487 \n",
      "Epoch 03406 | Loss 83.3867 | MSE 93.2296 \n",
      "Epoch 03407 | Loss 85.0612 | MSE 103.3120 \n",
      "Epoch 03408 | Loss 83.2452 | MSE 95.7382 \n",
      "Epoch 03409 | Loss 95.7682 | MSE 99.0162 \n",
      "Epoch 03410 | Loss 90.3570 | MSE 86.2657 \n",
      "Epoch 03411 | Loss 92.4865 | MSE 103.4588 \n",
      "Epoch 03412 | Loss 85.4732 | MSE 95.4129 \n",
      "Epoch 03413 | Loss 89.6830 | MSE 94.9664 \n",
      "Epoch 03414 | Loss 82.6065 | MSE 93.9408 \n",
      "Epoch 03415 | Loss 84.7475 | MSE 88.8004 \n",
      "Epoch 03416 | Loss 90.3283 | MSE 121.5614 \n",
      "Epoch 03417 | Loss 97.7322 | MSE 101.5813 \n",
      "Epoch 03418 | Loss 102.4738 | MSE 123.2495 \n",
      "Epoch 03419 | Loss 102.5858 | MSE 94.6165 \n",
      "Epoch 03420 | Loss 90.7341 | MSE 94.3030 \n",
      "Epoch 03421 | Loss 86.0781 | MSE 93.0948 \n",
      "Epoch 03422 | Loss 84.9908 | MSE 95.0493 \n",
      "Epoch 03423 | Loss 88.9732 | MSE 115.9825 \n",
      "Epoch 03424 | Loss 97.0137 | MSE 92.0663 \n",
      "Epoch 03425 | Loss 96.6849 | MSE 98.7211 \n",
      "Epoch 03426 | Loss 83.3266 | MSE 97.6130 \n",
      "Epoch 03427 | Loss 85.1767 | MSE 99.7174 \n",
      "Epoch 03428 | Loss 101.8022 | MSE 146.6270 \n",
      "Epoch 03429 | Loss 121.7056 | MSE 98.4010 \n",
      "Epoch 03430 | Loss 103.2068 | MSE 90.7801 \n",
      "Epoch 03431 | Loss 81.1559 | MSE 104.2099 \n",
      "Epoch 03432 | Loss 89.7172 | MSE 106.4484 \n",
      "Epoch 03433 | Loss 108.9489 | MSE 133.6305 \n",
      "Epoch 03434 | Loss 106.9055 | MSE 86.1229 \n",
      "Epoch 03435 | Loss 86.2550 | MSE 89.6637 \n",
      "Epoch 03436 | Loss 93.1569 | MSE 128.7115 \n",
      "Epoch 03437 | Loss 106.5341 | MSE 90.8532 \n",
      "Epoch 03438 | Loss 91.6855 | MSE 90.5285 \n",
      "Epoch 03439 | Loss 86.3087 | MSE 114.9952 \n",
      "Epoch 03440 | Loss 101.5045 | MSE 88.5151 \n",
      "Epoch 03441 | Loss 90.8554 | MSE 89.9347 \n"
     ]
    },
    {
     "name": "stderr",
     "output_type": "stream",
     "text": [
      " 69%|██████████████████████████▎           | 3462/5000 [00:19<00:08, 186.27it/s]"
     ]
    },
    {
     "name": "stdout",
     "output_type": "stream",
     "text": [
      "Epoch 03442 | Loss 84.7257 | MSE 95.1551 \n",
      "Epoch 03443 | Loss 83.8274 | MSE 86.9289 \n",
      "Epoch 03444 | Loss 88.5635 | MSE 94.3424 \n",
      "Epoch 03445 | Loss 90.6466 | MSE 89.5280 \n",
      "Epoch 03446 | Loss 83.0699 | MSE 87.8702 \n",
      "Epoch 03447 | Loss 82.2711 | MSE 92.1992 \n",
      "Epoch 03448 | Loss 87.1710 | MSE 86.9769 \n",
      "Epoch 03449 | Loss 84.9934 | MSE 90.6643 \n",
      "Epoch 03450 | Loss 87.0948 | MSE 91.1599 \n",
      "Epoch 03451 | Loss 85.9634 | MSE 88.1108 \n",
      "Epoch 03452 | Loss 83.4337 | MSE 85.9448 \n",
      "Epoch 03453 | Loss 81.5608 | MSE 89.9670 \n",
      "Epoch 03454 | Loss 83.7092 | MSE 87.4433 \n",
      "Epoch 03455 | Loss 85.7686 | MSE 97.1253 \n",
      "Epoch 03456 | Loss 82.7601 | MSE 101.3817 \n",
      "Epoch 03457 | Loss 85.6343 | MSE 93.4001 \n",
      "Epoch 03458 | Loss 84.9472 | MSE 89.5750 \n",
      "Epoch 03459 | Loss 81.5249 | MSE 85.6806 \n",
      "Epoch 03460 | Loss 85.7728 | MSE 84.6581 \n",
      "Epoch 03461 | Loss 81.0939 | MSE 93.9668 \n",
      "Epoch 03462 | Loss 82.0625 | MSE 92.8446 \n",
      "Epoch 03463 | Loss 85.3267 | MSE 86.9451 \n",
      "Epoch 03464 | Loss 89.4565 | MSE 94.1943 \n",
      "Epoch 03465 | Loss 92.0158 | MSE 84.2719 \n",
      "Epoch 03466 | Loss 89.0243 | MSE 89.4633 \n",
      "Epoch 03467 | Loss 81.2981 | MSE 97.5459 \n",
      "Epoch 03468 | Loss 84.0557 | MSE 95.2813 \n",
      "Epoch 03469 | Loss 86.9453 | MSE 94.1704 \n",
      "Epoch 03470 | Loss 83.5431 | MSE 86.7245 \n",
      "Epoch 03471 | Loss 80.7488 | MSE 86.5362 \n",
      "Epoch 03472 | Loss 81.1002 | MSE 99.7677 \n",
      "Epoch 03473 | Loss 88.0410 | MSE 90.4238 \n",
      "Epoch 03474 | Loss 89.6524 | MSE 100.8377 \n",
      "Epoch 03475 | Loss 85.9542 | MSE 88.4381 \n",
      "Epoch 03476 | Loss 81.7120 | MSE 86.7648 \n",
      "Epoch 03477 | Loss 83.6162 | MSE 102.7616 \n",
      "Epoch 03478 | Loss 89.4461 | MSE 92.4821 \n",
      "Epoch 03479 | Loss 96.5358 | MSE 101.0235 \n"
     ]
    },
    {
     "name": "stderr",
     "output_type": "stream",
     "text": [
      " 70%|██████████████████████████▌           | 3500/5000 [00:19<00:08, 185.99it/s]"
     ]
    },
    {
     "name": "stdout",
     "output_type": "stream",
     "text": [
      "Epoch 03480 | Loss 83.0246 | MSE 92.3657 \n",
      "Epoch 03481 | Loss 84.4890 | MSE 93.0244 \n",
      "Epoch 03482 | Loss 90.5431 | MSE 103.2332 \n",
      "Epoch 03483 | Loss 87.4327 | MSE 82.4279 \n",
      "Epoch 03484 | Loss 87.3325 | MSE 84.0025 \n",
      "Epoch 03485 | Loss 84.3112 | MSE 90.4900 \n",
      "Epoch 03486 | Loss 86.0348 | MSE 87.0352 \n",
      "Epoch 03487 | Loss 89.3918 | MSE 89.1226 \n",
      "Epoch 03488 | Loss 82.2490 | MSE 87.4197 \n",
      "Epoch 03489 | Loss 80.9402 | MSE 85.6173 \n",
      "Epoch 03490 | Loss 84.3410 | MSE 95.0888 \n",
      "Epoch 03491 | Loss 82.0004 | MSE 91.4958 \n",
      "Epoch 03492 | Loss 83.2431 | MSE 85.8545 \n",
      "Epoch 03493 | Loss 87.1161 | MSE 93.3007 \n",
      "Epoch 03494 | Loss 85.9073 | MSE 84.4454 \n",
      "Epoch 03495 | Loss 85.5447 | MSE 92.0384 \n",
      "Epoch 03496 | Loss 84.2325 | MSE 94.3827 \n",
      "Epoch 03497 | Loss 83.4483 | MSE 91.4510 \n",
      "Epoch 03498 | Loss 85.9527 | MSE 97.0815 \n",
      "Epoch 03499 | Loss 87.7585 | MSE 86.5719 \n",
      "Epoch 03500 | Loss 89.4357 | MSE 99.3176 \n",
      "Epoch 03501 | Loss 84.6314 | MSE 99.0171 \n",
      "Epoch 03502 | Loss 88.8569 | MSE 94.9770 \n",
      "Epoch 03503 | Loss 86.1289 | MSE 86.0908 \n",
      "Epoch 03504 | Loss 86.7979 | MSE 85.5159 \n",
      "Epoch 03505 | Loss 87.9498 | MSE 105.4560 \n",
      "Epoch 03506 | Loss 91.9503 | MSE 97.4279 \n",
      "Epoch 03507 | Loss 94.8868 | MSE 105.2343 \n",
      "Epoch 03508 | Loss 89.3969 | MSE 87.4656 \n",
      "Epoch 03509 | Loss 83.1049 | MSE 89.2971 \n",
      "Epoch 03510 | Loss 82.4040 | MSE 85.6452 \n",
      "Epoch 03511 | Loss 80.8548 | MSE 89.2972 \n",
      "Epoch 03512 | Loss 84.6129 | MSE 94.8668 \n",
      "Epoch 03513 | Loss 83.1173 | MSE 88.4383 \n",
      "Epoch 03514 | Loss 82.9329 | MSE 87.2139 \n",
      "Epoch 03515 | Loss 83.1347 | MSE 81.7649 \n",
      "Epoch 03516 | Loss 86.5792 | MSE 85.5447 \n",
      "Epoch 03517 | Loss 84.5533 | MSE 87.8790 \n"
     ]
    },
    {
     "name": "stderr",
     "output_type": "stream",
     "text": [
      " 71%|██████████████████████████▉           | 3538/5000 [00:19<00:07, 186.09it/s]"
     ]
    },
    {
     "name": "stdout",
     "output_type": "stream",
     "text": [
      "Epoch 03518 | Loss 84.4598 | MSE 90.0505 \n",
      "Epoch 03519 | Loss 84.0251 | MSE 93.9333 \n",
      "Epoch 03520 | Loss 85.2393 | MSE 96.9318 \n",
      "Epoch 03521 | Loss 85.6208 | MSE 89.5831 \n",
      "Epoch 03522 | Loss 82.1005 | MSE 88.5965 \n",
      "Epoch 03523 | Loss 84.4483 | MSE 89.6543 \n",
      "Epoch 03524 | Loss 86.4307 | MSE 85.1329 \n",
      "Epoch 03525 | Loss 86.7142 | MSE 91.1580 \n",
      "Epoch 03526 | Loss 84.1007 | MSE 85.0505 \n",
      "Epoch 03527 | Loss 85.6908 | MSE 84.4689 \n",
      "Epoch 03528 | Loss 82.2912 | MSE 83.6305 \n",
      "Epoch 03529 | Loss 82.9245 | MSE 84.2075 \n",
      "Epoch 03530 | Loss 83.8084 | MSE 84.7067 \n",
      "Epoch 03531 | Loss 79.8069 | MSE 86.8949 \n",
      "Epoch 03532 | Loss 81.7639 | MSE 85.9943 \n",
      "Epoch 03533 | Loss 83.9867 | MSE 89.4646 \n",
      "Epoch 03534 | Loss 82.7947 | MSE 90.4484 \n",
      "Epoch 03535 | Loss 83.2192 | MSE 91.3914 \n",
      "Epoch 03536 | Loss 82.7350 | MSE 85.5785 \n",
      "Epoch 03537 | Loss 81.2398 | MSE 85.4811 \n",
      "Epoch 03538 | Loss 82.0626 | MSE 84.4806 \n",
      "Epoch 03539 | Loss 83.0221 | MSE 98.1301 \n",
      "Epoch 03540 | Loss 87.4114 | MSE 94.9124 \n",
      "Epoch 03541 | Loss 88.2305 | MSE 95.8171 \n",
      "Epoch 03542 | Loss 86.5402 | MSE 85.4561 \n",
      "Epoch 03543 | Loss 84.8713 | MSE 89.3453 \n",
      "Epoch 03544 | Loss 79.9614 | MSE 98.0147 \n",
      "Epoch 03545 | Loss 85.9965 | MSE 91.8226 \n",
      "Epoch 03546 | Loss 83.9612 | MSE 101.7225 \n",
      "Epoch 03547 | Loss 84.2923 | MSE 94.8986 \n",
      "Epoch 03548 | Loss 89.8197 | MSE 102.5916 \n",
      "Epoch 03549 | Loss 85.9348 | MSE 91.7740 \n",
      "Epoch 03550 | Loss 84.3952 | MSE 93.0578 \n",
      "Epoch 03551 | Loss 84.9796 | MSE 90.6117 \n",
      "Epoch 03552 | Loss 80.4006 | MSE 90.0717 \n",
      "Epoch 03553 | Loss 82.9060 | MSE 104.8994 \n",
      "Epoch 03554 | Loss 88.0181 | MSE 87.9699 \n",
      "Epoch 03555 | Loss 92.5609 | MSE 99.0943 \n"
     ]
    },
    {
     "name": "stderr",
     "output_type": "stream",
     "text": [
      " 72%|███████████████████████████▏          | 3576/5000 [00:19<00:07, 186.02it/s]"
     ]
    },
    {
     "name": "stdout",
     "output_type": "stream",
     "text": [
      "Epoch 03556 | Loss 92.4736 | MSE 86.6715 \n",
      "Epoch 03557 | Loss 83.9511 | MSE 95.4745 \n",
      "Epoch 03558 | Loss 83.3664 | MSE 101.7253 \n",
      "Epoch 03559 | Loss 85.6082 | MSE 91.1707 \n",
      "Epoch 03560 | Loss 86.9795 | MSE 101.0711 \n",
      "Epoch 03561 | Loss 90.7410 | MSE 87.5539 \n",
      "Epoch 03562 | Loss 89.6903 | MSE 111.6695 \n",
      "Epoch 03563 | Loss 88.4242 | MSE 99.2202 \n",
      "Epoch 03564 | Loss 86.1417 | MSE 90.6327 \n",
      "Epoch 03565 | Loss 83.8087 | MSE 83.7341 \n",
      "Epoch 03566 | Loss 83.4342 | MSE 81.2277 \n",
      "Epoch 03567 | Loss 86.8339 | MSE 88.1350 \n",
      "Epoch 03568 | Loss 81.0076 | MSE 98.5569 \n",
      "Epoch 03569 | Loss 84.4571 | MSE 98.2255 \n",
      "Epoch 03570 | Loss 85.4943 | MSE 92.6851 \n",
      "Epoch 03571 | Loss 88.7954 | MSE 103.9168 \n",
      "Epoch 03572 | Loss 88.0252 | MSE 89.5760 \n",
      "Epoch 03573 | Loss 86.6333 | MSE 98.2352 \n",
      "Epoch 03574 | Loss 82.6055 | MSE 88.3814 \n",
      "Epoch 03575 | Loss 81.7541 | MSE 85.1438 \n",
      "Epoch 03576 | Loss 86.4264 | MSE 98.0457 \n",
      "Epoch 03577 | Loss 88.7568 | MSE 88.1206 \n",
      "Epoch 03578 | Loss 84.2764 | MSE 90.5000 \n",
      "Epoch 03579 | Loss 81.9515 | MSE 88.4057 \n",
      "Epoch 03580 | Loss 84.1103 | MSE 86.1552 \n",
      "Epoch 03581 | Loss 81.1033 | MSE 88.6766 \n",
      "Epoch 03582 | Loss 82.3487 | MSE 92.7252 \n",
      "Epoch 03583 | Loss 82.5164 | MSE 88.2082 \n",
      "Epoch 03584 | Loss 87.3316 | MSE 99.4118 \n",
      "Epoch 03585 | Loss 84.6959 | MSE 85.1488 \n",
      "Epoch 03586 | Loss 85.6027 | MSE 87.7525 \n",
      "Epoch 03587 | Loss 80.7534 | MSE 97.3597 \n",
      "Epoch 03588 | Loss 81.8419 | MSE 90.9506 \n",
      "Epoch 03589 | Loss 89.1669 | MSE 101.3635 \n",
      "Epoch 03590 | Loss 84.6533 | MSE 87.3400 \n",
      "Epoch 03591 | Loss 84.7720 | MSE 85.4590 \n",
      "Epoch 03592 | Loss 85.3947 | MSE 98.5614 \n",
      "Epoch 03593 | Loss 88.3360 | MSE 91.5674 \n"
     ]
    },
    {
     "name": "stderr",
     "output_type": "stream",
     "text": [
      " 72%|███████████████████████████▍          | 3614/5000 [00:20<00:07, 186.83it/s]"
     ]
    },
    {
     "name": "stdout",
     "output_type": "stream",
     "text": [
      "Epoch 03594 | Loss 89.0662 | MSE 97.8068 \n",
      "Epoch 03595 | Loss 84.4540 | MSE 87.0807 \n",
      "Epoch 03596 | Loss 78.4351 | MSE 88.0527 \n",
      "Epoch 03597 | Loss 87.5070 | MSE 103.7195 \n",
      "Epoch 03598 | Loss 88.7012 | MSE 85.1316 \n",
      "Epoch 03599 | Loss 88.5088 | MSE 93.5346 \n",
      "Epoch 03600 | Loss 89.7906 | MSE 79.5292 \n",
      "Epoch 03601 | Loss 87.6219 | MSE 86.8451 \n",
      "Epoch 03602 | Loss 84.8027 | MSE 97.8170 \n",
      "Epoch 03603 | Loss 83.9721 | MSE 94.3658 \n",
      "Epoch 03604 | Loss 86.3491 | MSE 95.9386 \n",
      "Epoch 03605 | Loss 82.8572 | MSE 88.6921 \n",
      "Epoch 03606 | Loss 85.1641 | MSE 91.1219 \n",
      "Epoch 03607 | Loss 80.2944 | MSE 104.9119 \n",
      "Epoch 03608 | Loss 85.0254 | MSE 88.2312 \n",
      "Epoch 03609 | Loss 89.8082 | MSE 94.9192 \n",
      "Epoch 03610 | Loss 90.3767 | MSE 81.6572 \n",
      "Epoch 03611 | Loss 83.1658 | MSE 87.0974 \n",
      "Epoch 03612 | Loss 83.1637 | MSE 102.5598 \n",
      "Epoch 03613 | Loss 84.6418 | MSE 94.6004 \n",
      "Epoch 03614 | Loss 84.3614 | MSE 95.8919 \n",
      "Epoch 03615 | Loss 86.2324 | MSE 85.6389 \n",
      "Epoch 03616 | Loss 84.6246 | MSE 85.6970 \n",
      "Epoch 03617 | Loss 79.4223 | MSE 91.4257 \n",
      "Epoch 03618 | Loss 84.7861 | MSE 90.7808 \n",
      "Epoch 03619 | Loss 88.2985 | MSE 100.7234 \n",
      "Epoch 03620 | Loss 88.5938 | MSE 82.8581 \n",
      "Epoch 03621 | Loss 84.7590 | MSE 85.3458 \n",
      "Epoch 03622 | Loss 85.1565 | MSE 86.0913 \n",
      "Epoch 03623 | Loss 82.3832 | MSE 89.8644 \n",
      "Epoch 03624 | Loss 85.6101 | MSE 91.8741 \n",
      "Epoch 03625 | Loss 82.5103 | MSE 88.5363 \n",
      "Epoch 03626 | Loss 84.4522 | MSE 82.9705 \n",
      "Epoch 03627 | Loss 84.6791 | MSE 86.0477 \n",
      "Epoch 03628 | Loss 83.3887 | MSE 88.4525 \n",
      "Epoch 03629 | Loss 83.4814 | MSE 85.8168 \n",
      "Epoch 03630 | Loss 83.4387 | MSE 90.4371 \n",
      "Epoch 03631 | Loss 83.6656 | MSE 86.5682 \n"
     ]
    },
    {
     "name": "stderr",
     "output_type": "stream",
     "text": [
      " 73%|███████████████████████████▊          | 3652/5000 [00:20<00:07, 185.57it/s]"
     ]
    },
    {
     "name": "stdout",
     "output_type": "stream",
     "text": [
      "Epoch 03632 | Loss 83.9721 | MSE 87.1351 \n",
      "Epoch 03633 | Loss 83.9401 | MSE 90.3070 \n",
      "Epoch 03634 | Loss 82.6720 | MSE 89.7263 \n",
      "Epoch 03635 | Loss 83.5978 | MSE 105.5685 \n",
      "Epoch 03636 | Loss 85.8940 | MSE 91.5977 \n",
      "Epoch 03637 | Loss 81.3336 | MSE 86.4356 \n",
      "Epoch 03638 | Loss 82.8489 | MSE 87.4704 \n",
      "Epoch 03639 | Loss 80.8406 | MSE 90.6005 \n",
      "Epoch 03640 | Loss 82.5855 | MSE 100.8292 \n",
      "Epoch 03641 | Loss 82.7491 | MSE 91.8767 \n",
      "Epoch 03642 | Loss 82.4902 | MSE 92.9255 \n",
      "Epoch 03643 | Loss 82.1729 | MSE 87.9040 \n",
      "Epoch 03644 | Loss 77.8016 | MSE 94.6787 \n",
      "Epoch 03645 | Loss 80.9808 | MSE 96.7160 \n",
      "Epoch 03646 | Loss 80.4019 | MSE 94.9878 \n",
      "Epoch 03647 | Loss 82.0666 | MSE 89.8911 \n",
      "Epoch 03648 | Loss 81.8038 | MSE 85.3139 \n",
      "Epoch 03649 | Loss 82.3511 | MSE 83.2937 \n",
      "Epoch 03650 | Loss 84.7071 | MSE 88.4036 \n",
      "Epoch 03651 | Loss 84.4510 | MSE 86.7176 \n",
      "Epoch 03652 | Loss 80.7734 | MSE 96.1760 \n",
      "Epoch 03653 | Loss 85.0213 | MSE 87.8048 \n",
      "Epoch 03654 | Loss 87.3465 | MSE 93.6242 \n",
      "Epoch 03655 | Loss 83.1532 | MSE 87.8397 \n",
      "Epoch 03656 | Loss 83.5716 | MSE 91.2887 \n",
      "Epoch 03657 | Loss 85.5406 | MSE 90.5360 \n",
      "Epoch 03658 | Loss 82.6129 | MSE 92.0829 \n",
      "Epoch 03659 | Loss 82.0287 | MSE 90.5742 \n",
      "Epoch 03660 | Loss 82.3748 | MSE 94.6200 \n",
      "Epoch 03661 | Loss 79.1372 | MSE 84.9592 \n",
      "Epoch 03662 | Loss 82.6458 | MSE 95.8608 \n",
      "Epoch 03663 | Loss 85.9941 | MSE 83.9431 \n",
      "Epoch 03664 | Loss 81.4624 | MSE 94.0166 \n",
      "Epoch 03665 | Loss 81.4679 | MSE 94.3313 \n",
      "Epoch 03666 | Loss 82.3307 | MSE 93.2069 \n",
      "Epoch 03667 | Loss 80.1763 | MSE 95.9350 \n",
      "Epoch 03668 | Loss 83.6771 | MSE 91.7464 \n",
      "Epoch 03669 | Loss 89.4562 | MSE 119.6490 \n"
     ]
    },
    {
     "name": "stderr",
     "output_type": "stream",
     "text": [
      " 74%|████████████████████████████          | 3690/5000 [00:20<00:07, 185.82it/s]"
     ]
    },
    {
     "name": "stdout",
     "output_type": "stream",
     "text": [
      "Epoch 03670 | Loss 99.4259 | MSE 102.3467 \n",
      "Epoch 03671 | Loss 104.0565 | MSE 121.0711 \n",
      "Epoch 03672 | Loss 107.5364 | MSE 90.3173 \n",
      "Epoch 03673 | Loss 99.5577 | MSE 108.3569 \n",
      "Epoch 03674 | Loss 94.3566 | MSE 89.4504 \n",
      "Epoch 03675 | Loss 85.0696 | MSE 87.1307 \n",
      "Epoch 03676 | Loss 84.2795 | MSE 96.8512 \n",
      "Epoch 03677 | Loss 86.2271 | MSE 86.5233 \n",
      "Epoch 03678 | Loss 87.8471 | MSE 96.5066 \n",
      "Epoch 03679 | Loss 84.6095 | MSE 95.8438 \n",
      "Epoch 03680 | Loss 82.1374 | MSE 96.8118 \n",
      "Epoch 03681 | Loss 82.8990 | MSE 93.0309 \n",
      "Epoch 03682 | Loss 84.5193 | MSE 84.1981 \n",
      "Epoch 03683 | Loss 84.7900 | MSE 92.5701 \n",
      "Epoch 03684 | Loss 82.6027 | MSE 92.2407 \n",
      "Epoch 03685 | Loss 82.8056 | MSE 93.9012 \n",
      "Epoch 03686 | Loss 81.2611 | MSE 90.7507 \n",
      "Epoch 03687 | Loss 80.7153 | MSE 88.3269 \n",
      "Epoch 03688 | Loss 81.4995 | MSE 88.6312 \n",
      "Epoch 03689 | Loss 83.4474 | MSE 99.4358 \n",
      "Epoch 03690 | Loss 82.8327 | MSE 89.9624 \n",
      "Epoch 03691 | Loss 85.7823 | MSE 95.3755 \n",
      "Epoch 03692 | Loss 90.2896 | MSE 79.8237 \n",
      "Epoch 03693 | Loss 84.2295 | MSE 87.8450 \n",
      "Epoch 03694 | Loss 82.1254 | MSE 86.6496 \n",
      "Epoch 03695 | Loss 81.3807 | MSE 86.9290 \n",
      "Epoch 03696 | Loss 78.7823 | MSE 92.2193 \n",
      "Epoch 03697 | Loss 82.4381 | MSE 86.6239 \n",
      "Epoch 03698 | Loss 84.4812 | MSE 87.6295 \n",
      "Epoch 03699 | Loss 78.9617 | MSE 89.8810 \n",
      "Epoch 03700 | Loss 77.7455 | MSE 94.0394 \n",
      "Epoch 03701 | Loss 82.0870 | MSE 96.7623 \n",
      "Epoch 03702 | Loss 79.6705 | MSE 87.3806 \n",
      "Epoch 03703 | Loss 82.6350 | MSE 89.4740 \n",
      "Epoch 03704 | Loss 85.9997 | MSE 94.4193 \n",
      "Epoch 03705 | Loss 80.7888 | MSE 97.5253 \n",
      "Epoch 03706 | Loss 82.7007 | MSE 98.1590 \n",
      "Epoch 03707 | Loss 81.6890 | MSE 85.0128 \n"
     ]
    },
    {
     "name": "stderr",
     "output_type": "stream",
     "text": [
      " 75%|████████████████████████████▎         | 3728/5000 [00:20<00:06, 184.95it/s]"
     ]
    },
    {
     "name": "stdout",
     "output_type": "stream",
     "text": [
      "Epoch 03708 | Loss 86.4168 | MSE 88.1977 \n",
      "Epoch 03709 | Loss 83.2878 | MSE 87.9802 \n",
      "Epoch 03710 | Loss 82.0529 | MSE 89.6490 \n",
      "Epoch 03711 | Loss 80.2875 | MSE 83.4591 \n",
      "Epoch 03712 | Loss 84.7296 | MSE 83.5727 \n",
      "Epoch 03713 | Loss 82.7046 | MSE 85.1200 \n",
      "Epoch 03714 | Loss 80.3204 | MSE 90.4518 \n",
      "Epoch 03715 | Loss 81.6505 | MSE 91.1232 \n",
      "Epoch 03716 | Loss 83.2258 | MSE 94.4771 \n",
      "Epoch 03717 | Loss 80.2515 | MSE 90.4315 \n",
      "Epoch 03718 | Loss 86.3354 | MSE 92.7504 \n",
      "Epoch 03719 | Loss 82.8549 | MSE 88.9952 \n",
      "Epoch 03720 | Loss 86.0325 | MSE 89.2227 \n",
      "Epoch 03721 | Loss 80.2579 | MSE 87.0424 \n",
      "Epoch 03722 | Loss 82.5441 | MSE 91.3740 \n",
      "Epoch 03723 | Loss 84.1192 | MSE 86.4773 \n",
      "Epoch 03724 | Loss 83.4295 | MSE 94.5314 \n",
      "Epoch 03725 | Loss 80.9265 | MSE 90.9502 \n",
      "Epoch 03726 | Loss 78.3463 | MSE 91.6127 \n",
      "Epoch 03727 | Loss 81.7796 | MSE 93.5918 \n",
      "Epoch 03728 | Loss 80.0776 | MSE 89.8650 \n",
      "Epoch 03729 | Loss 81.5941 | MSE 101.7245 \n",
      "Epoch 03730 | Loss 92.2930 | MSE 95.1881 \n",
      "Epoch 03731 | Loss 94.3521 | MSE 127.7663 \n",
      "Epoch 03732 | Loss 107.1075 | MSE 101.3017 \n",
      "Epoch 03733 | Loss 105.3990 | MSE 143.4599 \n",
      "Epoch 03734 | Loss 117.7853 | MSE 96.1552 \n",
      "Epoch 03735 | Loss 102.8400 | MSE 104.5520 \n",
      "Epoch 03736 | Loss 91.7410 | MSE 80.2782 \n",
      "Epoch 03737 | Loss 83.2449 | MSE 83.4389 \n",
      "Epoch 03738 | Loss 87.9155 | MSE 102.3529 \n",
      "Epoch 03739 | Loss 89.0834 | MSE 90.5254 \n",
      "Epoch 03740 | Loss 82.3018 | MSE 90.4110 \n",
      "Epoch 03741 | Loss 82.1950 | MSE 95.5874 \n",
      "Epoch 03742 | Loss 81.6692 | MSE 88.0658 \n",
      "Epoch 03743 | Loss 87.7302 | MSE 98.3952 \n",
      "Epoch 03744 | Loss 86.4121 | MSE 87.2903 \n",
      "Epoch 03745 | Loss 82.8818 | MSE 92.5440 \n"
     ]
    },
    {
     "name": "stderr",
     "output_type": "stream",
     "text": [
      " 75%|████████████████████████████▌         | 3766/5000 [00:20<00:06, 185.42it/s]"
     ]
    },
    {
     "name": "stdout",
     "output_type": "stream",
     "text": [
      "Epoch 03746 | Loss 78.2443 | MSE 99.4770 \n",
      "Epoch 03747 | Loss 82.6268 | MSE 96.3113 \n",
      "Epoch 03748 | Loss 87.0276 | MSE 101.3706 \n",
      "Epoch 03749 | Loss 84.6125 | MSE 89.2889 \n",
      "Epoch 03750 | Loss 81.0543 | MSE 92.1411 \n",
      "Epoch 03751 | Loss 82.5971 | MSE 101.9486 \n",
      "Epoch 03752 | Loss 82.8620 | MSE 96.9398 \n",
      "Epoch 03753 | Loss 84.6840 | MSE 97.9848 \n",
      "Epoch 03754 | Loss 84.7121 | MSE 85.7900 \n",
      "Epoch 03755 | Loss 84.7678 | MSE 86.5312 \n",
      "Epoch 03756 | Loss 84.7851 | MSE 97.2416 \n",
      "Epoch 03757 | Loss 81.3622 | MSE 95.5763 \n",
      "Epoch 03758 | Loss 85.1883 | MSE 91.2686 \n",
      "Epoch 03759 | Loss 81.3384 | MSE 88.8764 \n",
      "Epoch 03760 | Loss 81.1726 | MSE 88.0135 \n",
      "Epoch 03761 | Loss 81.0773 | MSE 96.1878 \n",
      "Epoch 03762 | Loss 79.1496 | MSE 95.6630 \n",
      "Epoch 03763 | Loss 83.9502 | MSE 97.4954 \n",
      "Epoch 03764 | Loss 85.6546 | MSE 83.9294 \n",
      "Epoch 03765 | Loss 80.7553 | MSE 82.1229 \n",
      "Epoch 03766 | Loss 86.1206 | MSE 89.2852 \n",
      "Epoch 03767 | Loss 82.2478 | MSE 90.1199 \n",
      "Epoch 03768 | Loss 84.0142 | MSE 95.5042 \n",
      "Epoch 03769 | Loss 81.8008 | MSE 92.3235 \n",
      "Epoch 03770 | Loss 84.1920 | MSE 91.0644 \n",
      "Epoch 03771 | Loss 85.1395 | MSE 90.5799 \n",
      "Epoch 03772 | Loss 83.1165 | MSE 92.2657 \n",
      "Epoch 03773 | Loss 79.3812 | MSE 92.1717 \n",
      "Epoch 03774 | Loss 81.2282 | MSE 90.5320 \n",
      "Epoch 03775 | Loss 82.1507 | MSE 102.0896 \n",
      "Epoch 03776 | Loss 84.0173 | MSE 97.8898 \n",
      "Epoch 03777 | Loss 84.8389 | MSE 96.8023 \n",
      "Epoch 03778 | Loss 80.5817 | MSE 92.3790 \n",
      "Epoch 03779 | Loss 80.6939 | MSE 91.5298 \n",
      "Epoch 03780 | Loss 79.2277 | MSE 89.4165 \n",
      "Epoch 03781 | Loss 81.0153 | MSE 88.9328 \n",
      "Epoch 03782 | Loss 80.8120 | MSE 86.8776 \n",
      "Epoch 03783 | Loss 80.0790 | MSE 86.8647 \n"
     ]
    },
    {
     "name": "stderr",
     "output_type": "stream",
     "text": [
      " 76%|████████████████████████████▉         | 3804/5000 [00:21<00:06, 186.09it/s]"
     ]
    },
    {
     "name": "stdout",
     "output_type": "stream",
     "text": [
      "Epoch 03784 | Loss 85.5460 | MSE 89.9029 \n",
      "Epoch 03785 | Loss 79.0137 | MSE 86.9478 \n",
      "Epoch 03786 | Loss 79.7947 | MSE 88.3118 \n",
      "Epoch 03787 | Loss 80.4316 | MSE 98.5056 \n",
      "Epoch 03788 | Loss 80.4440 | MSE 99.8651 \n",
      "Epoch 03789 | Loss 83.0518 | MSE 102.6835 \n",
      "Epoch 03790 | Loss 83.1431 | MSE 89.8989 \n",
      "Epoch 03791 | Loss 83.4873 | MSE 99.4561 \n",
      "Epoch 03792 | Loss 85.4354 | MSE 90.1969 \n",
      "Epoch 03793 | Loss 88.5264 | MSE 104.9507 \n",
      "Epoch 03794 | Loss 83.6940 | MSE 83.8957 \n",
      "Epoch 03795 | Loss 82.0003 | MSE 85.8640 \n",
      "Epoch 03796 | Loss 80.9789 | MSE 88.2355 \n",
      "Epoch 03797 | Loss 81.9361 | MSE 87.5093 \n",
      "Epoch 03798 | Loss 83.6979 | MSE 94.9607 \n",
      "Epoch 03799 | Loss 84.3678 | MSE 88.5877 \n",
      "Epoch 03800 | Loss 90.0212 | MSE 105.8453 \n",
      "Epoch 03801 | Loss 91.7743 | MSE 95.1296 \n",
      "Epoch 03802 | Loss 87.5811 | MSE 103.0212 \n",
      "Epoch 03803 | Loss 84.1195 | MSE 90.9658 \n",
      "Epoch 03804 | Loss 81.6866 | MSE 86.8812 \n",
      "Epoch 03805 | Loss 83.7883 | MSE 93.3900 \n",
      "Epoch 03806 | Loss 83.3440 | MSE 86.4391 \n",
      "Epoch 03807 | Loss 84.9567 | MSE 105.5318 \n",
      "Epoch 03808 | Loss 82.6225 | MSE 96.2938 \n",
      "Epoch 03809 | Loss 87.8468 | MSE 98.4583 \n",
      "Epoch 03810 | Loss 82.2069 | MSE 85.5031 \n",
      "Epoch 03811 | Loss 82.1703 | MSE 92.0308 \n",
      "Epoch 03812 | Loss 78.8965 | MSE 98.8496 \n",
      "Epoch 03813 | Loss 80.9279 | MSE 90.6273 \n",
      "Epoch 03814 | Loss 87.3163 | MSE 104.6038 \n",
      "Epoch 03815 | Loss 88.9860 | MSE 90.7721 \n",
      "Epoch 03816 | Loss 89.0608 | MSE 114.1000 \n",
      "Epoch 03817 | Loss 92.3466 | MSE 94.1489 \n",
      "Epoch 03818 | Loss 81.8689 | MSE 89.6329 \n",
      "Epoch 03819 | Loss 82.4576 | MSE 84.2205 \n",
      "Epoch 03820 | Loss 84.8388 | MSE 83.4933 \n",
      "Epoch 03821 | Loss 83.4977 | MSE 94.8976 \n"
     ]
    },
    {
     "name": "stderr",
     "output_type": "stream",
     "text": [
      " 77%|█████████████████████████████▏        | 3842/5000 [00:21<00:06, 186.11it/s]"
     ]
    },
    {
     "name": "stdout",
     "output_type": "stream",
     "text": [
      "Epoch 03822 | Loss 82.7778 | MSE 100.2308 \n",
      "Epoch 03823 | Loss 86.0033 | MSE 93.7272 \n",
      "Epoch 03824 | Loss 80.6276 | MSE 91.0703 \n",
      "Epoch 03825 | Loss 84.3410 | MSE 85.0279 \n",
      "Epoch 03826 | Loss 81.8416 | MSE 85.9926 \n",
      "Epoch 03827 | Loss 81.7546 | MSE 96.1790 \n",
      "Epoch 03828 | Loss 82.5713 | MSE 97.3514 \n",
      "Epoch 03829 | Loss 82.2905 | MSE 94.7465 \n",
      "Epoch 03830 | Loss 84.2497 | MSE 84.1392 \n",
      "Epoch 03831 | Loss 88.4272 | MSE 101.7276 \n",
      "Epoch 03832 | Loss 89.3717 | MSE 101.7730 \n",
      "Epoch 03833 | Loss 91.8438 | MSE 118.4966 \n",
      "Epoch 03834 | Loss 88.7352 | MSE 90.0111 \n",
      "Epoch 03835 | Loss 84.4938 | MSE 83.5107 \n",
      "Epoch 03836 | Loss 80.7863 | MSE 97.6582 \n",
      "Epoch 03837 | Loss 90.1464 | MSE 90.7379 \n",
      "Epoch 03838 | Loss 92.1620 | MSE 106.2587 \n",
      "Epoch 03839 | Loss 89.8037 | MSE 93.8368 \n",
      "Epoch 03840 | Loss 80.9261 | MSE 90.0420 \n",
      "Epoch 03841 | Loss 81.1495 | MSE 84.7410 \n",
      "Epoch 03842 | Loss 81.2110 | MSE 81.4282 \n",
      "Epoch 03843 | Loss 85.2034 | MSE 88.9869 \n",
      "Epoch 03844 | Loss 79.8651 | MSE 93.0807 \n",
      "Epoch 03845 | Loss 80.6663 | MSE 86.1554 \n",
      "Epoch 03846 | Loss 81.8649 | MSE 98.6558 \n",
      "Epoch 03847 | Loss 92.5256 | MSE 87.8772 \n",
      "Epoch 03848 | Loss 83.1144 | MSE 93.2761 \n",
      "Epoch 03849 | Loss 83.0698 | MSE 94.5735 \n",
      "Epoch 03850 | Loss 84.2224 | MSE 85.0886 \n",
      "Epoch 03851 | Loss 83.5062 | MSE 87.1254 \n",
      "Epoch 03852 | Loss 82.2315 | MSE 84.4374 \n",
      "Epoch 03853 | Loss 80.0052 | MSE 93.4139 \n",
      "Epoch 03854 | Loss 77.5930 | MSE 107.2649 \n",
      "Epoch 03855 | Loss 85.2124 | MSE 95.0726 \n",
      "Epoch 03856 | Loss 83.4277 | MSE 87.0527 \n",
      "Epoch 03857 | Loss 79.4269 | MSE 85.5809 \n",
      "Epoch 03858 | Loss 83.1162 | MSE 90.7753 \n"
     ]
    },
    {
     "name": "stderr",
     "output_type": "stream",
     "text": [
      " 78%|█████████████████████████████▍        | 3880/5000 [00:21<00:06, 185.47it/s]"
     ]
    },
    {
     "name": "stdout",
     "output_type": "stream",
     "text": [
      "Epoch 03859 | Loss 82.9556 | MSE 95.9803 \n",
      "Epoch 03860 | Loss 81.5779 | MSE 100.9305 \n",
      "Epoch 03861 | Loss 86.5555 | MSE 89.3724 \n",
      "Epoch 03862 | Loss 80.9062 | MSE 80.8492 \n",
      "Epoch 03863 | Loss 83.8816 | MSE 92.2170 \n",
      "Epoch 03864 | Loss 83.0524 | MSE 89.6980 \n",
      "Epoch 03865 | Loss 86.9742 | MSE 101.9158 \n",
      "Epoch 03866 | Loss 85.4412 | MSE 92.3868 \n",
      "Epoch 03867 | Loss 84.6312 | MSE 92.3762 \n",
      "Epoch 03868 | Loss 84.9399 | MSE 85.2994 \n",
      "Epoch 03869 | Loss 82.7952 | MSE 87.9102 \n",
      "Epoch 03870 | Loss 84.5576 | MSE 104.1918 \n",
      "Epoch 03871 | Loss 86.4796 | MSE 92.7799 \n",
      "Epoch 03872 | Loss 82.7478 | MSE 103.8643 \n",
      "Epoch 03873 | Loss 87.1484 | MSE 86.9517 \n",
      "Epoch 03874 | Loss 84.6675 | MSE 93.9616 \n",
      "Epoch 03875 | Loss 83.1743 | MSE 87.7535 \n",
      "Epoch 03876 | Loss 80.0505 | MSE 86.2551 \n",
      "Epoch 03877 | Loss 84.2592 | MSE 94.9826 \n",
      "Epoch 03878 | Loss 84.6963 | MSE 87.9900 \n",
      "Epoch 03879 | Loss 83.9647 | MSE 105.6444 \n",
      "Epoch 03880 | Loss 86.4120 | MSE 89.7806 \n",
      "Epoch 03881 | Loss 81.4490 | MSE 90.6633 \n",
      "Epoch 03882 | Loss 82.7846 | MSE 87.4641 \n",
      "Epoch 03883 | Loss 80.8980 | MSE 85.3382 \n",
      "Epoch 03884 | Loss 89.2216 | MSE 112.8931 \n",
      "Epoch 03885 | Loss 92.2129 | MSE 97.7101 \n",
      "Epoch 03886 | Loss 93.1700 | MSE 99.2055 \n",
      "Epoch 03887 | Loss 84.5231 | MSE 85.0426 \n",
      "Epoch 03888 | Loss 87.3538 | MSE 82.6813 \n",
      "Epoch 03889 | Loss 83.8169 | MSE 103.4049 \n",
      "Epoch 03890 | Loss 89.3293 | MSE 97.8754 \n",
      "Epoch 03891 | Loss 88.1210 | MSE 106.7806 \n",
      "Epoch 03892 | Loss 85.6738 | MSE 94.5371 \n",
      "Epoch 03893 | Loss 84.5981 | MSE 85.9411 \n",
      "Epoch 03894 | Loss 80.3439 | MSE 94.7226 \n",
      "Epoch 03895 | Loss 90.8005 | MSE 87.9091 \n",
      "Epoch 03896 | Loss 84.5527 | MSE 92.0598 \n"
     ]
    },
    {
     "name": "stderr",
     "output_type": "stream",
     "text": [
      " 78%|█████████████████████████████▊        | 3918/5000 [00:21<00:05, 184.58it/s]"
     ]
    },
    {
     "name": "stdout",
     "output_type": "stream",
     "text": [
      "Epoch 03897 | Loss 83.7946 | MSE 95.7273 \n",
      "Epoch 03898 | Loss 82.2555 | MSE 90.5553 \n",
      "Epoch 03899 | Loss 85.3610 | MSE 94.9968 \n",
      "Epoch 03900 | Loss 85.6580 | MSE 84.9984 \n",
      "Epoch 03901 | Loss 80.2650 | MSE 92.9135 \n",
      "Epoch 03902 | Loss 86.9057 | MSE 95.7858 \n",
      "Epoch 03903 | Loss 84.2619 | MSE 90.6740 \n",
      "Epoch 03904 | Loss 81.4867 | MSE 90.8401 \n",
      "Epoch 03905 | Loss 77.2387 | MSE 87.3023 \n",
      "Epoch 03906 | Loss 78.3929 | MSE 87.4139 \n",
      "Epoch 03907 | Loss 79.0272 | MSE 94.3706 \n",
      "Epoch 03908 | Loss 82.2822 | MSE 89.7935 \n",
      "Epoch 03909 | Loss 83.1170 | MSE 95.2690 \n",
      "Epoch 03910 | Loss 82.7025 | MSE 94.9677 \n",
      "Epoch 03911 | Loss 81.3473 | MSE 87.7840 \n",
      "Epoch 03912 | Loss 83.9913 | MSE 93.1760 \n",
      "Epoch 03913 | Loss 82.8932 | MSE 88.2148 \n",
      "Epoch 03914 | Loss 79.5431 | MSE 90.3100 \n",
      "Epoch 03915 | Loss 81.3662 | MSE 103.5051 \n",
      "Epoch 03916 | Loss 87.9861 | MSE 90.3403 \n",
      "Epoch 03917 | Loss 89.8193 | MSE 99.5724 \n",
      "Epoch 03918 | Loss 87.5649 | MSE 88.3793 \n",
      "Epoch 03919 | Loss 79.0247 | MSE 89.1868 \n",
      "Epoch 03920 | Loss 79.6119 | MSE 93.4853 \n",
      "Epoch 03921 | Loss 79.8283 | MSE 88.1570 \n",
      "Epoch 03922 | Loss 79.9963 | MSE 94.5331 \n",
      "Epoch 03923 | Loss 80.0993 | MSE 87.1878 \n",
      "Epoch 03924 | Loss 82.1406 | MSE 86.7055 \n",
      "Epoch 03925 | Loss 78.3114 | MSE 86.0071 \n",
      "Epoch 03926 | Loss 80.4014 | MSE 85.5103 \n",
      "Epoch 03927 | Loss 80.1176 | MSE 97.8067 \n",
      "Epoch 03928 | Loss 81.2773 | MSE 93.8215 \n",
      "Epoch 03929 | Loss 81.8123 | MSE 96.7111 \n",
      "Epoch 03930 | Loss 81.1727 | MSE 88.9428 \n",
      "Epoch 03931 | Loss 81.7837 | MSE 88.6362 \n",
      "Epoch 03932 | Loss 79.0752 | MSE 89.8862 \n",
      "Epoch 03933 | Loss 79.3669 | MSE 90.4747 \n",
      "Epoch 03934 | Loss 80.7781 | MSE 93.2344 \n"
     ]
    },
    {
     "name": "stderr",
     "output_type": "stream",
     "text": [
      " 79%|██████████████████████████████        | 3956/5000 [00:21<00:05, 184.41it/s]"
     ]
    },
    {
     "name": "stdout",
     "output_type": "stream",
     "text": [
      "Epoch 03935 | Loss 76.8578 | MSE 92.8391 \n",
      "Epoch 03936 | Loss 80.0938 | MSE 88.3325 \n",
      "Epoch 03937 | Loss 78.3422 | MSE 84.9163 \n",
      "Epoch 03938 | Loss 82.3224 | MSE 94.1347 \n",
      "Epoch 03939 | Loss 84.1064 | MSE 89.5325 \n",
      "Epoch 03940 | Loss 81.4756 | MSE 90.3982 \n",
      "Epoch 03941 | Loss 79.7965 | MSE 86.5273 \n",
      "Epoch 03942 | Loss 80.5997 | MSE 88.4222 \n",
      "Epoch 03943 | Loss 78.2184 | MSE 92.1559 \n",
      "Epoch 03944 | Loss 81.3391 | MSE 87.4134 \n",
      "Epoch 03945 | Loss 79.8260 | MSE 93.2864 \n",
      "Epoch 03946 | Loss 83.1006 | MSE 88.0684 \n",
      "Epoch 03947 | Loss 79.7608 | MSE 99.5724 \n",
      "Epoch 03948 | Loss 84.9194 | MSE 92.3929 \n",
      "Epoch 03949 | Loss 81.6405 | MSE 90.9313 \n",
      "Epoch 03950 | Loss 82.1313 | MSE 87.7368 \n",
      "Epoch 03951 | Loss 82.3438 | MSE 93.7384 \n",
      "Epoch 03952 | Loss 78.7037 | MSE 98.2970 \n",
      "Epoch 03953 | Loss 76.2351 | MSE 89.9248 \n",
      "Epoch 03954 | Loss 79.0943 | MSE 87.2082 \n",
      "Epoch 03955 | Loss 80.5519 | MSE 83.6544 \n",
      "Epoch 03956 | Loss 83.8842 | MSE 92.4696 \n",
      "Epoch 03957 | Loss 78.2983 | MSE 97.6254 \n",
      "Epoch 03958 | Loss 80.9829 | MSE 95.8505 \n",
      "Epoch 03959 | Loss 83.0299 | MSE 89.4413 \n",
      "Epoch 03960 | Loss 82.9747 | MSE 90.3124 \n",
      "Epoch 03961 | Loss 83.4353 | MSE 90.5648 \n",
      "Epoch 03962 | Loss 80.8026 | MSE 90.0377 \n",
      "Epoch 03963 | Loss 81.7136 | MSE 90.5384 \n",
      "Epoch 03964 | Loss 80.8693 | MSE 85.5185 \n",
      "Epoch 03965 | Loss 82.9434 | MSE 87.7888 \n",
      "Epoch 03966 | Loss 79.9723 | MSE 91.7662 \n",
      "Epoch 03967 | Loss 80.6450 | MSE 88.2076 \n",
      "Epoch 03968 | Loss 78.1809 | MSE 89.2358 \n",
      "Epoch 03969 | Loss 84.3028 | MSE 88.5082 \n",
      "Epoch 03970 | Loss 79.6573 | MSE 89.6333 \n",
      "Epoch 03971 | Loss 78.3885 | MSE 90.3392 \n"
     ]
    },
    {
     "name": "stderr",
     "output_type": "stream",
     "text": [
      " 80%|██████████████████████████████▎       | 3994/5000 [00:22<00:05, 185.39it/s]"
     ]
    },
    {
     "name": "stdout",
     "output_type": "stream",
     "text": [
      "Epoch 03972 | Loss 80.2520 | MSE 89.8400 \n",
      "Epoch 03973 | Loss 79.3337 | MSE 96.9371 \n",
      "Epoch 03974 | Loss 79.9351 | MSE 88.0784 \n",
      "Epoch 03975 | Loss 88.9839 | MSE 110.1697 \n",
      "Epoch 03976 | Loss 95.8671 | MSE 97.6399 \n",
      "Epoch 03977 | Loss 104.1807 | MSE 170.4256 \n",
      "Epoch 03978 | Loss 134.6673 | MSE 133.0342 \n",
      "Epoch 03979 | Loss 136.2888 | MSE 187.1405 \n",
      "Epoch 03980 | Loss 151.6880 | MSE 89.5944 \n",
      "Epoch 03981 | Loss 95.5046 | MSE 91.3772 \n",
      "Epoch 03982 | Loss 85.4232 | MSE 141.3906 \n",
      "Epoch 03983 | Loss 114.8161 | MSE 92.4174 \n",
      "Epoch 03984 | Loss 91.4693 | MSE 87.3697 \n",
      "Epoch 03985 | Loss 77.5201 | MSE 112.4528 \n",
      "Epoch 03986 | Loss 94.2639 | MSE 91.8307 \n",
      "Epoch 03987 | Loss 93.0108 | MSE 102.0933 \n",
      "Epoch 03988 | Loss 83.7492 | MSE 93.2260 \n",
      "Epoch 03989 | Loss 78.4918 | MSE 89.5848 \n",
      "Epoch 03990 | Loss 82.0496 | MSE 94.7776 \n",
      "Epoch 03991 | Loss 81.6030 | MSE 91.2395 \n",
      "Epoch 03992 | Loss 80.6807 | MSE 91.6455 \n",
      "Epoch 03993 | Loss 82.6468 | MSE 97.0769 \n",
      "Epoch 03994 | Loss 84.8092 | MSE 90.6978 \n",
      "Epoch 03995 | Loss 80.1690 | MSE 89.8863 \n",
      "Epoch 03996 | Loss 77.8409 | MSE 89.3999 \n",
      "Epoch 03997 | Loss 82.8501 | MSE 86.4006 \n",
      "Epoch 03998 | Loss 81.8346 | MSE 87.0106 \n",
      "Epoch 03999 | Loss 82.7016 | MSE 92.8934 \n",
      "Epoch 04000 | Loss 80.7176 | MSE 90.4013 \n",
      "Epoch 04001 | Loss 81.2969 | MSE 88.2022 \n",
      "Epoch 04002 | Loss 81.9320 | MSE 88.6895 \n",
      "Epoch 04003 | Loss 81.8298 | MSE 91.4807 \n",
      "Epoch 04004 | Loss 81.2265 | MSE 88.0928 \n",
      "Epoch 04005 | Loss 80.0809 | MSE 89.8711 \n",
      "Epoch 04006 | Loss 82.2328 | MSE 84.9887 \n",
      "Epoch 04007 | Loss 80.6770 | MSE 85.8546 \n",
      "Epoch 04008 | Loss 82.5729 | MSE 87.5714 \n",
      "Epoch 04009 | Loss 82.6018 | MSE 95.1772 \n"
     ]
    },
    {
     "name": "stderr",
     "output_type": "stream",
     "text": [
      " 81%|██████████████████████████████▋       | 4032/5000 [00:22<00:05, 186.05it/s]"
     ]
    },
    {
     "name": "stdout",
     "output_type": "stream",
     "text": [
      "Epoch 04010 | Loss 80.7886 | MSE 95.4208 \n",
      "Epoch 04011 | Loss 82.3416 | MSE 90.6033 \n",
      "Epoch 04012 | Loss 80.1100 | MSE 88.5185 \n",
      "Epoch 04013 | Loss 79.1550 | MSE 88.3668 \n",
      "Epoch 04014 | Loss 82.4195 | MSE 95.8800 \n",
      "Epoch 04015 | Loss 77.3274 | MSE 93.0489 \n",
      "Epoch 04016 | Loss 80.7632 | MSE 95.1062 \n",
      "Epoch 04017 | Loss 82.1251 | MSE 89.5387 \n",
      "Epoch 04018 | Loss 81.3699 | MSE 87.3795 \n",
      "Epoch 04019 | Loss 81.5549 | MSE 91.9780 \n",
      "Epoch 04020 | Loss 81.7223 | MSE 89.6980 \n",
      "Epoch 04021 | Loss 79.5677 | MSE 91.7593 \n",
      "Epoch 04022 | Loss 80.4142 | MSE 89.3182 \n",
      "Epoch 04023 | Loss 76.8508 | MSE 85.4520 \n",
      "Epoch 04024 | Loss 79.6173 | MSE 86.5094 \n",
      "Epoch 04025 | Loss 76.7937 | MSE 86.1920 \n",
      "Epoch 04026 | Loss 78.8030 | MSE 93.6561 \n",
      "Epoch 04027 | Loss 81.1865 | MSE 94.1024 \n",
      "Epoch 04028 | Loss 79.0017 | MSE 97.9842 \n",
      "Epoch 04029 | Loss 80.3923 | MSE 94.5386 \n",
      "Epoch 04030 | Loss 80.8704 | MSE 91.5732 \n",
      "Epoch 04031 | Loss 78.3778 | MSE 91.0390 \n",
      "Epoch 04032 | Loss 76.0380 | MSE 90.2563 \n",
      "Epoch 04033 | Loss 77.3092 | MSE 87.6930 \n",
      "Epoch 04034 | Loss 79.0741 | MSE 88.7076 \n",
      "Epoch 04035 | Loss 78.9853 | MSE 91.6129 \n",
      "Epoch 04036 | Loss 79.6482 | MSE 97.1448 \n",
      "Epoch 04037 | Loss 79.8648 | MSE 88.0864 \n",
      "Epoch 04038 | Loss 79.6490 | MSE 84.9972 \n",
      "Epoch 04039 | Loss 81.2692 | MSE 87.9993 \n",
      "Epoch 04040 | Loss 79.0559 | MSE 89.7094 \n",
      "Epoch 04041 | Loss 78.1205 | MSE 99.1643 \n",
      "Epoch 04042 | Loss 83.1312 | MSE 88.7091 \n",
      "Epoch 04043 | Loss 76.9940 | MSE 83.8012 \n",
      "Epoch 04044 | Loss 81.3690 | MSE 88.1965 \n",
      "Epoch 04045 | Loss 79.6492 | MSE 89.6642 \n",
      "Epoch 04046 | Loss 80.2313 | MSE 98.6994 \n",
      "Epoch 04047 | Loss 80.2483 | MSE 96.4395 \n"
     ]
    },
    {
     "name": "stderr",
     "output_type": "stream",
     "text": [
      " 81%|██████████████████████████████▉       | 4070/5000 [00:22<00:05, 184.45it/s]"
     ]
    },
    {
     "name": "stdout",
     "output_type": "stream",
     "text": [
      "Epoch 04048 | Loss 80.1820 | MSE 87.8488 \n",
      "Epoch 04049 | Loss 84.3971 | MSE 87.8304 \n",
      "Epoch 04050 | Loss 83.3191 | MSE 95.3519 \n",
      "Epoch 04051 | Loss 77.5939 | MSE 102.0603 \n",
      "Epoch 04052 | Loss 86.3714 | MSE 101.8891 \n",
      "Epoch 04053 | Loss 83.2476 | MSE 85.7941 \n",
      "Epoch 04054 | Loss 87.0019 | MSE 83.1199 \n",
      "Epoch 04055 | Loss 83.1527 | MSE 87.2722 \n",
      "Epoch 04056 | Loss 78.2476 | MSE 95.1434 \n",
      "Epoch 04057 | Loss 78.0969 | MSE 91.5525 \n",
      "Epoch 04058 | Loss 80.6354 | MSE 87.2232 \n",
      "Epoch 04059 | Loss 79.9938 | MSE 87.5461 \n",
      "Epoch 04060 | Loss 82.9474 | MSE 91.1043 \n",
      "Epoch 04061 | Loss 80.7069 | MSE 94.3552 \n",
      "Epoch 04062 | Loss 81.5600 | MSE 87.1796 \n",
      "Epoch 04063 | Loss 83.3664 | MSE 87.5910 \n",
      "Epoch 04064 | Loss 78.3433 | MSE 87.9865 \n",
      "Epoch 04065 | Loss 78.4106 | MSE 90.4703 \n",
      "Epoch 04066 | Loss 82.2258 | MSE 94.5826 \n",
      "Epoch 04067 | Loss 79.2106 | MSE 88.4289 \n",
      "Epoch 04068 | Loss 80.1729 | MSE 91.8960 \n",
      "Epoch 04069 | Loss 76.7367 | MSE 89.1933 \n",
      "Epoch 04070 | Loss 78.1095 | MSE 92.5347 \n",
      "Epoch 04071 | Loss 80.0762 | MSE 97.1799 \n",
      "Epoch 04072 | Loss 78.6601 | MSE 92.3072 \n",
      "Epoch 04073 | Loss 81.8937 | MSE 109.0379 \n",
      "Epoch 04074 | Loss 87.5363 | MSE 92.8712 \n",
      "Epoch 04075 | Loss 86.3062 | MSE 99.0963 \n",
      "Epoch 04076 | Loss 79.7385 | MSE 89.6465 \n",
      "Epoch 04077 | Loss 77.8135 | MSE 87.9137 \n",
      "Epoch 04078 | Loss 82.2605 | MSE 102.7821 \n",
      "Epoch 04079 | Loss 84.2881 | MSE 86.5875 \n",
      "Epoch 04080 | Loss 83.0286 | MSE 95.5349 \n",
      "Epoch 04081 | Loss 80.6271 | MSE 100.3267 \n",
      "Epoch 04082 | Loss 77.4426 | MSE 93.0183 \n",
      "Epoch 04083 | Loss 80.5010 | MSE 92.3843 \n",
      "Epoch 04084 | Loss 79.6555 | MSE 86.9235 \n"
     ]
    },
    {
     "name": "stderr",
     "output_type": "stream",
     "text": [
      " 82%|███████████████████████████████▏      | 4108/5000 [00:22<00:04, 182.39it/s]"
     ]
    },
    {
     "name": "stdout",
     "output_type": "stream",
     "text": [
      "Epoch 04085 | Loss 81.8913 | MSE 96.4058 \n",
      "Epoch 04086 | Loss 81.0486 | MSE 103.6653 \n",
      "Epoch 04087 | Loss 88.2375 | MSE 99.2443 \n",
      "Epoch 04088 | Loss 79.8434 | MSE 82.7715 \n",
      "Epoch 04089 | Loss 79.7864 | MSE 83.6394 \n",
      "Epoch 04090 | Loss 82.3347 | MSE 91.8565 \n",
      "Epoch 04091 | Loss 79.4246 | MSE 93.0435 \n",
      "Epoch 04092 | Loss 84.8974 | MSE 95.7409 \n",
      "Epoch 04093 | Loss 82.7301 | MSE 90.9891 \n",
      "Epoch 04094 | Loss 81.0961 | MSE 85.7078 \n",
      "Epoch 04095 | Loss 80.0742 | MSE 91.2288 \n",
      "Epoch 04096 | Loss 80.8369 | MSE 89.1655 \n",
      "Epoch 04097 | Loss 77.9875 | MSE 99.8459 \n",
      "Epoch 04098 | Loss 78.7361 | MSE 97.0196 \n",
      "Epoch 04099 | Loss 76.1755 | MSE 90.0509 \n",
      "Epoch 04100 | Loss 76.4319 | MSE 85.6396 \n",
      "Epoch 04101 | Loss 83.4217 | MSE 84.4376 \n",
      "Epoch 04102 | Loss 78.2537 | MSE 87.6277 \n",
      "Epoch 04103 | Loss 80.0470 | MSE 90.1926 \n",
      "Epoch 04104 | Loss 75.5770 | MSE 92.6881 \n",
      "Epoch 04105 | Loss 79.2846 | MSE 85.1048 \n",
      "Epoch 04106 | Loss 80.1549 | MSE 84.2360 \n",
      "Epoch 04107 | Loss 83.3168 | MSE 92.2595 \n",
      "Epoch 04108 | Loss 82.8618 | MSE 95.3396 \n",
      "Epoch 04109 | Loss 84.1444 | MSE 97.9925 \n",
      "Epoch 04110 | Loss 77.9724 | MSE 85.3713 \n",
      "Epoch 04111 | Loss 78.3507 | MSE 83.3099 \n",
      "Epoch 04112 | Loss 83.3715 | MSE 95.4635 \n",
      "Epoch 04113 | Loss 80.8511 | MSE 97.1821 \n",
      "Epoch 04114 | Loss 84.7101 | MSE 107.0633 \n",
      "Epoch 04115 | Loss 81.4808 | MSE 93.1902 \n",
      "Epoch 04116 | Loss 81.1355 | MSE 86.8030 \n",
      "Epoch 04117 | Loss 79.5802 | MSE 92.9692 \n",
      "Epoch 04118 | Loss 82.2503 | MSE 87.0531 \n",
      "Epoch 04119 | Loss 80.9900 | MSE 100.1315 \n",
      "Epoch 04120 | Loss 84.4772 | MSE 99.4459 \n",
      "Epoch 04121 | Loss 82.7035 | MSE 94.1506 \n"
     ]
    },
    {
     "name": "stderr",
     "output_type": "stream",
     "text": [
      " 83%|███████████████████████████████▌      | 4146/5000 [00:22<00:04, 181.43it/s]"
     ]
    },
    {
     "name": "stdout",
     "output_type": "stream",
     "text": [
      "Epoch 04122 | Loss 76.3014 | MSE 99.5622 \n",
      "Epoch 04123 | Loss 87.5181 | MSE 92.0296 \n",
      "Epoch 04124 | Loss 84.2446 | MSE 100.3891 \n",
      "Epoch 04125 | Loss 83.3138 | MSE 91.8552 \n",
      "Epoch 04126 | Loss 78.8148 | MSE 93.6976 \n",
      "Epoch 04127 | Loss 84.7104 | MSE 101.8909 \n",
      "Epoch 04128 | Loss 85.4192 | MSE 91.9306 \n",
      "Epoch 04129 | Loss 85.7395 | MSE 93.5579 \n",
      "Epoch 04130 | Loss 82.2273 | MSE 87.2938 \n",
      "Epoch 04131 | Loss 78.2607 | MSE 91.5054 \n",
      "Epoch 04132 | Loss 79.4559 | MSE 93.5219 \n",
      "Epoch 04133 | Loss 77.6764 | MSE 87.0332 \n",
      "Epoch 04134 | Loss 74.7918 | MSE 87.1923 \n",
      "Epoch 04135 | Loss 78.8360 | MSE 88.2116 \n",
      "Epoch 04136 | Loss 78.2111 | MSE 93.8529 \n",
      "Epoch 04137 | Loss 80.6981 | MSE 88.6148 \n",
      "Epoch 04138 | Loss 76.9067 | MSE 88.8937 \n",
      "Epoch 04139 | Loss 81.2336 | MSE 86.4419 \n",
      "Epoch 04140 | Loss 78.5718 | MSE 91.0915 \n",
      "Epoch 04141 | Loss 79.0712 | MSE 90.3370 \n",
      "Epoch 04142 | Loss 76.2369 | MSE 90.3641 \n",
      "Epoch 04143 | Loss 77.1270 | MSE 91.0572 \n",
      "Epoch 04144 | Loss 80.1622 | MSE 85.1990 \n",
      "Epoch 04145 | Loss 83.7775 | MSE 102.2197 \n",
      "Epoch 04146 | Loss 82.7192 | MSE 90.4359 \n",
      "Epoch 04147 | Loss 78.5303 | MSE 86.7795 \n",
      "Epoch 04148 | Loss 81.7979 | MSE 96.8199 \n",
      "Epoch 04149 | Loss 91.7450 | MSE 90.9397 \n",
      "Epoch 04150 | Loss 89.5583 | MSE 105.5168 \n",
      "Epoch 04151 | Loss 89.5119 | MSE 87.1165 \n",
      "Epoch 04152 | Loss 79.7738 | MSE 85.9509 \n",
      "Epoch 04153 | Loss 78.8478 | MSE 106.2854 \n",
      "Epoch 04154 | Loss 85.0737 | MSE 88.8343 \n",
      "Epoch 04155 | Loss 86.1951 | MSE 89.5225 \n",
      "Epoch 04156 | Loss 78.5140 | MSE 86.3849 \n",
      "Epoch 04157 | Loss 78.0951 | MSE 84.6788 \n"
     ]
    },
    {
     "name": "stderr",
     "output_type": "stream",
     "text": [
      " 84%|███████████████████████████████▊      | 4184/5000 [00:23<00:04, 181.44it/s]"
     ]
    },
    {
     "name": "stdout",
     "output_type": "stream",
     "text": [
      "Epoch 04158 | Loss 84.3022 | MSE 91.5534 \n",
      "Epoch 04159 | Loss 88.1712 | MSE 86.1789 \n",
      "Epoch 04160 | Loss 83.3742 | MSE 93.3408 \n",
      "Epoch 04161 | Loss 83.3876 | MSE 113.3385 \n",
      "Epoch 04162 | Loss 86.8396 | MSE 88.5957 \n",
      "Epoch 04163 | Loss 84.8846 | MSE 86.3204 \n",
      "Epoch 04164 | Loss 80.3377 | MSE 88.2759 \n",
      "Epoch 04165 | Loss 80.6006 | MSE 90.1347 \n",
      "Epoch 04166 | Loss 81.6288 | MSE 98.0046 \n",
      "Epoch 04167 | Loss 81.0439 | MSE 97.0975 \n",
      "Epoch 04168 | Loss 79.6367 | MSE 87.9671 \n",
      "Epoch 04169 | Loss 84.1180 | MSE 91.4833 \n",
      "Epoch 04170 | Loss 84.0818 | MSE 86.6138 \n",
      "Epoch 04171 | Loss 78.2172 | MSE 90.2230 \n",
      "Epoch 04172 | Loss 78.5084 | MSE 93.1903 \n",
      "Epoch 04173 | Loss 76.0972 | MSE 86.9807 \n",
      "Epoch 04174 | Loss 79.3536 | MSE 87.2765 \n",
      "Epoch 04175 | Loss 79.1984 | MSE 86.7766 \n",
      "Epoch 04176 | Loss 77.0392 | MSE 90.0863 \n",
      "Epoch 04177 | Loss 80.0646 | MSE 93.0332 \n",
      "Epoch 04178 | Loss 79.2179 | MSE 94.4992 \n",
      "Epoch 04179 | Loss 81.6955 | MSE 92.1957 \n",
      "Epoch 04180 | Loss 77.8967 | MSE 92.5488 \n",
      "Epoch 04181 | Loss 79.6242 | MSE 88.7268 \n",
      "Epoch 04182 | Loss 78.5720 | MSE 89.6084 \n",
      "Epoch 04183 | Loss 78.2998 | MSE 92.2776 \n",
      "Epoch 04184 | Loss 79.6727 | MSE 100.4817 \n",
      "Epoch 04185 | Loss 77.9392 | MSE 93.0143 \n",
      "Epoch 04186 | Loss 82.3016 | MSE 87.0710 \n",
      "Epoch 04187 | Loss 80.0945 | MSE 83.9862 \n",
      "Epoch 04188 | Loss 77.7137 | MSE 86.2667 \n",
      "Epoch 04189 | Loss 81.1737 | MSE 97.1838 \n",
      "Epoch 04190 | Loss 78.6114 | MSE 98.0421 \n",
      "Epoch 04191 | Loss 77.6264 | MSE 94.1307 \n",
      "Epoch 04192 | Loss 77.5157 | MSE 100.4430 \n",
      "Epoch 04193 | Loss 79.9705 | MSE 91.2524 \n",
      "Epoch 04194 | Loss 81.0010 | MSE 94.7302 \n"
     ]
    },
    {
     "name": "stderr",
     "output_type": "stream",
     "text": [
      " 84%|████████████████████████████████      | 4222/5000 [00:23<00:04, 182.54it/s]"
     ]
    },
    {
     "name": "stdout",
     "output_type": "stream",
     "text": [
      "Epoch 04195 | Loss 79.0707 | MSE 89.2694 \n",
      "Epoch 04196 | Loss 79.2190 | MSE 93.6134 \n",
      "Epoch 04197 | Loss 78.8035 | MSE 95.0746 \n",
      "Epoch 04198 | Loss 79.8495 | MSE 87.6713 \n",
      "Epoch 04199 | Loss 80.3261 | MSE 88.3736 \n",
      "Epoch 04200 | Loss 78.8593 | MSE 88.7862 \n",
      "Epoch 04201 | Loss 77.9135 | MSE 91.7994 \n",
      "Epoch 04202 | Loss 78.0882 | MSE 93.5080 \n",
      "Epoch 04203 | Loss 78.9148 | MSE 88.7804 \n",
      "Epoch 04204 | Loss 78.2507 | MSE 91.7214 \n",
      "Epoch 04205 | Loss 81.7421 | MSE 85.8936 \n",
      "Epoch 04206 | Loss 75.4850 | MSE 90.4546 \n",
      "Epoch 04207 | Loss 76.3886 | MSE 91.6749 \n",
      "Epoch 04208 | Loss 76.6745 | MSE 90.7776 \n",
      "Epoch 04209 | Loss 78.0136 | MSE 87.3485 \n",
      "Epoch 04210 | Loss 82.3123 | MSE 93.5083 \n",
      "Epoch 04211 | Loss 81.8058 | MSE 89.5606 \n",
      "Epoch 04212 | Loss 78.2940 | MSE 100.5373 \n",
      "Epoch 04213 | Loss 84.5109 | MSE 91.3964 \n",
      "Epoch 04214 | Loss 81.5830 | MSE 90.0244 \n",
      "Epoch 04215 | Loss 79.4959 | MSE 86.8792 \n",
      "Epoch 04216 | Loss 81.5196 | MSE 87.2766 \n",
      "Epoch 04217 | Loss 81.2293 | MSE 92.2071 \n",
      "Epoch 04218 | Loss 77.4549 | MSE 99.2776 \n",
      "Epoch 04219 | Loss 75.5338 | MSE 93.8553 \n",
      "Epoch 04220 | Loss 77.5292 | MSE 86.5827 \n",
      "Epoch 04221 | Loss 76.1079 | MSE 87.0104 \n",
      "Epoch 04222 | Loss 84.8883 | MSE 87.6003 \n",
      "Epoch 04223 | Loss 78.6794 | MSE 96.3036 \n",
      "Epoch 04224 | Loss 79.8417 | MSE 94.6862 \n",
      "Epoch 04225 | Loss 78.5651 | MSE 90.8655 \n",
      "Epoch 04226 | Loss 80.0548 | MSE 93.8472 \n",
      "Epoch 04227 | Loss 80.3230 | MSE 92.0496 \n",
      "Epoch 04228 | Loss 78.8474 | MSE 96.1870 \n",
      "Epoch 04229 | Loss 78.7816 | MSE 91.3373 \n",
      "Epoch 04230 | Loss 77.8493 | MSE 89.5679 \n",
      "Epoch 04231 | Loss 78.1911 | MSE 89.3532 \n"
     ]
    },
    {
     "name": "stderr",
     "output_type": "stream",
     "text": [
      " 85%|████████████████████████████████▍     | 4260/5000 [00:23<00:04, 182.83it/s]"
     ]
    },
    {
     "name": "stdout",
     "output_type": "stream",
     "text": [
      "Epoch 04232 | Loss 78.5114 | MSE 89.1214 \n",
      "Epoch 04233 | Loss 79.9742 | MSE 89.5423 \n",
      "Epoch 04234 | Loss 75.4406 | MSE 89.6858 \n",
      "Epoch 04235 | Loss 77.3836 | MSE 85.2169 \n",
      "Epoch 04236 | Loss 77.9982 | MSE 94.7972 \n",
      "Epoch 04237 | Loss 84.6044 | MSE 90.4388 \n",
      "Epoch 04238 | Loss 82.8025 | MSE 105.3501 \n",
      "Epoch 04239 | Loss 86.0947 | MSE 95.0719 \n",
      "Epoch 04240 | Loss 84.1369 | MSE 102.7488 \n",
      "Epoch 04241 | Loss 82.1218 | MSE 85.5114 \n",
      "Epoch 04242 | Loss 81.5605 | MSE 92.8425 \n",
      "Epoch 04243 | Loss 77.1738 | MSE 87.6351 \n",
      "Epoch 04244 | Loss 78.5009 | MSE 86.6361 \n",
      "Epoch 04245 | Loss 80.3041 | MSE 95.2787 \n",
      "Epoch 04246 | Loss 78.4387 | MSE 87.2904 \n",
      "Epoch 04247 | Loss 82.6477 | MSE 92.3218 \n",
      "Epoch 04248 | Loss 80.9497 | MSE 97.4243 \n",
      "Epoch 04249 | Loss 80.2563 | MSE 94.7164 \n",
      "Epoch 04250 | Loss 78.2111 | MSE 93.8602 \n",
      "Epoch 04251 | Loss 82.8343 | MSE 83.1343 \n",
      "Epoch 04252 | Loss 83.2746 | MSE 93.1715 \n",
      "Epoch 04253 | Loss 79.3787 | MSE 93.5959 \n",
      "Epoch 04254 | Loss 78.8470 | MSE 94.2261 \n",
      "Epoch 04255 | Loss 77.4687 | MSE 92.0205 \n",
      "Epoch 04256 | Loss 78.3512 | MSE 83.7327 \n",
      "Epoch 04257 | Loss 77.2051 | MSE 90.3619 \n",
      "Epoch 04258 | Loss 80.5493 | MSE 85.3263 \n",
      "Epoch 04259 | Loss 78.7003 | MSE 85.9630 \n",
      "Epoch 04260 | Loss 79.6158 | MSE 94.6563 \n",
      "Epoch 04261 | Loss 78.0780 | MSE 90.8001 \n",
      "Epoch 04262 | Loss 77.0162 | MSE 97.6528 \n",
      "Epoch 04263 | Loss 77.2528 | MSE 90.8205 \n",
      "Epoch 04264 | Loss 82.3350 | MSE 86.4888 \n",
      "Epoch 04265 | Loss 83.6564 | MSE 95.4266 \n",
      "Epoch 04266 | Loss 80.9293 | MSE 89.8455 \n",
      "Epoch 04267 | Loss 81.4052 | MSE 93.5772 \n",
      "Epoch 04268 | Loss 75.9465 | MSE 91.3448 \n"
     ]
    },
    {
     "name": "stderr",
     "output_type": "stream",
     "text": [
      " 86%|████████████████████████████████▋     | 4298/5000 [00:23<00:03, 181.07it/s]"
     ]
    },
    {
     "name": "stdout",
     "output_type": "stream",
     "text": [
      "Epoch 04269 | Loss 79.6653 | MSE 89.9068 \n",
      "Epoch 04270 | Loss 80.7898 | MSE 92.5362 \n",
      "Epoch 04271 | Loss 80.9843 | MSE 87.1127 \n",
      "Epoch 04272 | Loss 83.1076 | MSE 94.4389 \n",
      "Epoch 04273 | Loss 78.1521 | MSE 93.3549 \n",
      "Epoch 04274 | Loss 79.7142 | MSE 90.3518 \n",
      "Epoch 04275 | Loss 80.2867 | MSE 89.6524 \n",
      "Epoch 04276 | Loss 75.9460 | MSE 92.4584 \n",
      "Epoch 04277 | Loss 76.2326 | MSE 94.5895 \n",
      "Epoch 04278 | Loss 81.4009 | MSE 95.3661 \n",
      "Epoch 04279 | Loss 76.8404 | MSE 88.7762 \n",
      "Epoch 04280 | Loss 80.4742 | MSE 89.7858 \n",
      "Epoch 04281 | Loss 76.1038 | MSE 87.0572 \n",
      "Epoch 04282 | Loss 75.4557 | MSE 84.0449 \n",
      "Epoch 04283 | Loss 78.4950 | MSE 86.3708 \n",
      "Epoch 04284 | Loss 78.7591 | MSE 85.9180 \n",
      "Epoch 04285 | Loss 80.6588 | MSE 90.8862 \n",
      "Epoch 04286 | Loss 80.8607 | MSE 102.0542 \n",
      "Epoch 04287 | Loss 79.3563 | MSE 89.2081 \n",
      "Epoch 04288 | Loss 76.1007 | MSE 83.6461 \n",
      "Epoch 04289 | Loss 78.1836 | MSE 86.4251 \n",
      "Epoch 04290 | Loss 82.0202 | MSE 84.4032 \n",
      "Epoch 04291 | Loss 81.2101 | MSE 96.4442 \n",
      "Epoch 04292 | Loss 81.1862 | MSE 94.3398 \n",
      "Epoch 04293 | Loss 77.3423 | MSE 94.1139 \n",
      "Epoch 04294 | Loss 78.8637 | MSE 94.6514 \n",
      "Epoch 04295 | Loss 77.9269 | MSE 85.8056 \n",
      "Epoch 04296 | Loss 82.9886 | MSE 95.8007 \n",
      "Epoch 04297 | Loss 79.2900 | MSE 106.0368 \n",
      "Epoch 04298 | Loss 84.9734 | MSE 97.3368 \n",
      "Epoch 04299 | Loss 79.9028 | MSE 87.2159 \n",
      "Epoch 04300 | Loss 78.1366 | MSE 83.8133 \n",
      "Epoch 04301 | Loss 90.0149 | MSE 98.4524 \n",
      "Epoch 04302 | Loss 76.9174 | MSE 108.7649 \n",
      "Epoch 04303 | Loss 79.2327 | MSE 97.7072 \n",
      "Epoch 04304 | Loss 77.8181 | MSE 90.4760 \n",
      "Epoch 04305 | Loss 80.6967 | MSE 88.1460 \n"
     ]
    },
    {
     "name": "stderr",
     "output_type": "stream",
     "text": [
      " 87%|████████████████████████████████▉     | 4336/5000 [00:23<00:03, 182.31it/s]"
     ]
    },
    {
     "name": "stdout",
     "output_type": "stream",
     "text": [
      "Epoch 04306 | Loss 81.8903 | MSE 98.5428 \n",
      "Epoch 04307 | Loss 82.7246 | MSE 99.9094 \n",
      "Epoch 04308 | Loss 78.1880 | MSE 103.1019 \n",
      "Epoch 04309 | Loss 86.3617 | MSE 86.8364 \n",
      "Epoch 04310 | Loss 79.8494 | MSE 95.8125 \n",
      "Epoch 04311 | Loss 90.3458 | MSE 90.6153 \n",
      "Epoch 04312 | Loss 79.8911 | MSE 98.9610 \n",
      "Epoch 04313 | Loss 89.6506 | MSE 111.3760 \n",
      "Epoch 04314 | Loss 87.1199 | MSE 94.5426 \n",
      "Epoch 04315 | Loss 81.6091 | MSE 90.7177 \n",
      "Epoch 04316 | Loss 79.1212 | MSE 92.4984 \n",
      "Epoch 04317 | Loss 80.3014 | MSE 88.6548 \n",
      "Epoch 04318 | Loss 87.2596 | MSE 99.9548 \n",
      "Epoch 04319 | Loss 78.2543 | MSE 107.2986 \n",
      "Epoch 04320 | Loss 83.3780 | MSE 96.2382 \n",
      "Epoch 04321 | Loss 82.6791 | MSE 89.6469 \n",
      "Epoch 04322 | Loss 79.5991 | MSE 85.8503 \n",
      "Epoch 04323 | Loss 81.7966 | MSE 85.6549 \n",
      "Epoch 04324 | Loss 83.3455 | MSE 103.1384 \n",
      "Epoch 04325 | Loss 80.5599 | MSE 101.5272 \n",
      "Epoch 04326 | Loss 85.4292 | MSE 89.4724 \n",
      "Epoch 04327 | Loss 80.1043 | MSE 86.3026 \n",
      "Epoch 04328 | Loss 83.5508 | MSE 84.5782 \n",
      "Epoch 04329 | Loss 81.8435 | MSE 89.5475 \n",
      "Epoch 04330 | Loss 75.4489 | MSE 95.8026 \n",
      "Epoch 04331 | Loss 80.7141 | MSE 96.3916 \n",
      "Epoch 04332 | Loss 76.9438 | MSE 93.1292 \n",
      "Epoch 04333 | Loss 79.5174 | MSE 90.2306 \n",
      "Epoch 04334 | Loss 76.3288 | MSE 91.5907 \n",
      "Epoch 04335 | Loss 80.1942 | MSE 94.2600 \n",
      "Epoch 04336 | Loss 80.7794 | MSE 93.7548 \n",
      "Epoch 04337 | Loss 76.3081 | MSE 93.8474 \n",
      "Epoch 04338 | Loss 74.2232 | MSE 95.0859 \n",
      "Epoch 04339 | Loss 76.3815 | MSE 92.2300 \n",
      "Epoch 04340 | Loss 76.0703 | MSE 92.3035 \n",
      "Epoch 04341 | Loss 78.4920 | MSE 92.6607 \n",
      "Epoch 04342 | Loss 79.7466 | MSE 94.0018 \n"
     ]
    },
    {
     "name": "stderr",
     "output_type": "stream",
     "text": [
      "\r",
      " 87%|█████████████████████████████████     | 4355/5000 [00:24<00:03, 180.83it/s]"
     ]
    },
    {
     "name": "stdout",
     "output_type": "stream",
     "text": [
      "Epoch 04343 | Loss 77.6077 | MSE 98.9063 \n",
      "Epoch 04344 | Loss 77.9578 | MSE 94.5930 \n",
      "Epoch 04345 | Loss 76.0585 | MSE 93.3228 \n",
      "Epoch 04346 | Loss 80.8333 | MSE 94.5535 \n",
      "Epoch 04347 | Loss 78.8951 | MSE 93.3237 \n",
      "Epoch 04348 | Loss 80.5800 | MSE 95.9450 \n",
      "Epoch 04349 | Loss 78.6441 | MSE 86.2025 \n",
      "Epoch 04350 | Loss 78.2073 | MSE 88.6196 \n",
      "Epoch 04351 | Loss 75.4101 | MSE 91.9628 \n",
      "Epoch 04352 | Loss 76.0745 | MSE 88.0295 \n",
      "Epoch 04353 | Loss 79.1303 | MSE 92.8248 \n",
      "Epoch 04354 | Loss 75.5826 | MSE 87.5744 \n",
      "Epoch 04355 | Loss 78.8930 | MSE 86.8801 \n",
      "Epoch 04356 | Loss 77.0164 | MSE 83.9114 \n",
      "Epoch 04357 | Loss 78.3171 | MSE 84.2931 \n",
      "Epoch 04358 | Loss 76.3037 | MSE 87.8494 \n",
      "Epoch 04359 | Loss 76.7358 | MSE 93.1718 \n",
      "Epoch 04360 | Loss 75.6336 | MSE 93.4207 \n",
      "Epoch 04361 | Loss 77.0616 | MSE 85.1178 \n",
      "Epoch 04362 | Loss 77.8112 | MSE 94.9835 \n",
      "Epoch 04363 | Loss 82.7153 | MSE 83.5946 \n",
      "Epoch 04364 | Loss 78.3005 | MSE 93.2310 \n",
      "Epoch 04365 | Loss 78.2426 | MSE 88.2523 \n",
      "Epoch 04366 | Loss 78.2693 | MSE 94.8982 \n",
      "Epoch 04367 | Loss 76.2731 | MSE 85.4646 \n",
      "Epoch 04368 | Loss 76.4907 | MSE 83.6028 \n",
      "Epoch 04369 | Loss 76.0835 | MSE 83.3836 \n",
      "Epoch 04370 | Loss 80.3278 | MSE 84.0770 \n",
      "Epoch 04371 | Loss 78.0730 | MSE 91.4901 \n",
      "Epoch 04372 | Loss 77.5751 | MSE 87.4274 \n"
     ]
    },
    {
     "name": "stderr",
     "output_type": "stream",
     "text": [
      "\r",
      " 87%|█████████████████████████████████▏    | 4374/5000 [00:24<00:03, 182.29it/s]"
     ]
    },
    {
     "name": "stdout",
     "output_type": "stream",
     "text": [
      "Epoch 04373 | Loss 77.6960 | MSE 93.2062 \n",
      "Epoch 04374 | Loss 75.9660 | MSE 89.8042 \n",
      "Epoch 04375 | Loss 77.4620 | MSE 94.0342 \n",
      "Epoch 04376 | Loss 81.2021 | MSE 93.6981 \n",
      "Epoch 04377 | Loss 77.8011 | MSE 96.6820 \n",
      "Epoch 04378 | Loss 76.8170 | MSE 97.5826 \n",
      "Epoch 04379 | Loss 81.9870 | MSE 91.9371 \n"
     ]
    },
    {
     "name": "stderr",
     "output_type": "stream",
     "text": [
      "\r",
      " 88%|█████████████████████████████████▍    | 4393/5000 [00:24<00:03, 181.39it/s]"
     ]
    },
    {
     "name": "stdout",
     "output_type": "stream",
     "text": [
      "Epoch 04380 | Loss 77.4536 | MSE 90.0539 \n",
      "Epoch 04381 | Loss 76.3656 | MSE 91.0795 \n",
      "Epoch 04382 | Loss 78.3361 | MSE 92.8052 \n",
      "Epoch 04383 | Loss 76.2599 | MSE 91.0791 \n",
      "Epoch 04384 | Loss 80.5230 | MSE 86.0167 \n",
      "Epoch 04385 | Loss 80.2503 | MSE 90.6566 \n",
      "Epoch 04386 | Loss 78.2691 | MSE 92.2012 \n",
      "Epoch 04387 | Loss 75.1178 | MSE 87.6851 \n",
      "Epoch 04388 | Loss 78.2381 | MSE 88.8105 \n",
      "Epoch 04389 | Loss 76.7678 | MSE 83.7550 \n",
      "Epoch 04390 | Loss 79.6631 | MSE 92.8720 \n",
      "Epoch 04391 | Loss 75.9051 | MSE 88.8338 \n",
      "Epoch 04392 | Loss 80.4060 | MSE 102.9199 \n",
      "Epoch 04393 | Loss 83.2095 | MSE 93.4337 \n",
      "Epoch 04394 | Loss 84.0915 | MSE 95.0869 \n",
      "Epoch 04395 | Loss 77.7474 | MSE 85.2814 \n",
      "Epoch 04396 | Loss 80.6122 | MSE 89.1733 \n",
      "Epoch 04397 | Loss 72.7281 | MSE 100.4557 \n",
      "Epoch 04398 | Loss 81.6613 | MSE 96.7169 \n",
      "Epoch 04399 | Loss 80.2523 | MSE 92.8872 \n",
      "Epoch 04400 | Loss 77.3460 | MSE 85.8881 \n",
      "Epoch 04401 | Loss 78.5879 | MSE 84.4498 \n",
      "Epoch 04402 | Loss 80.4909 | MSE 101.5112 \n",
      "Epoch 04403 | Loss 81.6327 | MSE 91.0074 \n",
      "Epoch 04404 | Loss 78.5688 | MSE 94.5569 \n",
      "Epoch 04405 | Loss 77.9170 | MSE 95.0106 \n",
      "Epoch 04406 | Loss 78.4101 | MSE 90.5311 \n",
      "Epoch 04407 | Loss 82.3282 | MSE 109.6548 \n",
      "Epoch 04408 | Loss 93.3165 | MSE 84.4971 \n"
     ]
    },
    {
     "name": "stderr",
     "output_type": "stream",
     "text": [
      "\r",
      " 88%|█████████████████████████████████▌    | 4412/5000 [00:24<00:03, 180.03it/s]"
     ]
    },
    {
     "name": "stdout",
     "output_type": "stream",
     "text": [
      "Epoch 04409 | Loss 82.2684 | MSE 89.9033 \n",
      "Epoch 04410 | Loss 78.3819 | MSE 102.5651 \n",
      "Epoch 04411 | Loss 84.0623 | MSE 89.3223 \n",
      "Epoch 04412 | Loss 87.0715 | MSE 92.0005 \n",
      "Epoch 04413 | Loss 78.7120 | MSE 83.8859 \n",
      "Epoch 04414 | Loss 76.2168 | MSE 86.4400 \n",
      "Epoch 04415 | Loss 82.1250 | MSE 118.6642 \n"
     ]
    },
    {
     "name": "stderr",
     "output_type": "stream",
     "text": [
      "\r",
      " 89%|█████████████████████████████████▋    | 4431/5000 [00:24<00:03, 180.38it/s]"
     ]
    },
    {
     "name": "stdout",
     "output_type": "stream",
     "text": [
      "Epoch 04416 | Loss 89.9528 | MSE 98.3297 \n",
      "Epoch 04417 | Loss 79.0957 | MSE 90.8303 \n",
      "Epoch 04418 | Loss 77.0282 | MSE 100.6275 \n",
      "Epoch 04419 | Loss 84.5502 | MSE 90.2194 \n",
      "Epoch 04420 | Loss 84.3345 | MSE 95.5687 \n",
      "Epoch 04421 | Loss 77.9252 | MSE 107.6050 \n",
      "Epoch 04422 | Loss 79.3557 | MSE 102.8683 \n",
      "Epoch 04423 | Loss 89.1302 | MSE 95.4697 \n",
      "Epoch 04424 | Loss 85.2149 | MSE 86.1409 \n",
      "Epoch 04425 | Loss 83.2424 | MSE 84.9740 \n",
      "Epoch 04426 | Loss 82.2677 | MSE 99.9777 \n",
      "Epoch 04427 | Loss 78.3617 | MSE 102.1382 \n",
      "Epoch 04428 | Loss 81.1140 | MSE 97.0174 \n",
      "Epoch 04429 | Loss 77.7215 | MSE 92.8664 \n",
      "Epoch 04430 | Loss 77.2726 | MSE 88.7567 \n",
      "Epoch 04431 | Loss 82.0526 | MSE 85.4150 \n",
      "Epoch 04432 | Loss 80.9512 | MSE 96.8638 \n",
      "Epoch 04433 | Loss 79.8304 | MSE 99.7282 \n",
      "Epoch 04434 | Loss 79.0425 | MSE 95.4841 \n",
      "Epoch 04435 | Loss 78.9794 | MSE 88.4454 \n",
      "Epoch 04436 | Loss 76.7657 | MSE 86.6377 \n",
      "Epoch 04437 | Loss 78.7879 | MSE 85.2677 \n",
      "Epoch 04438 | Loss 79.8338 | MSE 93.5643 \n",
      "Epoch 04439 | Loss 78.5006 | MSE 105.1406 \n",
      "Epoch 04440 | Loss 81.4580 | MSE 93.9364 \n",
      "Epoch 04441 | Loss 80.7782 | MSE 91.5437 \n",
      "Epoch 04442 | Loss 80.9316 | MSE 94.4435 \n",
      "Epoch 04443 | Loss 82.8765 | MSE 94.7013 \n",
      "Epoch 04444 | Loss 78.4833 | MSE 103.0434 \n",
      "Epoch 04445 | Loss 80.8259 | MSE 95.0268 \n"
     ]
    },
    {
     "name": "stderr",
     "output_type": "stream",
     "text": [
      "\r",
      " 89%|█████████████████████████████████▊    | 4450/5000 [00:24<00:03, 179.97it/s]"
     ]
    },
    {
     "name": "stdout",
     "output_type": "stream",
     "text": [
      "Epoch 04446 | Loss 79.9501 | MSE 86.2637 \n",
      "Epoch 04447 | Loss 81.3651 | MSE 96.0204 \n",
      "Epoch 04448 | Loss 82.7197 | MSE 87.7588 \n",
      "Epoch 04449 | Loss 81.6788 | MSE 87.6727 \n",
      "Epoch 04450 | Loss 76.2479 | MSE 98.7736 \n",
      "Epoch 04451 | Loss 82.1057 | MSE 86.9504 \n",
      "Epoch 04452 | Loss 82.1378 | MSE 86.9638 \n"
     ]
    },
    {
     "name": "stderr",
     "output_type": "stream",
     "text": [
      "\r",
      " 89%|█████████████████████████████████▉    | 4469/5000 [00:24<00:02, 179.95it/s]"
     ]
    },
    {
     "name": "stdout",
     "output_type": "stream",
     "text": [
      "Epoch 04453 | Loss 76.5587 | MSE 87.5503 \n",
      "Epoch 04454 | Loss 78.5142 | MSE 89.7886 \n",
      "Epoch 04455 | Loss 78.6209 | MSE 94.5357 \n",
      "Epoch 04456 | Loss 77.2634 | MSE 91.2736 \n",
      "Epoch 04457 | Loss 80.5423 | MSE 91.8533 \n",
      "Epoch 04458 | Loss 77.5257 | MSE 97.5668 \n",
      "Epoch 04459 | Loss 78.2471 | MSE 87.5427 \n",
      "Epoch 04460 | Loss 81.4907 | MSE 87.8732 \n",
      "Epoch 04461 | Loss 75.5462 | MSE 92.8957 \n",
      "Epoch 04462 | Loss 76.8595 | MSE 92.8968 \n",
      "Epoch 04463 | Loss 76.3140 | MSE 90.1042 \n",
      "Epoch 04464 | Loss 77.3097 | MSE 87.6363 \n",
      "Epoch 04465 | Loss 77.5802 | MSE 87.5975 \n",
      "Epoch 04466 | Loss 77.5835 | MSE 88.0198 \n",
      "Epoch 04467 | Loss 79.7844 | MSE 95.7007 \n",
      "Epoch 04468 | Loss 78.0295 | MSE 92.8215 \n",
      "Epoch 04469 | Loss 79.4038 | MSE 85.4800 \n",
      "Epoch 04470 | Loss 80.0850 | MSE 83.4058 \n",
      "Epoch 04471 | Loss 78.5313 | MSE 81.5841 \n",
      "Epoch 04472 | Loss 80.6531 | MSE 81.5142 \n",
      "Epoch 04473 | Loss 75.1965 | MSE 84.0666 \n",
      "Epoch 04474 | Loss 76.6026 | MSE 87.8217 \n",
      "Epoch 04475 | Loss 79.7080 | MSE 84.6686 \n",
      "Epoch 04476 | Loss 79.9329 | MSE 84.3299 \n",
      "Epoch 04477 | Loss 73.9363 | MSE 84.8362 \n",
      "Epoch 04478 | Loss 76.5659 | MSE 83.0081 \n",
      "Epoch 04479 | Loss 75.9901 | MSE 87.6582 \n",
      "Epoch 04480 | Loss 77.7310 | MSE 90.2492 \n",
      "Epoch 04481 | Loss 77.4870 | MSE 90.9299 \n",
      "Epoch 04482 | Loss 77.1628 | MSE 95.5768 \n"
     ]
    },
    {
     "name": "stderr",
     "output_type": "stream",
     "text": [
      "\r",
      " 90%|██████████████████████████████████    | 4488/5000 [00:24<00:02, 180.32it/s]"
     ]
    },
    {
     "name": "stdout",
     "output_type": "stream",
     "text": [
      "Epoch 04483 | Loss 77.2551 | MSE 92.5726 \n",
      "Epoch 04484 | Loss 78.6401 | MSE 93.1273 \n",
      "Epoch 04485 | Loss 76.4881 | MSE 93.0642 \n",
      "Epoch 04486 | Loss 77.3889 | MSE 88.4119 \n",
      "Epoch 04487 | Loss 79.3299 | MSE 87.3855 \n",
      "Epoch 04488 | Loss 79.3395 | MSE 85.4171 \n"
     ]
    },
    {
     "name": "stderr",
     "output_type": "stream",
     "text": [
      "\r",
      " 90%|██████████████████████████████████▎   | 4507/5000 [00:24<00:02, 180.53it/s]"
     ]
    },
    {
     "name": "stdout",
     "output_type": "stream",
     "text": [
      "Epoch 04489 | Loss 78.1500 | MSE 91.7613 \n",
      "Epoch 04490 | Loss 78.7420 | MSE 89.4455 \n",
      "Epoch 04491 | Loss 79.2314 | MSE 86.3138 \n",
      "Epoch 04492 | Loss 77.0516 | MSE 93.4319 \n",
      "Epoch 04493 | Loss 79.0575 | MSE 86.1976 \n",
      "Epoch 04494 | Loss 76.4526 | MSE 89.4512 \n",
      "Epoch 04495 | Loss 78.0470 | MSE 89.2902 \n",
      "Epoch 04496 | Loss 76.8732 | MSE 87.4502 \n",
      "Epoch 04497 | Loss 78.3936 | MSE 88.5646 \n",
      "Epoch 04498 | Loss 77.2379 | MSE 87.6984 \n",
      "Epoch 04499 | Loss 77.9948 | MSE 84.8206 \n",
      "Epoch 04500 | Loss 79.4909 | MSE 86.8779 \n",
      "Epoch 04501 | Loss 78.6196 | MSE 86.5761 \n",
      "Epoch 04502 | Loss 74.6544 | MSE 90.2008 \n",
      "Epoch 04503 | Loss 78.0502 | MSE 86.3084 \n",
      "Epoch 04504 | Loss 75.9598 | MSE 84.2728 \n",
      "Epoch 04505 | Loss 77.3607 | MSE 89.4692 \n",
      "Epoch 04506 | Loss 80.3813 | MSE 92.7367 \n",
      "Epoch 04507 | Loss 77.7785 | MSE 94.2192 \n",
      "Epoch 04508 | Loss 76.6959 | MSE 91.0076 \n",
      "Epoch 04509 | Loss 74.3757 | MSE 87.6615 \n",
      "Epoch 04510 | Loss 80.0867 | MSE 91.2866 \n",
      "Epoch 04511 | Loss 78.0724 | MSE 98.5015 \n",
      "Epoch 04512 | Loss 77.4467 | MSE 96.9119 \n",
      "Epoch 04513 | Loss 79.0765 | MSE 93.1825 \n",
      "Epoch 04514 | Loss 80.0002 | MSE 84.2274 \n",
      "Epoch 04515 | Loss 79.4224 | MSE 83.9208 \n",
      "Epoch 04516 | Loss 75.6862 | MSE 92.0210 \n",
      "Epoch 04517 | Loss 79.9751 | MSE 97.7512 \n",
      "Epoch 04518 | Loss 80.1984 | MSE 93.8149 \n",
      "Epoch 04519 | Loss 76.3633 | MSE 83.3918 \n"
     ]
    },
    {
     "name": "stderr",
     "output_type": "stream",
     "text": [
      "\r",
      " 91%|██████████████████████████████████▍   | 4526/5000 [00:25<00:02, 180.50it/s]"
     ]
    },
    {
     "name": "stdout",
     "output_type": "stream",
     "text": [
      "Epoch 04520 | Loss 76.9324 | MSE 83.6438 \n",
      "Epoch 04521 | Loss 82.0714 | MSE 90.0632 \n",
      "Epoch 04522 | Loss 77.5451 | MSE 93.7143 \n",
      "Epoch 04523 | Loss 78.1089 | MSE 104.3404 \n",
      "Epoch 04524 | Loss 84.2435 | MSE 90.9011 \n",
      "Epoch 04525 | Loss 81.3528 | MSE 89.8946 \n"
     ]
    },
    {
     "name": "stderr",
     "output_type": "stream",
     "text": [
      "\r",
      " 91%|██████████████████████████████████▌   | 4545/5000 [00:25<00:02, 180.07it/s]"
     ]
    },
    {
     "name": "stdout",
     "output_type": "stream",
     "text": [
      "Epoch 04526 | Loss 73.0682 | MSE 88.0739 \n",
      "Epoch 04527 | Loss 79.3472 | MSE 88.7536 \n",
      "Epoch 04528 | Loss 82.0060 | MSE 97.4291 \n",
      "Epoch 04529 | Loss 78.8419 | MSE 91.6844 \n",
      "Epoch 04530 | Loss 78.6675 | MSE 88.8411 \n",
      "Epoch 04531 | Loss 75.9194 | MSE 85.2325 \n",
      "Epoch 04532 | Loss 74.2642 | MSE 85.6262 \n",
      "Epoch 04533 | Loss 77.2689 | MSE 90.4092 \n",
      "Epoch 04534 | Loss 74.1003 | MSE 92.9414 \n",
      "Epoch 04535 | Loss 76.5901 | MSE 95.8596 \n",
      "Epoch 04536 | Loss 77.1613 | MSE 93.9352 \n",
      "Epoch 04537 | Loss 76.1575 | MSE 88.3541 \n",
      "Epoch 04538 | Loss 77.7637 | MSE 87.0483 \n",
      "Epoch 04539 | Loss 79.6202 | MSE 91.0973 \n",
      "Epoch 04540 | Loss 78.0922 | MSE 96.1986 \n",
      "Epoch 04541 | Loss 77.6278 | MSE 95.6991 \n",
      "Epoch 04542 | Loss 81.4362 | MSE 89.1930 \n",
      "Epoch 04543 | Loss 77.1360 | MSE 90.7648 \n",
      "Epoch 04544 | Loss 75.4617 | MSE 91.0864 \n",
      "Epoch 04545 | Loss 80.0939 | MSE 98.8122 \n",
      "Epoch 04546 | Loss 80.9059 | MSE 98.1272 \n",
      "Epoch 04547 | Loss 78.6351 | MSE 95.3844 \n",
      "Epoch 04548 | Loss 80.6582 | MSE 91.4992 \n",
      "Epoch 04549 | Loss 77.2073 | MSE 87.9463 \n",
      "Epoch 04550 | Loss 75.7085 | MSE 92.1117 \n",
      "Epoch 04551 | Loss 76.7497 | MSE 89.3499 \n",
      "Epoch 04552 | Loss 81.0168 | MSE 91.8922 \n",
      "Epoch 04553 | Loss 77.1136 | MSE 92.4241 \n",
      "Epoch 04554 | Loss 78.3621 | MSE 90.3185 \n",
      "Epoch 04555 | Loss 77.0374 | MSE 89.6661 \n",
      "Epoch 04556 | Loss 75.3721 | MSE 86.0804 \n",
      "Epoch 04557 | Loss 74.2174 | MSE 89.8304 \n",
      "Epoch 04558 | Loss 76.3871 | MSE 92.4691 \n",
      "Epoch 04559 | Loss 78.6497 | MSE 84.6001 \n",
      "Epoch 04560 | Loss 77.2867 | MSE 91.7110 \n",
      "Epoch 04561 | Loss 77.4213 | MSE 87.5361 \n",
      "Epoch 04562 | Loss 75.7617 | MSE 92.1843 \n"
     ]
    },
    {
     "name": "stderr",
     "output_type": "stream",
     "text": [
      " 92%|██████████████████████████████████▊   | 4583/5000 [00:25<00:02, 181.62it/s]"
     ]
    },
    {
     "name": "stdout",
     "output_type": "stream",
     "text": [
      "Epoch 04563 | Loss 77.0717 | MSE 92.4842 \n",
      "Epoch 04564 | Loss 75.6676 | MSE 86.6485 \n",
      "Epoch 04565 | Loss 83.7542 | MSE 92.4033 \n",
      "Epoch 04566 | Loss 80.0473 | MSE 90.6154 \n",
      "Epoch 04567 | Loss 76.3179 | MSE 94.2099 \n",
      "Epoch 04568 | Loss 75.2489 | MSE 90.2978 \n",
      "Epoch 04569 | Loss 77.9576 | MSE 86.5844 \n",
      "Epoch 04570 | Loss 76.6622 | MSE 89.4294 \n",
      "Epoch 04571 | Loss 78.6531 | MSE 88.6855 \n",
      "Epoch 04572 | Loss 75.8556 | MSE 93.5639 \n",
      "Epoch 04573 | Loss 76.3534 | MSE 89.5873 \n",
      "Epoch 04574 | Loss 75.4585 | MSE 89.6570 \n",
      "Epoch 04575 | Loss 79.0112 | MSE 89.4316 \n",
      "Epoch 04576 | Loss 76.1396 | MSE 94.0915 \n",
      "Epoch 04577 | Loss 78.7211 | MSE 93.2427 \n",
      "Epoch 04578 | Loss 75.6371 | MSE 85.9218 \n",
      "Epoch 04579 | Loss 77.5068 | MSE 81.1774 \n",
      "Epoch 04580 | Loss 76.6565 | MSE 83.7488 \n",
      "Epoch 04581 | Loss 76.6614 | MSE 85.6434 \n",
      "Epoch 04582 | Loss 77.1283 | MSE 94.6591 \n",
      "Epoch 04583 | Loss 79.4342 | MSE 86.8921 \n",
      "Epoch 04584 | Loss 76.4952 | MSE 86.7090 \n",
      "Epoch 04585 | Loss 76.9347 | MSE 84.1071 \n",
      "Epoch 04586 | Loss 79.1246 | MSE 88.1595 \n",
      "Epoch 04587 | Loss 77.0877 | MSE 103.9028 \n",
      "Epoch 04588 | Loss 79.8073 | MSE 96.7199 \n",
      "Epoch 04589 | Loss 83.5796 | MSE 91.3839 \n",
      "Epoch 04590 | Loss 74.3143 | MSE 83.6865 \n",
      "Epoch 04591 | Loss 80.2546 | MSE 83.8765 \n",
      "Epoch 04592 | Loss 76.8750 | MSE 102.4429 \n",
      "Epoch 04593 | Loss 79.9334 | MSE 96.8751 \n",
      "Epoch 04594 | Loss 80.6382 | MSE 95.2206 \n",
      "Epoch 04595 | Loss 76.8763 | MSE 87.0174 \n",
      "Epoch 04596 | Loss 75.6157 | MSE 87.6318 \n",
      "Epoch 04597 | Loss 78.7171 | MSE 102.5354 \n",
      "Epoch 04598 | Loss 79.2570 | MSE 104.6093 \n",
      "Epoch 04599 | Loss 80.0646 | MSE 97.6541 \n"
     ]
    },
    {
     "name": "stderr",
     "output_type": "stream",
     "text": [
      " 92%|███████████████████████████████████   | 4621/5000 [00:25<00:02, 181.81it/s]"
     ]
    },
    {
     "name": "stdout",
     "output_type": "stream",
     "text": [
      "Epoch 04600 | Loss 76.9922 | MSE 93.3209 \n",
      "Epoch 04601 | Loss 79.7623 | MSE 89.5051 \n",
      "Epoch 04602 | Loss 80.2672 | MSE 109.8036 \n",
      "Epoch 04603 | Loss 81.6510 | MSE 96.7730 \n",
      "Epoch 04604 | Loss 81.0924 | MSE 95.7002 \n",
      "Epoch 04605 | Loss 73.8421 | MSE 86.3781 \n",
      "Epoch 04606 | Loss 75.2971 | MSE 84.7432 \n",
      "Epoch 04607 | Loss 78.3237 | MSE 89.0891 \n",
      "Epoch 04608 | Loss 74.7540 | MSE 89.6936 \n",
      "Epoch 04609 | Loss 77.1824 | MSE 90.4224 \n",
      "Epoch 04610 | Loss 77.9930 | MSE 97.6656 \n",
      "Epoch 04611 | Loss 77.3969 | MSE 89.7989 \n",
      "Epoch 04612 | Loss 78.2989 | MSE 96.9729 \n",
      "Epoch 04613 | Loss 75.5937 | MSE 93.9703 \n",
      "Epoch 04614 | Loss 75.1238 | MSE 88.0170 \n",
      "Epoch 04615 | Loss 78.2623 | MSE 92.9313 \n",
      "Epoch 04616 | Loss 76.5725 | MSE 90.6298 \n",
      "Epoch 04617 | Loss 76.8751 | MSE 93.6714 \n",
      "Epoch 04618 | Loss 76.1241 | MSE 99.2525 \n",
      "Epoch 04619 | Loss 74.5946 | MSE 97.4037 \n",
      "Epoch 04620 | Loss 77.6415 | MSE 100.9432 \n",
      "Epoch 04621 | Loss 76.0591 | MSE 98.1581 \n",
      "Epoch 04622 | Loss 79.3406 | MSE 91.3601 \n",
      "Epoch 04623 | Loss 77.3457 | MSE 89.9045 \n",
      "Epoch 04624 | Loss 75.4753 | MSE 89.2533 \n",
      "Epoch 04625 | Loss 81.0195 | MSE 95.3344 \n",
      "Epoch 04626 | Loss 76.5124 | MSE 93.0017 \n",
      "Epoch 04627 | Loss 75.9353 | MSE 90.7154 \n",
      "Epoch 04628 | Loss 76.7650 | MSE 87.6336 \n",
      "Epoch 04629 | Loss 74.0389 | MSE 88.6661 \n",
      "Epoch 04630 | Loss 76.8587 | MSE 88.6737 \n",
      "Epoch 04631 | Loss 77.6289 | MSE 93.3480 \n",
      "Epoch 04632 | Loss 73.6880 | MSE 93.6741 \n",
      "Epoch 04633 | Loss 78.1017 | MSE 91.8115 \n",
      "Epoch 04634 | Loss 78.2803 | MSE 87.2566 \n",
      "Epoch 04635 | Loss 76.9136 | MSE 85.3654 \n",
      "Epoch 04636 | Loss 74.5845 | MSE 85.7774 \n"
     ]
    },
    {
     "name": "stderr",
     "output_type": "stream",
     "text": [
      " 93%|███████████████████████████████████▍  | 4659/5000 [00:25<00:01, 181.15it/s]"
     ]
    },
    {
     "name": "stdout",
     "output_type": "stream",
     "text": [
      "Epoch 04637 | Loss 74.5654 | MSE 91.2647 \n",
      "Epoch 04638 | Loss 76.3878 | MSE 88.3369 \n",
      "Epoch 04639 | Loss 78.1824 | MSE 86.2436 \n",
      "Epoch 04640 | Loss 77.3872 | MSE 89.8962 \n",
      "Epoch 04641 | Loss 78.5304 | MSE 91.9437 \n",
      "Epoch 04642 | Loss 75.6261 | MSE 93.8462 \n",
      "Epoch 04643 | Loss 78.1387 | MSE 92.0217 \n",
      "Epoch 04644 | Loss 76.4565 | MSE 84.2843 \n",
      "Epoch 04645 | Loss 75.5919 | MSE 84.4579 \n",
      "Epoch 04646 | Loss 77.1366 | MSE 93.0638 \n",
      "Epoch 04647 | Loss 75.1570 | MSE 92.3578 \n",
      "Epoch 04648 | Loss 75.6309 | MSE 87.6405 \n",
      "Epoch 04649 | Loss 73.7387 | MSE 83.1968 \n",
      "Epoch 04650 | Loss 80.0103 | MSE 86.0400 \n",
      "Epoch 04651 | Loss 79.6001 | MSE 96.0336 \n",
      "Epoch 04652 | Loss 76.3271 | MSE 93.2758 \n",
      "Epoch 04653 | Loss 75.8480 | MSE 90.7202 \n",
      "Epoch 04654 | Loss 75.2129 | MSE 81.9921 \n",
      "Epoch 04655 | Loss 75.0748 | MSE 83.5386 \n",
      "Epoch 04656 | Loss 74.2700 | MSE 84.9812 \n",
      "Epoch 04657 | Loss 76.6906 | MSE 87.2352 \n",
      "Epoch 04658 | Loss 78.3405 | MSE 89.0854 \n",
      "Epoch 04659 | Loss 83.0970 | MSE 85.1077 \n",
      "Epoch 04660 | Loss 78.6154 | MSE 83.6156 \n",
      "Epoch 04661 | Loss 73.7529 | MSE 94.2477 \n",
      "Epoch 04662 | Loss 80.4689 | MSE 91.4126 \n",
      "Epoch 04663 | Loss 81.1022 | MSE 101.6114 \n",
      "Epoch 04664 | Loss 84.3066 | MSE 84.9869 \n",
      "Epoch 04665 | Loss 76.8424 | MSE 84.7124 \n",
      "Epoch 04666 | Loss 74.6252 | MSE 92.2412 \n",
      "Epoch 04667 | Loss 74.5868 | MSE 90.9325 \n",
      "Epoch 04668 | Loss 82.6892 | MSE 97.6352 \n",
      "Epoch 04669 | Loss 80.2489 | MSE 83.3890 \n",
      "Epoch 04670 | Loss 77.1997 | MSE 87.0032 \n",
      "Epoch 04671 | Loss 77.3624 | MSE 103.3881 \n",
      "Epoch 04672 | Loss 83.2528 | MSE 96.2825 \n",
      "Epoch 04673 | Loss 78.4233 | MSE 95.2526 \n"
     ]
    },
    {
     "name": "stderr",
     "output_type": "stream",
     "text": [
      " 94%|███████████████████████████████████▋  | 4697/5000 [00:25<00:01, 182.77it/s]"
     ]
    },
    {
     "name": "stdout",
     "output_type": "stream",
     "text": [
      "Epoch 04674 | Loss 76.9520 | MSE 88.3806 \n",
      "Epoch 04675 | Loss 75.1721 | MSE 87.4344 \n",
      "Epoch 04676 | Loss 73.6051 | MSE 89.5399 \n",
      "Epoch 04677 | Loss 75.7283 | MSE 88.2370 \n",
      "Epoch 04678 | Loss 74.1426 | MSE 88.7683 \n",
      "Epoch 04679 | Loss 75.3195 | MSE 86.1503 \n",
      "Epoch 04680 | Loss 76.4784 | MSE 88.8931 \n",
      "Epoch 04681 | Loss 82.5412 | MSE 85.9385 \n",
      "Epoch 04682 | Loss 77.2855 | MSE 89.4650 \n",
      "Epoch 04683 | Loss 76.2126 | MSE 88.8573 \n",
      "Epoch 04684 | Loss 79.6880 | MSE 84.4221 \n",
      "Epoch 04685 | Loss 74.4994 | MSE 87.2323 \n",
      "Epoch 04686 | Loss 77.9936 | MSE 87.2785 \n",
      "Epoch 04687 | Loss 77.4466 | MSE 85.1733 \n",
      "Epoch 04688 | Loss 78.9584 | MSE 84.7918 \n",
      "Epoch 04689 | Loss 78.5328 | MSE 87.3149 \n",
      "Epoch 04690 | Loss 75.5373 | MSE 87.7206 \n",
      "Epoch 04691 | Loss 80.4031 | MSE 93.5307 \n",
      "Epoch 04692 | Loss 73.1821 | MSE 91.5912 \n",
      "Epoch 04693 | Loss 74.8595 | MSE 88.8574 \n",
      "Epoch 04694 | Loss 75.7087 | MSE 89.9427 \n",
      "Epoch 04695 | Loss 80.5226 | MSE 85.6701 \n",
      "Epoch 04696 | Loss 76.0733 | MSE 89.2678 \n",
      "Epoch 04697 | Loss 77.0988 | MSE 91.9555 \n",
      "Epoch 04698 | Loss 76.9047 | MSE 93.8241 \n",
      "Epoch 04699 | Loss 76.6742 | MSE 96.0464 \n",
      "Epoch 04700 | Loss 74.7824 | MSE 91.2190 \n",
      "Epoch 04701 | Loss 74.8294 | MSE 87.1259 \n",
      "Epoch 04702 | Loss 75.9848 | MSE 89.8900 \n",
      "Epoch 04703 | Loss 75.0248 | MSE 87.0399 \n",
      "Epoch 04704 | Loss 78.5347 | MSE 86.8092 \n",
      "Epoch 04705 | Loss 76.5850 | MSE 89.6630 \n",
      "Epoch 04706 | Loss 76.8867 | MSE 88.7392 \n",
      "Epoch 04707 | Loss 73.6904 | MSE 86.6410 \n",
      "Epoch 04708 | Loss 74.3367 | MSE 86.7324 \n",
      "Epoch 04709 | Loss 73.4656 | MSE 87.2262 \n",
      "Epoch 04710 | Loss 74.5217 | MSE 89.0314 \n",
      "Epoch 04711 | Loss 74.3405 | MSE 90.1173 \n"
     ]
    },
    {
     "name": "stderr",
     "output_type": "stream",
     "text": [
      " 95%|███████████████████████████████████▉  | 4735/5000 [00:26<00:01, 183.68it/s]"
     ]
    },
    {
     "name": "stdout",
     "output_type": "stream",
     "text": [
      "Epoch 04712 | Loss 77.1648 | MSE 84.9175 \n",
      "Epoch 04713 | Loss 78.2731 | MSE 90.2297 \n",
      "Epoch 04714 | Loss 78.8864 | MSE 86.4673 \n",
      "Epoch 04715 | Loss 72.3776 | MSE 87.5789 \n",
      "Epoch 04716 | Loss 76.2300 | MSE 95.5433 \n",
      "Epoch 04717 | Loss 80.0479 | MSE 88.1126 \n",
      "Epoch 04718 | Loss 77.6154 | MSE 96.8963 \n",
      "Epoch 04719 | Loss 76.6743 | MSE 86.9753 \n",
      "Epoch 04720 | Loss 72.8185 | MSE 85.5161 \n",
      "Epoch 04721 | Loss 79.1369 | MSE 97.3089 \n",
      "Epoch 04722 | Loss 79.1616 | MSE 87.0059 \n",
      "Epoch 04723 | Loss 78.1453 | MSE 86.8000 \n",
      "Epoch 04724 | Loss 73.7663 | MSE 89.3261 \n",
      "Epoch 04725 | Loss 72.7818 | MSE 87.6834 \n",
      "Epoch 04726 | Loss 78.4906 | MSE 92.7109 \n",
      "Epoch 04727 | Loss 76.6671 | MSE 87.5277 \n",
      "Epoch 04728 | Loss 78.0265 | MSE 91.4663 \n",
      "Epoch 04729 | Loss 77.7998 | MSE 90.2862 \n",
      "Epoch 04730 | Loss 76.8512 | MSE 85.9883 \n",
      "Epoch 04731 | Loss 73.5034 | MSE 82.8362 \n",
      "Epoch 04732 | Loss 76.2302 | MSE 84.0424 \n",
      "Epoch 04733 | Loss 74.9121 | MSE 85.1444 \n",
      "Epoch 04734 | Loss 74.5116 | MSE 81.4467 \n",
      "Epoch 04735 | Loss 77.8812 | MSE 82.6659 \n",
      "Epoch 04736 | Loss 74.4949 | MSE 88.9369 \n",
      "Epoch 04737 | Loss 80.1350 | MSE 96.5729 \n",
      "Epoch 04738 | Loss 76.8238 | MSE 90.4366 \n",
      "Epoch 04739 | Loss 78.1454 | MSE 84.1340 \n",
      "Epoch 04740 | Loss 75.7031 | MSE 87.9309 \n",
      "Epoch 04741 | Loss 78.5048 | MSE 86.7283 \n",
      "Epoch 04742 | Loss 77.1981 | MSE 90.4643 \n",
      "Epoch 04743 | Loss 73.8215 | MSE 87.6466 \n",
      "Epoch 04744 | Loss 73.3464 | MSE 87.5465 \n",
      "Epoch 04745 | Loss 75.5964 | MSE 88.5888 \n",
      "Epoch 04746 | Loss 77.7551 | MSE 83.5058 \n",
      "Epoch 04747 | Loss 77.8628 | MSE 85.4313 \n",
      "Epoch 04748 | Loss 77.1640 | MSE 82.6937 \n"
     ]
    },
    {
     "name": "stderr",
     "output_type": "stream",
     "text": [
      " 95%|████████████████████████████████████▎ | 4773/5000 [00:26<00:01, 185.01it/s]"
     ]
    },
    {
     "name": "stdout",
     "output_type": "stream",
     "text": [
      "Epoch 04749 | Loss 75.6496 | MSE 85.3293 \n",
      "Epoch 04750 | Loss 75.3940 | MSE 88.9571 \n",
      "Epoch 04751 | Loss 76.7477 | MSE 80.2148 \n",
      "Epoch 04752 | Loss 78.3774 | MSE 79.7707 \n",
      "Epoch 04753 | Loss 76.1768 | MSE 95.7033 \n",
      "Epoch 04754 | Loss 77.7117 | MSE 90.2540 \n",
      "Epoch 04755 | Loss 78.1356 | MSE 92.5287 \n",
      "Epoch 04756 | Loss 76.9909 | MSE 86.9256 \n",
      "Epoch 04757 | Loss 73.5215 | MSE 89.7174 \n",
      "Epoch 04758 | Loss 77.5174 | MSE 95.1912 \n",
      "Epoch 04759 | Loss 74.4106 | MSE 91.9231 \n",
      "Epoch 04760 | Loss 77.5656 | MSE 91.3883 \n",
      "Epoch 04761 | Loss 78.7400 | MSE 98.6500 \n",
      "Epoch 04762 | Loss 75.9304 | MSE 92.4636 \n",
      "Epoch 04763 | Loss 75.7254 | MSE 94.0047 \n",
      "Epoch 04764 | Loss 81.5091 | MSE 93.1145 \n",
      "Epoch 04765 | Loss 77.3195 | MSE 96.4270 \n",
      "Epoch 04766 | Loss 75.5699 | MSE 93.2430 \n",
      "Epoch 04767 | Loss 79.6502 | MSE 90.1239 \n",
      "Epoch 04768 | Loss 76.0165 | MSE 90.5716 \n",
      "Epoch 04769 | Loss 76.7753 | MSE 94.2033 \n",
      "Epoch 04770 | Loss 81.9048 | MSE 96.0413 \n",
      "Epoch 04771 | Loss 81.4872 | MSE 90.8120 \n",
      "Epoch 04772 | Loss 75.0870 | MSE 92.0735 \n",
      "Epoch 04773 | Loss 78.8091 | MSE 93.2461 \n",
      "Epoch 04774 | Loss 76.6679 | MSE 90.8406 \n",
      "Epoch 04775 | Loss 78.1109 | MSE 91.3837 \n",
      "Epoch 04776 | Loss 76.0331 | MSE 92.4885 \n",
      "Epoch 04777 | Loss 78.5819 | MSE 90.4187 \n",
      "Epoch 04778 | Loss 77.1833 | MSE 90.0214 \n",
      "Epoch 04779 | Loss 77.5321 | MSE 90.5722 \n",
      "Epoch 04780 | Loss 73.4741 | MSE 89.3721 \n",
      "Epoch 04781 | Loss 78.4481 | MSE 89.3806 \n",
      "Epoch 04782 | Loss 79.3417 | MSE 100.4588 \n",
      "Epoch 04783 | Loss 78.5954 | MSE 92.8699 \n",
      "Epoch 04784 | Loss 80.6915 | MSE 87.9273 \n",
      "Epoch 04785 | Loss 76.3844 | MSE 85.6254 \n",
      "Epoch 04786 | Loss 76.6451 | MSE 84.5763 \n"
     ]
    },
    {
     "name": "stderr",
     "output_type": "stream",
     "text": [
      " 96%|████████████████████████████████████▌ | 4811/5000 [00:26<00:01, 184.70it/s]"
     ]
    },
    {
     "name": "stdout",
     "output_type": "stream",
     "text": [
      "Epoch 04787 | Loss 80.4749 | MSE 93.7254 \n",
      "Epoch 04788 | Loss 78.7800 | MSE 94.1823 \n",
      "Epoch 04789 | Loss 77.7337 | MSE 93.6126 \n",
      "Epoch 04790 | Loss 76.3863 | MSE 93.9014 \n",
      "Epoch 04791 | Loss 79.9106 | MSE 88.9041 \n",
      "Epoch 04792 | Loss 81.3093 | MSE 103.0560 \n",
      "Epoch 04793 | Loss 80.2273 | MSE 99.4001 \n",
      "Epoch 04794 | Loss 79.8248 | MSE 91.3813 \n",
      "Epoch 04795 | Loss 75.8135 | MSE 90.4782 \n",
      "Epoch 04796 | Loss 80.9552 | MSE 82.8145 \n",
      "Epoch 04797 | Loss 77.8909 | MSE 89.8824 \n",
      "Epoch 04798 | Loss 76.8137 | MSE 98.5869 \n",
      "Epoch 04799 | Loss 81.4595 | MSE 87.5087 \n",
      "Epoch 04800 | Loss 73.7066 | MSE 83.3243 \n",
      "Epoch 04801 | Loss 74.5502 | MSE 84.4413 \n",
      "Epoch 04802 | Loss 76.1112 | MSE 86.7175 \n",
      "Epoch 04803 | Loss 76.4762 | MSE 102.8023 \n",
      "Epoch 04804 | Loss 81.2456 | MSE 99.5970 \n",
      "Epoch 04805 | Loss 77.7722 | MSE 83.9000 \n",
      "Epoch 04806 | Loss 73.8695 | MSE 82.3803 \n",
      "Epoch 04807 | Loss 82.0665 | MSE 96.1479 \n",
      "Epoch 04808 | Loss 77.2026 | MSE 103.0561 \n",
      "Epoch 04809 | Loss 81.4992 | MSE 99.7212 \n",
      "Epoch 04810 | Loss 78.8167 | MSE 87.7023 \n",
      "Epoch 04811 | Loss 76.4131 | MSE 83.4608 \n",
      "Epoch 04812 | Loss 77.5672 | MSE 92.5882 \n",
      "Epoch 04813 | Loss 76.2204 | MSE 90.4791 \n",
      "Epoch 04814 | Loss 74.3503 | MSE 90.5447 \n",
      "Epoch 04815 | Loss 75.8785 | MSE 88.9689 \n",
      "Epoch 04816 | Loss 78.6278 | MSE 87.2731 \n",
      "Epoch 04817 | Loss 75.5500 | MSE 89.3486 \n",
      "Epoch 04818 | Loss 78.2163 | MSE 89.4670 \n",
      "Epoch 04819 | Loss 77.7596 | MSE 93.5514 \n",
      "Epoch 04820 | Loss 75.5108 | MSE 94.6275 \n",
      "Epoch 04821 | Loss 73.6873 | MSE 92.9461 \n",
      "Epoch 04822 | Loss 75.8177 | MSE 90.1749 \n",
      "Epoch 04823 | Loss 76.6240 | MSE 91.8131 \n",
      "Epoch 04824 | Loss 74.2851 | MSE 94.9207 \n"
     ]
    },
    {
     "name": "stderr",
     "output_type": "stream",
     "text": [
      " 97%|████████████████████████████████████▊ | 4849/5000 [00:26<00:00, 185.86it/s]"
     ]
    },
    {
     "name": "stdout",
     "output_type": "stream",
     "text": [
      "Epoch 04825 | Loss 72.4577 | MSE 92.7507 \n",
      "Epoch 04826 | Loss 73.5305 | MSE 90.9096 \n",
      "Epoch 04827 | Loss 76.8578 | MSE 87.9477 \n",
      "Epoch 04828 | Loss 75.2984 | MSE 87.5424 \n",
      "Epoch 04829 | Loss 76.4475 | MSE 91.0317 \n",
      "Epoch 04830 | Loss 79.0886 | MSE 99.8277 \n",
      "Epoch 04831 | Loss 77.9554 | MSE 95.1280 \n",
      "Epoch 04832 | Loss 75.5413 | MSE 90.6104 \n",
      "Epoch 04833 | Loss 75.5794 | MSE 87.6398 \n",
      "Epoch 04834 | Loss 79.2154 | MSE 87.3015 \n",
      "Epoch 04835 | Loss 74.9629 | MSE 90.2908 \n",
      "Epoch 04836 | Loss 76.2975 | MSE 88.0608 \n",
      "Epoch 04837 | Loss 77.9567 | MSE 84.9371 \n",
      "Epoch 04838 | Loss 75.6432 | MSE 85.3076 \n",
      "Epoch 04839 | Loss 76.8195 | MSE 83.8115 \n",
      "Epoch 04840 | Loss 76.3769 | MSE 90.3871 \n",
      "Epoch 04841 | Loss 76.3990 | MSE 93.9499 \n",
      "Epoch 04842 | Loss 75.9570 | MSE 89.0302 \n",
      "Epoch 04843 | Loss 76.0506 | MSE 83.5118 \n",
      "Epoch 04844 | Loss 76.8910 | MSE 81.5627 \n",
      "Epoch 04845 | Loss 77.4056 | MSE 87.4972 \n",
      "Epoch 04846 | Loss 79.0619 | MSE 90.3330 \n",
      "Epoch 04847 | Loss 74.4861 | MSE 98.8394 \n",
      "Epoch 04848 | Loss 78.0879 | MSE 84.8236 \n",
      "Epoch 04849 | Loss 76.1904 | MSE 81.5567 \n",
      "Epoch 04850 | Loss 74.6925 | MSE 81.7221 \n",
      "Epoch 04851 | Loss 79.9193 | MSE 82.2944 \n",
      "Epoch 04852 | Loss 79.0020 | MSE 92.3808 \n",
      "Epoch 04853 | Loss 78.2426 | MSE 94.5642 \n",
      "Epoch 04854 | Loss 76.5187 | MSE 92.0695 \n",
      "Epoch 04855 | Loss 76.0749 | MSE 94.7481 \n",
      "Epoch 04856 | Loss 76.3095 | MSE 93.7703 \n",
      "Epoch 04857 | Loss 77.6815 | MSE 99.4721 \n",
      "Epoch 04858 | Loss 75.6483 | MSE 103.0275 \n",
      "Epoch 04859 | Loss 77.5270 | MSE 94.4692 \n",
      "Epoch 04860 | Loss 80.3880 | MSE 96.7985 \n",
      "Epoch 04861 | Loss 77.1751 | MSE 86.4836 \n",
      "Epoch 04862 | Loss 77.1033 | MSE 90.2799 \n"
     ]
    },
    {
     "name": "stderr",
     "output_type": "stream",
     "text": [
      " 98%|█████████████████████████████████████▏| 4887/5000 [00:27<00:00, 185.61it/s]"
     ]
    },
    {
     "name": "stdout",
     "output_type": "stream",
     "text": [
      "Epoch 04863 | Loss 74.2756 | MSE 93.8757 \n",
      "Epoch 04864 | Loss 79.3075 | MSE 92.4927 \n",
      "Epoch 04865 | Loss 81.5285 | MSE 96.0946 \n",
      "Epoch 04866 | Loss 78.9763 | MSE 88.8276 \n",
      "Epoch 04867 | Loss 77.5589 | MSE 86.8953 \n",
      "Epoch 04868 | Loss 77.2898 | MSE 94.3219 \n",
      "Epoch 04869 | Loss 79.2295 | MSE 90.6860 \n",
      "Epoch 04870 | Loss 80.8017 | MSE 98.0225 \n",
      "Epoch 04871 | Loss 79.7597 | MSE 89.5958 \n",
      "Epoch 04872 | Loss 76.7352 | MSE 84.2371 \n",
      "Epoch 04873 | Loss 74.9083 | MSE 84.3025 \n",
      "Epoch 04874 | Loss 75.4762 | MSE 83.2322 \n",
      "Epoch 04875 | Loss 73.8476 | MSE 89.1255 \n",
      "Epoch 04876 | Loss 77.6216 | MSE 94.2202 \n",
      "Epoch 04877 | Loss 77.4788 | MSE 85.2653 \n",
      "Epoch 04878 | Loss 76.5302 | MSE 84.7964 \n",
      "Epoch 04879 | Loss 77.0212 | MSE 91.1528 \n",
      "Epoch 04880 | Loss 76.1576 | MSE 94.6719 \n",
      "Epoch 04881 | Loss 76.8210 | MSE 95.2625 \n",
      "Epoch 04882 | Loss 76.4469 | MSE 85.9469 \n",
      "Epoch 04883 | Loss 78.8307 | MSE 89.2193 \n",
      "Epoch 04884 | Loss 76.9049 | MSE 90.3260 \n",
      "Epoch 04885 | Loss 76.5118 | MSE 92.9798 \n",
      "Epoch 04886 | Loss 78.4647 | MSE 97.0238 \n",
      "Epoch 04887 | Loss 79.0059 | MSE 92.2192 \n",
      "Epoch 04888 | Loss 75.8195 | MSE 86.5035 \n",
      "Epoch 04889 | Loss 75.1554 | MSE 87.9015 \n",
      "Epoch 04890 | Loss 75.2598 | MSE 90.4492 \n",
      "Epoch 04891 | Loss 72.1851 | MSE 90.9493 \n",
      "Epoch 04892 | Loss 79.2001 | MSE 91.2643 \n",
      "Epoch 04893 | Loss 75.0435 | MSE 83.8334 \n",
      "Epoch 04894 | Loss 74.6521 | MSE 86.4663 \n",
      "Epoch 04895 | Loss 77.6562 | MSE 86.2431 \n",
      "Epoch 04896 | Loss 76.8192 | MSE 92.9622 \n",
      "Epoch 04897 | Loss 74.1343 | MSE 90.7136 \n",
      "Epoch 04898 | Loss 75.3044 | MSE 87.0644 \n"
     ]
    },
    {
     "name": "stderr",
     "output_type": "stream",
     "text": [
      " 98%|█████████████████████████████████████▍| 4925/5000 [00:27<00:00, 182.16it/s]"
     ]
    },
    {
     "name": "stdout",
     "output_type": "stream",
     "text": [
      "Epoch 04899 | Loss 78.0119 | MSE 92.9139 \n",
      "Epoch 04900 | Loss 77.2878 | MSE 87.3648 \n",
      "Epoch 04901 | Loss 77.0776 | MSE 89.1333 \n",
      "Epoch 04902 | Loss 75.1376 | MSE 89.8663 \n",
      "Epoch 04903 | Loss 75.2064 | MSE 88.4131 \n",
      "Epoch 04904 | Loss 75.1136 | MSE 96.1805 \n",
      "Epoch 04905 | Loss 76.2886 | MSE 85.9183 \n",
      "Epoch 04906 | Loss 79.6779 | MSE 88.2436 \n",
      "Epoch 04907 | Loss 75.8163 | MSE 90.6393 \n",
      "Epoch 04908 | Loss 72.8166 | MSE 89.1045 \n",
      "Epoch 04909 | Loss 75.3732 | MSE 92.5621 \n",
      "Epoch 04910 | Loss 75.9326 | MSE 92.8767 \n",
      "Epoch 04911 | Loss 75.6222 | MSE 91.5562 \n",
      "Epoch 04912 | Loss 73.8800 | MSE 90.5143 \n",
      "Epoch 04913 | Loss 75.9708 | MSE 82.3995 \n",
      "Epoch 04914 | Loss 77.1187 | MSE 83.0630 \n",
      "Epoch 04915 | Loss 77.7279 | MSE 92.6141 \n",
      "Epoch 04916 | Loss 74.2405 | MSE 91.6555 \n",
      "Epoch 04917 | Loss 77.7139 | MSE 92.9455 \n",
      "Epoch 04918 | Loss 75.1381 | MSE 86.8285 \n",
      "Epoch 04919 | Loss 78.9211 | MSE 86.8357 \n",
      "Epoch 04920 | Loss 77.7056 | MSE 100.7099 \n",
      "Epoch 04921 | Loss 80.5728 | MSE 95.0293 \n",
      "Epoch 04922 | Loss 77.4217 | MSE 90.8329 \n",
      "Epoch 04923 | Loss 76.3353 | MSE 93.9744 \n",
      "Epoch 04924 | Loss 78.3740 | MSE 88.0863 \n",
      "Epoch 04925 | Loss 79.9090 | MSE 96.7859 \n",
      "Epoch 04926 | Loss 76.3504 | MSE 99.5416 \n",
      "Epoch 04927 | Loss 78.8090 | MSE 91.4406 \n",
      "Epoch 04928 | Loss 78.9135 | MSE 93.2820 \n",
      "Epoch 04929 | Loss 79.5114 | MSE 89.8049 \n",
      "Epoch 04930 | Loss 73.5782 | MSE 88.4002 \n",
      "Epoch 04931 | Loss 78.7461 | MSE 100.0546 \n",
      "Epoch 04932 | Loss 79.6639 | MSE 92.9645 \n",
      "Epoch 04933 | Loss 74.8231 | MSE 88.3902 \n",
      "Epoch 04934 | Loss 77.0127 | MSE 89.2082 \n",
      "Epoch 04935 | Loss 80.9768 | MSE 84.8111 \n"
     ]
    },
    {
     "name": "stderr",
     "output_type": "stream",
     "text": [
      " 99%|█████████████████████████████████████▋| 4963/5000 [00:27<00:00, 182.99it/s]"
     ]
    },
    {
     "name": "stdout",
     "output_type": "stream",
     "text": [
      "Epoch 04936 | Loss 74.4964 | MSE 89.0669 \n",
      "Epoch 04937 | Loss 74.8998 | MSE 96.7242 \n",
      "Epoch 04938 | Loss 74.9575 | MSE 89.7721 \n",
      "Epoch 04939 | Loss 78.9681 | MSE 89.6087 \n",
      "Epoch 04940 | Loss 77.5574 | MSE 87.3488 \n",
      "Epoch 04941 | Loss 78.9043 | MSE 88.3350 \n",
      "Epoch 04942 | Loss 75.0842 | MSE 98.0539 \n",
      "Epoch 04943 | Loss 79.1248 | MSE 90.4243 \n",
      "Epoch 04944 | Loss 79.2792 | MSE 86.1635 \n",
      "Epoch 04945 | Loss 73.5418 | MSE 83.7884 \n",
      "Epoch 04946 | Loss 74.0866 | MSE 84.5110 \n",
      "Epoch 04947 | Loss 73.8303 | MSE 93.2676 \n",
      "Epoch 04948 | Loss 75.4256 | MSE 90.6814 \n",
      "Epoch 04949 | Loss 75.5921 | MSE 86.0016 \n",
      "Epoch 04950 | Loss 75.3156 | MSE 89.2959 \n",
      "Epoch 04951 | Loss 76.3040 | MSE 88.1011 \n",
      "Epoch 04952 | Loss 77.8187 | MSE 95.1653 \n",
      "Epoch 04953 | Loss 78.4955 | MSE 97.6330 \n",
      "Epoch 04954 | Loss 76.7867 | MSE 86.3985 \n",
      "Epoch 04955 | Loss 74.0605 | MSE 84.6950 \n",
      "Epoch 04956 | Loss 78.8316 | MSE 88.0874 \n",
      "Epoch 04957 | Loss 76.9492 | MSE 90.2538 \n",
      "Epoch 04958 | Loss 78.1956 | MSE 95.1383 \n",
      "Epoch 04959 | Loss 75.5907 | MSE 88.7193 \n",
      "Epoch 04960 | Loss 75.4787 | MSE 83.5370 \n",
      "Epoch 04961 | Loss 74.9511 | MSE 86.6055 \n",
      "Epoch 04962 | Loss 78.8059 | MSE 85.6769 \n",
      "Epoch 04963 | Loss 76.8789 | MSE 97.6336 \n",
      "Epoch 04964 | Loss 77.2141 | MSE 91.3826 \n",
      "Epoch 04965 | Loss 77.5928 | MSE 90.9071 \n",
      "Epoch 04966 | Loss 71.6024 | MSE 86.5543 \n",
      "Epoch 04967 | Loss 75.0888 | MSE 84.6105 \n",
      "Epoch 04968 | Loss 76.6046 | MSE 91.2077 \n",
      "Epoch 04969 | Loss 77.1215 | MSE 88.1943 \n",
      "Epoch 04970 | Loss 79.9394 | MSE 89.5081 \n",
      "Epoch 04971 | Loss 78.4236 | MSE 86.7545 \n",
      "Epoch 04972 | Loss 75.6486 | MSE 88.8052 \n"
     ]
    },
    {
     "name": "stderr",
     "output_type": "stream",
     "text": [
      "100%|██████████████████████████████████████| 5000/5000 [00:27<00:00, 181.00it/s]"
     ]
    },
    {
     "name": "stdout",
     "output_type": "stream",
     "text": [
      "Epoch 04973 | Loss 72.4452 | MSE 88.9581 \n",
      "Epoch 04974 | Loss 75.5629 | MSE 88.0162 \n",
      "Epoch 04975 | Loss 76.7519 | MSE 93.0019 \n",
      "Epoch 04976 | Loss 78.1515 | MSE 89.2593 \n",
      "Epoch 04977 | Loss 77.3290 | MSE 85.8411 \n",
      "Epoch 04978 | Loss 75.9818 | MSE 91.9834 \n",
      "Epoch 04979 | Loss 77.3790 | MSE 88.0694 \n",
      "Epoch 04980 | Loss 76.3266 | MSE 93.0730 \n",
      "Epoch 04981 | Loss 76.2442 | MSE 91.4842 \n",
      "Epoch 04982 | Loss 77.3738 | MSE 87.8563 \n",
      "Epoch 04983 | Loss 74.0972 | MSE 89.9512 \n",
      "Epoch 04984 | Loss 79.3419 | MSE 87.4822 \n",
      "Epoch 04985 | Loss 78.0822 | MSE 92.3862 \n",
      "Epoch 04986 | Loss 74.4392 | MSE 93.0109 \n",
      "Epoch 04987 | Loss 77.9948 | MSE 90.2820 \n",
      "Epoch 04988 | Loss 76.9334 | MSE 87.4975 \n",
      "Epoch 04989 | Loss 71.3969 | MSE 89.0424 \n",
      "Epoch 04990 | Loss 74.8440 | MSE 89.2433 \n",
      "Epoch 04991 | Loss 75.9494 | MSE 90.6269 \n",
      "Epoch 04992 | Loss 75.5876 | MSE 92.9120 \n",
      "Epoch 04993 | Loss 79.0863 | MSE 86.7452 \n",
      "Epoch 04994 | Loss 78.1404 | MSE 89.2198 \n",
      "Epoch 04995 | Loss 77.9450 | MSE 84.0304 \n",
      "Epoch 04996 | Loss 75.8632 | MSE 88.4758 \n",
      "Epoch 04997 | Loss 74.0545 | MSE 92.5323 \n",
      "Epoch 04998 | Loss 77.3146 | MSE 86.0657 \n",
      "Epoch 04999 | Loss 75.3362 | MSE 88.6240 \n",
      "best loss: 71.39694213867188\n",
      "Testing...\n",
      "MSE 89.0424\n"
     ]
    },
    {
     "name": "stderr",
     "output_type": "stream",
     "text": [
      "\n"
     ]
    }
   ],
   "source": [
    "device = torch.device(\"cuda\" if torch.cuda.is_available() else \"cpu\")\n",
    "\n",
    "pd.DataFrame(test_index).to_csv('experimental_data/graph/test_index_experiment.csv', index=False)\n",
    "\n",
    "g = g.int()\n",
    "g = g.to(device)\n",
    "features = g.ndata[\"feat\"]\n",
    "labels = g.ndata[\"shift_value\"]\n",
    "# masks = g.ndata['train_mask'], g.ndata['test_mask']\n",
    "# masks = g.ndata['train_hydrogen_mask'], g.ndata['test_hydrogen_mask']\n",
    "masks = g.ndata['train_carbon_mask'], g.ndata['test_carbon_mask']\n",
    "print(features.dtype)\n",
    "print(labels.dtype)\n",
    "# model = NMR_GCN(in_size=576, hid_size=[256, 128, 64, 32], out_size=1).to(device)\n",
    "model = NMR_GCN(in_size=512, hid_size=[256, 128, 64, 32], out_size=1).to(device)\n",
    "# model training\n",
    "\n",
    "# NMR_prediction = NMR_prediction(results_dir='experimental_data/graph/experimental_results_all_hydrogen.csv',\n",
    "#                                 model_dir='experimental_data/graph/Model_hydrogen_experiment.pt')\n",
    "\n",
    "NMR_prediction = NMR_prediction(results_dir='experimental_data/graph/experimental_results_all_carbon_simplify.csv',\n",
    "                                model_dir='experimental_data/graph/Model_carbon_experiment_simplify.pt')\n",
    "print(\"Training...\")\n",
    "NMR_prediction.train(g, features, labels, masks, model)\n",
    "\n",
    "# test the model\n",
    "print(\"Testing...\")\n",
    "saved_model = NMR_GCN(in_size=512, hid_size=[256, 128, 64, 32], out_size=1).to(device)\n",
    "saved_model.load_state_dict(torch.load(NMR_prediction.model_dir))\n",
    "acc = NMR_prediction.evaluate(g, features, labels, masks[1], saved_model, print_out=True)\n",
    "print(\"MSE {:.4f}\".format(acc))"
   ]
  },
  {
   "cell_type": "code",
   "execution_count": 11,
   "id": "ebc3d1cd",
   "metadata": {},
   "outputs": [
    {
     "data": {
      "text/plain": [
       "Graph(num_nodes=12598, num_edges=39334,\n",
       "      ndata_schemes={'feat': Scheme(shape=(512,), dtype=torch.float32), 'shift_value': Scheme(shape=(), dtype=torch.float32), 'Carbon_Hydrogen_mask': Scheme(shape=(), dtype=torch.bool), 'train_mask': Scheme(shape=(), dtype=torch.bool), 'test_mask': Scheme(shape=(), dtype=torch.bool), 'train_carbon_mask': Scheme(shape=(), dtype=torch.bool), 'test_carbon_mask': Scheme(shape=(), dtype=torch.bool), 'train_hydrogen_mask': Scheme(shape=(), dtype=torch.bool), 'test_hydrogen_mask': Scheme(shape=(), dtype=torch.bool)}\n",
       "      edata_schemes={})"
      ]
     },
     "execution_count": 11,
     "metadata": {},
     "output_type": "execute_result"
    }
   ],
   "source": [
    "g"
   ]
  },
  {
   "cell_type": "code",
   "execution_count": 12,
   "id": "aabf14cb",
   "metadata": {},
   "outputs": [],
   "source": [
    "a = g.ndata['train_carbon_mask'].cpu().numpy()\n",
    "b = g.ndata['test_carbon_mask'].cpu().numpy()"
   ]
  },
  {
   "cell_type": "code",
   "execution_count": 13,
   "id": "5c438b7b",
   "metadata": {},
   "outputs": [
    {
     "data": {
      "text/plain": [
       "((array([    0,     1,     2, ..., 12581, 12582, 12583]),), (2690,))"
      ]
     },
     "execution_count": 13,
     "metadata": {},
     "output_type": "execute_result"
    }
   ],
   "source": [
    "np.where(a == 1), np.where(a == 1)[0].shape"
   ]
  },
  {
   "cell_type": "code",
   "execution_count": 14,
   "id": "0524b4f0",
   "metadata": {},
   "outputs": [
    {
     "data": {
      "text/plain": [
       "((array([  822,   823,   824,   825,   845,   846,   847,   848,   849,\n",
       "           865,   866,   867,   868,   869,   870,   885,   886,   887,\n",
       "           888,   889,   890,   973,   974,   975,   976,   977,   978,\n",
       "           996,   997,   998,   999,  1000,  1001,  1237,  1238,  1239,\n",
       "          1240,  1241,  1242,  1263,  1264,  1265,  1266,  1267,  1268,\n",
       "          3077,  3078,  3079,  3080,  3081,  3082,  3106,  3107,  3108,\n",
       "          3109,  3110,  3111,  3724,  3725,  3726,  3727,  3728,  3729,\n",
       "          6494,  6495,  6496,  6497,  6498,  6499,  6522,  6523,  6524,\n",
       "          6525,  6526,  6527,  6618,  6619,  6620,  6621,  6622,  6623,\n",
       "          6644,  6645,  6646,  6647,  6648,  6649,  7006,  7007,  7008,\n",
       "          7009,  7029,  7030,  7031,  7032,  7033,  7048,  7049,  7050,\n",
       "          7051,  7052,  7053,  7068,  7069,  7070,  7071,  7072,  7073,\n",
       "          7315,  7316,  7317,  7318,  7319,  7320,  7338,  7339,  7340,\n",
       "          7341,  7342,  7343,  7934,  7935,  7936,  7937,  7938,  7939,\n",
       "          8464,  8465,  8486,  8487,  8488,  8489,  8490,  8491,  8507,\n",
       "          8508,  8509,  8510,  8511,  8512,  8528,  8529,  8530,  8531,\n",
       "          8532,  8548,  8549,  8550,  8551,  8552, 10214, 10215, 10216,\n",
       "         10217, 10218, 10219, 10243, 10244, 10245, 10246, 10247, 10248,\n",
       "         10263, 10264, 10265, 10266, 10267, 10268, 10283, 10284, 10285,\n",
       "         10286, 10287, 10288, 10686, 10687, 10688, 10689, 10690, 10691,\n",
       "         10707, 10708, 10709, 10710, 10711, 10712, 11257, 11258, 11259,\n",
       "         11260, 11261, 11262, 12191, 12192, 12193, 12194, 12195, 12196]),),\n",
       " (198,))"
      ]
     },
     "execution_count": 14,
     "metadata": {},
     "output_type": "execute_result"
    }
   ],
   "source": [
    "np.where(b == 1), np.where(b == 1)[0].shape"
   ]
  },
  {
   "cell_type": "code",
   "execution_count": 58,
   "id": "e54de43e",
   "metadata": {},
   "outputs": [],
   "source": [
    "df_visulize = pd.read_csv('experimental_data/graph/experimental_results_all_carbon_simplify.csv')"
   ]
  },
  {
   "cell_type": "code",
   "execution_count": 59,
   "id": "897ecaad",
   "metadata": {},
   "outputs": [],
   "source": [
    "df_visulize_v2 = df_visulize.loc[df_visulize['1'] != -1.00]"
   ]
  },
  {
   "cell_type": "code",
   "execution_count": 60,
   "id": "f73e75f0",
   "metadata": {},
   "outputs": [],
   "source": [
    "df_visulize_v3 = df_visulize_v2.loc[df_visulize_v2['1'] < 170]\n",
    "# df_visulize_v3 = df_visulize_v2"
   ]
  },
  {
   "cell_type": "code",
   "execution_count": 61,
   "id": "1bbb7fa8",
   "metadata": {},
   "outputs": [
    {
     "data": {
      "text/html": [
       "<div>\n",
       "<style scoped>\n",
       "    .dataframe tbody tr th:only-of-type {\n",
       "        vertical-align: middle;\n",
       "    }\n",
       "\n",
       "    .dataframe tbody tr th {\n",
       "        vertical-align: top;\n",
       "    }\n",
       "\n",
       "    .dataframe thead th {\n",
       "        text-align: right;\n",
       "    }\n",
       "</style>\n",
       "<table border=\"1\" class=\"dataframe\">\n",
       "  <thead>\n",
       "    <tr style=\"text-align: right;\">\n",
       "      <th></th>\n",
       "      <th>0</th>\n",
       "      <th>1</th>\n",
       "    </tr>\n",
       "  </thead>\n",
       "  <tbody>\n",
       "    <tr>\n",
       "      <th>0</th>\n",
       "      <td>95.54662</td>\n",
       "      <td>95.10</td>\n",
       "    </tr>\n",
       "    <tr>\n",
       "      <th>1</th>\n",
       "      <td>68.23393</td>\n",
       "      <td>71.30</td>\n",
       "    </tr>\n",
       "    <tr>\n",
       "      <th>2</th>\n",
       "      <td>71.63508</td>\n",
       "      <td>73.80</td>\n",
       "    </tr>\n",
       "    <tr>\n",
       "      <th>3</th>\n",
       "      <td>79.40155</td>\n",
       "      <td>81.00</td>\n",
       "    </tr>\n",
       "    <tr>\n",
       "      <th>4</th>\n",
       "      <td>99.89794</td>\n",
       "      <td>102.40</td>\n",
       "    </tr>\n",
       "    <tr>\n",
       "      <th>...</th>\n",
       "      <td>...</td>\n",
       "      <td>...</td>\n",
       "    </tr>\n",
       "    <tr>\n",
       "      <th>193</th>\n",
       "      <td>68.23393</td>\n",
       "      <td>69.03</td>\n",
       "    </tr>\n",
       "    <tr>\n",
       "      <th>194</th>\n",
       "      <td>71.63508</td>\n",
       "      <td>70.26</td>\n",
       "    </tr>\n",
       "    <tr>\n",
       "      <th>195</th>\n",
       "      <td>72.49771</td>\n",
       "      <td>71.64</td>\n",
       "    </tr>\n",
       "    <tr>\n",
       "      <th>196</th>\n",
       "      <td>76.35246</td>\n",
       "      <td>72.30</td>\n",
       "    </tr>\n",
       "    <tr>\n",
       "      <th>197</th>\n",
       "      <td>153.04001</td>\n",
       "      <td>176.43</td>\n",
       "    </tr>\n",
       "  </tbody>\n",
       "</table>\n",
       "<p>195 rows × 2 columns</p>\n",
       "</div>"
      ],
      "text/plain": [
       "             0       1\n",
       "0     95.54662   95.10\n",
       "1     68.23393   71.30\n",
       "2     71.63508   73.80\n",
       "3     79.40155   81.00\n",
       "4     99.89794  102.40\n",
       "..         ...     ...\n",
       "193   68.23393   69.03\n",
       "194   71.63508   70.26\n",
       "195   72.49771   71.64\n",
       "196   76.35246   72.30\n",
       "197  153.04001  176.43\n",
       "\n",
       "[195 rows x 2 columns]"
      ]
     },
     "execution_count": 61,
     "metadata": {},
     "output_type": "execute_result"
    }
   ],
   "source": [
    "df_visulize_v2.loc[df_visulize_v2['0'] < 170]"
   ]
  },
  {
   "cell_type": "code",
   "execution_count": 69,
   "id": "21082db0",
   "metadata": {},
   "outputs": [],
   "source": [
    "def plot_shift(df, ax, i, set_title_name = '', sep = 5, xlab_name = '', ylab_name = '', \n",
    "               color = 'grey', ms = 2, font_size = 2):\n",
    "    acctual_shit_1 = df['0'].values\n",
    "    predict_shit_1 = df['1'].values\n",
    "    low_limit = np.min([np.min(np.abs(acctual_shit_1)), np.min(np.abs(predict_shit_1))]) * 0.9\n",
    "    up_limit = np.max([np.max(np.abs(acctual_shit_1)), np.max(np.abs(predict_shit_1))]) * 1.1\n",
    "\n",
    "    sns.set_theme()\n",
    "    sns.set_style(\"whitegrid\")\n",
    "    x = np.linspace(low_limit, up_limit)\n",
    "    ax.plot(x, x, color=color, alpha=0.25, zorder=0)\n",
    "    \n",
    "    ax.scatter(acctual_shit_1, predict_shit_1, s = 20, label = 'Carbon, rmse = 3.80', linewidths=0, color=color)\n",
    "    \n",
    "    ax.ticklabel_format(style=\"sci\", scilimits=(-4, 4))\n",
    "    ax.axis('square')\n",
    "    \n",
    "    ax.set_title(f'{set_title_name}', size = font_size)\n",
    "    ax.set_ylim(low_limit, up_limit)\n",
    "    ax.set_xlim(low_limit, up_limit)\n",
    "#     ax.grid()\n",
    "    grid_x_ticks = np.arange(low_limit, up_limit, (up_limit - low_limit) / sep)\n",
    "    grid_y_ticks = np.arange(low_limit, up_limit, (up_limit - low_limit) / sep)\n",
    "    \n",
    "    ax.set_xlabel(xlab_name, loc=\"center\", size = font_size)\n",
    "    ax.set_ylabel(ylab_name, loc=\"center\", size = font_size)\n",
    "#     ax.yaxis.set_label_coords(x = y_lab_xcoordinate, y = 0.5)\n",
    "    \n",
    "    ax.set_xticks(grid_x_ticks , minor=True)\n",
    "    \n",
    "    \n",
    "    ax.set_yticks(grid_y_ticks , minor=True)\n",
    "\n",
    "    ax.grid(which='both')\n",
    "\n",
    "    ax.grid(which='minor', alpha=1, linestyle='-')\n",
    "    ax.legend(fontsize = 18, markerscale=3)"
   ]
  },
  {
   "cell_type": "code",
   "execution_count": 70,
   "id": "30afe18f",
   "metadata": {},
   "outputs": [],
   "source": [
    "import seaborn as sns\n",
    "import matplotlib.pyplot as plt"
   ]
  },
  {
   "cell_type": "code",
   "execution_count": 71,
   "id": "f703ea06",
   "metadata": {},
   "outputs": [
    {
     "data": {
      "image/png": "[encoded data removed]",
      "text/plain": [
       "<Figure size 576x576 with 1 Axes>"
      ]
     },
     "metadata": {},
     "output_type": "display_data"
    }
   ],
   "source": [
    "sns.set_theme(style=\"whitegrid\", font_scale=1)\n",
    "\n",
    "figure, axis = plt.subplots(1, 1, figsize=(8, 8), constrained_layout=False)\n",
    "# figure, axis = plt.subplots(1, 1, figsize=(12, 12), constrained_layout=False)\n",
    "# figure, axis = plt.subplots(3, 3, figsize=(8, 8))\n",
    "figure.tight_layout(rect=[0, 0.03, 1, 0.95], h_pad = 1, w_pad = 1)\n",
    "##### For node features\n",
    "# cora\n",
    "# plot_infl_feature(df1, axis, 0, 0, set_title_name='$\\it{Cora}$', \n",
    "#                   xlab_name='Pred. Feat. Infl.', ylab_name = 'Act. Embed. Infl.')\n",
    "\n",
    "plot_shift(df_visulize_v3, axis, i = 0, set_title_name = 'Carbon Shift Prediction', sep = 5, xlab_name = 'Pred. Shift', \n",
    "           ylab_name = 'Act. Shift', color = '#4F4536', ms = 5)\n",
    "# plot_shift(df_visulize_v2, axis, i = 0, set_title_name = 'Hydrogen shift prediction', sep = 5, xlab_name = 'Pred. Shift', \n",
    "#            ylab_name = '', color = '#679399', ms = 5)\n",
    "\n",
    "plt.show()"
   ]
  },
  {
   "cell_type": "code",
   "execution_count": 72,
   "id": "4a31c20b",
   "metadata": {},
   "outputs": [],
   "source": [
    "import math  \n",
    "import sklearn.metrics  "
   ]
  },
  {
   "cell_type": "code",
   "execution_count": 66,
   "id": "c4d32e9f",
   "metadata": {},
   "outputs": [],
   "source": [
    "actual = df_visulize_v3.loc[:, ['0']].values.reshape(-1)\n",
    "predicted = df_visulize_v3.loc[:, ['1']].values.reshape(-1)"
   ]
  },
  {
   "cell_type": "code",
   "execution_count": 67,
   "id": "6dfaaf75",
   "metadata": {},
   "outputs": [
    {
     "name": "stdout",
     "output_type": "stream",
     "text": [
      "The difference between actual and predicted values 3.7997761458472907\n"
     ]
    }
   ],
   "source": [
    "mse = sklearn.metrics.mean_squared_error(actual, predicted)  \n",
    "  \n",
    "rmse = math.sqrt(mse)  \n",
    "  \n",
    "print(\"The difference between actual and predicted values\", rmse)  "
   ]
  },
  {
   "cell_type": "code",
   "execution_count": 56,
   "id": "6f0a485e",
   "metadata": {},
   "outputs": [
    {
     "data": {
      "text/html": [
       "<div>\n",
       "<style scoped>\n",
       "    .dataframe tbody tr th:only-of-type {\n",
       "        vertical-align: middle;\n",
       "    }\n",
       "\n",
       "    .dataframe tbody tr th {\n",
       "        vertical-align: top;\n",
       "    }\n",
       "\n",
       "    .dataframe thead th {\n",
       "        text-align: right;\n",
       "    }\n",
       "</style>\n",
       "<table border=\"1\" class=\"dataframe\">\n",
       "  <thead>\n",
       "    <tr style=\"text-align: right;\">\n",
       "      <th></th>\n",
       "      <th>0</th>\n",
       "      <th>1</th>\n",
       "    </tr>\n",
       "  </thead>\n",
       "  <tbody>\n",
       "    <tr>\n",
       "      <th>0</th>\n",
       "      <td>95.54662</td>\n",
       "      <td>95.10</td>\n",
       "    </tr>\n",
       "    <tr>\n",
       "      <th>1</th>\n",
       "      <td>68.23393</td>\n",
       "      <td>71.30</td>\n",
       "    </tr>\n",
       "    <tr>\n",
       "      <th>2</th>\n",
       "      <td>71.63508</td>\n",
       "      <td>73.80</td>\n",
       "    </tr>\n",
       "    <tr>\n",
       "      <th>3</th>\n",
       "      <td>79.40155</td>\n",
       "      <td>81.00</td>\n",
       "    </tr>\n",
       "    <tr>\n",
       "      <th>4</th>\n",
       "      <td>99.89794</td>\n",
       "      <td>102.40</td>\n",
       "    </tr>\n",
       "    <tr>\n",
       "      <th>...</th>\n",
       "      <td>...</td>\n",
       "      <td>...</td>\n",
       "    </tr>\n",
       "    <tr>\n",
       "      <th>193</th>\n",
       "      <td>68.23393</td>\n",
       "      <td>69.03</td>\n",
       "    </tr>\n",
       "    <tr>\n",
       "      <th>194</th>\n",
       "      <td>71.63508</td>\n",
       "      <td>70.26</td>\n",
       "    </tr>\n",
       "    <tr>\n",
       "      <th>195</th>\n",
       "      <td>72.49771</td>\n",
       "      <td>71.64</td>\n",
       "    </tr>\n",
       "    <tr>\n",
       "      <th>196</th>\n",
       "      <td>76.35246</td>\n",
       "      <td>72.30</td>\n",
       "    </tr>\n",
       "    <tr>\n",
       "      <th>197</th>\n",
       "      <td>153.04001</td>\n",
       "      <td>176.43</td>\n",
       "    </tr>\n",
       "  </tbody>\n",
       "</table>\n",
       "<p>198 rows × 2 columns</p>\n",
       "</div>"
      ],
      "text/plain": [
       "             0       1\n",
       "0     95.54662   95.10\n",
       "1     68.23393   71.30\n",
       "2     71.63508   73.80\n",
       "3     79.40155   81.00\n",
       "4     99.89794  102.40\n",
       "..         ...     ...\n",
       "193   68.23393   69.03\n",
       "194   71.63508   70.26\n",
       "195   72.49771   71.64\n",
       "196   76.35246   72.30\n",
       "197  153.04001  176.43\n",
       "\n",
       "[198 rows x 2 columns]"
      ]
     },
     "execution_count": 56,
     "metadata": {},
     "output_type": "execute_result"
    }
   ],
   "source": [
    "df_visulize_v2"
   ]
  },
  {
   "cell_type": "code",
   "execution_count": 26,
   "id": "9981f6a6",
   "metadata": {},
   "outputs": [
    {
     "data": {
      "text/plain": [
       "174593"
      ]
     },
     "execution_count": 26,
     "metadata": {},
     "output_type": "execute_result"
    }
   ],
   "source": [
    "def count_parameters(model):\n",
    "    return sum(p.numel() for p in model.parameters() if p.requires_grad)\n",
    "count_parameters(model)"
   ]
  }
 ],
 "metadata": {
  "kernelspec": {
   "display_name": "Python 3 (ipykernel)",
   "language": "python",
   "name": "python3"
  },
  "language_info": {
   "codemirror_mode": {
    "name": "ipython",
    "version": 3
   },
   "file_extension": ".py",
   "mimetype": "text/x-python",
   "name": "python",
   "nbconvert_exporter": "python",
   "pygments_lexer": "ipython3",
   "version": "3.8.12"
  }
 },
 "nbformat": 4,
 "nbformat_minor": 5
}
