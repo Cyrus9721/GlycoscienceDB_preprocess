{
 "cells": [
  {
   "cell_type": "code",
   "execution_count": 1,
   "id": "d9f031a6",
   "metadata": {},
   "outputs": [],
   "source": [
    "import numpy as np\n",
    "import pandas as pd\n",
    "import os\n",
    "from tqdm import tqdm\n",
    "import torch\n",
    "import torch.nn as nn\n",
    "\n",
    "from train_evaluate import NMR_prediction\n",
    "import torch.nn.functional as F\n",
    "import dgl\n",
    "import dgl.nn as dglnn\n",
    "import torch.nn as nn\n",
    "from dgl import AddSelfLoop\n",
    "from model_zoo.NMR_gcn import NMR_GCN\n",
    "from create_graph_data_experiment import create_graph_experiment\n",
    "from node_embeddings import create_node_embeddings\n",
    "from create_adjaency_matrix_from_labeled_pdb import build_adjacency_matrix\n",
    "from tqdm import tqdm"
   ]
  },
  {
   "cell_type": "markdown",
   "id": "c603f4bd",
   "metadata": {},
   "source": [
    "##### Create node embedding"
   ]
  },
  {
   "cell_type": "code",
   "execution_count": 2,
   "id": "b59d005a",
   "metadata": {},
   "outputs": [],
   "source": [
    "num_test = 10\n",
    "atom_dim=256\n",
    "residual_dim=128\n",
    "mono_dim=256\n",
    "in_size = atom_dim + mono_dim\n",
    "hidden_size_1 = int(in_size / 2)\n",
    "hidden_size_2 = 256\n",
    "hidden_size_3 = 128\n",
    "hidden_size_4 = 32\n",
    "\n",
    "num_epoch = 500\n",
    "lr = 1e-2"
   ]
  },
  {
   "cell_type": "code",
   "execution_count": 3,
   "id": "90145676",
   "metadata": {},
   "outputs": [],
   "source": [
    "C = create_node_embeddings(data_dir='experimental_data_combined/FullyAnnotatedPDB_pdb_labeled/', \n",
    "                           out_atom_embed='experimental_data_combined/graph/embedding/atom_embed.csv',\n",
    "                           out_residual_embed='experimental_data_combined/graph/embedding/residual_embed.csv', \n",
    "                           out_monosaccharide_embed='experimental_data_combined/graph/embedding/monosaccharide_embed.csv', \n",
    "                           seed=97211)"
   ]
  },
  {
   "cell_type": "code",
   "execution_count": 4,
   "id": "3dc8e406",
   "metadata": {},
   "outputs": [
    {
     "name": "stderr",
     "output_type": "stream",
     "text": [
      "100%|████████████████████████████████████████| 116/116 [00:00<00:00, 879.37it/s]\n"
     ]
    }
   ],
   "source": [
    "df_atom_embedding, df_residual_embedding, df_monosaccharide_embedding = C.create_all_embeddings(atom_dim=atom_dim, \n",
    "                                                                                                residual_dim=residual_dim, \n",
    "                                                                                                mono_dim=mono_dim)"
   ]
  },
  {
   "cell_type": "code",
   "execution_count": 5,
   "id": "d05a3cef",
   "metadata": {},
   "outputs": [],
   "source": [
    "df_atom_embedding.to_csv(C.out_atom_embed, index=False)\n",
    "df_residual_embedding.to_csv(C.out_residual_embed, index=False)\n",
    "df_monosaccharide_embedding.to_csv(C.out_monosaccharide_embed, index=False)"
   ]
  },
  {
   "cell_type": "markdown",
   "id": "c01f85c2",
   "metadata": {},
   "source": [
    "##### Create adjaency matrix"
   ]
  },
  {
   "cell_type": "code",
   "execution_count": 6,
   "id": "17367372",
   "metadata": {},
   "outputs": [],
   "source": [
    "B = build_adjacency_matrix(labeled_pdb_dir='experimental_data_combined/FullyAnnotatedPDB_pdb_labeled/',\n",
    "                           out_adjacency_dir='experimental_data_combined/graph/directory_graph_connection/',\n",
    "                           out_interaction_dir='experimental_data_combined/graph/directory_graph_interaction/')"
   ]
  },
  {
   "cell_type": "code",
   "execution_count": null,
   "id": "825469c3",
   "metadata": {},
   "outputs": [],
   "source": []
  },
  {
   "cell_type": "code",
   "execution_count": 7,
   "id": "20fdb260",
   "metadata": {},
   "outputs": [
    {
     "name": "stderr",
     "output_type": "stream",
     "text": [
      "100%|█████████████████████████████████████████| 116/116 [00:02<00:00, 46.11it/s]\n"
     ]
    }
   ],
   "source": [
    "B.calculate_all_matrix()"
   ]
  },
  {
   "cell_type": "markdown",
   "id": "2089e7df",
   "metadata": {},
   "source": [
    "##### Train evaluate"
   ]
  },
  {
   "cell_type": "code",
   "execution_count": 8,
   "id": "093dd74e",
   "metadata": {},
   "outputs": [],
   "source": [
    "# atom_embed_dir='experimental_data/graph/atom_embed_simplify.csv',\n",
    "Create = create_graph_experiment(data_dir='experimental_data_combined/FullyAnnotatedPDB_pdb_labeled/', \n",
    "                                 adj_dir='experimental_data_combined/graph/directory_graph_connection/',\n",
    "                                 interaction_dir='experimental_data_combined/graph/directory_graph_interaction/', \n",
    "                                 atom_embed_dir='experimental_data_combined/graph/embedding/atom_embed.csv',\n",
    "                                 residual_embed_dir='experimental_data_combined/graph/embedding/residual_embed.csv', \n",
    "                                 mono_embed_dir='experimental_data_combined/graph/embedding/monosaccharide_embed.csv', \n",
    "                                num_test=num_test, seed=97211)"
   ]
  },
  {
   "cell_type": "code",
   "execution_count": 9,
   "id": "01306425",
   "metadata": {},
   "outputs": [
    {
     "name": "stdout",
     "output_type": "stream",
     "text": [
      "--------------------------loading NMR Graph-------------------------------\n"
     ]
    },
    {
     "name": "stderr",
     "output_type": "stream",
     "text": [
      "100%|█████████████████████████████████████████| 116/116 [00:01<00:00, 86.16it/s]\n"
     ]
    }
   ],
   "source": [
    "g, test_index = Create.create_all_graph()"
   ]
  },
  {
   "cell_type": "code",
   "execution_count": 10,
   "id": "52c28214",
   "metadata": {},
   "outputs": [
    {
     "data": {
      "text/plain": [
       "torch.Size([14879, 512])"
      ]
     },
     "execution_count": 10,
     "metadata": {},
     "output_type": "execute_result"
    }
   ],
   "source": [
    "g.ndata['feat'].shape"
   ]
  },
  {
   "cell_type": "code",
   "execution_count": 11,
   "id": "328fcc43",
   "metadata": {},
   "outputs": [],
   "source": [
    "shift_v = g.ndata['shift_value'].numpy()\n",
    "c_m = g.ndata['test_hydrogen_mask'].numpy()"
   ]
  },
  {
   "cell_type": "code",
   "execution_count": 12,
   "id": "bed08263",
   "metadata": {},
   "outputs": [
    {
     "data": {
      "text/plain": [
       "2.937"
      ]
     },
     "execution_count": 12,
     "metadata": {},
     "output_type": "execute_result"
    }
   ],
   "source": [
    "shift_v[np.where(c_m == 1)[0]].min()"
   ]
  },
  {
   "cell_type": "code",
   "execution_count": null,
   "id": "dac274c7",
   "metadata": {},
   "outputs": [],
   "source": []
  },
  {
   "cell_type": "code",
   "execution_count": null,
   "id": "02ec7571",
   "metadata": {},
   "outputs": [],
   "source": []
  },
  {
   "cell_type": "code",
   "execution_count": 13,
   "id": "85f1585d",
   "metadata": {},
   "outputs": [
    {
     "name": "stdout",
     "output_type": "stream",
     "text": [
      "torch.float32\n",
      "torch.float32\n",
      "Training...\n"
     ]
    },
    {
     "name": "stderr",
     "output_type": "stream",
     "text": [
      "  3%|█                                         | 13/500 [00:00<00:23, 21.17it/s]"
     ]
    },
    {
     "name": "stdout",
     "output_type": "stream",
     "text": [
      "Epoch 00000 | Loss 16.2127 | train_RMSE 6.1104 | test_RMSE 5.4762 \n",
      "Epoch 00001 | Loss 38.0809 | train_RMSE 5.1244 | test_RMSE 5.0420 \n",
      "Epoch 00002 | Loss 26.2815 | train_RMSE 2.8789 | test_RMSE 2.9642 \n",
      "Epoch 00003 | Loss 8.3959 | train_RMSE 4.6467 | test_RMSE 4.1146 \n",
      "Epoch 00004 | Loss 22.6471 | train_RMSE 10.0895 | test_RMSE 9.3874 \n",
      "Epoch 00005 | Loss 102.6173 | train_RMSE 2.6854 | test_RMSE 2.7885 \n",
      "Epoch 00006 | Loss 7.3822 | train_RMSE 1.7230 | test_RMSE 1.8971 \n",
      "Epoch 00007 | Loss 3.1867 | train_RMSE 1.1505 | test_RMSE 1.2897 \n",
      "Epoch 00008 | Loss 1.9037 | train_RMSE 1.0921 | test_RMSE 1.0311 \n",
      "Epoch 00009 | Loss 2.0635 | train_RMSE 1.1327 | test_RMSE 1.0230 \n",
      "Epoch 00010 | Loss 2.2719 | train_RMSE 0.8132 | test_RMSE 0.8952 \n",
      "Epoch 00011 | Loss 1.4597 | train_RMSE 1.0407 | test_RMSE 1.2089 \n",
      "Epoch 00012 | Loss 1.6018 | train_RMSE 1.3274 | test_RMSE 1.4548 \n",
      "Epoch 00013 | Loss 2.1928 | train_RMSE 1.0808 | test_RMSE 1.2029 \n",
      "Epoch 00014 | Loss 1.6151 | train_RMSE 0.6449 | test_RMSE 0.7519 \n",
      "Epoch 00015 | Loss 1.1978 | train_RMSE 0.9564 | test_RMSE 0.9532 \n",
      "Epoch 00016 | Loss 1.8587 | train_RMSE 0.6361 | test_RMSE 0.7172 \n",
      "Epoch 00017 | Loss 1.1970 | train_RMSE 0.8227 | test_RMSE 0.9306 \n",
      "Epoch 00018 | Loss 1.1695 | train_RMSE 1.0033 | test_RMSE 1.0966 \n",
      "Epoch 00019 | Loss 1.3891 | train_RMSE 0.5842 | test_RMSE 0.7354 \n",
      "Epoch 00020 | Loss 0.9376 | train_RMSE 0.6881 | test_RMSE 0.7584 \n",
      "Epoch 00021 | Loss 1.2375 | train_RMSE 0.5754 | test_RMSE 0.6760 \n",
      "Epoch 00022 | Loss 1.0587 | train_RMSE 0.6892 | test_RMSE 0.8338 \n"
     ]
    },
    {
     "name": "stderr",
     "output_type": "stream",
     "text": [
      "  7%|███                                       | 36/500 [00:01<00:08, 54.64it/s]"
     ]
    },
    {
     "name": "stdout",
     "output_type": "stream",
     "text": [
      "Epoch 00023 | Loss 0.9474 | train_RMSE 0.8539 | test_RMSE 0.9823 \n",
      "Epoch 00024 | Loss 1.1123 | train_RMSE 0.4664 | test_RMSE 0.6247 \n",
      "Epoch 00025 | Loss 0.8008 | train_RMSE 0.5716 | test_RMSE 0.6382 \n",
      "Epoch 00026 | Loss 1.0599 | train_RMSE 0.4501 | test_RMSE 0.6072 \n",
      "Epoch 00027 | Loss 0.7624 | train_RMSE 0.7050 | test_RMSE 0.8448 \n",
      "Epoch 00028 | Loss 0.9374 | train_RMSE 0.5177 | test_RMSE 0.6720 \n",
      "Epoch 00029 | Loss 0.7623 | train_RMSE 0.4473 | test_RMSE 0.5543 \n",
      "Epoch 00030 | Loss 0.8543 | train_RMSE 0.4073 | test_RMSE 0.5533 \n",
      "Epoch 00031 | Loss 0.7412 | train_RMSE 0.6021 | test_RMSE 0.7385 \n",
      "Epoch 00032 | Loss 0.8342 | train_RMSE 0.4780 | test_RMSE 0.6231 \n",
      "Epoch 00033 | Loss 0.7340 | train_RMSE 0.4154 | test_RMSE 0.5309 \n",
      "Epoch 00034 | Loss 0.7873 | train_RMSE 0.4001 | test_RMSE 0.5410 \n",
      "Epoch 00035 | Loss 0.6824 | train_RMSE 0.5732 | test_RMSE 0.6947 \n",
      "Epoch 00036 | Loss 0.7714 | train_RMSE 0.4345 | test_RMSE 0.5686 \n",
      "Epoch 00037 | Loss 0.7044 | train_RMSE 0.4187 | test_RMSE 0.5253 \n",
      "Epoch 00038 | Loss 0.7662 | train_RMSE 0.4170 | test_RMSE 0.5484 \n",
      "Epoch 00039 | Loss 0.6784 | train_RMSE 0.5698 | test_RMSE 0.6816 \n",
      "Epoch 00040 | Loss 0.7740 | train_RMSE 0.3827 | test_RMSE 0.5129 \n",
      "Epoch 00041 | Loss 0.6434 | train_RMSE 0.3919 | test_RMSE 0.5020 \n",
      "Epoch 00042 | Loss 0.7311 | train_RMSE 0.4707 | test_RMSE 0.5939 \n",
      "Epoch 00043 | Loss 0.6654 | train_RMSE 0.4716 | test_RMSE 0.5948 \n",
      "Epoch 00044 | Loss 0.6884 | train_RMSE 0.3863 | test_RMSE 0.4915 \n",
      "Epoch 00045 | Loss 0.6954 | train_RMSE 0.3795 | test_RMSE 0.5111 \n"
     ]
    },
    {
     "name": "stderr",
     "output_type": "stream",
     "text": [
      " 12%|█████                                     | 60/500 [00:01<00:05, 81.22it/s]"
     ]
    },
    {
     "name": "stdout",
     "output_type": "stream",
     "text": [
      "Epoch 00046 | Loss 0.6002 | train_RMSE 0.4892 | test_RMSE 0.6100 \n",
      "Epoch 00047 | Loss 0.6133 | train_RMSE 0.3545 | test_RMSE 0.4784 \n",
      "Epoch 00048 | Loss 0.6250 | train_RMSE 0.3530 | test_RMSE 0.4702 \n",
      "Epoch 00049 | Loss 0.6177 | train_RMSE 0.4419 | test_RMSE 0.5666 \n",
      "Epoch 00050 | Loss 0.6344 | train_RMSE 0.3856 | test_RMSE 0.5137 \n",
      "Epoch 00051 | Loss 0.5771 | train_RMSE 0.3448 | test_RMSE 0.4607 \n",
      "Epoch 00052 | Loss 0.6208 | train_RMSE 0.3773 | test_RMSE 0.5026 \n",
      "Epoch 00053 | Loss 0.5800 | train_RMSE 0.3602 | test_RMSE 0.4837 \n",
      "Epoch 00054 | Loss 0.5664 | train_RMSE 0.3517 | test_RMSE 0.4728 \n",
      "Epoch 00055 | Loss 0.5394 | train_RMSE 0.3575 | test_RMSE 0.4766 \n",
      "Epoch 00056 | Loss 0.5719 | train_RMSE 0.3443 | test_RMSE 0.4609 \n",
      "Epoch 00057 | Loss 0.5520 | train_RMSE 0.3643 | test_RMSE 0.4792 \n",
      "Epoch 00058 | Loss 0.5731 | train_RMSE 0.3426 | test_RMSE 0.4569 \n",
      "Epoch 00059 | Loss 0.5437 | train_RMSE 0.3379 | test_RMSE 0.4515 \n",
      "Epoch 00060 | Loss 0.5592 | train_RMSE 0.3670 | test_RMSE 0.4801 \n",
      "Epoch 00061 | Loss 0.5533 | train_RMSE 0.3578 | test_RMSE 0.4713 \n",
      "Epoch 00062 | Loss 0.5543 | train_RMSE 0.3252 | test_RMSE 0.4288 \n",
      "Epoch 00063 | Loss 0.5670 | train_RMSE 0.3788 | test_RMSE 0.4905 \n",
      "Epoch 00064 | Loss 0.5295 | train_RMSE 0.3546 | test_RMSE 0.4672 \n",
      "Epoch 00065 | Loss 0.5563 | train_RMSE 0.3342 | test_RMSE 0.4458 \n",
      "Epoch 00066 | Loss 0.5482 | train_RMSE 0.3240 | test_RMSE 0.4320 \n",
      "Epoch 00067 | Loss 0.5491 | train_RMSE 0.4205 | test_RMSE 0.5262 \n",
      "Epoch 00068 | Loss 0.5528 | train_RMSE 0.3230 | test_RMSE 0.4243 \n",
      "Epoch 00069 | Loss 0.5526 | train_RMSE 0.3505 | test_RMSE 0.4601 \n"
     ]
    },
    {
     "name": "stderr",
     "output_type": "stream",
     "text": [
      " 17%|███████                                   | 84/500 [00:01<00:04, 97.51it/s]"
     ]
    },
    {
     "name": "stdout",
     "output_type": "stream",
     "text": [
      "Epoch 00070 | Loss 0.5149 | train_RMSE 0.3871 | test_RMSE 0.4935 \n",
      "Epoch 00071 | Loss 0.5118 | train_RMSE 0.3196 | test_RMSE 0.4204 \n",
      "Epoch 00072 | Loss 0.5029 | train_RMSE 0.3564 | test_RMSE 0.4626 \n",
      "Epoch 00073 | Loss 0.5043 | train_RMSE 0.3365 | test_RMSE 0.4422 \n",
      "Epoch 00074 | Loss 0.5261 | train_RMSE 0.3145 | test_RMSE 0.4147 \n",
      "Epoch 00075 | Loss 0.5228 | train_RMSE 0.3949 | test_RMSE 0.4930 \n",
      "Epoch 00076 | Loss 0.5318 | train_RMSE 0.3106 | test_RMSE 0.4103 \n",
      "Epoch 00077 | Loss 0.5446 | train_RMSE 0.3646 | test_RMSE 0.4637 \n",
      "Epoch 00078 | Loss 0.5177 | train_RMSE 0.3227 | test_RMSE 0.4252 \n",
      "Epoch 00079 | Loss 0.5001 | train_RMSE 0.3169 | test_RMSE 0.4187 \n",
      "Epoch 00080 | Loss 0.4729 | train_RMSE 0.3592 | test_RMSE 0.4544 \n",
      "Epoch 00081 | Loss 0.5286 | train_RMSE 0.3151 | test_RMSE 0.4148 \n",
      "Epoch 00082 | Loss 0.5054 | train_RMSE 0.3059 | test_RMSE 0.4045 \n",
      "Epoch 00083 | Loss 0.5090 | train_RMSE 0.3587 | test_RMSE 0.4514 \n",
      "Epoch 00084 | Loss 0.4832 | train_RMSE 0.3070 | test_RMSE 0.4024 \n",
      "Epoch 00085 | Loss 0.4782 | train_RMSE 0.3268 | test_RMSE 0.4214 \n",
      "Epoch 00086 | Loss 0.4722 | train_RMSE 0.3222 | test_RMSE 0.4169 \n",
      "Epoch 00087 | Loss 0.4850 | train_RMSE 0.3360 | test_RMSE 0.4313 \n",
      "Epoch 00088 | Loss 0.4537 | train_RMSE 0.3029 | test_RMSE 0.3917 \n",
      "Epoch 00089 | Loss 0.5035 | train_RMSE 0.4186 | test_RMSE 0.5078 \n",
      "Epoch 00090 | Loss 0.5084 | train_RMSE 0.3482 | test_RMSE 0.4131 \n",
      "Epoch 00091 | Loss 0.5410 | train_RMSE 0.5353 | test_RMSE 0.6136 \n",
      "Epoch 00092 | Loss 0.5931 | train_RMSE 0.4033 | test_RMSE 0.4494 \n",
      "Epoch 00093 | Loss 0.6113 | train_RMSE 0.5466 | test_RMSE 0.6232 \n"
     ]
    },
    {
     "name": "stderr",
     "output_type": "stream",
     "text": [
      " 22%|████████▋                               | 108/500 [00:01<00:03, 107.72it/s]"
     ]
    },
    {
     "name": "stdout",
     "output_type": "stream",
     "text": [
      "Epoch 00094 | Loss 0.6101 | train_RMSE 0.3620 | test_RMSE 0.4191 \n",
      "Epoch 00095 | Loss 0.5727 | train_RMSE 0.4817 | test_RMSE 0.5617 \n",
      "Epoch 00096 | Loss 0.5436 | train_RMSE 0.2987 | test_RMSE 0.3859 \n",
      "Epoch 00097 | Loss 0.4597 | train_RMSE 0.3038 | test_RMSE 0.3959 \n",
      "Epoch 00098 | Loss 0.4391 | train_RMSE 0.4120 | test_RMSE 0.4928 \n",
      "Epoch 00099 | Loss 0.4942 | train_RMSE 0.3221 | test_RMSE 0.3963 \n",
      "Epoch 00100 | Loss 0.5165 | train_RMSE 0.4274 | test_RMSE 0.5036 \n",
      "Epoch 00101 | Loss 0.5244 | train_RMSE 0.2944 | test_RMSE 0.3842 \n",
      "Epoch 00102 | Loss 0.4874 | train_RMSE 0.3457 | test_RMSE 0.4322 \n",
      "Epoch 00103 | Loss 0.4761 | train_RMSE 0.3047 | test_RMSE 0.3968 \n",
      "Epoch 00104 | Loss 0.4567 | train_RMSE 0.2935 | test_RMSE 0.3856 \n",
      "Epoch 00105 | Loss 0.4637 | train_RMSE 0.3378 | test_RMSE 0.4250 \n",
      "Epoch 00106 | Loss 0.4493 | train_RMSE 0.3106 | test_RMSE 0.4017 \n",
      "Epoch 00107 | Loss 0.4392 | train_RMSE 0.2920 | test_RMSE 0.3817 \n",
      "Epoch 00108 | Loss 0.4430 | train_RMSE 0.3658 | test_RMSE 0.4482 \n",
      "Epoch 00109 | Loss 0.4753 | train_RMSE 0.2935 | test_RMSE 0.3794 \n",
      "Epoch 00110 | Loss 0.4777 | train_RMSE 0.3485 | test_RMSE 0.4326 \n",
      "Epoch 00111 | Loss 0.4428 | train_RMSE 0.2916 | test_RMSE 0.3785 \n",
      "Epoch 00112 | Loss 0.4692 | train_RMSE 0.3483 | test_RMSE 0.4325 \n",
      "Epoch 00113 | Loss 0.4691 | train_RMSE 0.2951 | test_RMSE 0.3847 \n",
      "Epoch 00114 | Loss 0.4373 | train_RMSE 0.2989 | test_RMSE 0.3887 \n",
      "Epoch 00115 | Loss 0.4241 | train_RMSE 0.3503 | test_RMSE 0.4333 \n",
      "Epoch 00116 | Loss 0.4509 | train_RMSE 0.2906 | test_RMSE 0.3777 \n",
      "Epoch 00117 | Loss 0.4573 | train_RMSE 0.3381 | test_RMSE 0.4217 \n"
     ]
    },
    {
     "name": "stderr",
     "output_type": "stream",
     "text": [
      " 27%|██████████▋                             | 133/500 [00:01<00:03, 113.89it/s]"
     ]
    },
    {
     "name": "stdout",
     "output_type": "stream",
     "text": [
      "Epoch 00118 | Loss 0.4247 | train_RMSE 0.3006 | test_RMSE 0.3885 \n",
      "Epoch 00119 | Loss 0.4481 | train_RMSE 0.2916 | test_RMSE 0.3787 \n",
      "Epoch 00120 | Loss 0.4544 | train_RMSE 0.4504 | test_RMSE 0.5182 \n",
      "Epoch 00121 | Loss 0.4970 | train_RMSE 0.3515 | test_RMSE 0.4180 \n",
      "Epoch 00122 | Loss 0.5414 | train_RMSE 0.4761 | test_RMSE 0.5411 \n",
      "Epoch 00123 | Loss 0.5176 | train_RMSE 0.2893 | test_RMSE 0.3796 \n",
      "Epoch 00124 | Loss 0.4397 | train_RMSE 0.2902 | test_RMSE 0.3791 \n",
      "Epoch 00125 | Loss 0.4480 | train_RMSE 0.4295 | test_RMSE 0.4998 \n",
      "Epoch 00126 | Loss 0.4857 | train_RMSE 0.3108 | test_RMSE 0.3885 \n",
      "Epoch 00127 | Loss 0.4942 | train_RMSE 0.3895 | test_RMSE 0.4635 \n",
      "Epoch 00128 | Loss 0.4740 | train_RMSE 0.2931 | test_RMSE 0.3786 \n",
      "Epoch 00129 | Loss 0.4198 | train_RMSE 0.2947 | test_RMSE 0.3748 \n",
      "Epoch 00130 | Loss 0.4584 | train_RMSE 0.5199 | test_RMSE 0.5755 \n",
      "Epoch 00131 | Loss 0.5512 | train_RMSE 0.3587 | test_RMSE 0.4211 \n",
      "Epoch 00132 | Loss 0.5364 | train_RMSE 0.3903 | test_RMSE 0.4612 \n",
      "Epoch 00133 | Loss 0.4787 | train_RMSE 0.3190 | test_RMSE 0.4014 \n",
      "Epoch 00134 | Loss 0.4096 | train_RMSE 0.3004 | test_RMSE 0.3790 \n",
      "Epoch 00135 | Loss 0.4664 | train_RMSE 0.4651 | test_RMSE 0.5271 \n",
      "Epoch 00136 | Loss 0.4808 | train_RMSE 0.3042 | test_RMSE 0.3794 \n",
      "Epoch 00137 | Loss 0.4721 | train_RMSE 0.3151 | test_RMSE 0.3984 \n",
      "Epoch 00138 | Loss 0.4312 | train_RMSE 0.3653 | test_RMSE 0.4415 \n",
      "Epoch 00139 | Loss 0.4334 | train_RMSE 0.3144 | test_RMSE 0.3849 \n",
      "Epoch 00140 | Loss 0.4938 | train_RMSE 0.4547 | test_RMSE 0.5199 \n",
      "Epoch 00141 | Loss 0.4831 | train_RMSE 0.2852 | test_RMSE 0.3715 \n",
      "Epoch 00142 | Loss 0.4303 | train_RMSE 0.2883 | test_RMSE 0.3757 \n"
     ]
    },
    {
     "name": "stderr",
     "output_type": "stream",
     "text": [
      " 32%|████████████▋                           | 158/500 [00:02<00:02, 116.98it/s]"
     ]
    },
    {
     "name": "stdout",
     "output_type": "stream",
     "text": [
      "Epoch 00143 | Loss 0.4241 | train_RMSE 0.3991 | test_RMSE 0.4707 \n",
      "Epoch 00144 | Loss 0.4564 | train_RMSE 0.2921 | test_RMSE 0.3717 \n",
      "Epoch 00145 | Loss 0.4435 | train_RMSE 0.3081 | test_RMSE 0.3906 \n",
      "Epoch 00146 | Loss 0.3965 | train_RMSE 0.3948 | test_RMSE 0.4654 \n",
      "Epoch 00147 | Loss 0.4434 | train_RMSE 0.3356 | test_RMSE 0.3956 \n",
      "Epoch 00148 | Loss 0.4741 | train_RMSE 0.4213 | test_RMSE 0.4882 \n",
      "Epoch 00149 | Loss 0.4676 | train_RMSE 0.2903 | test_RMSE 0.3755 \n",
      "Epoch 00150 | Loss 0.4052 | train_RMSE 0.2961 | test_RMSE 0.3747 \n",
      "Epoch 00151 | Loss 0.4371 | train_RMSE 0.4691 | test_RMSE 0.5294 \n",
      "Epoch 00152 | Loss 0.4875 | train_RMSE 0.3119 | test_RMSE 0.3843 \n",
      "Epoch 00153 | Loss 0.4613 | train_RMSE 0.3058 | test_RMSE 0.3875 \n",
      "Epoch 00154 | Loss 0.3936 | train_RMSE 0.4221 | test_RMSE 0.4861 \n",
      "Epoch 00155 | Loss 0.4647 | train_RMSE 0.3522 | test_RMSE 0.4052 \n",
      "Epoch 00156 | Loss 0.5155 | train_RMSE 0.4707 | test_RMSE 0.5280 \n",
      "Epoch 00157 | Loss 0.4739 | train_RMSE 0.2832 | test_RMSE 0.3640 \n",
      "Epoch 00158 | Loss 0.3948 | train_RMSE 0.2925 | test_RMSE 0.3703 \n",
      "Epoch 00159 | Loss 0.4426 | train_RMSE 0.4893 | test_RMSE 0.5439 \n",
      "Epoch 00160 | Loss 0.4813 | train_RMSE 0.3016 | test_RMSE 0.3762 \n",
      "Epoch 00161 | Loss 0.4399 | train_RMSE 0.2947 | test_RMSE 0.3771 \n",
      "Epoch 00162 | Loss 0.4091 | train_RMSE 0.3823 | test_RMSE 0.4501 \n",
      "Epoch 00163 | Loss 0.4283 | train_RMSE 0.2917 | test_RMSE 0.3653 \n",
      "Epoch 00164 | Loss 0.4277 | train_RMSE 0.3245 | test_RMSE 0.3981 \n",
      "Epoch 00165 | Loss 0.3925 | train_RMSE 0.3155 | test_RMSE 0.3902 \n",
      "Epoch 00166 | Loss 0.4028 | train_RMSE 0.2844 | test_RMSE 0.3632 \n",
      "Epoch 00167 | Loss 0.3952 | train_RMSE 0.3252 | test_RMSE 0.3993 \n"
     ]
    },
    {
     "name": "stderr",
     "output_type": "stream",
     "text": [
      " 36%|██████████████▌                         | 182/500 [00:02<00:02, 117.84it/s]"
     ]
    },
    {
     "name": "stdout",
     "output_type": "stream",
     "text": [
      "Epoch 00168 | Loss 0.4008 | train_RMSE 0.2948 | test_RMSE 0.3740 \n",
      "Epoch 00169 | Loss 0.3740 | train_RMSE 0.2839 | test_RMSE 0.3636 \n",
      "Epoch 00170 | Loss 0.3935 | train_RMSE 0.3292 | test_RMSE 0.4033 \n",
      "Epoch 00171 | Loss 0.3951 | train_RMSE 0.2869 | test_RMSE 0.3650 \n",
      "Epoch 00172 | Loss 0.3849 | train_RMSE 0.2905 | test_RMSE 0.3680 \n",
      "Epoch 00173 | Loss 0.3992 | train_RMSE 0.3002 | test_RMSE 0.3770 \n",
      "Epoch 00174 | Loss 0.3866 | train_RMSE 0.2941 | test_RMSE 0.3714 \n",
      "Epoch 00175 | Loss 0.4162 | train_RMSE 0.3143 | test_RMSE 0.3889 \n",
      "Epoch 00176 | Loss 0.3982 | train_RMSE 0.2811 | test_RMSE 0.3590 \n",
      "Epoch 00177 | Loss 0.3828 | train_RMSE 0.3228 | test_RMSE 0.3962 \n",
      "Epoch 00178 | Loss 0.3738 | train_RMSE 0.2890 | test_RMSE 0.3675 \n",
      "Epoch 00179 | Loss 0.3850 | train_RMSE 0.2882 | test_RMSE 0.3666 \n",
      "Epoch 00180 | Loss 0.3655 | train_RMSE 0.3052 | test_RMSE 0.3816 \n",
      "Epoch 00181 | Loss 0.3897 | train_RMSE 0.2923 | test_RMSE 0.3700 \n",
      "Epoch 00182 | Loss 0.3911 | train_RMSE 0.2947 | test_RMSE 0.3718 \n",
      "Epoch 00183 | Loss 0.3705 | train_RMSE 0.3097 | test_RMSE 0.3849 \n",
      "Epoch 00184 | Loss 0.3742 | train_RMSE 0.2856 | test_RMSE 0.3624 \n",
      "Epoch 00185 | Loss 0.3779 | train_RMSE 0.3078 | test_RMSE 0.3831 \n",
      "Epoch 00186 | Loss 0.3770 | train_RMSE 0.2958 | test_RMSE 0.3725 \n",
      "Epoch 00187 | Loss 0.3857 | train_RMSE 0.2864 | test_RMSE 0.3637 \n",
      "Epoch 00188 | Loss 0.3600 | train_RMSE 0.2922 | test_RMSE 0.3684 \n",
      "Epoch 00189 | Loss 0.3696 | train_RMSE 0.2881 | test_RMSE 0.3643 \n",
      "Epoch 00190 | Loss 0.3499 | train_RMSE 0.3038 | test_RMSE 0.3766 \n",
      "Epoch 00191 | Loss 0.3645 | train_RMSE 0.2947 | test_RMSE 0.3682 \n"
     ]
    },
    {
     "name": "stderr",
     "output_type": "stream",
     "text": [
      " 41%|████████████████▌                       | 207/500 [00:02<00:02, 119.20it/s]"
     ]
    },
    {
     "name": "stdout",
     "output_type": "stream",
     "text": [
      "Epoch 00192 | Loss 0.3551 | train_RMSE 0.2831 | test_RMSE 0.3571 \n",
      "Epoch 00193 | Loss 0.3797 | train_RMSE 0.3233 | test_RMSE 0.3913 \n",
      "Epoch 00194 | Loss 0.3704 | train_RMSE 0.2832 | test_RMSE 0.3557 \n",
      "Epoch 00195 | Loss 0.3647 | train_RMSE 0.2912 | test_RMSE 0.3628 \n",
      "Epoch 00196 | Loss 0.3396 | train_RMSE 0.3057 | test_RMSE 0.3751 \n",
      "Epoch 00197 | Loss 0.3616 | train_RMSE 0.2892 | test_RMSE 0.3598 \n",
      "Epoch 00198 | Loss 0.3431 | train_RMSE 0.2861 | test_RMSE 0.3563 \n",
      "Epoch 00199 | Loss 0.3634 | train_RMSE 0.3531 | test_RMSE 0.4149 \n",
      "Epoch 00200 | Loss 0.3752 | train_RMSE 0.3137 | test_RMSE 0.3666 \n",
      "Epoch 00201 | Loss 0.4009 | train_RMSE 0.4450 | test_RMSE 0.4965 \n",
      "Epoch 00202 | Loss 0.4365 | train_RMSE 0.2967 | test_RMSE 0.3554 \n",
      "Epoch 00203 | Loss 0.4060 | train_RMSE 0.3126 | test_RMSE 0.3800 \n",
      "Epoch 00204 | Loss 0.3399 | train_RMSE 0.3214 | test_RMSE 0.3876 \n",
      "Epoch 00205 | Loss 0.3523 | train_RMSE 0.3020 | test_RMSE 0.3560 \n",
      "Epoch 00206 | Loss 0.3923 | train_RMSE 0.4311 | test_RMSE 0.4840 \n",
      "Epoch 00207 | Loss 0.4073 | train_RMSE 0.2858 | test_RMSE 0.3453 \n",
      "Epoch 00208 | Loss 0.3805 | train_RMSE 0.2952 | test_RMSE 0.3605 \n",
      "Epoch 00209 | Loss 0.3348 | train_RMSE 0.3283 | test_RMSE 0.3891 \n",
      "Epoch 00210 | Loss 0.3587 | train_RMSE 0.2880 | test_RMSE 0.3478 \n",
      "Epoch 00211 | Loss 0.3649 | train_RMSE 0.3784 | test_RMSE 0.4304 \n",
      "Epoch 00212 | Loss 0.3799 | train_RMSE 0.2831 | test_RMSE 0.3461 \n",
      "Epoch 00213 | Loss 0.3553 | train_RMSE 0.2879 | test_RMSE 0.3521 \n",
      "Epoch 00214 | Loss 0.3331 | train_RMSE 0.3392 | test_RMSE 0.3947 \n",
      "Epoch 00215 | Loss 0.3583 | train_RMSE 0.2953 | test_RMSE 0.3496 \n",
      "Epoch 00216 | Loss 0.3689 | train_RMSE 0.3623 | test_RMSE 0.4140 \n"
     ]
    },
    {
     "name": "stderr",
     "output_type": "stream",
     "text": [
      " 46%|██████████████████▍                     | 231/500 [00:02<00:02, 118.89it/s]"
     ]
    },
    {
     "name": "stdout",
     "output_type": "stream",
     "text": [
      "Epoch 00217 | Loss 0.3373 | train_RMSE 0.2836 | test_RMSE 0.3452 \n",
      "Epoch 00218 | Loss 0.3402 | train_RMSE 0.2774 | test_RMSE 0.3393 \n",
      "Epoch 00219 | Loss 0.3444 | train_RMSE 0.3444 | test_RMSE 0.4006 \n",
      "Epoch 00220 | Loss 0.3587 | train_RMSE 0.2778 | test_RMSE 0.3380 \n",
      "Epoch 00221 | Loss 0.3133 | train_RMSE 0.3001 | test_RMSE 0.3618 \n",
      "Epoch 00222 | Loss 0.3373 | train_RMSE 0.2900 | test_RMSE 0.3524 \n",
      "Epoch 00223 | Loss 0.3092 | train_RMSE 0.2809 | test_RMSE 0.3426 \n",
      "Epoch 00224 | Loss 0.3238 | train_RMSE 0.3194 | test_RMSE 0.3799 \n",
      "Epoch 00225 | Loss 0.3293 | train_RMSE 0.2872 | test_RMSE 0.3497 \n",
      "Epoch 00226 | Loss 0.3102 | train_RMSE 0.2860 | test_RMSE 0.3417 \n",
      "Epoch 00227 | Loss 0.3545 | train_RMSE 0.4478 | test_RMSE 0.4921 \n",
      "Epoch 00228 | Loss 0.3961 | train_RMSE 0.3411 | test_RMSE 0.3855 \n",
      "Epoch 00229 | Loss 0.3904 | train_RMSE 0.3878 | test_RMSE 0.4374 \n",
      "Epoch 00230 | Loss 0.3656 | train_RMSE 0.2793 | test_RMSE 0.3432 \n",
      "Epoch 00231 | Loss 0.3126 | train_RMSE 0.2826 | test_RMSE 0.3414 \n",
      "Epoch 00232 | Loss 0.3249 | train_RMSE 0.4470 | test_RMSE 0.4915 \n",
      "Epoch 00233 | Loss 0.3804 | train_RMSE 0.3588 | test_RMSE 0.3923 \n",
      "Epoch 00234 | Loss 0.4197 | train_RMSE 0.4565 | test_RMSE 0.5025 \n",
      "Epoch 00235 | Loss 0.3939 | train_RMSE 0.2784 | test_RMSE 0.3349 \n",
      "Epoch 00236 | Loss 0.3249 | train_RMSE 0.2774 | test_RMSE 0.3343 \n",
      "Epoch 00237 | Loss 0.3178 | train_RMSE 0.4526 | test_RMSE 0.4984 \n",
      "Epoch 00238 | Loss 0.3941 | train_RMSE 0.3581 | test_RMSE 0.3878 \n",
      "Epoch 00239 | Loss 0.4078 | train_RMSE 0.4344 | test_RMSE 0.4791 \n",
      "Epoch 00240 | Loss 0.3849 | train_RMSE 0.2771 | test_RMSE 0.3338 \n",
      "Epoch 00241 | Loss 0.3084 | train_RMSE 0.2768 | test_RMSE 0.3338 \n"
     ]
    },
    {
     "name": "stderr",
     "output_type": "stream",
     "text": [
      " 51%|████████████████████▍                   | 256/500 [00:02<00:02, 119.39it/s]"
     ]
    },
    {
     "name": "stdout",
     "output_type": "stream",
     "text": [
      "Epoch 00242 | Loss 0.3179 | train_RMSE 0.4592 | test_RMSE 0.4966 \n",
      "Epoch 00243 | Loss 0.3653 | train_RMSE 0.3480 | test_RMSE 0.3853 \n",
      "Epoch 00244 | Loss 0.4072 | train_RMSE 0.4266 | test_RMSE 0.4641 \n",
      "Epoch 00245 | Loss 0.3577 | train_RMSE 0.2770 | test_RMSE 0.3318 \n",
      "Epoch 00246 | Loss 0.2903 | train_RMSE 0.2819 | test_RMSE 0.3329 \n",
      "Epoch 00247 | Loss 0.3246 | train_RMSE 0.4617 | test_RMSE 0.4943 \n",
      "Epoch 00248 | Loss 0.4021 | train_RMSE 0.3492 | test_RMSE 0.3819 \n",
      "Epoch 00249 | Loss 0.3717 | train_RMSE 0.3365 | test_RMSE 0.3829 \n",
      "Epoch 00250 | Loss 0.3082 | train_RMSE 0.3197 | test_RMSE 0.3682 \n",
      "Epoch 00251 | Loss 0.2994 | train_RMSE 0.3098 | test_RMSE 0.3454 \n",
      "Epoch 00252 | Loss 0.3196 | train_RMSE 0.3832 | test_RMSE 0.4264 \n",
      "Epoch 00253 | Loss 0.3188 | train_RMSE 0.2756 | test_RMSE 0.3237 \n",
      "Epoch 00254 | Loss 0.2821 | train_RMSE 0.2757 | test_RMSE 0.3246 \n",
      "Epoch 00255 | Loss 0.2938 | train_RMSE 0.3521 | test_RMSE 0.3978 \n",
      "Epoch 00256 | Loss 0.3073 | train_RMSE 0.2785 | test_RMSE 0.3237 \n",
      "Epoch 00257 | Loss 0.2876 | train_RMSE 0.3005 | test_RMSE 0.3482 \n",
      "Epoch 00258 | Loss 0.2802 | train_RMSE 0.2965 | test_RMSE 0.3432 \n",
      "Epoch 00259 | Loss 0.2840 | train_RMSE 0.2783 | test_RMSE 0.3218 \n",
      "Epoch 00260 | Loss 0.2820 | train_RMSE 0.3272 | test_RMSE 0.3681 \n",
      "Epoch 00261 | Loss 0.2895 | train_RMSE 0.2797 | test_RMSE 0.3245 \n",
      "Epoch 00262 | Loss 0.2780 | train_RMSE 0.2777 | test_RMSE 0.3201 \n",
      "Epoch 00263 | Loss 0.2834 | train_RMSE 0.3462 | test_RMSE 0.3830 \n",
      "Epoch 00264 | Loss 0.2840 | train_RMSE 0.2750 | test_RMSE 0.3196 \n",
      "Epoch 00265 | Loss 0.2770 | train_RMSE 0.2945 | test_RMSE 0.3390 \n"
     ]
    },
    {
     "name": "stderr",
     "output_type": "stream",
     "text": [
      " 56%|██████████████████████▍                 | 280/500 [00:03<00:01, 118.13it/s]"
     ]
    },
    {
     "name": "stdout",
     "output_type": "stream",
     "text": [
      "Epoch 00266 | Loss 0.2702 | train_RMSE 0.2907 | test_RMSE 0.3359 \n",
      "Epoch 00267 | Loss 0.2577 | train_RMSE 0.2766 | test_RMSE 0.3206 \n",
      "Epoch 00268 | Loss 0.2651 | train_RMSE 0.3282 | test_RMSE 0.3702 \n",
      "Epoch 00269 | Loss 0.2818 | train_RMSE 0.2785 | test_RMSE 0.3201 \n",
      "Epoch 00270 | Loss 0.2660 | train_RMSE 0.2943 | test_RMSE 0.3399 \n",
      "Epoch 00271 | Loss 0.2517 | train_RMSE 0.2936 | test_RMSE 0.3385 \n",
      "Epoch 00272 | Loss 0.2603 | train_RMSE 0.2757 | test_RMSE 0.3184 \n",
      "Epoch 00273 | Loss 0.2692 | train_RMSE 0.3166 | test_RMSE 0.3581 \n",
      "Epoch 00274 | Loss 0.2550 | train_RMSE 0.2744 | test_RMSE 0.3151 \n",
      "Epoch 00275 | Loss 0.2563 | train_RMSE 0.2816 | test_RMSE 0.3230 \n",
      "Epoch 00276 | Loss 0.2483 | train_RMSE 0.3171 | test_RMSE 0.3567 \n",
      "Epoch 00277 | Loss 0.2583 | train_RMSE 0.2859 | test_RMSE 0.3190 \n",
      "Epoch 00278 | Loss 0.2588 | train_RMSE 0.3366 | test_RMSE 0.3750 \n",
      "Epoch 00279 | Loss 0.2593 | train_RMSE 0.2746 | test_RMSE 0.3143 \n",
      "Epoch 00280 | Loss 0.2553 | train_RMSE 0.2902 | test_RMSE 0.3323 \n",
      "Epoch 00281 | Loss 0.2427 | train_RMSE 0.2831 | test_RMSE 0.3253 \n",
      "Epoch 00282 | Loss 0.2349 | train_RMSE 0.2749 | test_RMSE 0.3162 \n",
      "Epoch 00283 | Loss 0.2386 | train_RMSE 0.2972 | test_RMSE 0.3353 \n",
      "Epoch 00284 | Loss 0.2301 | train_RMSE 0.2759 | test_RMSE 0.3130 \n",
      "Epoch 00285 | Loss 0.2325 | train_RMSE 0.3082 | test_RMSE 0.3418 \n",
      "Epoch 00286 | Loss 0.2433 | train_RMSE 0.2750 | test_RMSE 0.3097 \n",
      "Epoch 00287 | Loss 0.2239 | train_RMSE 0.2797 | test_RMSE 0.3153 \n",
      "Epoch 00288 | Loss 0.2357 | train_RMSE 0.3110 | test_RMSE 0.3428 \n",
      "Epoch 00289 | Loss 0.2209 | train_RMSE 0.2784 | test_RMSE 0.3123 \n"
     ]
    },
    {
     "name": "stderr",
     "output_type": "stream",
     "text": [
      " 61%|████████████████████████▎               | 304/500 [00:03<00:01, 116.81it/s]"
     ]
    },
    {
     "name": "stdout",
     "output_type": "stream",
     "text": [
      "Epoch 00290 | Loss 0.2394 | train_RMSE 0.3417 | test_RMSE 0.3691 \n",
      "Epoch 00291 | Loss 0.2396 | train_RMSE 0.2732 | test_RMSE 0.3077 \n",
      "Epoch 00292 | Loss 0.2288 | train_RMSE 0.2866 | test_RMSE 0.3187 \n",
      "Epoch 00293 | Loss 0.2227 | train_RMSE 0.2935 | test_RMSE 0.3234 \n",
      "Epoch 00294 | Loss 0.2106 | train_RMSE 0.2784 | test_RMSE 0.3063 \n",
      "Epoch 00295 | Loss 0.2225 | train_RMSE 0.3371 | test_RMSE 0.3621 \n",
      "Epoch 00296 | Loss 0.2317 | train_RMSE 0.2763 | test_RMSE 0.3053 \n",
      "Epoch 00297 | Loss 0.2150 | train_RMSE 0.2956 | test_RMSE 0.3242 \n",
      "Epoch 00298 | Loss 0.2172 | train_RMSE 0.2822 | test_RMSE 0.3113 \n",
      "Epoch 00299 | Loss 0.2045 | train_RMSE 0.2735 | test_RMSE 0.3018 \n",
      "Epoch 00300 | Loss 0.2004 | train_RMSE 0.2992 | test_RMSE 0.3247 \n",
      "Epoch 00301 | Loss 0.2146 | train_RMSE 0.2749 | test_RMSE 0.2994 \n",
      "Epoch 00302 | Loss 0.2114 | train_RMSE 0.3102 | test_RMSE 0.3337 \n",
      "Epoch 00303 | Loss 0.1962 | train_RMSE 0.2754 | test_RMSE 0.2974 \n",
      "Epoch 00304 | Loss 0.1961 | train_RMSE 0.2885 | test_RMSE 0.3132 \n",
      "Epoch 00305 | Loss 0.1909 | train_RMSE 0.2891 | test_RMSE 0.3137 \n",
      "Epoch 00306 | Loss 0.1982 | train_RMSE 0.2828 | test_RMSE 0.3024 \n",
      "Epoch 00307 | Loss 0.2080 | train_RMSE 0.3834 | test_RMSE 0.4022 \n",
      "Epoch 00308 | Loss 0.2372 | train_RMSE 0.3310 | test_RMSE 0.3400 \n",
      "Epoch 00309 | Loss 0.2615 | train_RMSE 0.4175 | test_RMSE 0.4338 \n",
      "Epoch 00310 | Loss 0.2565 | train_RMSE 0.2852 | test_RMSE 0.3021 \n",
      "Epoch 00311 | Loss 0.2154 | train_RMSE 0.2736 | test_RMSE 0.2954 \n",
      "Epoch 00312 | Loss 0.1906 | train_RMSE 0.3481 | test_RMSE 0.3664 \n",
      "Epoch 00313 | Loss 0.2034 | train_RMSE 0.3080 | test_RMSE 0.3218 \n"
     ]
    },
    {
     "name": "stderr",
     "output_type": "stream",
     "text": [
      " 66%|██████████████████████████▏             | 328/500 [00:03<00:01, 116.42it/s]"
     ]
    },
    {
     "name": "stdout",
     "output_type": "stream",
     "text": [
      "Epoch 00314 | Loss 0.2224 | train_RMSE 0.3346 | test_RMSE 0.3522 \n",
      "Epoch 00315 | Loss 0.2004 | train_RMSE 0.2733 | test_RMSE 0.2931 \n",
      "Epoch 00316 | Loss 0.1780 | train_RMSE 0.2732 | test_RMSE 0.2914 \n",
      "Epoch 00317 | Loss 0.1785 | train_RMSE 0.3197 | test_RMSE 0.3354 \n",
      "Epoch 00318 | Loss 0.1844 | train_RMSE 0.2809 | test_RMSE 0.2959 \n",
      "Epoch 00319 | Loss 0.1860 | train_RMSE 0.2828 | test_RMSE 0.2993 \n",
      "Epoch 00320 | Loss 0.1694 | train_RMSE 0.2953 | test_RMSE 0.3110 \n",
      "Epoch 00321 | Loss 0.1716 | train_RMSE 0.2803 | test_RMSE 0.2964 \n",
      "Epoch 00322 | Loss 0.1772 | train_RMSE 0.3041 | test_RMSE 0.3186 \n",
      "Epoch 00323 | Loss 0.1791 | train_RMSE 0.2741 | test_RMSE 0.2900 \n",
      "Epoch 00324 | Loss 0.1635 | train_RMSE 0.2713 | test_RMSE 0.2859 \n",
      "Epoch 00325 | Loss 0.1591 | train_RMSE 0.2955 | test_RMSE 0.3075 \n",
      "Epoch 00326 | Loss 0.1637 | train_RMSE 0.2742 | test_RMSE 0.2863 \n",
      "Epoch 00327 | Loss 0.1605 | train_RMSE 0.2721 | test_RMSE 0.2830 \n",
      "Epoch 00328 | Loss 0.1632 | train_RMSE 0.2899 | test_RMSE 0.2992 \n",
      "Epoch 00329 | Loss 0.1567 | train_RMSE 0.2719 | test_RMSE 0.2820 \n",
      "Epoch 00330 | Loss 0.1620 | train_RMSE 0.2809 | test_RMSE 0.2909 \n",
      "Epoch 00331 | Loss 0.1501 | train_RMSE 0.2813 | test_RMSE 0.2912 \n",
      "Epoch 00332 | Loss 0.1573 | train_RMSE 0.2743 | test_RMSE 0.2850 \n",
      "Epoch 00333 | Loss 0.1537 | train_RMSE 0.3148 | test_RMSE 0.3215 \n",
      "Epoch 00334 | Loss 0.1551 | train_RMSE 0.2719 | test_RMSE 0.2812 \n",
      "Epoch 00335 | Loss 0.1491 | train_RMSE 0.2742 | test_RMSE 0.2824 \n",
      "Epoch 00336 | Loss 0.1421 | train_RMSE 0.2918 | test_RMSE 0.2983 \n",
      "Epoch 00337 | Loss 0.1434 | train_RMSE 0.2752 | test_RMSE 0.2810 \n"
     ]
    },
    {
     "name": "stderr",
     "output_type": "stream",
     "text": [
      " 70%|████████████████████████████▏           | 352/500 [00:03<00:01, 114.46it/s]"
     ]
    },
    {
     "name": "stdout",
     "output_type": "stream",
     "text": [
      "Epoch 00338 | Loss 0.1521 | train_RMSE 0.2876 | test_RMSE 0.2931 \n",
      "Epoch 00339 | Loss 0.1433 | train_RMSE 0.2705 | test_RMSE 0.2760 \n",
      "Epoch 00340 | Loss 0.1368 | train_RMSE 0.2709 | test_RMSE 0.2758 \n",
      "Epoch 00341 | Loss 0.1400 | train_RMSE 0.2765 | test_RMSE 0.2808 \n",
      "Epoch 00342 | Loss 0.1289 | train_RMSE 0.2699 | test_RMSE 0.2737 \n",
      "Epoch 00343 | Loss 0.1285 | train_RMSE 0.2769 | test_RMSE 0.2799 \n",
      "Epoch 00344 | Loss 0.1381 | train_RMSE 0.2715 | test_RMSE 0.2742 \n",
      "Epoch 00345 | Loss 0.1346 | train_RMSE 0.2702 | test_RMSE 0.2727 \n",
      "Epoch 00346 | Loss 0.1322 | train_RMSE 0.2795 | test_RMSE 0.2807 \n",
      "Epoch 00347 | Loss 0.1273 | train_RMSE 0.2704 | test_RMSE 0.2731 \n",
      "Epoch 00348 | Loss 0.1267 | train_RMSE 0.2781 | test_RMSE 0.2786 \n",
      "Epoch 00349 | Loss 0.1254 | train_RMSE 0.2744 | test_RMSE 0.2746 \n",
      "Epoch 00350 | Loss 0.1212 | train_RMSE 0.2707 | test_RMSE 0.2706 \n",
      "Epoch 00351 | Loss 0.1259 | train_RMSE 0.2761 | test_RMSE 0.2745 \n",
      "Epoch 00352 | Loss 0.1222 | train_RMSE 0.2716 | test_RMSE 0.2697 \n",
      "Epoch 00353 | Loss 0.1263 | train_RMSE 0.2761 | test_RMSE 0.2735 \n",
      "Epoch 00354 | Loss 0.1185 | train_RMSE 0.2726 | test_RMSE 0.2699 \n",
      "Epoch 00355 | Loss 0.1194 | train_RMSE 0.2706 | test_RMSE 0.2681 \n",
      "Epoch 00356 | Loss 0.1194 | train_RMSE 0.2762 | test_RMSE 0.2729 \n",
      "Epoch 00357 | Loss 0.1176 | train_RMSE 0.2713 | test_RMSE 0.2695 \n",
      "Epoch 00358 | Loss 0.1168 | train_RMSE 0.2858 | test_RMSE 0.2832 \n",
      "Epoch 00359 | Loss 0.1254 | train_RMSE 0.4525 | test_RMSE 0.4393 \n",
      "Epoch 00360 | Loss 0.2274 | train_RMSE 0.3628 | test_RMSE 0.3641 \n"
     ]
    },
    {
     "name": "stderr",
     "output_type": "stream",
     "text": [
      " 75%|██████████████████████████████          | 376/500 [00:03<00:01, 115.51it/s]"
     ]
    },
    {
     "name": "stdout",
     "output_type": "stream",
     "text": [
      "Epoch 00361 | Loss 0.1895 | train_RMSE 0.2834 | test_RMSE 0.2784 \n",
      "Epoch 00362 | Loss 0.1188 | train_RMSE 0.3497 | test_RMSE 0.3381 \n",
      "Epoch 00363 | Loss 0.1467 | train_RMSE 0.3014 | test_RMSE 0.3038 \n",
      "Epoch 00364 | Loss 0.1339 | train_RMSE 0.2733 | test_RMSE 0.2702 \n",
      "Epoch 00365 | Loss 0.1166 | train_RMSE 0.3416 | test_RMSE 0.3285 \n",
      "Epoch 00366 | Loss 0.1395 | train_RMSE 0.2740 | test_RMSE 0.2684 \n",
      "Epoch 00367 | Loss 0.1126 | train_RMSE 0.2896 | test_RMSE 0.2859 \n",
      "Epoch 00368 | Loss 0.1303 | train_RMSE 0.3233 | test_RMSE 0.3104 \n",
      "Epoch 00369 | Loss 0.1282 | train_RMSE 0.2837 | test_RMSE 0.2739 \n",
      "Epoch 00370 | Loss 0.1099 | train_RMSE 0.2993 | test_RMSE 0.2967 \n",
      "Epoch 00371 | Loss 0.1301 | train_RMSE 0.2813 | test_RMSE 0.2726 \n",
      "Epoch 00372 | Loss 0.1135 | train_RMSE 0.3108 | test_RMSE 0.2991 \n",
      "Epoch 00373 | Loss 0.1208 | train_RMSE 0.2742 | test_RMSE 0.2690 \n",
      "Epoch 00374 | Loss 0.1049 | train_RMSE 0.2783 | test_RMSE 0.2725 \n",
      "Epoch 00375 | Loss 0.1098 | train_RMSE 0.3063 | test_RMSE 0.2929 \n",
      "Epoch 00376 | Loss 0.1154 | train_RMSE 0.2805 | test_RMSE 0.2681 \n",
      "Epoch 00377 | Loss 0.1010 | train_RMSE 0.2899 | test_RMSE 0.2825 \n",
      "Epoch 00378 | Loss 0.1174 | train_RMSE 0.2770 | test_RMSE 0.2652 \n",
      "Epoch 00379 | Loss 0.1002 | train_RMSE 0.3024 | test_RMSE 0.2879 \n",
      "Epoch 00380 | Loss 0.1109 | train_RMSE 0.2724 | test_RMSE 0.2646 \n",
      "Epoch 00381 | Loss 0.1014 | train_RMSE 0.2805 | test_RMSE 0.2745 \n",
      "Epoch 00382 | Loss 0.1096 | train_RMSE 0.2850 | test_RMSE 0.2707 \n",
      "Epoch 00383 | Loss 0.1007 | train_RMSE 0.2954 | test_RMSE 0.2790 \n",
      "Epoch 00384 | Loss 0.1041 | train_RMSE 0.2746 | test_RMSE 0.2622 \n"
     ]
    },
    {
     "name": "stderr",
     "output_type": "stream",
     "text": [
      " 80%|████████████████████████████████        | 400/500 [00:04<00:00, 115.66it/s]"
     ]
    },
    {
     "name": "stdout",
     "output_type": "stream",
     "text": [
      "Epoch 00385 | Loss 0.1039 | train_RMSE 0.2752 | test_RMSE 0.2624 \n",
      "Epoch 00386 | Loss 0.1022 | train_RMSE 0.2870 | test_RMSE 0.2705 \n",
      "Epoch 00387 | Loss 0.0982 | train_RMSE 0.2799 | test_RMSE 0.2646 \n",
      "Epoch 00388 | Loss 0.0984 | train_RMSE 0.2733 | test_RMSE 0.2624 \n",
      "Epoch 00389 | Loss 0.1022 | train_RMSE 0.2711 | test_RMSE 0.2592 \n",
      "Epoch 00390 | Loss 0.0959 | train_RMSE 0.2831 | test_RMSE 0.2669 \n",
      "Epoch 00391 | Loss 0.1019 | train_RMSE 0.2753 | test_RMSE 0.2602 \n",
      "Epoch 00392 | Loss 0.0937 | train_RMSE 0.2734 | test_RMSE 0.2620 \n",
      "Epoch 00393 | Loss 0.0924 | train_RMSE 0.2716 | test_RMSE 0.2590 \n",
      "Epoch 00394 | Loss 0.0939 | train_RMSE 0.2820 | test_RMSE 0.2654 \n",
      "Epoch 00395 | Loss 0.0949 | train_RMSE 0.2774 | test_RMSE 0.2616 \n",
      "Epoch 00396 | Loss 0.0944 | train_RMSE 0.2716 | test_RMSE 0.2596 \n",
      "Epoch 00397 | Loss 0.0913 | train_RMSE 0.2707 | test_RMSE 0.2578 \n",
      "Epoch 00398 | Loss 0.0904 | train_RMSE 0.2761 | test_RMSE 0.2600 \n",
      "Epoch 00399 | Loss 0.0928 | train_RMSE 0.2738 | test_RMSE 0.2579 \n",
      "Epoch 00400 | Loss 0.0882 | train_RMSE 0.2709 | test_RMSE 0.2572 \n",
      "Epoch 00401 | Loss 0.0925 | train_RMSE 0.2702 | test_RMSE 0.2551 \n",
      "Epoch 00402 | Loss 0.0902 | train_RMSE 0.2720 | test_RMSE 0.2557 \n",
      "Epoch 00403 | Loss 0.0895 | train_RMSE 0.2713 | test_RMSE 0.2552 \n",
      "Epoch 00404 | Loss 0.0912 | train_RMSE 0.2713 | test_RMSE 0.2550 \n",
      "Epoch 00405 | Loss 0.0893 | train_RMSE 0.2706 | test_RMSE 0.2545 \n",
      "Epoch 00406 | Loss 0.0894 | train_RMSE 0.2708 | test_RMSE 0.2541 \n",
      "Epoch 00407 | Loss 0.0879 | train_RMSE 0.2714 | test_RMSE 0.2540 \n",
      "Epoch 00408 | Loss 0.0888 | train_RMSE 0.2719 | test_RMSE 0.2541 \n"
     ]
    },
    {
     "name": "stderr",
     "output_type": "stream",
     "text": [
      " 85%|█████████████████████████████████▉      | 424/500 [00:04<00:00, 115.18it/s]"
     ]
    },
    {
     "name": "stdout",
     "output_type": "stream",
     "text": [
      "Epoch 00409 | Loss 0.0890 | train_RMSE 0.2704 | test_RMSE 0.2530 \n",
      "Epoch 00410 | Loss 0.0886 | train_RMSE 0.2700 | test_RMSE 0.2530 \n",
      "Epoch 00411 | Loss 0.0873 | train_RMSE 0.2707 | test_RMSE 0.2529 \n",
      "Epoch 00412 | Loss 0.0872 | train_RMSE 0.2724 | test_RMSE 0.2540 \n",
      "Epoch 00413 | Loss 0.0869 | train_RMSE 0.2715 | test_RMSE 0.2532 \n",
      "Epoch 00414 | Loss 0.0898 | train_RMSE 0.2693 | test_RMSE 0.2517 \n",
      "Epoch 00415 | Loss 0.0867 | train_RMSE 0.2691 | test_RMSE 0.2514 \n",
      "Epoch 00416 | Loss 0.0845 | train_RMSE 0.2702 | test_RMSE 0.2516 \n",
      "Epoch 00417 | Loss 0.0871 | train_RMSE 0.2717 | test_RMSE 0.2528 \n",
      "Epoch 00418 | Loss 0.0874 | train_RMSE 0.2691 | test_RMSE 0.2508 \n",
      "Epoch 00419 | Loss 0.0855 | train_RMSE 0.2682 | test_RMSE 0.2501 \n",
      "Epoch 00420 | Loss 0.0870 | train_RMSE 0.2680 | test_RMSE 0.2495 \n",
      "Epoch 00421 | Loss 0.0841 | train_RMSE 0.2689 | test_RMSE 0.2495 \n",
      "Epoch 00422 | Loss 0.0841 | train_RMSE 0.2678 | test_RMSE 0.2491 \n",
      "Epoch 00423 | Loss 0.0835 | train_RMSE 0.2677 | test_RMSE 0.2482 \n",
      "Epoch 00424 | Loss 0.0881 | train_RMSE 0.2671 | test_RMSE 0.2477 \n",
      "Epoch 00425 | Loss 0.0841 | train_RMSE 0.2671 | test_RMSE 0.2474 \n",
      "Epoch 00426 | Loss 0.0834 | train_RMSE 0.2680 | test_RMSE 0.2479 \n",
      "Epoch 00427 | Loss 0.0830 | train_RMSE 0.2675 | test_RMSE 0.2477 \n",
      "Epoch 00428 | Loss 0.0839 | train_RMSE 0.2662 | test_RMSE 0.2472 \n",
      "Epoch 00429 | Loss 0.0858 | train_RMSE 0.2661 | test_RMSE 0.2471 \n",
      "Epoch 00430 | Loss 0.0842 | train_RMSE 0.2664 | test_RMSE 0.2474 \n",
      "Epoch 00431 | Loss 0.0852 | train_RMSE 0.2662 | test_RMSE 0.2473 \n",
      "Epoch 00432 | Loss 0.0843 | train_RMSE 0.2662 | test_RMSE 0.2475 \n"
     ]
    },
    {
     "name": "stderr",
     "output_type": "stream",
     "text": [
      " 90%|███████████████████████████████████▊    | 448/500 [00:04<00:00, 116.86it/s]"
     ]
    },
    {
     "name": "stdout",
     "output_type": "stream",
     "text": [
      "Epoch 00433 | Loss 0.0840 | train_RMSE 0.2650 | test_RMSE 0.2466 \n",
      "Epoch 00434 | Loss 0.0818 | train_RMSE 0.2647 | test_RMSE 0.2462 \n",
      "Epoch 00435 | Loss 0.0827 | train_RMSE 0.2648 | test_RMSE 0.2462 \n",
      "Epoch 00436 | Loss 0.0841 | train_RMSE 0.2661 | test_RMSE 0.2469 \n",
      "Epoch 00437 | Loss 0.0843 | train_RMSE 0.2657 | test_RMSE 0.2461 \n",
      "Epoch 00438 | Loss 0.0848 | train_RMSE 0.2646 | test_RMSE 0.2450 \n",
      "Epoch 00439 | Loss 0.0837 | train_RMSE 0.2637 | test_RMSE 0.2446 \n",
      "Epoch 00440 | Loss 0.0826 | train_RMSE 0.2640 | test_RMSE 0.2449 \n",
      "Epoch 00441 | Loss 0.0827 | train_RMSE 0.2653 | test_RMSE 0.2460 \n",
      "Epoch 00442 | Loss 0.0829 | train_RMSE 0.2648 | test_RMSE 0.2451 \n",
      "Epoch 00443 | Loss 0.0817 | train_RMSE 0.2642 | test_RMSE 0.2439 \n",
      "Epoch 00444 | Loss 0.0809 | train_RMSE 0.2641 | test_RMSE 0.2435 \n",
      "Epoch 00445 | Loss 0.0832 | train_RMSE 0.2642 | test_RMSE 0.2438 \n",
      "Epoch 00446 | Loss 0.0835 | train_RMSE 0.2641 | test_RMSE 0.2444 \n",
      "Epoch 00447 | Loss 0.0829 | train_RMSE 0.2646 | test_RMSE 0.2451 \n",
      "Epoch 00448 | Loss 0.0823 | train_RMSE 0.2638 | test_RMSE 0.2441 \n",
      "Epoch 00449 | Loss 0.0815 | train_RMSE 0.2627 | test_RMSE 0.2426 \n",
      "Epoch 00450 | Loss 0.0845 | train_RMSE 0.2626 | test_RMSE 0.2422 \n",
      "Epoch 00451 | Loss 0.0839 | train_RMSE 0.2635 | test_RMSE 0.2431 \n",
      "Epoch 00452 | Loss 0.0809 | train_RMSE 0.2643 | test_RMSE 0.2436 \n",
      "Epoch 00453 | Loss 0.0820 | train_RMSE 0.2633 | test_RMSE 0.2421 \n",
      "Epoch 00454 | Loss 0.0841 | train_RMSE 0.2627 | test_RMSE 0.2409 \n",
      "Epoch 00455 | Loss 0.0828 | train_RMSE 0.2624 | test_RMSE 0.2409 \n",
      "Epoch 00456 | Loss 0.0827 | train_RMSE 0.2634 | test_RMSE 0.2421 \n",
      "Epoch 00457 | Loss 0.0824 | train_RMSE 0.2627 | test_RMSE 0.2416 \n"
     ]
    },
    {
     "name": "stderr",
     "output_type": "stream",
     "text": [
      " 95%|█████████████████████████████████████▉  | 474/500 [00:04<00:00, 119.28it/s]"
     ]
    },
    {
     "name": "stdout",
     "output_type": "stream",
     "text": [
      "Epoch 00458 | Loss 0.0829 | train_RMSE 0.2617 | test_RMSE 0.2404 \n",
      "Epoch 00459 | Loss 0.0822 | train_RMSE 0.2619 | test_RMSE 0.2401 \n",
      "Epoch 00460 | Loss 0.0830 | train_RMSE 0.2622 | test_RMSE 0.2404 \n",
      "Epoch 00461 | Loss 0.0854 | train_RMSE 0.2617 | test_RMSE 0.2404 \n",
      "Epoch 00462 | Loss 0.0830 | train_RMSE 0.2618 | test_RMSE 0.2410 \n",
      "Epoch 00463 | Loss 0.0828 | train_RMSE 0.2616 | test_RMSE 0.2408 \n",
      "Epoch 00464 | Loss 0.0826 | train_RMSE 0.2618 | test_RMSE 0.2409 \n",
      "Epoch 00465 | Loss 0.0796 | train_RMSE 0.2617 | test_RMSE 0.2404 \n",
      "Epoch 00466 | Loss 0.0825 | train_RMSE 0.2611 | test_RMSE 0.2395 \n",
      "Epoch 00467 | Loss 0.0811 | train_RMSE 0.2612 | test_RMSE 0.2397 \n",
      "Epoch 00468 | Loss 0.0827 | train_RMSE 0.2614 | test_RMSE 0.2405 \n",
      "Epoch 00469 | Loss 0.0819 | train_RMSE 0.2613 | test_RMSE 0.2405 \n",
      "Epoch 00470 | Loss 0.0802 | train_RMSE 0.2607 | test_RMSE 0.2399 \n",
      "Epoch 00471 | Loss 0.0848 | train_RMSE 0.2605 | test_RMSE 0.2394 \n",
      "Epoch 00472 | Loss 0.0810 | train_RMSE 0.2605 | test_RMSE 0.2392 \n",
      "Epoch 00473 | Loss 0.0809 | train_RMSE 0.2618 | test_RMSE 0.2405 \n",
      "Epoch 00474 | Loss 0.0816 | train_RMSE 0.2610 | test_RMSE 0.2392 \n",
      "Epoch 00475 | Loss 0.0824 | train_RMSE 0.2601 | test_RMSE 0.2383 \n",
      "Epoch 00476 | Loss 0.0804 | train_RMSE 0.2596 | test_RMSE 0.2382 \n",
      "Epoch 00477 | Loss 0.0829 | train_RMSE 0.2595 | test_RMSE 0.2380 \n",
      "Epoch 00478 | Loss 0.0810 | train_RMSE 0.2596 | test_RMSE 0.2381 \n",
      "Epoch 00479 | Loss 0.0816 | train_RMSE 0.2599 | test_RMSE 0.2384 \n",
      "Epoch 00480 | Loss 0.0785 | train_RMSE 0.2596 | test_RMSE 0.2384 \n",
      "Epoch 00481 | Loss 0.0790 | train_RMSE 0.2590 | test_RMSE 0.2373 \n",
      "Epoch 00482 | Loss 0.0806 | train_RMSE 0.2591 | test_RMSE 0.2380 \n"
     ]
    },
    {
     "name": "stderr",
     "output_type": "stream",
     "text": [
      "100%|████████████████████████████████████████| 500/500 [00:04<00:00, 100.76it/s]"
     ]
    },
    {
     "name": "stdout",
     "output_type": "stream",
     "text": [
      "Epoch 00483 | Loss 0.0811 | train_RMSE 0.2597 | test_RMSE 0.2390 \n",
      "Epoch 00484 | Loss 0.0805 | train_RMSE 0.2592 | test_RMSE 0.2384 \n",
      "Epoch 00485 | Loss 0.0797 | train_RMSE 0.2592 | test_RMSE 0.2380 \n",
      "Epoch 00486 | Loss 0.0789 | train_RMSE 0.2586 | test_RMSE 0.2374 \n",
      "Epoch 00487 | Loss 0.0786 | train_RMSE 0.2582 | test_RMSE 0.2374 \n",
      "Epoch 00488 | Loss 0.0795 | train_RMSE 0.2585 | test_RMSE 0.2382 \n",
      "Epoch 00489 | Loss 0.0781 | train_RMSE 0.2582 | test_RMSE 0.2379 \n",
      "Epoch 00490 | Loss 0.0783 | train_RMSE 0.2580 | test_RMSE 0.2374 \n",
      "Epoch 00491 | Loss 0.0797 | train_RMSE 0.2575 | test_RMSE 0.2365 \n",
      "Epoch 00492 | Loss 0.0792 | train_RMSE 0.2576 | test_RMSE 0.2372 \n",
      "Epoch 00493 | Loss 0.0801 | train_RMSE 0.2584 | test_RMSE 0.2383 \n",
      "Epoch 00494 | Loss 0.0818 | train_RMSE 0.2578 | test_RMSE 0.2371 \n",
      "Epoch 00495 | Loss 0.0796 | train_RMSE 0.2573 | test_RMSE 0.2360 \n",
      "Epoch 00496 | Loss 0.0780 | train_RMSE 0.2570 | test_RMSE 0.2359 \n",
      "Epoch 00497 | Loss 0.0794 | train_RMSE 0.2587 | test_RMSE 0.2385 \n",
      "Epoch 00498 | Loss 0.0829 | train_RMSE 0.2595 | test_RMSE 0.2390 \n",
      "Epoch 00499 | Loss 0.0799 | train_RMSE 0.2573 | test_RMSE 0.2352 \n",
      "best loss: 0.07802587747573853\n",
      "Testing...\n",
      "MSE 0.2359\n"
     ]
    },
    {
     "name": "stderr",
     "output_type": "stream",
     "text": [
      "\n"
     ]
    }
   ],
   "source": [
    "device = torch.device(\"cuda\" if torch.cuda.is_available() else \"cpu\")\n",
    "\n",
    "pd.DataFrame(test_index).to_csv('experimental_data_combined/graph/test_index_experiment.csv', index=False)\n",
    "\n",
    "g = g.int()\n",
    "g = g.to(device)\n",
    "features = g.ndata[\"feat\"]\n",
    "labels = g.ndata[\"shift_value\"]\n",
    "# masks = g.ndata['train_mask'], g.ndata['test_mask']\n",
    "\n",
    "\n",
    "masks = g.ndata['train_hydrogen_mask'], g.ndata['test_hydrogen_mask']\n",
    "# masks = g.ndata['train_carbon_mask'], g.ndata['test_carbon_mask']\n",
    "\n",
    "\n",
    "print(features.dtype)\n",
    "print(labels.dtype)\n",
    "# model = NMR_GCN(in_size=576, hid_size=[256, 128, 64, 32], out_size=1).to(device)\n",
    "model = NMR_GCN(in_size=in_size, hid_size=[hidden_size_1, hidden_size_2,\n",
    "                                       hidden_size_3, hidden_size_4], out_size=1).to(device)\n",
    "# model training\n",
    "\n",
    "NMR_prediction = NMR_prediction(results_dir='experimental_data_combined/graph/experimental_results_all_hydrogen.csv',\n",
    "                                model_dir='experimental_data_combined/graph/Model_hydrogen_experiment.pt',\n",
    "                               num_epoch = num_epoch, \n",
    "                               lr = lr)\n",
    "\n",
    "\n",
    "# NMR_prediction = NMR_prediction(results_dir='experimental_data_combined/graph/experimental_results_all_carbon_simplify.csv',\n",
    "#                                 model_dir='experimental_data_combined/graph/Model_carbon_experiment_simplify.pt', \n",
    "#                                num_epoch = num_epoch, \n",
    "#                                lr = lr)\n",
    "\n",
    "\n",
    "print(\"Training...\")\n",
    "NMR_prediction.train(g, features, labels, masks, model)\n",
    "\n",
    "# test the model\n",
    "print(\"Testing...\")\n",
    "saved_model = NMR_GCN(in_size=in_size, hid_size=[hidden_size_1, hidden_size_2,\n",
    "                                                 hidden_size_3, hidden_size_4], out_size=1).to(device)\n",
    "saved_model.load_state_dict(torch.load(NMR_prediction.model_dir))\n",
    "acc = NMR_prediction.evaluate(g, features, labels, masks[1], saved_model, print_out=True)\n",
    "print(\"MSE {:.4f}\".format(acc))"
   ]
  },
  {
   "cell_type": "code",
   "execution_count": 14,
   "id": "463a34bf",
   "metadata": {},
   "outputs": [
    {
     "data": {
      "text/plain": [
       "Graph(num_nodes=14879, num_edges=46371,\n",
       "      ndata_schemes={'feat': Scheme(shape=(512,), dtype=torch.float32), 'shift_value': Scheme(shape=(), dtype=torch.float32), 'Carbon_Hydrogen_mask': Scheme(shape=(), dtype=torch.bool), 'train_mask': Scheme(shape=(), dtype=torch.bool), 'test_mask': Scheme(shape=(), dtype=torch.bool), 'train_carbon_mask': Scheme(shape=(), dtype=torch.bool), 'test_carbon_mask': Scheme(shape=(), dtype=torch.bool), 'train_hydrogen_mask': Scheme(shape=(), dtype=torch.bool), 'test_hydrogen_mask': Scheme(shape=(), dtype=torch.bool)}\n",
       "      edata_schemes={})"
      ]
     },
     "execution_count": 14,
     "metadata": {},
     "output_type": "execute_result"
    }
   ],
   "source": [
    "g"
   ]
  },
  {
   "cell_type": "code",
   "execution_count": 15,
   "id": "5f078f90",
   "metadata": {},
   "outputs": [],
   "source": [
    "# a = g.ndata['train_carbon_mask'].cpu().numpy()\n",
    "# b = g.ndata['test_carbon_mask'].cpu().numpy()"
   ]
  },
  {
   "cell_type": "code",
   "execution_count": 16,
   "id": "a5181aa7",
   "metadata": {},
   "outputs": [],
   "source": [
    "# np.where(a == 1), np.where(a == 1)[0].shape"
   ]
  },
  {
   "cell_type": "code",
   "execution_count": 17,
   "id": "25ee1ea4",
   "metadata": {},
   "outputs": [],
   "source": [
    "# np.where(b == 1), np.where(b == 1)[0].shape"
   ]
  },
  {
   "cell_type": "code",
   "execution_count": 18,
   "id": "27c7abff",
   "metadata": {},
   "outputs": [],
   "source": [
    "# df_visulize = pd.read_csv('experimental_data_combined/graph/experimental_results_all_carbon_simplify.csv')\n",
    "\n",
    "df_visulize = pd.read_csv('experimental_data_combined/graph/experimental_results_all_hydrogen.csv')"
   ]
  },
  {
   "cell_type": "code",
   "execution_count": 19,
   "id": "929e4f3d",
   "metadata": {},
   "outputs": [
    {
     "data": {
      "text/html": [
       "<div>\n",
       "<style scoped>\n",
       "    .dataframe tbody tr th:only-of-type {\n",
       "        vertical-align: middle;\n",
       "    }\n",
       "\n",
       "    .dataframe tbody tr th {\n",
       "        vertical-align: top;\n",
       "    }\n",
       "\n",
       "    .dataframe thead th {\n",
       "        text-align: right;\n",
       "    }\n",
       "</style>\n",
       "<table border=\"1\" class=\"dataframe\">\n",
       "  <thead>\n",
       "    <tr style=\"text-align: right;\">\n",
       "      <th></th>\n",
       "      <th>0</th>\n",
       "      <th>1</th>\n",
       "    </tr>\n",
       "  </thead>\n",
       "  <tbody>\n",
       "  </tbody>\n",
       "</table>\n",
       "</div>"
      ],
      "text/plain": [
       "Empty DataFrame\n",
       "Columns: [0, 1]\n",
       "Index: []"
      ]
     },
     "execution_count": 19,
     "metadata": {},
     "output_type": "execute_result"
    }
   ],
   "source": [
    "df_visulize.loc[df_visulize['1'] == -1]"
   ]
  },
  {
   "cell_type": "code",
   "execution_count": 20,
   "id": "5ec0b259",
   "metadata": {},
   "outputs": [],
   "source": [
    "df_visulize_v2 = df_visulize.loc[df_visulize['1'] != -1.00]"
   ]
  },
  {
   "cell_type": "code",
   "execution_count": 21,
   "id": "01e9637a",
   "metadata": {},
   "outputs": [],
   "source": [
    "df_visulize_v3 = df_visulize_v2.loc[df_visulize_v2['1'] < 120]\n",
    "df_visulize_v3 = df_visulize_v2"
   ]
  },
  {
   "cell_type": "code",
   "execution_count": 22,
   "id": "0a53a6de",
   "metadata": {},
   "outputs": [],
   "source": [
    "# df_visulize_v2.loc[df_visulize_v2['0'] < 170]"
   ]
  },
  {
   "cell_type": "code",
   "execution_count": 23,
   "id": "2cb0c228",
   "metadata": {},
   "outputs": [
    {
     "name": "stdout",
     "output_type": "stream",
     "text": [
      "The difference between actual and predicted values 0.23591\n"
     ]
    }
   ],
   "source": [
    "import math  \n",
    "import sklearn.metrics  \n",
    "actual = df_visulize_v3.loc[:, ['0']].values.reshape(-1)\n",
    "predicted = df_visulize_v3.loc[:, ['1']].values.reshape(-1)\n",
    "mse = sklearn.metrics.mean_squared_error(actual, predicted)  \n",
    "  \n",
    "rmse = np.round(math.sqrt(mse), 5)\n",
    "\n",
    "print(\"The difference between actual and predicted values\", rmse)  "
   ]
  },
  {
   "cell_type": "code",
   "execution_count": 24,
   "id": "64b5c126",
   "metadata": {},
   "outputs": [
    {
     "data": {
      "text/plain": [
       "0.05565435451213437"
      ]
     },
     "execution_count": 24,
     "metadata": {},
     "output_type": "execute_result"
    }
   ],
   "source": [
    "mse"
   ]
  },
  {
   "cell_type": "code",
   "execution_count": 25,
   "id": "af6680c9",
   "metadata": {},
   "outputs": [],
   "source": [
    "def plot_shift(df, ax, i, set_title_name = '', sep = 5, xlab_name = '', ylab_name = '', \n",
    "               color = 'grey', ms = 2, font_size = 20):\n",
    "    acctual_shit_1 = df['0'].values\n",
    "    predict_shit_1 = df['1'].values\n",
    "    low_limit = np.min([np.min(np.abs(acctual_shit_1)), np.min(np.abs(predict_shit_1))]) * 0.9\n",
    "    up_limit = np.max([np.max(np.abs(acctual_shit_1)), np.max(np.abs(predict_shit_1))]) * 1.1\n",
    "\n",
    "    sns.set_theme()\n",
    "    sns.set_style(\"whitegrid\")\n",
    "    x = np.linspace(low_limit, up_limit)\n",
    "    ax.plot(x, x, color=color, alpha=0.25, zorder=0)\n",
    "    \n",
    "    ax.scatter(acctual_shit_1, predict_shit_1, s = 20, label = 'Carbon, rmse =' + str(rmse), linewidths=0, color=color)\n",
    "    \n",
    "    ax.ticklabel_format(style=\"sci\", scilimits=(-4, 4))\n",
    "    ax.axis('square')\n",
    "    \n",
    "    ax.set_title(f'{set_title_name}', size = font_size)\n",
    "    ax.set_ylim(low_limit, up_limit)\n",
    "    ax.set_xlim(low_limit, up_limit)\n",
    "#     ax.grid()\n",
    "    grid_x_ticks = np.arange(low_limit, up_limit, (up_limit - low_limit) / sep)\n",
    "    grid_y_ticks = np.arange(low_limit, up_limit, (up_limit - low_limit) / sep)\n",
    "    \n",
    "    ax.set_xlabel(xlab_name, loc=\"center\", size = font_size)\n",
    "    ax.set_ylabel(ylab_name, loc=\"center\", size = font_size)\n",
    "#     ax.yaxis.set_label_coords(x = y_lab_xcoordinate, y = 0.5)\n",
    "    \n",
    "    ax.set_xticks(grid_x_ticks , minor=True)\n",
    "    \n",
    "    \n",
    "    ax.set_yticks(grid_y_ticks , minor=True)\n",
    "\n",
    "    ax.grid(which='both')\n",
    "\n",
    "    ax.grid(which='minor', alpha=1, linestyle='-')\n",
    "    ax.legend(fontsize = 18, markerscale=3)"
   ]
  },
  {
   "cell_type": "code",
   "execution_count": 26,
   "id": "67027a1e",
   "metadata": {},
   "outputs": [],
   "source": [
    "import seaborn as sns\n",
    "import matplotlib.pyplot as plt"
   ]
  },
  {
   "cell_type": "code",
   "execution_count": 27,
   "id": "626b5a65",
   "metadata": {
    "scrolled": true
   },
   "outputs": [
    {
     "data": {
      "image/png": "[encoded data removed]",
      "text/plain": [
       "<Figure size 800x800 with 1 Axes>"
      ]
     },
     "metadata": {},
     "output_type": "display_data"
    }
   ],
   "source": [
    "sns.set_theme(style=\"whitegrid\", font_scale=1)\n",
    "\n",
    "figure, axis = plt.subplots(1, 1, figsize=(8, 8), constrained_layout=False)\n",
    "# figure, axis = plt.subplots(1, 1, figsize=(12, 12), constrained_layout=False)\n",
    "# figure, axis = plt.subplots(3, 3, figsize=(8, 8))\n",
    "figure.tight_layout(rect=[0, 0.03, 1, 0.95], h_pad = 1, w_pad = 1)\n",
    "##### For node features\n",
    "# cora\n",
    "# plot_infl_feature(df1, axis, 0, 0, set_title_name='$\\it{Cora}$', \n",
    "#                   xlab_name='Pred. Feat. Infl.', ylab_name = 'Act. Embed. Infl.')\n",
    "\n",
    "# plot_shift(df_visulize_v3, axis, i = 0, set_title_name = 'Carbon Shift Prediction', sep = 5, xlab_name = 'Pred. Shift', \n",
    "#            ylab_name = 'Act. Shift', color = '#4F4536', ms = 5)\n",
    "plot_shift(df_visulize_v2, axis, i = 0, set_title_name = 'Hydrogen shift prediction', sep = 5, xlab_name = 'Pred. Shift', \n",
    "           ylab_name = 'Act. Shift', color = '#679399', ms = 5)\n",
    "\n",
    "plt.show()"
   ]
  },
  {
   "cell_type": "code",
   "execution_count": null,
   "id": "17eda985",
   "metadata": {},
   "outputs": [],
   "source": []
  },
  {
   "cell_type": "code",
   "execution_count": null,
   "id": "8c8e94fd",
   "metadata": {},
   "outputs": [],
   "source": []
  },
  {
   "cell_type": "code",
   "execution_count": null,
   "id": "b0fb4ae6",
   "metadata": {},
   "outputs": [],
   "source": []
  },
  {
   "cell_type": "code",
   "execution_count": 28,
   "id": "ec5b3abc",
   "metadata": {},
   "outputs": [
    {
     "data": {
      "text/html": [
       "<div>\n",
       "<style scoped>\n",
       "    .dataframe tbody tr th:only-of-type {\n",
       "        vertical-align: middle;\n",
       "    }\n",
       "\n",
       "    .dataframe tbody tr th {\n",
       "        vertical-align: top;\n",
       "    }\n",
       "\n",
       "    .dataframe thead th {\n",
       "        text-align: right;\n",
       "    }\n",
       "</style>\n",
       "<table border=\"1\" class=\"dataframe\">\n",
       "  <thead>\n",
       "    <tr style=\"text-align: right;\">\n",
       "      <th></th>\n",
       "      <th>0</th>\n",
       "      <th>1</th>\n",
       "    </tr>\n",
       "  </thead>\n",
       "  <tbody>\n",
       "    <tr>\n",
       "      <th>0</th>\n",
       "      <td>5.115636</td>\n",
       "      <td>5.070</td>\n",
       "    </tr>\n",
       "    <tr>\n",
       "      <th>1</th>\n",
       "      <td>4.000951</td>\n",
       "      <td>4.320</td>\n",
       "    </tr>\n",
       "    <tr>\n",
       "      <th>2</th>\n",
       "      <td>3.906297</td>\n",
       "      <td>3.940</td>\n",
       "    </tr>\n",
       "    <tr>\n",
       "      <th>3</th>\n",
       "      <td>4.018157</td>\n",
       "      <td>4.000</td>\n",
       "    </tr>\n",
       "    <tr>\n",
       "      <th>4</th>\n",
       "      <td>3.868309</td>\n",
       "      <td>3.850</td>\n",
       "    </tr>\n",
       "    <tr>\n",
       "      <th>...</th>\n",
       "      <td>...</td>\n",
       "      <td>...</td>\n",
       "    </tr>\n",
       "    <tr>\n",
       "      <th>283</th>\n",
       "      <td>4.170836</td>\n",
       "      <td>3.933</td>\n",
       "    </tr>\n",
       "    <tr>\n",
       "      <th>284</th>\n",
       "      <td>5.306763</td>\n",
       "      <td>5.085</td>\n",
       "    </tr>\n",
       "    <tr>\n",
       "      <th>285</th>\n",
       "      <td>4.072030</td>\n",
       "      <td>3.849</td>\n",
       "    </tr>\n",
       "    <tr>\n",
       "      <th>286</th>\n",
       "      <td>4.066091</td>\n",
       "      <td>3.951</td>\n",
       "    </tr>\n",
       "    <tr>\n",
       "      <th>287</th>\n",
       "      <td>4.017306</td>\n",
       "      <td>4.037</td>\n",
       "    </tr>\n",
       "  </tbody>\n",
       "</table>\n",
       "<p>288 rows × 2 columns</p>\n",
       "</div>"
      ],
      "text/plain": [
       "            0      1\n",
       "0    5.115636  5.070\n",
       "1    4.000951  4.320\n",
       "2    3.906297  3.940\n",
       "3    4.018157  4.000\n",
       "4    3.868309  3.850\n",
       "..        ...    ...\n",
       "283  4.170836  3.933\n",
       "284  5.306763  5.085\n",
       "285  4.072030  3.849\n",
       "286  4.066091  3.951\n",
       "287  4.017306  4.037\n",
       "\n",
       "[288 rows x 2 columns]"
      ]
     },
     "execution_count": 28,
     "metadata": {},
     "output_type": "execute_result"
    }
   ],
   "source": [
    "df_visulize_v2"
   ]
  },
  {
   "cell_type": "code",
   "execution_count": 29,
   "id": "930982a8",
   "metadata": {},
   "outputs": [
    {
     "data": {
      "text/plain": [
       "234177"
      ]
     },
     "execution_count": 29,
     "metadata": {},
     "output_type": "execute_result"
    }
   ],
   "source": [
    "def count_parameters(model):\n",
    "    return sum(p.numel() for p in model.parameters() if p.requires_grad)\n",
    "count_parameters(model)"
   ]
  },
  {
   "cell_type": "code",
   "execution_count": null,
   "id": "aff4ebcd",
   "metadata": {},
   "outputs": [],
   "source": []
  }
 ],
 "metadata": {
  "kernelspec": {
   "display_name": "Python 3 (ipykernel)",
   "language": "python",
   "name": "python3"
  },
  "language_info": {
   "codemirror_mode": {
    "name": "ipython",
    "version": 3
   },
   "file_extension": ".py",
   "mimetype": "text/x-python",
   "name": "python",
   "nbconvert_exporter": "python",
   "pygments_lexer": "ipython3",
   "version": "3.8.15"
  }
 },
 "nbformat": 4,
 "nbformat_minor": 5
}
