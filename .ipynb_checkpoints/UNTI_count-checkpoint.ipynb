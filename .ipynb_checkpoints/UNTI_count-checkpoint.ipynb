{
 "cells": [
  {
   "cell_type": "code",
   "execution_count": 10,
   "id": "03102f81",
   "metadata": {},
   "outputs": [],
   "source": [
    "import pandas as pd\n",
    "import numpy as np\n",
    "import os"
   ]
  },
  {
   "cell_type": "code",
   "execution_count": 11,
   "id": "8c8b55d1",
   "metadata": {},
   "outputs": [],
   "source": [
    "def check_unti(path_pdb, file_name, UNTI = 'UNTI'):\n",
    "    with open(os.path.join(path_pdb, file_name)) as f:\n",
    "        f = f.readlines()\n",
    "        f = f[2:-1] # exclude glycan name etc\n",
    "        fourthval = [i.split()[3] for i in f]\n",
    "        num_total = len(fourthval)\n",
    "        num_missing = np.sum(np.array(fourthval) == UNTI)\n",
    "    return num_total, num_missing"
   ]
  },
  {
   "cell_type": "code",
   "execution_count": 12,
   "id": "77bb2297",
   "metadata": {},
   "outputs": [],
   "source": [
    "dir_list = []\n",
    "file_list = []\n",
    "missing_list = []\n",
    "total_list = []\n",
    "files = os.listdir()\n",
    "dir_name = [f for f in files if '-2022' in f]\n",
    "for path_pdb in dir_name:\n",
    "\n",
    "    files = os.listdir(path_pdb)\n",
    "    files_pdb = [f for f in files if '.pdb' in f]\n",
    "    \n",
    "    for file_name in files_pdb:\n",
    "\n",
    "        temp_total, temp_missing = check_unti(path_pdb, file_name)\n",
    "        \n",
    "        dir_list.append(path_pdb)\n",
    "        file_list.append(file_name)\n",
    "        missing_list.append(temp_missing)\n",
    "        total_list.append(temp_total)\n",
    "        \n",
    "df_summary = pd.DataFrame([dir_list, dir_name, missing_list, total_list]).T\n",
    "df_summary.columns = ['Directory name', 'PDB file name', 'Number of missing with UNTI', 'Number of rows']"
   ]
  },
  {
   "cell_type": "code",
   "execution_count": 14,
   "id": "05c1d5dd",
   "metadata": {},
   "outputs": [],
   "source": [
    "df_summary.to_csv('pdb_summary.csv', index = False)"
   ]
  },
  {
   "cell_type": "code",
   "execution_count": 18,
   "id": "4cdd2d15",
   "metadata": {},
   "outputs": [
    {
     "data": {
      "text/plain": [
       "432"
      ]
     },
     "execution_count": 18,
     "metadata": {},
     "output_type": "execute_result"
    }
   ],
   "source": [
    "np.sum(np.array(missing_list) != 0)"
   ]
  },
  {
   "cell_type": "code",
   "execution_count": 20,
   "id": "4be2850d",
   "metadata": {},
   "outputs": [
    {
     "data": {
      "text/plain": [
       "474"
      ]
     },
     "execution_count": 20,
     "metadata": {},
     "output_type": "execute_result"
    }
   ],
   "source": [
    "len(missing_list)"
   ]
  }
 ],
 "metadata": {
  "kernelspec": {
   "display_name": "Python 3 (ipykernel)",
   "language": "python",
   "name": "python3"
  },
  "language_info": {
   "codemirror_mode": {
    "name": "ipython",
    "version": 3
   },
   "file_extension": ".py",
   "mimetype": "text/x-python",
   "name": "python",
   "nbconvert_exporter": "python",
   "pygments_lexer": "ipython3",
   "version": "3.8.12"
  }
 },
 "nbformat": 4,
 "nbformat_minor": 5
}
