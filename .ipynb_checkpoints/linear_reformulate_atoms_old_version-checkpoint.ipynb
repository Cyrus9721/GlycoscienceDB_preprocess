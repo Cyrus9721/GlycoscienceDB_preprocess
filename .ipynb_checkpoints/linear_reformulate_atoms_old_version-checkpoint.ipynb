{
 "cells": [
  {
   "cell_type": "code",
   "execution_count": 10,
   "id": "b1787fbe",
   "metadata": {},
   "outputs": [],
   "source": [
    "import numpy as np\n",
    "import pandas as pd\n",
    "import os\n",
    "from tqdm import tqdm\n",
    "import torch\n",
    "import torch.nn as nn\n",
    "\n",
    "from train_evaluate import NMR_prediction\n",
    "import torch.nn.functional as F\n",
    "import dgl\n",
    "import dgl.nn as dglnn\n",
    "import torch.nn as nn\n",
    "from dgl import AddSelfLoop\n",
    "from model_zoo.NMR_gcn import NMR_GCN\n",
    "from create_graph_data_experiment import create_graph_experiment\n",
    "from node_embeddings import create_node_embeddings\n",
    "from create_adjaency_matrix_from_labeled_pdb import build_adjacency_matrix\n",
    "from tqdm import tqdm"
   ]
  },
  {
   "cell_type": "code",
   "execution_count": 15,
   "id": "3af81059",
   "metadata": {},
   "outputs": [],
   "source": [
    "pdb_dir = 'experimental_data/FullyAnnotatedPDB_pdb_labeled/'\n",
    "labeled_csv_dir = 'experimental_data/FullyAnnotatedPDB_label_assigned_residual_num/'\n",
    "\n",
    "pdb_files = os.listdir(pdb_dir)\n",
    "pdb_res_names = []\n",
    "for f in pdb_files:\n",
    "    tempf = pd.read_csv(os.path.join(pdb_dir, f))\n",
    "    pdb_res_names.extend(tempf['Monosaccharide_belong'].values)\n",
    "    if '1H6' in tempf['Monosaccharide_belong'].values:\n",
    "        print(f)\n",
    "pdb_res_names = np.unique(pdb_res_names)"
   ]
  },
  {
   "cell_type": "code",
   "execution_count": 17,
   "id": "88e637ad",
   "metadata": {},
   "outputs": [],
   "source": [
    "csv_files = os.listdir(labeled_csv_dir)\n",
    "for k in csv_files:\n",
    "    tempk = pd.read_csv(os.path.join(labeled_csv_dir, k))"
   ]
  },
  {
   "cell_type": "code",
   "execution_count": 18,
   "id": "22b8de7b",
   "metadata": {},
   "outputs": [
    {
     "data": {
      "text/plain": [
       "array(['A2G', 'AGL', 'ALX', 'ARA', 'ARE', 'BM3', 'BM7', 'BMA', 'CH3',\n",
       "       'FCA', 'FCB', 'FRU', 'FUC', 'G6P', 'GAL', 'GCS', 'GDL', 'GLA',\n",
       "       'GLB', 'GLC', 'GP1', 'GUL', 'IDE', 'KDO', 'LYX', 'MAN',\n",
       "       'Missing monosaccharide', 'NAG', 'NGA', 'PO3', 'RAM', 'RIB', 'RIP',\n",
       "       'XYP', 'XYS', 'Z9M'], dtype='<U22')"
      ]
     },
     "execution_count": 18,
     "metadata": {},
     "output_type": "execute_result"
    }
   ],
   "source": [
    "pdb_res_names"
   ]
  },
  {
   "cell_type": "code",
   "execution_count": 6,
   "id": "d5c7e1f0",
   "metadata": {},
   "outputs": [],
   "source": [
    "df_a = pd.read_csv('experimental_data/graph/linear_embedding/atom_embed.csv')"
   ]
  },
  {
   "cell_type": "code",
   "execution_count": 7,
   "id": "f9eff796",
   "metadata": {},
   "outputs": [
    {
     "data": {
      "text/plain": [
       "array(['1H6', '1HC1', '1HM1', '1HM2', '1HM3', '1HM4', '1HN2', '1HN4',\n",
       "       '1OP', '1OS2', '1OS3', '1OS4', '2H6', '2HC1', '2HM1', '2HM2',\n",
       "       '2HM3', '2HM4', '2HN2', '2HN4', '2OP', '2OS2', '2OS3', '2OS4',\n",
       "       '3H6', '3HM1', '3HM2', '3HM3', '3HM4', '3OP', 'C', 'C1', 'C2',\n",
       "       'C3', 'C4', 'C5', 'C6', 'C7', 'C8', 'CM1', 'CM2', 'CM3', 'CM4',\n",
       "       'CO1', 'CO2', 'CO3', 'CO4', 'H', 'H1', 'H10', 'H11', 'H12', 'H13',\n",
       "       'H14', 'H15', 'H16', 'H2', 'H3', 'H3A', 'H3E', 'H4', 'H5', 'H5A',\n",
       "       'H5E', 'H5R', 'H5S', 'H6', 'H6R', 'H6S', 'H7', 'H8', 'H8R', 'H8S',\n",
       "       'H9', 'HN1', 'HN2', 'HN3', 'HN4', 'HO1', 'HO2', 'HO3', 'HO4',\n",
       "       'HO5', 'HO6', 'HO7', 'HO8', 'N1', 'N2', 'N3', 'N4', 'NH2', 'NH4',\n",
       "       'O', 'O1', 'O2', 'O3', 'O4', 'O5', 'O6', 'O8', 'OC1', 'OC2', 'OC3',\n",
       "       'OC4', 'OH1', 'OH2', 'OH3', 'OH4', 'OH5', 'OH6', 'OH7', 'OH8',\n",
       "       'OS2', 'OS3', 'OS4', 'P0', 'S2', 'S3', 'S4'], dtype='<U4')"
      ]
     },
     "execution_count": 7,
     "metadata": {},
     "output_type": "execute_result"
    }
   ],
   "source": [
    "temp_columns = df_a.columns.values\n",
    "temp_columns = list(temp_columns.astype(np.str))\n",
    "np.array(temp_columns)"
   ]
  },
  {
   "cell_type": "code",
   "execution_count": 4,
   "id": "54ea9c19",
   "metadata": {},
   "outputs": [],
   "source": [
    "new_columns = np.repeat('a', len(temp_columns))\n",
    "new_columns = list(new_columns.astype(str))"
   ]
  },
  {
   "cell_type": "code",
   "execution_count": 5,
   "id": "5e782208",
   "metadata": {},
   "outputs": [],
   "source": [
    "HM_index = [i for i in range(len(temp_columns)) if 'HM' in temp_columns[i]]\n",
    "HN_index = [i for i in range(len(temp_columns)) if 'HN' in temp_columns[i]]\n",
    "OS_index = [i for i in range(len(temp_columns)) if 'OS' in temp_columns[i]]\n",
    "OP_index = [i for i in range(len(temp_columns)) if 'OP' in temp_columns[i]]\n",
    "OC_index = [i for i in range(len(temp_columns)) if 'OC' in temp_columns[i]]\n",
    "CM_index = [i for i in range(len(temp_columns)) if 'CM' in temp_columns[i]]\n",
    "CO_index = [i for i in range(len(temp_columns)) if 'CO' in temp_columns[i]]\n",
    "HO_index = [i for i in range(len(temp_columns)) if 'HO' in temp_columns[i]]\n",
    "OH_index = [i for i in range(len(temp_columns)) if 'OH' in temp_columns[i]]"
   ]
  },
  {
   "cell_type": "code",
   "execution_count": 6,
   "id": "49bc404b",
   "metadata": {},
   "outputs": [],
   "source": [
    "for j in range(len(temp_columns)):\n",
    "    if temp_columns[j] in ['1H6', 'H6']:\n",
    "        new_columns[j] = str('H6')\n",
    "    if temp_columns[j] in ['1HC1', '2HC1']:\n",
    "        new_columns[j] = 'HC'\n",
    "    \n",
    "    if j in HM_index:\n",
    "        new_columns[j] = 'HM'\n",
    "        \n",
    "    if j in HN_index:\n",
    "        new_columns[j] = 'HN'\n",
    "        \n",
    "    if j in OS_index:\n",
    "        new_columns[j] = 'OS'\n",
    "        \n",
    "    if j in OP_index:\n",
    "        new_columns[j] = 'OP'\n",
    "        \n",
    "    if j in OC_index:\n",
    "        new_columns[j] = 'OC'\n",
    "    \n",
    "    if j in CM_index:\n",
    "        new_columns[j] = 'CM'\n",
    "    if j in CO_index:\n",
    "        new_columns[j] = 'CO'\n",
    "        \n",
    "    if j in HO_index:\n",
    "        new_columns[j] = 'H' \n",
    "    \n",
    "    if j in OH_index:\n",
    "        new_columns[j] = 'OH'\n",
    "    \n",
    "    if temp_columns[j] in ['C1', 'C2', 'C3', 'C4', 'C5', 'C6', 'H2', 'H3', 'H4', 'H5', 'H6', 'P0']:\n",
    "        new_columns[j] = temp_columns[j]\n",
    "    if temp_columns[j] in ['C', 'C7', 'C8']:\n",
    "        new_columns[j] = 'C'\n",
    "    \n",
    "    if temp_columns[j] in ['H1', 'H10', 'H11', 'H12', 'H13', 'H14', 'H15', 'H16']:\n",
    "        new_columns[j] = 'H1'\n",
    "    \n",
    "    if temp_columns[j] in ['H', 'H7', 'H8', 'H8R', 'H8S', 'H9']:\n",
    "        new_columns[j] = 'H'\n",
    "    if temp_columns[j] in ['H3A', 'H3E']:\n",
    "        new_columns[j] = 'H3'\n",
    "    if temp_columns[j] in ['H4A', 'H4E']:\n",
    "        new_columns[j] = 'H4'\n",
    "    \n",
    "    if temp_columns[j] in ['H5A', 'H5E', 'H5R', 'H5S']:\n",
    "        new_columns[j] = 'H5'\n",
    "        \n",
    "    if temp_columns[j] in ['H6R', 'H6S']:\n",
    "        new_columns[j] = 'H6'\n",
    "        \n",
    "    if temp_columns[j] in ['N1', 'N2', 'N3', 'N4','NH2', 'NH4']:\n",
    "        new_columns[j] = 'N'\n",
    "    \n",
    "    if temp_columns[j] in ['O', 'O1', 'O2', 'O3', 'O4', 'O5', 'O6', 'O8']:\n",
    "        new_columns[j] = 'O'\n",
    "        \n",
    "    if temp_columns[j] in ['S2', 'S3', 'S4']:\n",
    "        new_columns[j] = 'S'"
   ]
  },
  {
   "cell_type": "code",
   "execution_count": 7,
   "id": "266ab470",
   "metadata": {},
   "outputs": [
    {
     "data": {
      "text/plain": [
       "array(['1H6', '1HC1', '1HM1', '1HM2', '1HM3', '1HM4', '1HN2', '1HN4',\n",
       "       '1OP', '1OS2', '1OS3', '1OS4', '2H6', '2HC1', '2HM1', '2HM2',\n",
       "       '2HM3', '2HM4', '2HN2', '2HN4', '2OP', '2OS2', '2OS3', '2OS4',\n",
       "       '3H6', '3HM1', '3HM2', '3HM3', '3HM4', '3OP', 'C', 'C1', 'C2',\n",
       "       'C3', 'C4', 'C5', 'C6', 'C7', 'C8', 'CM1', 'CM2', 'CM3', 'CM4',\n",
       "       'CO1', 'CO2', 'CO3', 'CO4', 'H', 'H1', 'H10', 'H11', 'H12', 'H13',\n",
       "       'H14', 'H15', 'H16', 'H2', 'H3', 'H3A', 'H3E', 'H4', 'H4A', 'H4E',\n",
       "       'H5', 'H5A', 'H5E', 'H5R', 'H5S', 'H6', 'H6R', 'H6S', 'H7', 'H8',\n",
       "       'H8R', 'H8S', 'H9', 'HN1', 'HN2', 'HN3', 'HN4', 'HO1', 'HO2',\n",
       "       'HO3', 'HO4', 'HO5', 'HO6', 'HO7', 'HO8', 'N1', 'N2', 'N3', 'N4',\n",
       "       'NH2', 'NH4', 'O', 'O1', 'O2', 'O3', 'O4', 'O5', 'O6', 'O8', 'OC1',\n",
       "       'OC2', 'OC3', 'OC4', 'OH1', 'OH2', 'OH3', 'OH4', 'OH5', 'OH6',\n",
       "       'OH7', 'OH8', 'OS2', 'OS3', 'OS4', 'P0', 'S2', 'S3', 'S4'],\n",
       "      dtype='<U4')"
      ]
     },
     "execution_count": 7,
     "metadata": {},
     "output_type": "execute_result"
    }
   ],
   "source": [
    "np.array(temp_columns)"
   ]
  },
  {
   "cell_type": "code",
   "execution_count": 8,
   "id": "d8c0184c",
   "metadata": {},
   "outputs": [
    {
     "data": {
      "text/plain": [
       "array(['H6', 'HC', 'HM', 'HM', 'HM', 'HM', 'HN', 'HN', 'OP', 'OS', 'OS',\n",
       "       'OS', 'a', 'HC', 'HM', 'HM', 'HM', 'HM', 'HN', 'HN', 'OP', 'OS',\n",
       "       'OS', 'OS', 'a', 'HM', 'HM', 'HM', 'HM', 'OP', 'C', 'C1', 'C2',\n",
       "       'C3', 'C4', 'C5', 'C6', 'C', 'C', 'CM', 'CM', 'CM', 'CM', 'CO',\n",
       "       'CO', 'CO', 'CO', 'H', 'H1', 'H1', 'H1', 'H1', 'H1', 'H1', 'H1',\n",
       "       'H1', 'H2', 'H3', 'H3', 'H3', 'H4', 'H4', 'H4', 'H5', 'H5', 'H5',\n",
       "       'H5', 'H5', 'H6', 'H6', 'H6', 'H', 'H', 'H', 'H', 'H', 'HN', 'HN',\n",
       "       'HN', 'HN', 'HO', 'HO', 'HO', 'HO', 'HO', 'HO', 'HO', 'HO', 'N',\n",
       "       'N', 'N', 'N', 'N', 'N', 'O', 'O', 'O', 'O', 'O', 'O', 'O', 'O',\n",
       "       'OC', 'OC', 'OC', 'OC', 'OH', 'OH', 'OH', 'OH', 'OH', 'OH', 'OH',\n",
       "       'OH', 'OS', 'OS', 'OS', 'P0', 'S', 'S', 'S'], dtype='<U2')"
      ]
     },
     "execution_count": 8,
     "metadata": {},
     "output_type": "execute_result"
    }
   ],
   "source": [
    "np.array(new_columns)"
   ]
  },
  {
   "cell_type": "code",
   "execution_count": 9,
   "id": "7063f1c6",
   "metadata": {},
   "outputs": [],
   "source": [
    "df_new = df_a.T.copy()\n",
    "df_new.index = range(len(df_new))"
   ]
  },
  {
   "cell_type": "code",
   "execution_count": 10,
   "id": "24407a80",
   "metadata": {},
   "outputs": [],
   "source": [
    "for k in range(len(temp_columns)):\n",
    "    current_atom = new_columns[k]\n",
    "    idx = np.where(np.array(new_columns) == current_atom)[0]\n",
    "    current_mean = np.array(df_new.loc[list(idx), :]).mean(axis = 0)\n",
    "    df_new.loc[list(idx), :] = current_mean"
   ]
  },
  {
   "cell_type": "code",
   "execution_count": 11,
   "id": "fcef35a4",
   "metadata": {},
   "outputs": [],
   "source": [
    "out_df = df_new.T\n",
    "out_df.columns = temp_columns\n",
    "out_df.to_csv('experimental_data/graph/atom_embed_simplify.csv', index = False)"
   ]
  },
  {
   "cell_type": "code",
   "execution_count": 19,
   "id": "cd2146a2",
   "metadata": {},
   "outputs": [
    {
     "data": {
      "text/plain": [
       "array(['C1', 'C2', 'C3', 'C4', 'C5', 'C6', 'CM', 'CM2', 'H1', 'H2', 'H22',\n",
       "       'H23', 'H3', 'H4', 'H5', 'H6', 'H61', 'H62', 'HM', 'HM1', 'HM2',\n",
       "       'HM3', 'HM4', 'HO1', 'HO2', 'HO3', 'HO4', 'HO6', 'NM', 'O1', 'O2',\n",
       "       'O3', 'O4', 'O5', 'O6', 'OM', 'OM1', 'OM2', 'OM3', 'OR', 'SM'],\n",
       "      dtype=object)"
      ]
     },
     "execution_count": 19,
     "metadata": {},
     "output_type": "execute_result"
    }
   ],
   "source": [
    "pd.read_csv('graph/atom_embed.csv').columns.values"
   ]
  },
  {
   "cell_type": "code",
   "execution_count": null,
   "id": "1740ae34",
   "metadata": {},
   "outputs": [],
   "source": [
    "df_predict = pd.read_csv('results/results_all_carbon.csv')"
   ]
  }
 ],
 "metadata": {
  "kernelspec": {
   "display_name": "Python 3 (ipykernel)",
   "language": "python",
   "name": "python3"
  },
  "language_info": {
   "codemirror_mode": {
    "name": "ipython",
    "version": 3
   },
   "file_extension": ".py",
   "mimetype": "text/x-python",
   "name": "python",
   "nbconvert_exporter": "python",
   "pygments_lexer": "ipython3",
   "version": "3.8.12"
  }
 },
 "nbformat": 4,
 "nbformat_minor": 5
}
