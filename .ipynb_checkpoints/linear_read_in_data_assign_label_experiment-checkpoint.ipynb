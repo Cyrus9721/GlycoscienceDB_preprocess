{
 "cells": [
  {
   "cell_type": "code",
   "execution_count": 1,
   "id": "f5ff72ea",
   "metadata": {},
   "outputs": [],
   "source": [
    "import numpy as np\n",
    "import pandas as pd\n",
    "import os\n",
    "import re\n",
    "from tqdm import tqdm"
   ]
  },
  {
   "cell_type": "code",
   "execution_count": 2,
   "id": "00c9a0e5",
   "metadata": {},
   "outputs": [],
   "source": [
    "import dgl\n",
    "import torch\n",
    "import torch.nn as nn\n",
    "from dgl.data import CoraGraphDataset\n"
   ]
  },
  {
   "cell_type": "code",
   "execution_count": 3,
   "id": "71c4e1e8",
   "metadata": {},
   "outputs": [],
   "source": [
    "import torch\n",
    "import torch.nn as nn\n",
    "import torch.nn.functional as F\n",
    "import dgl\n",
    "import dgl.nn as dglnn\n",
    "from create_graph_data import create_graph\n",
    "from model_zoo.NMR_gcn import NMR_GCN\n",
    "from dgl import AddSelfLoop\n",
    "from train_evaluate import NMR_prediction\n",
    "from sklearn.metrics import mean_squared_error\n",
    "from biopandas.pdb import PandasPdb"
   ]
  },
  {
   "cell_type": "code",
   "execution_count": 4,
   "id": "2dd6985c",
   "metadata": {},
   "outputs": [],
   "source": [
    "pd.set_option('display.max_rows', 100+1)"
   ]
  },
  {
   "cell_type": "code",
   "execution_count": 5,
   "id": "55de7396",
   "metadata": {},
   "outputs": [],
   "source": [
    "experimental_data_dir = 'experimental_data/FullyAnnotatedPDB_V2/'"
   ]
  },
  {
   "cell_type": "code",
   "execution_count": 6,
   "id": "af2674cb",
   "metadata": {},
   "outputs": [],
   "source": [
    "combined_files = os.listdir(experimental_data_dir)"
   ]
  },
  {
   "cell_type": "code",
   "execution_count": 7,
   "id": "e2b1b8e4",
   "metadata": {},
   "outputs": [],
   "source": [
    "ppdb_df = PandasPdb().read_pdb('experimental_data/FullyAnnotatedPDB_V2/DB12634.pdb')\n",
    "HETATM_df = ppdb_df.df['HETATM']"
   ]
  },
  {
   "cell_type": "code",
   "execution_count": 8,
   "id": "86412f16",
   "metadata": {},
   "outputs": [
    {
     "data": {
      "text/plain": [
       "Index(['record_name', 'atom_number', 'blank_1', 'atom_name', 'alt_loc',\n",
       "       'residue_name', 'blank_2', 'chain_id', 'residue_number', 'insertion',\n",
       "       'blank_3', 'x_coord', 'y_coord', 'z_coord', 'occupancy', 'b_factor',\n",
       "       'blank_4', 'segment_id', 'element_symbol', 'charge', 'line_idx'],\n",
       "      dtype='object')"
      ]
     },
     "execution_count": 8,
     "metadata": {},
     "output_type": "execute_result"
    }
   ],
   "source": [
    "HETATM_df.columns"
   ]
  },
  {
   "cell_type": "code",
   "execution_count": 9,
   "id": "da91f356",
   "metadata": {},
   "outputs": [],
   "source": [
    "# PandasPdb().read_pdb('experimental_data/FullyAnnotatedPDB_V2/a-D-Galp.pdb').df['HETATM']"
   ]
  },
  {
   "cell_type": "markdown",
   "id": "e9d909a4",
   "metadata": {},
   "source": [
    "##### 1, Extract linear glycans"
   ]
  },
  {
   "cell_type": "code",
   "execution_count": 10,
   "id": "5b98953a",
   "metadata": {},
   "outputs": [
    {
     "name": "stdout",
     "output_type": "stream",
     "text": [
      "Galb3(Fuca4)GlcNAcb.csv branching glycans: Fuca4\n",
      "Gala1-3(Fuca1-2)Galb.csv branching glycans: Fuca1-2\n",
      "Galb3(Fuca4)GlcNAcb.pdb branching glycans: Fuca4\n",
      "NeuAca2-3Galb1-3( NeuAca2-3Galb1-4GlcNAc b1-6)GalNAc.pdb branching glycans:  NeuAca2-3Galb1-4GlcNAc b1-6\n",
      "NeuAca2-3Galb1-3( NeuAca2-3Galb1-4GlcNAc b1-6)GalNAc.csv branching glycans:  NeuAca2-3Galb1-4GlcNAc b1-6\n",
      "Gala1-3(Fuca1-2)Galb.pdb branching glycans: Fuca1-2\n"
     ]
    }
   ],
   "source": [
    "linear_glycan_list = []\n",
    "for i in range(len(combined_files)):\n",
    "    \n",
    "    temp_square_bracket_content = re.search(r\"\\[(.*?)\\]\", combined_files[i])\n",
    "    bracket_list = re.findall(\"\\((.*?)\\)\", combined_files[i])\n",
    "    \n",
    "    \n",
    "    if 'DB' in combined_files[i]:\n",
    "        continue\n",
    "    \n",
    "    elif temp_square_bracket_content is not None:\n",
    "        continue\n",
    "    \n",
    "    elif bracket_list:\n",
    "        for s in bracket_list:\n",
    "            temp_m = re.search('[a-zA-Z]', s)\n",
    "            # check branching, (O-1) etc. is fine \n",
    "            if temp_m and ('O-' not in s):\n",
    "                print(combined_files[i], 'branching glycans:', s)\n",
    "                \n",
    "            else:\n",
    "                linear_glycan_list.append(combined_files[i])\n",
    "    else:\n",
    "    \n",
    "\n",
    "        linear_glycan_list.append(combined_files[i])\n",
    "linear_glycan_list = np.unique(linear_glycan_list)"
   ]
  },
  {
   "cell_type": "markdown",
   "id": "30101de7",
   "metadata": {},
   "source": [
    "##### 2 Find unmatched glycans"
   ]
  },
  {
   "cell_type": "code",
   "execution_count": 11,
   "id": "4fc21915",
   "metadata": {},
   "outputs": [
    {
     "name": "stdout",
     "output_type": "stream",
     "text": [
      "\n",
      "missing pdb files given .csv\n",
      "Repeat-4)-a-D-Manp-(1-4)-a-D-GalpA-(1-3)-b-D-GlcpNAc-(1-2)-a-D-Galp-(1-3)-a-L-Rhap2Ac-(1-.csv\n",
      "\n",
      "missing pdb files given .csv\n",
      "Repeat-4)-b-D-GlcpA-(1-6)-a-D-Glcp-(1-4)-b-D-Galp-(1-4)-b-D-Glcp-(1-.csv\n"
     ]
    }
   ],
   "source": [
    "csv_list = []\n",
    "pdb_list = []\n",
    "for j in range(len(linear_glycan_list)):\n",
    "    temp_f = linear_glycan_list[j]\n",
    "    \n",
    "    if '.csv' in temp_f:\n",
    "        temp_f_replace_csv = temp_f.replace('.csv', '.pdb')\n",
    "        temp_f_delete_csv = temp_f.replace('.csv', '')\n",
    "        \n",
    "        if temp_f_replace_csv in linear_glycan_list:\n",
    "            csv_list.append(temp_f)\n",
    "            pass\n",
    "        else:\n",
    "            print('')\n",
    "            print('missing pdb files given .csv')\n",
    "            print(temp_f)\n",
    "        \n",
    "    \n",
    "    if '.pdb' in temp_f:\n",
    "        \n",
    "        temp_f_replace_pdb = temp_f.replace('.pdb', '.csv')\n",
    "        temp_f_delete_pdb = temp_f.replace('.pdb', '')\n",
    "    \n",
    "        if temp_f_replace_pdb in linear_glycan_list:\n",
    "            pdb_list.append(temp_f)\n",
    "            pass\n",
    "        else:\n",
    "            print('')\n",
    "            print('missing .csv files given .pdb')\n",
    "            print(temp_f)"
   ]
  },
  {
   "cell_type": "markdown",
   "id": "d7dd0f49",
   "metadata": {},
   "source": [
    "##### 3 Read in pdb file"
   ]
  },
  {
   "cell_type": "code",
   "execution_count": 12,
   "id": "0bc14373",
   "metadata": {},
   "outputs": [],
   "source": [
    "def experiment_process_single_pdb(f):\n",
    "    temp_shift = []\n",
    "    for f_l in f:\n",
    "        if 'HETATM' in f_l:\n",
    "            temp_shift.append(f_l)\n",
    "\n",
    "    new_shift = []\n",
    "    for i in range(len(temp_shift)):\n",
    "        temp_l = temp_shift[i].split(' ')\n",
    "        temp_l_s = [i for i in temp_l if i != '']\n",
    "        new_shift.append(temp_l_s[0:8])\n",
    "    return new_shift"
   ]
  },
  {
   "cell_type": "code",
   "execution_count": 13,
   "id": "df9b297c",
   "metadata": {},
   "outputs": [],
   "source": [
    "def extract_atom_type(f):\n",
    "    temp_shift = []\n",
    "    for f_l in f:\n",
    "        if 'HETATM' in f_l:\n",
    "            temp_shift.append(f_l)\n",
    "\n",
    "    new_shift = []\n",
    "    for i in range(len(temp_shift)):\n",
    "        temp_l = temp_shift[i].split(' ')\n",
    "        temp_l_s = [i for i in temp_l if i != '']\n",
    "        new_shift.append(temp_l_s[-1].split('\\n')[0])\n",
    "    return new_shift"
   ]
  },
  {
   "cell_type": "code",
   "execution_count": 14,
   "id": "0dd80f91",
   "metadata": {},
   "outputs": [],
   "source": [
    "def handle_missing_residual_pdb(new_f):\n",
    "    new_f_handle_missing_residual = []\n",
    "    for i in range(len(new_f)):\n",
    "        temp_l = new_f[i]\n",
    "        try:\n",
    "            fourth_element = int(temp_l[3])\n",
    "            temp_l.insert(3, 'Missing monosaccharide')\n",
    "            temp_l.pop()\n",
    "            new_f_handle_missing_residual.append(temp_l)\n",
    "        except:\n",
    "            new_f_handle_missing_residual.append(temp_l)\n",
    "    return new_f_handle_missing_residual"
   ]
  },
  {
   "cell_type": "markdown",
   "id": "a2592f7e",
   "metadata": {},
   "source": [
    "##### 3.1 Simplified version"
   ]
  },
  {
   "cell_type": "code",
   "execution_count": 15,
   "id": "f4c15312",
   "metadata": {},
   "outputs": [],
   "source": [
    "# read in pdb\n",
    "for i in range(len(pdb_list)):\n",
    "    temp_f = pdb_list[i]\n",
    "    with open(os.path.join(experimental_data_dir, temp_f)) as f:\n",
    "        f = f.readlines()\n",
    "        new_f = experiment_process_single_pdb(f)\n",
    "        new_f = handle_missing_residual_pdb(new_f)\n",
    "        new_df = pd.DataFrame(new_f)\n",
    "        \n",
    "\n",
    "        new_df.columns = ['HETATM', 'Atom_num', 'Atom_name', 'Residual_name', 'Residual_num', 'x', 'y', 'z']\n",
    "        \n",
    "        temp_f = temp_f.replace('.pdb', '.pdb.csv')\n",
    "        new_df.to_csv(os.path.join('experimental_data/FullyAnnotatedPDB_pdb/', temp_f), index = False)"
   ]
  },
  {
   "cell_type": "markdown",
   "id": "60e08abe",
   "metadata": {},
   "source": [
    "##### 3.2 extract atom"
   ]
  },
  {
   "cell_type": "code",
   "execution_count": 17,
   "id": "69a38c39",
   "metadata": {},
   "outputs": [],
   "source": [
    "for i in range(len(pdb_list)):\n",
    "    temp_f = pdb_list[i]\n",
    "    with open(os.path.join(experimental_data_dir, temp_f)) as f:\n",
    "        f = f.readlines()\n",
    "        atoms = extract_atom_type(f)\n",
    "        new_f = experiment_process_single_pdb(f)\n",
    "        new_f = handle_missing_residual_pdb(new_f)\n",
    "        new_df = pd.DataFrame(new_f)\n",
    "        \n",
    "\n",
    "        new_df.columns = ['HETATM', 'Atom_num', 'Atom_name', 'Residual_name', 'Residual_num', 'x', 'y', 'z']\n",
    "        \n",
    "        assert(len(new_df) == len(atoms))\n",
    "        \n",
    "        temp_f = temp_f.replace('.pdb', '.pdb.csv')\n",
    "        \n",
    "        new_df['atoms_simplify'] = atoms\n",
    "        \n",
    "        new_df.to_csv(os.path.join('experimental_data/FullyAnnotatedPDB_pdb_added_atom/', temp_f), index = False)"
   ]
  },
  {
   "cell_type": "code",
   "execution_count": 19,
   "id": "abc67a0d",
   "metadata": {},
   "outputs": [
    {
     "data": {
      "text/plain": [
       "'repeat-4)-b-D-ManpNAc-(1-4)-a-D-GlcpNAc-(1-.pdb.csv'"
      ]
     },
     "execution_count": 19,
     "metadata": {},
     "output_type": "execute_result"
    }
   ],
   "source": [
    "temp_f"
   ]
  },
  {
   "cell_type": "code",
   "execution_count": null,
   "id": "52a59679",
   "metadata": {},
   "outputs": [],
   "source": []
  },
  {
   "cell_type": "markdown",
   "id": "c4b65b55",
   "metadata": {},
   "source": [
    "##### 4 Read in csv"
   ]
  },
  {
   "cell_type": "code",
   "execution_count": 15,
   "id": "cb7f6755",
   "metadata": {},
   "outputs": [
    {
     "name": "stdout",
     "output_type": "stream",
     "text": [
      "Repeat-4)-a-L-IdopA-(1-4)-a-D-GlcpNAc-(1-.csv\n"
     ]
    }
   ],
   "source": [
    "columns_list = []\n",
    "columns_length = []\n",
    "for j in range(len(csv_list)):\n",
    "    temp_f = csv_list[j]\n",
    "    \n",
    "\n",
    "    \n",
    "    temp_df = pd.read_csv(os.path.join(experimental_data_dir, temp_f))\n",
    "    idx = np.where(temp_df.loc[:, 'MHz'].values == 'Residue')[0].reshape(-1)\n",
    "    \n",
    "    if len(idx) == 2:\n",
    "        idx = idx[-1]\n",
    "    elif len(idx) == 1:\n",
    "        idx = idx[0]\n",
    "    columns_list.append(idx)\n",
    "    \n",
    "    idx_start = idx+1\n",
    "    \n",
    "    temp_df_reformulate = temp_df.loc[idx_start:, :]\n",
    "    \n",
    "    temp_df_reformulate.index= range(len(temp_df_reformulate))\n",
    "    temp_df_reformulate.columns = ['Residual', 'Connection', 'Atom', 'Shift', '4', '5', '6', '7']\n",
    "    \n",
    "    temp_df_reformulate = temp_df_reformulate.loc[:, ['Residual', 'Connection', 'Atom', 'Shift']]\n",
    "    \n",
    "    temp_df_reformulate = temp_df_reformulate.dropna(axis = 0, how = 'all')\n",
    "    temp_df_reformulate['Atom'] = [v.lstrip() for v in temp_df_reformulate['Atom'].values]\n",
    "    \n",
    "#     for v in temp_df_reformulate['Atom'].values:\n",
    "#         if isinstance(v, float):\n",
    "#             print(temp_f)\n",
    "    \n",
    "    l = len(temp_df_reformulate.columns)\n",
    "    columns_length.append(l)\n",
    "    if l == 9:\n",
    "        print(temp_f)\n",
    "    if 'Repeat-4)-a-L-IdopA-(1-4)-a-D-GlcpNAc-(1' in temp_f:\n",
    "        w = temp_df_reformulate\n",
    "        \n",
    "        print(temp_f)\n",
    "#     print(temp_df_reformulate.loc[:,'Residual'].values)\n",
    "#     print('')\n",
    "    temp_df_reformulate.to_csv(os.path.join('experimental_data/FullyAnnotatedPDB_label/', temp_f), index = False)"
   ]
  },
  {
   "cell_type": "markdown",
   "id": "2898ee6a",
   "metadata": {},
   "source": [
    "##### Assign residuals"
   ]
  },
  {
   "cell_type": "code",
   "execution_count": 16,
   "id": "8227dc94",
   "metadata": {},
   "outputs": [],
   "source": [
    "# with open('experimental_data/record_preprocess/temp_exclude.txt') as f:\n",
    "#     f = f.readlines()\n",
    "# exclude_csv_list = [i.split('\\n')[0] for i in f]"
   ]
  },
  {
   "cell_type": "code",
   "execution_count": 17,
   "id": "0adafa7a",
   "metadata": {},
   "outputs": [],
   "source": [
    "# normal preprocessing, all C appears before all H\n",
    "# Contain C1 or H1, H11, H12 as initial\n",
    "def assign_label_normal_glycan(temp_df, H_initial = ['H11', 'H12', 'H1'], C_initial = ['C1']):\n",
    "    \n",
    "    residual_list = temp_df['Residual'].values\n",
    "    connection_list = temp_df['Connection'].values\n",
    "    atom_list = temp_df['Atom'].values\n",
    "\n",
    "    H_res = 0\n",
    "    C_res = 0\n",
    "\n",
    "    previous_residual = 'some residual'\n",
    "    previous_connection = 'some connection'\n",
    "    previous_atom = 'some atom'\n",
    "\n",
    "    residual_list = []\n",
    "\n",
    "    for i in range(len(temp_df)):\n",
    "        current_residual = temp_df.loc[i, :].Residual\n",
    "        current_connection = temp_df.loc[i, :].Connection\n",
    "        current_atom = temp_df.loc[i, :].Atom\n",
    "\n",
    "        if (current_atom in H_initial) and (previous_atom not in H_initial):\n",
    "            H_res += 1\n",
    "\n",
    "        if (C_res == 0) and (current_atom not in C_initial):\n",
    "            residual_list.append(H_res)\n",
    "        else:\n",
    "            if current_atom in C_initial:\n",
    "                C_res += 1\n",
    "            residual_list.append(C_res)\n",
    "\n",
    "        previous_residual = current_residual\n",
    "        previous_connection = current_connection\n",
    "        previous_atom = current_atom\n",
    "\n",
    "\n",
    "    temp_df_out = temp_df.copy()\n",
    "    temp_df_out['Residual Num'] = residual_list\n",
    "\n",
    "    return temp_df_out"
   ]
  },
  {
   "cell_type": "code",
   "execution_count": 18,
   "id": "3f9256c7",
   "metadata": {},
   "outputs": [],
   "source": [
    "def assign_label_wierd_glycan_by_connection(temp_df):\n",
    "    H_initial = ['H11', 'H12', 'H1', 'H31', 'H32', 'H3 a', 'H1 a']\n",
    "    C_initial = ['C1']\n",
    "\n",
    "    residual_list = temp_df['Residual'].values\n",
    "    connection_list = temp_df['Connection'].values\n",
    "    atom_list = temp_df['Atom'].values\n",
    "\n",
    "    H_res = 0\n",
    "    C_res = 0\n",
    "\n",
    "    previous_residual = 'some residual'\n",
    "    previous_connection = 'some connection'\n",
    "    previous_atom = 'some atom'\n",
    "\n",
    "    residual_list = []\n",
    "\n",
    "    for i in range(len(temp_df)):\n",
    "        current_residual = temp_df.loc[i, :].Residual\n",
    "        current_connection = temp_df.loc[i, :].Connection\n",
    "        current_atom = temp_df.loc[i, :].Atom\n",
    "\n",
    "        if (current_atom in H_initial) and (previous_atom not in H_initial):\n",
    "            H_res += 1\n",
    "\n",
    "        if (C_res == 0) and (current_atom not in C_initial):\n",
    "            residual_list.append(H_res)\n",
    "        else:\n",
    "            if (current_atom in C_initial):\n",
    "                C_res += 1\n",
    "            elif (C_res != 0) and (current_connection != previous_connection):\n",
    "                C_res += 1\n",
    "            residual_list.append(C_res)\n",
    "\n",
    "        previous_residual = current_residual\n",
    "        previous_connection = current_connection\n",
    "        previous_atom = current_atom\n",
    "\n",
    "\n",
    "    temp_df_out = temp_df.copy()\n",
    "    temp_df_out['Residual Num'] = residual_list\n",
    "    return temp_df_out"
   ]
  },
  {
   "cell_type": "code",
   "execution_count": 19,
   "id": "84dc524b",
   "metadata": {},
   "outputs": [],
   "source": [
    "exclude_csv_list = ['a-D-Kdop-(2-8)-a-D-Kdop-(2-4)-a-D-Kdop-(2-6)-b-D-GlcpNAc-(1-1)-Allyl.csv',\n",
    "'a-D-Kdop-(2-8)-a-D-Kdop-(2-4)-a-D-Kdop-(2-6)-b-D-GlcpN4PO4-(1-6)-a-D-GlcpN1PO4.csv',\n",
    "'a-D-Kdop-(2-4)-a-D-Kdop-(2-1)-Allyl.csv',\n",
    "'a-D-Kdop-(2-8)-a-D-Kdop-(2-4)-a-D-Kdop-(2-6)-b-D-GlcpN-(1-6)-a-D-GlcpN1PO4.csv',\n",
    "'b-D-Kdop-(2-3)-b-D-Galp-(1-4)-a-D-Galp-(1-3)-b-D-Galp.csv',\n",
    "'a-D-Kdop-(2-6)-b-D-GlcpNAc-(1-1)-Allyl.csv',\n",
    "'a-D-Kdop-(2-4)-a-D-Kdop-(2-6)-b-D-GlcpNAc-(1-1)-Allyl.csv',\n",
    "'a-D-Kdop-(2-8)-a-D-Kdop-(2-4)-a-D-Kdop-(2-6)-b-D-GlcpNAc-(1-6)-a-D-GlcpNAc-(1-1)-Allyl.csv',\n",
    "'a-D-Kdop-(2-8)-a-D-Kdop-(2-4)-a-D-Kdop-(2-6)-b-D-GlcpNAc-(1-6)-b-D-GlcpNAc-(1-1)-Allyl.csv',\n",
    "'a-D-Kdop-(2-4)-a-D-Kdop-(2-6)-b-D-GlcpNAc-(1-6)-b-D-GlcpNAc-(1-1)-Allyl.csv',\n",
    "'a-D-Kdop-(2-8)-a-D-Kdop-(2-1)-Allyl.csv',\n",
    "'a-D-GlcpNAc-(1-4)-b-D-Galp-(1-3)-D-GalNAc-ol.csv',\n",
    "'a-D-Kdop-(2-6)-b-D-GlcpNAc-(1-6)-a-D-GlcpNAc-(1-1)-Allyl.csv',\n",
    "'a-D-GlcpNAc-(1-4)-a-D-GlcpNAc-(1-4)-a-D-Kdop.csv',\n",
    "'a-D-Kdop-(2-4)-a-D-Kdop-(2-6)-b-D-GlcpNAc-(1-6)-a-D-GlcpNAc-(1-1)-Allyl.csv',\n",
    "'a-D-Manp-(1-2)-a-D-Manp-(1-3)-Ser.csv',\n",
    "'a-D-Glcp-(1-2)-a-D-Glcp-(1-2)-b-D-Fruf-(1-2)-b-D-Fruf.csv',\n",
    "'a-L-Fucp-(1-2)-b-D-Galp-(1-3)-D-GalNAc-ol.csv',\n",
    "'repeat-4)-b-D-ManpNAc-(1-4)-a-D-GlcpNAc-(1-.csv',\n",
    "'a-D-Kdop-(2-4)-a-D-Kdop-(2-1)-Allyl.csv',\n",
    "'b-D-Fruf-(2-6)-b-D-Fruf.csv', \n",
    "'a-D-Kdop-(2-6)-b-D-GlcpNAc-(1-6)-b-D-GlcpNAc-(1-1)-Allyl.csv']"
   ]
  },
  {
   "cell_type": "code",
   "execution_count": 20,
   "id": "8e417c15",
   "metadata": {},
   "outputs": [],
   "source": [
    "reformulated_csv_dir = 'experimental_data/FullyAnnotatedPDB_label/'\n",
    "reformulated_csv_list = os.listdir(reformulated_csv_dir)"
   ]
  },
  {
   "cell_type": "code",
   "execution_count": 21,
   "id": "1530dcca",
   "metadata": {},
   "outputs": [],
   "source": [
    "def count_residual_from_swecon(csv_name, orig_dir = 'experimental_data/FullyAnnotatedPDB_V2/'):\n",
    "    pdb_name = csv_name.replace('csv', 'pdb')\n",
    "    max_val = 0\n",
    "    l_f = []\n",
    "    l_t = []\n",
    "    with open(os.path.join(orig_dir, pdb_name)) as f:\n",
    "        f = f.readlines()\n",
    "        for l in f:\n",
    "            if 'SWECON' in l:\n",
    "                l1 = l.split(' ')\n",
    "                l1 = [i for i in l1 if i != '']\n",
    "#                 print(l1, csv_name, len(l1))\n",
    "                if len(l1) == 5:\n",
    "                    l_f.append(int(l1[2]))\n",
    "                    l_t.append(int(l1[3]))\n",
    "                elif len(l1) == 4:\n",
    "                    l_f.append(int(l1[1]))\n",
    "                    l_t.append(int(l1[2]))\n",
    "    max_val = max(max(l_f), max(l_t))\n",
    "    return max_val"
   ]
  },
  {
   "cell_type": "code",
   "execution_count": 22,
   "id": "1a63e9b9",
   "metadata": {},
   "outputs": [],
   "source": [
    "def check_carbon_hydrogen_same(df_out, print_anyway=False):\n",
    "    df_atom_list = df_out['Atom'].values\n",
    "    df_res_list = df_out['Residual Num'].values\n",
    "    max_h = 1\n",
    "    max_c = 1\n",
    "    for i in range(len(df_atom_list)):\n",
    "        if 'H' in df_atom_list[i]:\n",
    "            if df_res_list[i] > max_h:\n",
    "                max_h = df_res_list[i]\n",
    "        if 'C' in df_atom_list[i]:\n",
    "            if df_res_list[i] > max_c:\n",
    "                max_c = df_res_list[i]\n",
    "    if max_c != max_h:\n",
    "        print(csv_f)\n",
    "        print('carbon:', max_c, 'hydrogen:', max_h)\n",
    "        print('')\n",
    "    if print_anyway:\n",
    "        print(csv_f)\n",
    "        print('carbon:', max_c, 'hydrogen:', max_h)\n",
    "        print('')\n",
    "    \n",
    "    return max_c, max_h"
   ]
  },
  {
   "cell_type": "code",
   "execution_count": 23,
   "id": "45ba3196",
   "metadata": {},
   "outputs": [],
   "source": [
    "for csv_name in reformulated_csv_list:\n",
    "    temp_df = pd.read_csv(os.path.join(reformulated_csv_dir, csv_name))\n",
    "    \n",
    "    if csv_name not in exclude_csv_list:\n",
    "        df_out = assign_label_normal_glycan(temp_df)\n",
    "    else:\n",
    "        df_out = assign_label_normal_glycan(temp_df, \n",
    "                                            H_initial = ['H11', 'H12', 'H1', 'H31', 'H32', 'H3 a', 'H1 a'], \n",
    "                                            C_initial = ['C1'])\n",
    "\n",
    "        if csv_name == 'a-D-Kdop-(2-4)-a-D-Kdop-(2-6)-b-D-GlcpNAc-(1-1)-Allyl.csv':\n",
    "            df_out.loc[[3, 4], ['Residual Num']] = [1, 1]\n",
    "        \n",
    "        if csv_name == 'a-D-Kdop-(2-8)-a-D-Kdop-(2-4)-a-D-Kdop-(2-6)-b-D-GlcpNAc-(1-1)-Allyl.csv':\n",
    "            df_out.loc[[3, 4], ['Residual Num']] = [1, 1]\n",
    "        \n",
    "        if csv_name == 'a-D-Kdop-(2-8)-a-D-Kdop-(2-4)-a-D-Kdop-(2-6)-b-D-GlcpN4PO4-(1-6)-a-D-GlcpN1PO4.csv':\n",
    "            temp_df = pd.read_csv(os.path.join(reformulated_csv_dir, csv_name))\n",
    "            df_out = assign_label_normal_glycan(temp_df, \n",
    "                                            H_initial = ['H11', 'H12', 'H1', 'H2', 'H31', 'H32', 'H3 a', 'H1 a'], \n",
    "                                            C_initial = ['C1'])\n",
    "        \n",
    "        if csv_name == 'a-D-Kdop-(2-4)-a-D-Kdop-(2-1)-Allyl.csv':\n",
    "            df_out.loc[[3, 4], ['Residual Num']] = [1, 1]\n",
    "            \n",
    "            \n",
    "        if csv_name == 'a-D-Kdop-(2-8)-a-D-Kdop-(2-4)-a-D-Kdop-(2-6)-b-D-GlcpN-(1-6)-a-D-GlcpN1PO4.csv':\n",
    "            temp_df = pd.read_csv(os.path.join(reformulated_csv_dir, csv_name))\n",
    "            df_out = assign_label_wierd_glycan_by_connection(temp_df)\n",
    "            \n",
    "        if csv_name == 'a-D-Kdop-(2-6)-b-D-GlcpNAc-(1-1)-Allyl.csv':\n",
    "            df_out.loc[[3, 4], ['Residual Num']] = [1, 1]\n",
    "        \n",
    "        if csv_name == 'a-D-Kdop-(2-8)-a-D-Kdop-(2-1)-Allyl.csv':\n",
    "            df_out.loc[[3, 4], ['Residual Num']] = [1, 1]\n",
    "\n",
    "        if csv_name == 'a-D-GlcpNAc-(1-4)-b-D-Galp-(1-3)-D-GalNAc-ol.csv':\n",
    "            temp_df = pd.read_csv(os.path.join(reformulated_csv_dir, csv_name))\n",
    "            df_out = assign_label_normal_glycan(temp_df, \n",
    "                                H_initial = ['H11', 'H12', 'H1', 'H2', 'H31', 'H32', 'H3 a', 'H1 a'], \n",
    "                                C_initial = ['C1'])\n",
    "        if csv_name == 'a-D-Manp-(1-2)-a-D-Manp-(1-3)-Ser.csv':\n",
    "            temp_df = pd.read_csv(os.path.join(reformulated_csv_dir, csv_name))\n",
    "            df_out = assign_label_normal_glycan(temp_df, \n",
    "                    H_initial = ['HA', 'H1'], \n",
    "                    C_initial = ['C1', 'CO'])\n",
    "#         print(csv_name)\n",
    "#         print(df_out)\n",
    "#         print('')\n",
    "#     max_c, max_h = check_carbon_hydrogen_same(df_out, print_anyway=False)\n",
    "#     total_res = count_residual_from_swecon(csv_name)\n",
    "    \n",
    "#     if (total_res != max_c) and (total_res != max_h):\n",
    "#         print(csv_name)\n",
    "    \n",
    "    df_out.to_csv(os.path.join('experimental_data/FullyAnnotatedPDB_label_assigned_residual_num/', csv_name), index = False)"
   ]
  },
  {
   "cell_type": "code",
   "execution_count": null,
   "id": "0927aedc",
   "metadata": {},
   "outputs": [],
   "source": []
  }
 ],
 "metadata": {
  "kernelspec": {
   "display_name": "Python 3 (ipykernel)",
   "language": "python",
   "name": "python3"
  },
  "language_info": {
   "codemirror_mode": {
    "name": "ipython",
    "version": 3
   },
   "file_extension": ".py",
   "mimetype": "text/x-python",
   "name": "python",
   "nbconvert_exporter": "python",
   "pygments_lexer": "ipython3",
   "version": "3.8.15"
  }
 },
 "nbformat": 4,
 "nbformat_minor": 5
}
